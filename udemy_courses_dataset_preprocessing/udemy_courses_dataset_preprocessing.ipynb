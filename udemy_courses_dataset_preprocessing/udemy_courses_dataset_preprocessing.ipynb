{
  "cells": [
    {
      "cell_type": "markdown",
      "id": "a25862de",
      "metadata": {
        "id": "a25862de"
      },
      "source": [
        "# __......................................................بسم الله الرحمن الرحيم......................................................__"
      ]
    },
    {
      "cell_type": "markdown",
      "source": [
        "# __................................................Udemy Courses Dataset................................................__"
      ],
      "metadata": {
        "id": "oqFiyK-oGeQr"
      },
      "id": "oqFiyK-oGeQr"
    },
    {
      "cell_type": "markdown",
      "source": [
        "## __Notebook Overview:__"
      ],
      "metadata": {
        "id": "ddw3x5dZH0hH"
      },
      "id": "ddw3x5dZH0hH"
    },
    {
      "cell_type": "markdown",
      "metadata": {
        "id": "6ca807b4"
      },
      "source": [
        "__In This Projet We are cleaning a dataset.__"
      ],
      "id": "6ca807b4"
    },
    {
      "cell_type": "markdown",
      "metadata": {
        "id": "9174a326"
      },
      "source": [
        " __• The Targeted Dataset:__ Udemy Courses  - a dataset about the courses that has been published on Udemy paltform."
      ],
      "id": "9174a326"
    },
    {
      "cell_type": "markdown",
      "metadata": {
        "id": "603df15e"
      },
      "source": [
        "__• The Objective:__ cleaning the dataset and prepare it for exploratory data analysis."
      ],
      "id": "603df15e"
    },
    {
      "cell_type": "markdown",
      "metadata": {
        "id": "c4ca226d"
      },
      "source": [
        "__• Acknowledgments:__  [eng.Mustafa Othman](\"https://www.youtube.com/channel/UCITfscBBm40O9MgtqiQC00w\")"
      ],
      "id": "c4ca226d"
    },
    {
      "cell_type": "markdown",
      "source": [
        "__• Data Dictionary:__\n",
        "\n",
        "`course_id` - Course's Id\n",
        "\n",
        "`course_title` -  Course's Title \n",
        "\n",
        "`url` -  Course's url\n",
        "\n",
        "`is_paid` - Course's Paying Status\n",
        "\n",
        "`price` - Course's Price\n",
        "\n",
        "`num_subscribers` - Course's number of Subscribers\n",
        "\n",
        "`num_reviews` - Course's number of Reviews\n",
        "\n",
        "`num_lectures` - Course's number of Lectures\n",
        "\n",
        "`level` - Course's  Difficulty Level\n",
        "\n",
        "`content_duration` - Course's Amount of Hours\n",
        "\n",
        "`published_timestamp` - Course's Publish Time \n",
        "\n",
        "`subject` - Course's subject\n",
        "*italicized text*"
      ],
      "metadata": {
        "id": "aquKgIiQPC8w"
      },
      "id": "aquKgIiQPC8w"
    },
    {
      "cell_type": "markdown",
      "id": "e4a5a5a0",
      "metadata": {
        "id": "e4a5a5a0"
      },
      "source": [
        " __• Tasks:__"
      ]
    },
    {
      "cell_type": "markdown",
      "id": "9f67893c",
      "metadata": {
        "id": "9f67893c"
      },
      "source": [
        "[1- Importing Data.](#1)\n",
        "<a id='5'></a>"
      ]
    },
    {
      "cell_type": "markdown",
      "id": "f272b3b9",
      "metadata": {
        "id": "f272b3b9"
      },
      "source": [
        "[2- Exploring Data.](#2)\n",
        "<a id='6'></a>"
      ]
    },
    {
      "cell_type": "markdown",
      "id": "83a661f5",
      "metadata": {
        "id": "83a661f5"
      },
      "source": [
        "[3- Checking Data.](#3)\n",
        "<a id='7'></a>"
      ]
    },
    {
      "cell_type": "markdown",
      "source": [
        "[4- Storing Data.](#4)\n",
        "<a id='8'></a>"
      ],
      "metadata": {
        "id": "uCSfh2UKBrCl"
      },
      "id": "uCSfh2UKBrCl"
    },
    {
      "cell_type": "markdown",
      "source": [
        "## __Notabook Code:__"
      ],
      "metadata": {
        "id": "UMWJKPKxOEiB"
      },
      "id": "UMWJKPKxOEiB"
    },
    {
      "cell_type": "markdown",
      "id": "7d077c1a",
      "metadata": {
        "id": "7d077c1a"
      },
      "source": [
        "<a id='1'></a>\n",
        "### [__1- Importing Data:__](#5)"
      ]
    },
    {
      "cell_type": "markdown",
      "id": "7665fa5a",
      "metadata": {
        "id": "7665fa5a"
      },
      "source": [
        "__Importing Librarys:__"
      ]
    },
    {
      "cell_type": "code",
      "execution_count": 170,
      "id": "80644b2a",
      "metadata": {
        "id": "80644b2a"
      },
      "outputs": [],
      "source": [
        "import pandas as pd\n",
        "import seaborn as sns \n",
        "\n",
        "\n",
        "%matplotlib inline\n",
        "sns.set()"
      ]
    },
    {
      "cell_type": "markdown",
      "id": "2838ec89",
      "metadata": {
        "id": "2838ec89"
      },
      "source": [
        "__Importing Data:__"
      ]
    },
    {
      "cell_type": "code",
      "execution_count": 171,
      "id": "d3f1f625",
      "metadata": {
        "id": "d3f1f625"
      },
      "outputs": [],
      "source": [
        "df = pd.read_csv('/udemy_courses-raw.csv', parse_dates=True)"
      ]
    },
    {
      "cell_type": "markdown",
      "id": "bb0f3e28",
      "metadata": {
        "id": "bb0f3e28"
      },
      "source": [
        "<a id='2'></a>\n",
        "### [__2- Exploring Data:__](#6)"
      ]
    },
    {
      "cell_type": "code",
      "execution_count": 172,
      "id": "c24fb94d",
      "metadata": {
        "colab": {
          "base_uri": "https://localhost:8080/",
          "height": 0
        },
        "id": "c24fb94d",
        "outputId": "856fe9ee-afd6-4074-b02d-02a63498da83"
      },
      "outputs": [
        {
          "output_type": "execute_result",
          "data": {
            "text/plain": [
              "   course_id                                       course_title  \\\n",
              "0    1070968                 Ultimate Investment Banking Course   \n",
              "1    1113822  Complete GST Course & Certification - Grow You...   \n",
              "2    1006314  Financial Modeling for Business Analysts and C...   \n",
              "3    1210588  Beginner to Pro - Financial Analysis in Excel ...   \n",
              "4    1011058       How To Maximize Your Profits Trading Options   \n",
              "\n",
              "                                                 url  is_paid  price  \\\n",
              "0  https://www.udemy.com/ultimate-investment-bank...     True    200   \n",
              "1      https://www.udemy.com/goods-and-services-tax/     True     75   \n",
              "2  https://www.udemy.com/financial-modeling-for-b...     True     45   \n",
              "3  https://www.udemy.com/complete-excel-finance-c...     True     95   \n",
              "4  https://www.udemy.com/how-to-maximize-your-pro...     True    200   \n",
              "\n",
              "   num_subscribers  num_reviews  num_lectures               level  \\\n",
              "0             2147           23            51          All Levels   \n",
              "1             2792          923           274          All Levels   \n",
              "2             2174           74            51  Intermediate Level   \n",
              "3             2451           11            36          All Levels   \n",
              "4             1276           45            26  Intermediate Level   \n",
              "\n",
              "   content_duration   published_timestamp           subject  \n",
              "0               1.5  2017-01-18T20:58:58Z  Business Finance  \n",
              "1              39.0  2017-03-09T16:34:20Z  Business Finance  \n",
              "2               2.5  2016-12-19T19:26:30Z  Business Finance  \n",
              "3               3.0  2017-05-30T20:07:24Z  Business Finance  \n",
              "4               2.0  2016-12-13T14:57:18Z  Business Finance  "
            ],
            "text/html": [
              "\n",
              "  <div id=\"df-c731f006-0857-4f21-8e04-382b83e3a59e\">\n",
              "    <div class=\"colab-df-container\">\n",
              "      <div>\n",
              "<style scoped>\n",
              "    .dataframe tbody tr th:only-of-type {\n",
              "        vertical-align: middle;\n",
              "    }\n",
              "\n",
              "    .dataframe tbody tr th {\n",
              "        vertical-align: top;\n",
              "    }\n",
              "\n",
              "    .dataframe thead th {\n",
              "        text-align: right;\n",
              "    }\n",
              "</style>\n",
              "<table border=\"1\" class=\"dataframe\">\n",
              "  <thead>\n",
              "    <tr style=\"text-align: right;\">\n",
              "      <th></th>\n",
              "      <th>course_id</th>\n",
              "      <th>course_title</th>\n",
              "      <th>url</th>\n",
              "      <th>is_paid</th>\n",
              "      <th>price</th>\n",
              "      <th>num_subscribers</th>\n",
              "      <th>num_reviews</th>\n",
              "      <th>num_lectures</th>\n",
              "      <th>level</th>\n",
              "      <th>content_duration</th>\n",
              "      <th>published_timestamp</th>\n",
              "      <th>subject</th>\n",
              "    </tr>\n",
              "  </thead>\n",
              "  <tbody>\n",
              "    <tr>\n",
              "      <th>0</th>\n",
              "      <td>1070968</td>\n",
              "      <td>Ultimate Investment Banking Course</td>\n",
              "      <td>https://www.udemy.com/ultimate-investment-bank...</td>\n",
              "      <td>True</td>\n",
              "      <td>200</td>\n",
              "      <td>2147</td>\n",
              "      <td>23</td>\n",
              "      <td>51</td>\n",
              "      <td>All Levels</td>\n",
              "      <td>1.5</td>\n",
              "      <td>2017-01-18T20:58:58Z</td>\n",
              "      <td>Business Finance</td>\n",
              "    </tr>\n",
              "    <tr>\n",
              "      <th>1</th>\n",
              "      <td>1113822</td>\n",
              "      <td>Complete GST Course &amp; Certification - Grow You...</td>\n",
              "      <td>https://www.udemy.com/goods-and-services-tax/</td>\n",
              "      <td>True</td>\n",
              "      <td>75</td>\n",
              "      <td>2792</td>\n",
              "      <td>923</td>\n",
              "      <td>274</td>\n",
              "      <td>All Levels</td>\n",
              "      <td>39.0</td>\n",
              "      <td>2017-03-09T16:34:20Z</td>\n",
              "      <td>Business Finance</td>\n",
              "    </tr>\n",
              "    <tr>\n",
              "      <th>2</th>\n",
              "      <td>1006314</td>\n",
              "      <td>Financial Modeling for Business Analysts and C...</td>\n",
              "      <td>https://www.udemy.com/financial-modeling-for-b...</td>\n",
              "      <td>True</td>\n",
              "      <td>45</td>\n",
              "      <td>2174</td>\n",
              "      <td>74</td>\n",
              "      <td>51</td>\n",
              "      <td>Intermediate Level</td>\n",
              "      <td>2.5</td>\n",
              "      <td>2016-12-19T19:26:30Z</td>\n",
              "      <td>Business Finance</td>\n",
              "    </tr>\n",
              "    <tr>\n",
              "      <th>3</th>\n",
              "      <td>1210588</td>\n",
              "      <td>Beginner to Pro - Financial Analysis in Excel ...</td>\n",
              "      <td>https://www.udemy.com/complete-excel-finance-c...</td>\n",
              "      <td>True</td>\n",
              "      <td>95</td>\n",
              "      <td>2451</td>\n",
              "      <td>11</td>\n",
              "      <td>36</td>\n",
              "      <td>All Levels</td>\n",
              "      <td>3.0</td>\n",
              "      <td>2017-05-30T20:07:24Z</td>\n",
              "      <td>Business Finance</td>\n",
              "    </tr>\n",
              "    <tr>\n",
              "      <th>4</th>\n",
              "      <td>1011058</td>\n",
              "      <td>How To Maximize Your Profits Trading Options</td>\n",
              "      <td>https://www.udemy.com/how-to-maximize-your-pro...</td>\n",
              "      <td>True</td>\n",
              "      <td>200</td>\n",
              "      <td>1276</td>\n",
              "      <td>45</td>\n",
              "      <td>26</td>\n",
              "      <td>Intermediate Level</td>\n",
              "      <td>2.0</td>\n",
              "      <td>2016-12-13T14:57:18Z</td>\n",
              "      <td>Business Finance</td>\n",
              "    </tr>\n",
              "  </tbody>\n",
              "</table>\n",
              "</div>\n",
              "      <button class=\"colab-df-convert\" onclick=\"convertToInteractive('df-c731f006-0857-4f21-8e04-382b83e3a59e')\"\n",
              "              title=\"Convert this dataframe to an interactive table.\"\n",
              "              style=\"display:none;\">\n",
              "        \n",
              "  <svg xmlns=\"http://www.w3.org/2000/svg\" height=\"24px\"viewBox=\"0 0 24 24\"\n",
              "       width=\"24px\">\n",
              "    <path d=\"M0 0h24v24H0V0z\" fill=\"none\"/>\n",
              "    <path d=\"M18.56 5.44l.94 2.06.94-2.06 2.06-.94-2.06-.94-.94-2.06-.94 2.06-2.06.94zm-11 1L8.5 8.5l.94-2.06 2.06-.94-2.06-.94L8.5 2.5l-.94 2.06-2.06.94zm10 10l.94 2.06.94-2.06 2.06-.94-2.06-.94-.94-2.06-.94 2.06-2.06.94z\"/><path d=\"M17.41 7.96l-1.37-1.37c-.4-.4-.92-.59-1.43-.59-.52 0-1.04.2-1.43.59L10.3 9.45l-7.72 7.72c-.78.78-.78 2.05 0 2.83L4 21.41c.39.39.9.59 1.41.59.51 0 1.02-.2 1.41-.59l7.78-7.78 2.81-2.81c.8-.78.8-2.07 0-2.86zM5.41 20L4 18.59l7.72-7.72 1.47 1.35L5.41 20z\"/>\n",
              "  </svg>\n",
              "      </button>\n",
              "      \n",
              "  <style>\n",
              "    .colab-df-container {\n",
              "      display:flex;\n",
              "      flex-wrap:wrap;\n",
              "      gap: 12px;\n",
              "    }\n",
              "\n",
              "    .colab-df-convert {\n",
              "      background-color: #E8F0FE;\n",
              "      border: none;\n",
              "      border-radius: 50%;\n",
              "      cursor: pointer;\n",
              "      display: none;\n",
              "      fill: #1967D2;\n",
              "      height: 32px;\n",
              "      padding: 0 0 0 0;\n",
              "      width: 32px;\n",
              "    }\n",
              "\n",
              "    .colab-df-convert:hover {\n",
              "      background-color: #E2EBFA;\n",
              "      box-shadow: 0px 1px 2px rgba(60, 64, 67, 0.3), 0px 1px 3px 1px rgba(60, 64, 67, 0.15);\n",
              "      fill: #174EA6;\n",
              "    }\n",
              "\n",
              "    [theme=dark] .colab-df-convert {\n",
              "      background-color: #3B4455;\n",
              "      fill: #D2E3FC;\n",
              "    }\n",
              "\n",
              "    [theme=dark] .colab-df-convert:hover {\n",
              "      background-color: #434B5C;\n",
              "      box-shadow: 0px 1px 3px 1px rgba(0, 0, 0, 0.15);\n",
              "      filter: drop-shadow(0px 1px 2px rgba(0, 0, 0, 0.3));\n",
              "      fill: #FFFFFF;\n",
              "    }\n",
              "  </style>\n",
              "\n",
              "      <script>\n",
              "        const buttonEl =\n",
              "          document.querySelector('#df-c731f006-0857-4f21-8e04-382b83e3a59e button.colab-df-convert');\n",
              "        buttonEl.style.display =\n",
              "          google.colab.kernel.accessAllowed ? 'block' : 'none';\n",
              "\n",
              "        async function convertToInteractive(key) {\n",
              "          const element = document.querySelector('#df-c731f006-0857-4f21-8e04-382b83e3a59e');\n",
              "          const dataTable =\n",
              "            await google.colab.kernel.invokeFunction('convertToInteractive',\n",
              "                                                     [key], {});\n",
              "          if (!dataTable) return;\n",
              "\n",
              "          const docLinkHtml = 'Like what you see? Visit the ' +\n",
              "            '<a target=\"_blank\" href=https://colab.research.google.com/notebooks/data_table.ipynb>data table notebook</a>'\n",
              "            + ' to learn more about interactive tables.';\n",
              "          element.innerHTML = '';\n",
              "          dataTable['output_type'] = 'display_data';\n",
              "          await google.colab.output.renderOutput(dataTable, element);\n",
              "          const docLink = document.createElement('div');\n",
              "          docLink.innerHTML = docLinkHtml;\n",
              "          element.appendChild(docLink);\n",
              "        }\n",
              "      </script>\n",
              "    </div>\n",
              "  </div>\n",
              "  "
            ]
          },
          "metadata": {},
          "execution_count": 172
        }
      ],
      "source": [
        "df.head()"
      ]
    },
    {
      "cell_type": "code",
      "execution_count": 173,
      "id": "42d1965a",
      "metadata": {
        "colab": {
          "base_uri": "https://localhost:8080/",
          "height": 0
        },
        "id": "42d1965a",
        "outputId": "c2990495-57be-4c08-c8da-b95eb53c686b"
      },
      "outputs": [
        {
          "output_type": "execute_result",
          "data": {
            "text/plain": [
              "      course_id                                       course_title  \\\n",
              "3673     775618  Learn jQuery from Scratch - Master of JavaScri...   \n",
              "3674    1088178  How To Design A WordPress Website With No Codi...   \n",
              "3675     635248                      Learn and Build using Polymer   \n",
              "3676     905096  CSS Animations: Create Amazing Effects on Your...   \n",
              "3677     297602  Using MODX CMS to Build Websites: A Beginner's...   \n",
              "\n",
              "                                                    url  is_paid  price  \\\n",
              "3673  https://www.udemy.com/easy-jquery-for-beginner...     True    100   \n",
              "3674  https://www.udemy.com/how-to-make-a-wordpress-...     True     25   \n",
              "3675  https://www.udemy.com/learn-and-build-using-po...     True     40   \n",
              "3676  https://www.udemy.com/css-animations-create-am...     True     50   \n",
              "3677  https://www.udemy.com/using-modx-cms-to-build-...     True     45   \n",
              "\n",
              "      num_subscribers  num_reviews  num_lectures           level  \\\n",
              "3673             1040           14            21      All Levels   \n",
              "3674              306            3            42  Beginner Level   \n",
              "3675              513          169            48      All Levels   \n",
              "3676              300           31            38      All Levels   \n",
              "3677              901           36            20  Beginner Level   \n",
              "\n",
              "      content_duration   published_timestamp          subject  \n",
              "3673               2.0  2016-06-14T17:36:46Z  Web Development  \n",
              "3674               3.5  2017-03-10T22:24:30Z  Web Development  \n",
              "3675               3.5  2015-12-30T16:41:42Z  Web Development  \n",
              "3676               3.0  2016-08-11T19:06:15Z  Web Development  \n",
              "3677               2.0  2014-09-28T19:51:11Z  Web Development  "
            ],
            "text/html": [
              "\n",
              "  <div id=\"df-32790480-8e1a-4deb-a33e-928e9504d3db\">\n",
              "    <div class=\"colab-df-container\">\n",
              "      <div>\n",
              "<style scoped>\n",
              "    .dataframe tbody tr th:only-of-type {\n",
              "        vertical-align: middle;\n",
              "    }\n",
              "\n",
              "    .dataframe tbody tr th {\n",
              "        vertical-align: top;\n",
              "    }\n",
              "\n",
              "    .dataframe thead th {\n",
              "        text-align: right;\n",
              "    }\n",
              "</style>\n",
              "<table border=\"1\" class=\"dataframe\">\n",
              "  <thead>\n",
              "    <tr style=\"text-align: right;\">\n",
              "      <th></th>\n",
              "      <th>course_id</th>\n",
              "      <th>course_title</th>\n",
              "      <th>url</th>\n",
              "      <th>is_paid</th>\n",
              "      <th>price</th>\n",
              "      <th>num_subscribers</th>\n",
              "      <th>num_reviews</th>\n",
              "      <th>num_lectures</th>\n",
              "      <th>level</th>\n",
              "      <th>content_duration</th>\n",
              "      <th>published_timestamp</th>\n",
              "      <th>subject</th>\n",
              "    </tr>\n",
              "  </thead>\n",
              "  <tbody>\n",
              "    <tr>\n",
              "      <th>3673</th>\n",
              "      <td>775618</td>\n",
              "      <td>Learn jQuery from Scratch - Master of JavaScri...</td>\n",
              "      <td>https://www.udemy.com/easy-jquery-for-beginner...</td>\n",
              "      <td>True</td>\n",
              "      <td>100</td>\n",
              "      <td>1040</td>\n",
              "      <td>14</td>\n",
              "      <td>21</td>\n",
              "      <td>All Levels</td>\n",
              "      <td>2.0</td>\n",
              "      <td>2016-06-14T17:36:46Z</td>\n",
              "      <td>Web Development</td>\n",
              "    </tr>\n",
              "    <tr>\n",
              "      <th>3674</th>\n",
              "      <td>1088178</td>\n",
              "      <td>How To Design A WordPress Website With No Codi...</td>\n",
              "      <td>https://www.udemy.com/how-to-make-a-wordpress-...</td>\n",
              "      <td>True</td>\n",
              "      <td>25</td>\n",
              "      <td>306</td>\n",
              "      <td>3</td>\n",
              "      <td>42</td>\n",
              "      <td>Beginner Level</td>\n",
              "      <td>3.5</td>\n",
              "      <td>2017-03-10T22:24:30Z</td>\n",
              "      <td>Web Development</td>\n",
              "    </tr>\n",
              "    <tr>\n",
              "      <th>3675</th>\n",
              "      <td>635248</td>\n",
              "      <td>Learn and Build using Polymer</td>\n",
              "      <td>https://www.udemy.com/learn-and-build-using-po...</td>\n",
              "      <td>True</td>\n",
              "      <td>40</td>\n",
              "      <td>513</td>\n",
              "      <td>169</td>\n",
              "      <td>48</td>\n",
              "      <td>All Levels</td>\n",
              "      <td>3.5</td>\n",
              "      <td>2015-12-30T16:41:42Z</td>\n",
              "      <td>Web Development</td>\n",
              "    </tr>\n",
              "    <tr>\n",
              "      <th>3676</th>\n",
              "      <td>905096</td>\n",
              "      <td>CSS Animations: Create Amazing Effects on Your...</td>\n",
              "      <td>https://www.udemy.com/css-animations-create-am...</td>\n",
              "      <td>True</td>\n",
              "      <td>50</td>\n",
              "      <td>300</td>\n",
              "      <td>31</td>\n",
              "      <td>38</td>\n",
              "      <td>All Levels</td>\n",
              "      <td>3.0</td>\n",
              "      <td>2016-08-11T19:06:15Z</td>\n",
              "      <td>Web Development</td>\n",
              "    </tr>\n",
              "    <tr>\n",
              "      <th>3677</th>\n",
              "      <td>297602</td>\n",
              "      <td>Using MODX CMS to Build Websites: A Beginner's...</td>\n",
              "      <td>https://www.udemy.com/using-modx-cms-to-build-...</td>\n",
              "      <td>True</td>\n",
              "      <td>45</td>\n",
              "      <td>901</td>\n",
              "      <td>36</td>\n",
              "      <td>20</td>\n",
              "      <td>Beginner Level</td>\n",
              "      <td>2.0</td>\n",
              "      <td>2014-09-28T19:51:11Z</td>\n",
              "      <td>Web Development</td>\n",
              "    </tr>\n",
              "  </tbody>\n",
              "</table>\n",
              "</div>\n",
              "      <button class=\"colab-df-convert\" onclick=\"convertToInteractive('df-32790480-8e1a-4deb-a33e-928e9504d3db')\"\n",
              "              title=\"Convert this dataframe to an interactive table.\"\n",
              "              style=\"display:none;\">\n",
              "        \n",
              "  <svg xmlns=\"http://www.w3.org/2000/svg\" height=\"24px\"viewBox=\"0 0 24 24\"\n",
              "       width=\"24px\">\n",
              "    <path d=\"M0 0h24v24H0V0z\" fill=\"none\"/>\n",
              "    <path d=\"M18.56 5.44l.94 2.06.94-2.06 2.06-.94-2.06-.94-.94-2.06-.94 2.06-2.06.94zm-11 1L8.5 8.5l.94-2.06 2.06-.94-2.06-.94L8.5 2.5l-.94 2.06-2.06.94zm10 10l.94 2.06.94-2.06 2.06-.94-2.06-.94-.94-2.06-.94 2.06-2.06.94z\"/><path d=\"M17.41 7.96l-1.37-1.37c-.4-.4-.92-.59-1.43-.59-.52 0-1.04.2-1.43.59L10.3 9.45l-7.72 7.72c-.78.78-.78 2.05 0 2.83L4 21.41c.39.39.9.59 1.41.59.51 0 1.02-.2 1.41-.59l7.78-7.78 2.81-2.81c.8-.78.8-2.07 0-2.86zM5.41 20L4 18.59l7.72-7.72 1.47 1.35L5.41 20z\"/>\n",
              "  </svg>\n",
              "      </button>\n",
              "      \n",
              "  <style>\n",
              "    .colab-df-container {\n",
              "      display:flex;\n",
              "      flex-wrap:wrap;\n",
              "      gap: 12px;\n",
              "    }\n",
              "\n",
              "    .colab-df-convert {\n",
              "      background-color: #E8F0FE;\n",
              "      border: none;\n",
              "      border-radius: 50%;\n",
              "      cursor: pointer;\n",
              "      display: none;\n",
              "      fill: #1967D2;\n",
              "      height: 32px;\n",
              "      padding: 0 0 0 0;\n",
              "      width: 32px;\n",
              "    }\n",
              "\n",
              "    .colab-df-convert:hover {\n",
              "      background-color: #E2EBFA;\n",
              "      box-shadow: 0px 1px 2px rgba(60, 64, 67, 0.3), 0px 1px 3px 1px rgba(60, 64, 67, 0.15);\n",
              "      fill: #174EA6;\n",
              "    }\n",
              "\n",
              "    [theme=dark] .colab-df-convert {\n",
              "      background-color: #3B4455;\n",
              "      fill: #D2E3FC;\n",
              "    }\n",
              "\n",
              "    [theme=dark] .colab-df-convert:hover {\n",
              "      background-color: #434B5C;\n",
              "      box-shadow: 0px 1px 3px 1px rgba(0, 0, 0, 0.15);\n",
              "      filter: drop-shadow(0px 1px 2px rgba(0, 0, 0, 0.3));\n",
              "      fill: #FFFFFF;\n",
              "    }\n",
              "  </style>\n",
              "\n",
              "      <script>\n",
              "        const buttonEl =\n",
              "          document.querySelector('#df-32790480-8e1a-4deb-a33e-928e9504d3db button.colab-df-convert');\n",
              "        buttonEl.style.display =\n",
              "          google.colab.kernel.accessAllowed ? 'block' : 'none';\n",
              "\n",
              "        async function convertToInteractive(key) {\n",
              "          const element = document.querySelector('#df-32790480-8e1a-4deb-a33e-928e9504d3db');\n",
              "          const dataTable =\n",
              "            await google.colab.kernel.invokeFunction('convertToInteractive',\n",
              "                                                     [key], {});\n",
              "          if (!dataTable) return;\n",
              "\n",
              "          const docLinkHtml = 'Like what you see? Visit the ' +\n",
              "            '<a target=\"_blank\" href=https://colab.research.google.com/notebooks/data_table.ipynb>data table notebook</a>'\n",
              "            + ' to learn more about interactive tables.';\n",
              "          element.innerHTML = '';\n",
              "          dataTable['output_type'] = 'display_data';\n",
              "          await google.colab.output.renderOutput(dataTable, element);\n",
              "          const docLink = document.createElement('div');\n",
              "          docLink.innerHTML = docLinkHtml;\n",
              "          element.appendChild(docLink);\n",
              "        }\n",
              "      </script>\n",
              "    </div>\n",
              "  </div>\n",
              "  "
            ]
          },
          "metadata": {},
          "execution_count": 173
        }
      ],
      "source": [
        "df.tail()"
      ]
    },
    {
      "cell_type": "code",
      "execution_count": 174,
      "id": "f9e133f3",
      "metadata": {
        "scrolled": true,
        "colab": {
          "base_uri": "https://localhost:8080/"
        },
        "id": "f9e133f3",
        "outputId": "e4398ef6-f825-40f9-9e4b-5732ad16612e"
      },
      "outputs": [
        {
          "output_type": "stream",
          "name": "stdout",
          "text": [
            "<class 'pandas.core.frame.DataFrame'>\n",
            "RangeIndex: 3678 entries, 0 to 3677\n",
            "Data columns (total 12 columns):\n",
            " #   Column               Non-Null Count  Dtype  \n",
            "---  ------               --------------  -----  \n",
            " 0   course_id            3678 non-null   int64  \n",
            " 1   course_title         3678 non-null   object \n",
            " 2   url                  3678 non-null   object \n",
            " 3   is_paid              3678 non-null   bool   \n",
            " 4   price                3678 non-null   int64  \n",
            " 5   num_subscribers      3678 non-null   int64  \n",
            " 6   num_reviews          3678 non-null   int64  \n",
            " 7   num_lectures         3678 non-null   int64  \n",
            " 8   level                3678 non-null   object \n",
            " 9   content_duration     3678 non-null   float64\n",
            " 10  published_timestamp  3678 non-null   object \n",
            " 11  subject              3678 non-null   object \n",
            "dtypes: bool(1), float64(1), int64(5), object(5)\n",
            "memory usage: 319.8+ KB\n"
          ]
        }
      ],
      "source": [
        "df.info()"
      ]
    },
    {
      "cell_type": "code",
      "execution_count": 175,
      "id": "23cd78c8",
      "metadata": {
        "colab": {
          "base_uri": "https://localhost:8080/",
          "height": 0
        },
        "id": "23cd78c8",
        "outputId": "d79d346f-6181-4c8a-fe99-ece92b16510f"
      },
      "outputs": [
        {
          "output_type": "execute_result",
          "data": {
            "text/plain": [
              "          course_id        price  num_subscribers   num_reviews  num_lectures  \\\n",
              "count  3.678000e+03  3678.000000      3678.000000   3678.000000   3678.000000   \n",
              "mean   6.759720e+05    66.049483      3197.150625    156.259108     40.108755   \n",
              "std    3.432732e+05    61.005755      9504.117010    935.452044     50.383346   \n",
              "min    8.324000e+03     0.000000         0.000000      0.000000      0.000000   \n",
              "25%    4.076925e+05    20.000000       111.000000      4.000000     15.000000   \n",
              "50%    6.879170e+05    45.000000       911.500000     18.000000     25.000000   \n",
              "75%    9.613555e+05    95.000000      2546.000000     67.000000     45.750000   \n",
              "max    1.282064e+06   200.000000    268923.000000  27445.000000    779.000000   \n",
              "\n",
              "       content_duration  \n",
              "count       3678.000000  \n",
              "mean           4.094517  \n",
              "std            6.053840  \n",
              "min            0.000000  \n",
              "25%            1.000000  \n",
              "50%            2.000000  \n",
              "75%            4.500000  \n",
              "max           78.500000  "
            ],
            "text/html": [
              "\n",
              "  <div id=\"df-6d81ccbf-f3e3-4e11-a7ad-36088c887177\">\n",
              "    <div class=\"colab-df-container\">\n",
              "      <div>\n",
              "<style scoped>\n",
              "    .dataframe tbody tr th:only-of-type {\n",
              "        vertical-align: middle;\n",
              "    }\n",
              "\n",
              "    .dataframe tbody tr th {\n",
              "        vertical-align: top;\n",
              "    }\n",
              "\n",
              "    .dataframe thead th {\n",
              "        text-align: right;\n",
              "    }\n",
              "</style>\n",
              "<table border=\"1\" class=\"dataframe\">\n",
              "  <thead>\n",
              "    <tr style=\"text-align: right;\">\n",
              "      <th></th>\n",
              "      <th>course_id</th>\n",
              "      <th>price</th>\n",
              "      <th>num_subscribers</th>\n",
              "      <th>num_reviews</th>\n",
              "      <th>num_lectures</th>\n",
              "      <th>content_duration</th>\n",
              "    </tr>\n",
              "  </thead>\n",
              "  <tbody>\n",
              "    <tr>\n",
              "      <th>count</th>\n",
              "      <td>3.678000e+03</td>\n",
              "      <td>3678.000000</td>\n",
              "      <td>3678.000000</td>\n",
              "      <td>3678.000000</td>\n",
              "      <td>3678.000000</td>\n",
              "      <td>3678.000000</td>\n",
              "    </tr>\n",
              "    <tr>\n",
              "      <th>mean</th>\n",
              "      <td>6.759720e+05</td>\n",
              "      <td>66.049483</td>\n",
              "      <td>3197.150625</td>\n",
              "      <td>156.259108</td>\n",
              "      <td>40.108755</td>\n",
              "      <td>4.094517</td>\n",
              "    </tr>\n",
              "    <tr>\n",
              "      <th>std</th>\n",
              "      <td>3.432732e+05</td>\n",
              "      <td>61.005755</td>\n",
              "      <td>9504.117010</td>\n",
              "      <td>935.452044</td>\n",
              "      <td>50.383346</td>\n",
              "      <td>6.053840</td>\n",
              "    </tr>\n",
              "    <tr>\n",
              "      <th>min</th>\n",
              "      <td>8.324000e+03</td>\n",
              "      <td>0.000000</td>\n",
              "      <td>0.000000</td>\n",
              "      <td>0.000000</td>\n",
              "      <td>0.000000</td>\n",
              "      <td>0.000000</td>\n",
              "    </tr>\n",
              "    <tr>\n",
              "      <th>25%</th>\n",
              "      <td>4.076925e+05</td>\n",
              "      <td>20.000000</td>\n",
              "      <td>111.000000</td>\n",
              "      <td>4.000000</td>\n",
              "      <td>15.000000</td>\n",
              "      <td>1.000000</td>\n",
              "    </tr>\n",
              "    <tr>\n",
              "      <th>50%</th>\n",
              "      <td>6.879170e+05</td>\n",
              "      <td>45.000000</td>\n",
              "      <td>911.500000</td>\n",
              "      <td>18.000000</td>\n",
              "      <td>25.000000</td>\n",
              "      <td>2.000000</td>\n",
              "    </tr>\n",
              "    <tr>\n",
              "      <th>75%</th>\n",
              "      <td>9.613555e+05</td>\n",
              "      <td>95.000000</td>\n",
              "      <td>2546.000000</td>\n",
              "      <td>67.000000</td>\n",
              "      <td>45.750000</td>\n",
              "      <td>4.500000</td>\n",
              "    </tr>\n",
              "    <tr>\n",
              "      <th>max</th>\n",
              "      <td>1.282064e+06</td>\n",
              "      <td>200.000000</td>\n",
              "      <td>268923.000000</td>\n",
              "      <td>27445.000000</td>\n",
              "      <td>779.000000</td>\n",
              "      <td>78.500000</td>\n",
              "    </tr>\n",
              "  </tbody>\n",
              "</table>\n",
              "</div>\n",
              "      <button class=\"colab-df-convert\" onclick=\"convertToInteractive('df-6d81ccbf-f3e3-4e11-a7ad-36088c887177')\"\n",
              "              title=\"Convert this dataframe to an interactive table.\"\n",
              "              style=\"display:none;\">\n",
              "        \n",
              "  <svg xmlns=\"http://www.w3.org/2000/svg\" height=\"24px\"viewBox=\"0 0 24 24\"\n",
              "       width=\"24px\">\n",
              "    <path d=\"M0 0h24v24H0V0z\" fill=\"none\"/>\n",
              "    <path d=\"M18.56 5.44l.94 2.06.94-2.06 2.06-.94-2.06-.94-.94-2.06-.94 2.06-2.06.94zm-11 1L8.5 8.5l.94-2.06 2.06-.94-2.06-.94L8.5 2.5l-.94 2.06-2.06.94zm10 10l.94 2.06.94-2.06 2.06-.94-2.06-.94-.94-2.06-.94 2.06-2.06.94z\"/><path d=\"M17.41 7.96l-1.37-1.37c-.4-.4-.92-.59-1.43-.59-.52 0-1.04.2-1.43.59L10.3 9.45l-7.72 7.72c-.78.78-.78 2.05 0 2.83L4 21.41c.39.39.9.59 1.41.59.51 0 1.02-.2 1.41-.59l7.78-7.78 2.81-2.81c.8-.78.8-2.07 0-2.86zM5.41 20L4 18.59l7.72-7.72 1.47 1.35L5.41 20z\"/>\n",
              "  </svg>\n",
              "      </button>\n",
              "      \n",
              "  <style>\n",
              "    .colab-df-container {\n",
              "      display:flex;\n",
              "      flex-wrap:wrap;\n",
              "      gap: 12px;\n",
              "    }\n",
              "\n",
              "    .colab-df-convert {\n",
              "      background-color: #E8F0FE;\n",
              "      border: none;\n",
              "      border-radius: 50%;\n",
              "      cursor: pointer;\n",
              "      display: none;\n",
              "      fill: #1967D2;\n",
              "      height: 32px;\n",
              "      padding: 0 0 0 0;\n",
              "      width: 32px;\n",
              "    }\n",
              "\n",
              "    .colab-df-convert:hover {\n",
              "      background-color: #E2EBFA;\n",
              "      box-shadow: 0px 1px 2px rgba(60, 64, 67, 0.3), 0px 1px 3px 1px rgba(60, 64, 67, 0.15);\n",
              "      fill: #174EA6;\n",
              "    }\n",
              "\n",
              "    [theme=dark] .colab-df-convert {\n",
              "      background-color: #3B4455;\n",
              "      fill: #D2E3FC;\n",
              "    }\n",
              "\n",
              "    [theme=dark] .colab-df-convert:hover {\n",
              "      background-color: #434B5C;\n",
              "      box-shadow: 0px 1px 3px 1px rgba(0, 0, 0, 0.15);\n",
              "      filter: drop-shadow(0px 1px 2px rgba(0, 0, 0, 0.3));\n",
              "      fill: #FFFFFF;\n",
              "    }\n",
              "  </style>\n",
              "\n",
              "      <script>\n",
              "        const buttonEl =\n",
              "          document.querySelector('#df-6d81ccbf-f3e3-4e11-a7ad-36088c887177 button.colab-df-convert');\n",
              "        buttonEl.style.display =\n",
              "          google.colab.kernel.accessAllowed ? 'block' : 'none';\n",
              "\n",
              "        async function convertToInteractive(key) {\n",
              "          const element = document.querySelector('#df-6d81ccbf-f3e3-4e11-a7ad-36088c887177');\n",
              "          const dataTable =\n",
              "            await google.colab.kernel.invokeFunction('convertToInteractive',\n",
              "                                                     [key], {});\n",
              "          if (!dataTable) return;\n",
              "\n",
              "          const docLinkHtml = 'Like what you see? Visit the ' +\n",
              "            '<a target=\"_blank\" href=https://colab.research.google.com/notebooks/data_table.ipynb>data table notebook</a>'\n",
              "            + ' to learn more about interactive tables.';\n",
              "          element.innerHTML = '';\n",
              "          dataTable['output_type'] = 'display_data';\n",
              "          await google.colab.output.renderOutput(dataTable, element);\n",
              "          const docLink = document.createElement('div');\n",
              "          docLink.innerHTML = docLinkHtml;\n",
              "          element.appendChild(docLink);\n",
              "        }\n",
              "      </script>\n",
              "    </div>\n",
              "  </div>\n",
              "  "
            ]
          },
          "metadata": {},
          "execution_count": 175
        }
      ],
      "source": [
        "df.describe()"
      ]
    },
    {
      "cell_type": "code",
      "execution_count": 176,
      "id": "f5d3a3f0",
      "metadata": {
        "scrolled": false,
        "colab": {
          "base_uri": "https://localhost:8080/"
        },
        "id": "f5d3a3f0",
        "outputId": "7844d97b-df39-48b7-905f-6f7c023e5c84"
      },
      "outputs": [
        {
          "output_type": "execute_result",
          "data": {
            "text/plain": [
              "Index(['course_id', 'course_title', 'url', 'is_paid', 'price',\n",
              "       'num_subscribers', 'num_reviews', 'num_lectures', 'level',\n",
              "       'content_duration', 'published_timestamp', 'subject'],\n",
              "      dtype='object')"
            ]
          },
          "metadata": {},
          "execution_count": 176
        }
      ],
      "source": [
        "df.columns"
      ]
    },
    {
      "cell_type": "code",
      "execution_count": 177,
      "id": "26c8ad22",
      "metadata": {
        "scrolled": true,
        "colab": {
          "base_uri": "https://localhost:8080/",
          "height": 0
        },
        "id": "26c8ad22",
        "outputId": "1b006eb6-11f8-444e-c9c6-99a654abd72c"
      },
      "outputs": [
        {
          "output_type": "execute_result",
          "data": {
            "text/plain": [
              "<AxesSubplot:>"
            ]
          },
          "metadata": {},
          "execution_count": 177
        },
        {
          "output_type": "display_data",
          "data": {
            "text/plain": [
              "<Figure size 720x720 with 2 Axes>"
            ],
            "image/png": "[encoded data removed]"
          },
          "metadata": {}
        }
      ],
      "source": [
        "plt.figure(figsize=(10,10))\n",
        "sns.heatmap(df.isna())"
      ]
    },
    {
      "cell_type": "markdown",
      "source": [
        "<a id='3'></a>\n",
        "### [__3- Checking Data:__](#7)"
      ],
      "metadata": {
        "id": "nFGgOfI1t0CJ"
      },
      "id": "nFGgOfI1t0CJ"
    },
    {
      "cell_type": "markdown",
      "id": "febb05e3",
      "metadata": {
        "id": "febb05e3"
      },
      "source": [
        "#### __Checking Columns Names:__"
      ]
    },
    {
      "cell_type": "code",
      "execution_count": 178,
      "id": "43491dc9",
      "metadata": {
        "id": "43491dc9"
      },
      "outputs": [],
      "source": [
        "c = df.columns"
      ]
    },
    {
      "cell_type": "code",
      "execution_count": 179,
      "id": "2ab0a8a9",
      "metadata": {
        "id": "2ab0a8a9"
      },
      "outputs": [],
      "source": [
        "c = [i.replace(' ', '') for i in c]\n",
        "c = [i.strip() for i in c]"
      ]
    },
    {
      "cell_type": "code",
      "execution_count": 180,
      "id": "f6d1547c",
      "metadata": {
        "id": "f6d1547c"
      },
      "outputs": [],
      "source": [
        "df.set_axis(c, axis=1, inplace=True)"
      ]
    },
    {
      "cell_type": "markdown",
      "id": "ebe67a26",
      "metadata": {
        "id": "ebe67a26"
      },
      "source": [
        "#### __Checking Data Types:__"
      ]
    },
    {
      "cell_type": "code",
      "execution_count": 181,
      "id": "f4329b6e",
      "metadata": {
        "scrolled": false,
        "colab": {
          "base_uri": "https://localhost:8080/"
        },
        "id": "f4329b6e",
        "outputId": "ced7b35c-1a3a-40a7-eb23-5ce3c262a596"
      },
      "outputs": [
        {
          "output_type": "stream",
          "name": "stdout",
          "text": [
            "<class 'pandas.core.frame.DataFrame'>\n",
            "RangeIndex: 3678 entries, 0 to 3677\n",
            "Data columns (total 12 columns):\n",
            " #   Column               Non-Null Count  Dtype  \n",
            "---  ------               --------------  -----  \n",
            " 0   course_id            3678 non-null   int64  \n",
            " 1   course_title         3678 non-null   object \n",
            " 2   url                  3678 non-null   object \n",
            " 3   is_paid              3678 non-null   bool   \n",
            " 4   price                3678 non-null   int64  \n",
            " 5   num_subscribers      3678 non-null   int64  \n",
            " 6   num_reviews          3678 non-null   int64  \n",
            " 7   num_lectures         3678 non-null   int64  \n",
            " 8   level                3678 non-null   object \n",
            " 9   content_duration     3678 non-null   float64\n",
            " 10  published_timestamp  3678 non-null   object \n",
            " 11  subject              3678 non-null   object \n",
            "dtypes: bool(1), float64(1), int64(5), object(5)\n",
            "memory usage: 319.8+ KB\n"
          ]
        }
      ],
      "source": [
        "df.info()"
      ]
    },
    {
      "cell_type": "markdown",
      "source": [
        "__course_id:__"
      ],
      "metadata": {
        "id": "eLfTUsPVzQ0o"
      },
      "id": "eLfTUsPVzQ0o"
    },
    {
      "cell_type": "code",
      "source": [
        "df.course_id = df.course_id.astype('uint32')"
      ],
      "metadata": {
        "id": "srBGjA-kzU2X"
      },
      "id": "srBGjA-kzU2X",
      "execution_count": 182,
      "outputs": []
    },
    {
      "cell_type": "markdown",
      "source": [
        "__price:__"
      ],
      "metadata": {
        "id": "PSfVrdCYyepA"
      },
      "id": "PSfVrdCYyepA"
    },
    {
      "cell_type": "code",
      "source": [
        "df.price = df.price.astype('uint8')"
      ],
      "metadata": {
        "id": "IgIVdDc-xwHz"
      },
      "id": "IgIVdDc-xwHz",
      "execution_count": 183,
      "outputs": []
    },
    {
      "cell_type": "markdown",
      "source": [
        "__num_subscribers:__"
      ],
      "metadata": {
        "id": "IImjeA1XyRxz"
      },
      "id": "IImjeA1XyRxz"
    },
    {
      "cell_type": "code",
      "source": [
        "df.num_subscribers = df.num_subscribers.astype('uint16')"
      ],
      "metadata": {
        "id": "XN8wUtkMxuN3"
      },
      "id": "XN8wUtkMxuN3",
      "execution_count": 184,
      "outputs": []
    },
    {
      "cell_type": "markdown",
      "source": [
        "__num_reviews:__"
      ],
      "metadata": {
        "id": "PFNEBuznysal"
      },
      "id": "PFNEBuznysal"
    },
    {
      "cell_type": "code",
      "source": [
        "df.num_reviews = df.num_reviews.astype('uint16')"
      ],
      "metadata": {
        "id": "aKdLeY3JxwRe"
      },
      "id": "aKdLeY3JxwRe",
      "execution_count": 185,
      "outputs": []
    },
    {
      "cell_type": "markdown",
      "source": [
        "__num_lectures:__"
      ],
      "metadata": {
        "id": "79Nlb2oRy3xk"
      },
      "id": "79Nlb2oRy3xk"
    },
    {
      "cell_type": "code",
      "source": [
        "df.num_lectures = df.num_lectures.astype('uint16')"
      ],
      "metadata": {
        "id": "lzsCcI3CxwZG"
      },
      "id": "lzsCcI3CxwZG",
      "execution_count": 186,
      "outputs": []
    },
    {
      "cell_type": "markdown",
      "source": [
        "__level:__"
      ],
      "metadata": {
        "id": "bxEV5iee2fro"
      },
      "id": "bxEV5iee2fro"
    },
    {
      "cell_type": "code",
      "source": [
        "df.level = df.level.astype('category')"
      ],
      "metadata": {
        "id": "LIt2NWLh2sm2"
      },
      "id": "LIt2NWLh2sm2",
      "execution_count": 187,
      "outputs": []
    },
    {
      "cell_type": "markdown",
      "source": [
        "__content_duration:__"
      ],
      "metadata": {
        "id": "UcAZps7gzDKI"
      },
      "id": "UcAZps7gzDKI"
    },
    {
      "cell_type": "code",
      "source": [
        "df.content_duration = df.content_duration.astype('float16')"
      ],
      "metadata": {
        "id": "9QPoKjSHxwg8"
      },
      "id": "9QPoKjSHxwg8",
      "execution_count": 188,
      "outputs": []
    },
    {
      "cell_type": "markdown",
      "source": [
        "__published_timestamp:__"
      ],
      "metadata": {
        "id": "k3mR3RoAp8u-"
      },
      "id": "k3mR3RoAp8u-"
    },
    {
      "cell_type": "code",
      "execution_count": 189,
      "id": "fe861575",
      "metadata": {
        "id": "fe861575"
      },
      "outputs": [],
      "source": [
        "df.published_timestamp = pd.to_datetime(df.published_timestamp).dt.date\n",
        "df.published_timestamp = pd.to_datetime(df.published_timestamp)"
      ]
    },
    {
      "cell_type": "markdown",
      "source": [
        "__subject:__"
      ],
      "metadata": {
        "id": "l_HWdDJm3DNL"
      },
      "id": "l_HWdDJm3DNL"
    },
    {
      "cell_type": "code",
      "source": [
        "df.subject = df.subject.astype('category')"
      ],
      "metadata": {
        "id": "u6ds1BWb3DNM"
      },
      "execution_count": 190,
      "outputs": [],
      "id": "u6ds1BWb3DNM"
    },
    {
      "cell_type": "code",
      "execution_count": 191,
      "id": "75441717",
      "metadata": {
        "scrolled": true,
        "colab": {
          "base_uri": "https://localhost:8080/"
        },
        "id": "75441717",
        "outputId": "0fbfbfec-9e69-426b-a248-4dfcc9c48c13"
      },
      "outputs": [
        {
          "output_type": "stream",
          "name": "stdout",
          "text": [
            "<class 'pandas.core.frame.DataFrame'>\n",
            "RangeIndex: 3678 entries, 0 to 3677\n",
            "Data columns (total 12 columns):\n",
            " #   Column               Non-Null Count  Dtype         \n",
            "---  ------               --------------  -----         \n",
            " 0   course_id            3678 non-null   uint32        \n",
            " 1   course_title         3678 non-null   object        \n",
            " 2   url                  3678 non-null   object        \n",
            " 3   is_paid              3678 non-null   bool          \n",
            " 4   price                3678 non-null   uint8         \n",
            " 5   num_subscribers      3678 non-null   uint16        \n",
            " 6   num_reviews          3678 non-null   uint16        \n",
            " 7   num_lectures         3678 non-null   uint16        \n",
            " 8   level                3678 non-null   category      \n",
            " 9   content_duration     3678 non-null   float16       \n",
            " 10  published_timestamp  3678 non-null   datetime64[ns]\n",
            " 11  subject              3678 non-null   category      \n",
            "dtypes: bool(1), category(2), datetime64[ns](1), float16(1), object(2), uint16(3), uint32(1), uint8(1)\n",
            "memory usage: 144.2+ KB\n"
          ]
        }
      ],
      "source": [
        "df.info()"
      ]
    },
    {
      "cell_type": "markdown",
      "id": "8e24456c",
      "metadata": {
        "id": "8e24456c"
      },
      "source": [
        "#### __Checking Outliers:__"
      ]
    },
    {
      "cell_type": "markdown",
      "source": [
        "##### __price:__"
      ],
      "metadata": {
        "id": "bXA82r_p5IdV"
      },
      "id": "bXA82r_p5IdV"
    },
    {
      "cell_type": "code",
      "source": [
        "df.groupby(['subject']).mean()['price']"
      ],
      "metadata": {
        "colab": {
          "base_uri": "https://localhost:8080/"
        },
        "outputId": "4fe9ec3c-30dc-438b-9053-c4370e704748",
        "id": "tiPiGxG67nqJ"
      },
      "execution_count": 192,
      "outputs": [
        {
          "output_type": "execute_result",
          "data": {
            "text/plain": [
              "subject\n",
              "Business Finance       68.552301\n",
              "Graphic Design         57.827529\n",
              "Musical Instruments    49.558824\n",
              "Web Development        77.033333\n",
              "Name: price, dtype: float64"
            ]
          },
          "metadata": {},
          "execution_count": 192
        }
      ],
      "id": "tiPiGxG67nqJ"
    },
    {
      "cell_type": "code",
      "source": [
        "df[df['subject']=='Business Finance']['price'].plot(kind='box')"
      ],
      "metadata": {
        "colab": {
          "base_uri": "https://localhost:8080/",
          "height": 0
        },
        "outputId": "50e43e45-d888-46ae-9b35-13eaad60c04e",
        "id": "QTaqfX-G7nqK"
      },
      "execution_count": 193,
      "outputs": [
        {
          "output_type": "execute_result",
          "data": {
            "text/plain": [
              "<AxesSubplot:>"
            ]
          },
          "metadata": {},
          "execution_count": 193
        },
        {
          "output_type": "display_data",
          "data": {
            "text/plain": [
              "<Figure size 432x288 with 1 Axes>"
            ],
            "image/png": "[encoded data removed]"
          },
          "metadata": {}
        }
      ],
      "id": "QTaqfX-G7nqK"
    },
    {
      "cell_type": "code",
      "source": [
        "df[df['subject']=='Graphic Design']['price'].plot(kind='box')"
      ],
      "metadata": {
        "colab": {
          "base_uri": "https://localhost:8080/",
          "height": 0
        },
        "outputId": "e14bfd0a-b7ca-48be-c795-688a2ad3dba9",
        "id": "MN9WtIwz7nqL"
      },
      "execution_count": 194,
      "outputs": [
        {
          "output_type": "execute_result",
          "data": {
            "text/plain": [
              "<AxesSubplot:>"
            ]
          },
          "metadata": {},
          "execution_count": 194
        },
        {
          "output_type": "display_data",
          "data": {
            "text/plain": [
              "<Figure size 432x288 with 1 Axes>"
            ],
            "image/png": "[encoded data removed]"
          },
          "metadata": {}
        }
      ],
      "id": "MN9WtIwz7nqL"
    },
    {
      "cell_type": "code",
      "source": [
        "df[df['subject']=='Musical Instruments']['price'].plot(kind='box')"
      ],
      "metadata": {
        "colab": {
          "base_uri": "https://localhost:8080/",
          "height": 0
        },
        "outputId": "a6c6914f-2459-4f74-bc84-bbe8144bdff1",
        "id": "m-nTDgOB7nqL"
      },
      "execution_count": 195,
      "outputs": [
        {
          "output_type": "execute_result",
          "data": {
            "text/plain": [
              "<AxesSubplot:>"
            ]
          },
          "metadata": {},
          "execution_count": 195
        },
        {
          "output_type": "display_data",
          "data": {
            "text/plain": [
              "<Figure size 432x288 with 1 Axes>"
            ],
            "image/png": "[encoded data removed]"
          },
          "metadata": {}
        }
      ],
      "id": "m-nTDgOB7nqL"
    },
    {
      "cell_type": "code",
      "source": [
        "df[df['subject']=='Web Development']['price'].plot(kind='box')"
      ],
      "metadata": {
        "colab": {
          "base_uri": "https://localhost:8080/",
          "height": 0
        },
        "outputId": "b7d4aaee-ff1e-4f1b-ce84-5094570ff9f5",
        "id": "TBDWSgML7nqL"
      },
      "execution_count": 196,
      "outputs": [
        {
          "output_type": "execute_result",
          "data": {
            "text/plain": [
              "<AxesSubplot:>"
            ]
          },
          "metadata": {},
          "execution_count": 196
        },
        {
          "output_type": "display_data",
          "data": {
            "text/plain": [
              "<Figure size 432x288 with 1 Axes>"
            ],
            "image/png": "[encoded data removed]"
          },
          "metadata": {}
        }
      ],
      "id": "TBDWSgML7nqL"
    },
    {
      "cell_type": "markdown",
      "source": [
        "##### __num_subscribers:__"
      ],
      "metadata": {
        "id": "riNvrtFy5IdX"
      },
      "id": "riNvrtFy5IdX"
    },
    {
      "cell_type": "code",
      "source": [
        "df.groupby(['subject']).mean()['num_subscribers']"
      ],
      "metadata": {
        "colab": {
          "base_uri": "https://localhost:8080/"
        },
        "id": "h69aeXOC5IdX",
        "outputId": "0f19f6be-f5bf-44e9-c6b4-f77adc63e1d6"
      },
      "execution_count": 197,
      "outputs": [
        {
          "output_type": "execute_result",
          "data": {
            "text/plain": [
              "subject\n",
              "Business Finance       1508.933054\n",
              "Graphic Design         1763.097844\n",
              "Musical Instruments    1052.377941\n",
              "Web Development        5667.436667\n",
              "Name: num_subscribers, dtype: float64"
            ]
          },
          "metadata": {},
          "execution_count": 197
        }
      ],
      "id": "h69aeXOC5IdX"
    },
    {
      "cell_type": "code",
      "source": [
        "df[df['subject']=='Business Finance']['num_subscribers'].plot(kind='box')"
      ],
      "metadata": {
        "colab": {
          "base_uri": "https://localhost:8080/",
          "height": 0
        },
        "outputId": "b847fc35-64d6-44bf-cc56-434be802cc8b",
        "id": "O_6BiUSX60b3"
      },
      "execution_count": 198,
      "outputs": [
        {
          "output_type": "execute_result",
          "data": {
            "text/plain": [
              "<AxesSubplot:>"
            ]
          },
          "metadata": {},
          "execution_count": 198
        },
        {
          "output_type": "display_data",
          "data": {
            "text/plain": [
              "<Figure size 432x288 with 1 Axes>"
            ],
            "image/png": "[encoded data removed]"
          },
          "metadata": {}
        }
      ],
      "id": "O_6BiUSX60b3"
    },
    {
      "cell_type": "code",
      "source": [
        "df[df['subject']=='Graphic Design']['num_subscribers'].plot(kind='box')"
      ],
      "metadata": {
        "colab": {
          "base_uri": "https://localhost:8080/",
          "height": 0
        },
        "outputId": "5266a2da-e333-4268-e8e6-406889d96b45",
        "id": "8u0jWfdV60Ks"
      },
      "execution_count": 199,
      "outputs": [
        {
          "output_type": "execute_result",
          "data": {
            "text/plain": [
              "<AxesSubplot:>"
            ]
          },
          "metadata": {},
          "execution_count": 199
        },
        {
          "output_type": "display_data",
          "data": {
            "text/plain": [
              "<Figure size 432x288 with 1 Axes>"
            ],
            "image/png": "[encoded data removed]"
          },
          "metadata": {}
        }
      ],
      "id": "8u0jWfdV60Ks"
    },
    {
      "cell_type": "code",
      "source": [
        "df[df['subject']=='Musical Instruments']['num_subscribers'].plot(kind='box')"
      ],
      "metadata": {
        "colab": {
          "base_uri": "https://localhost:8080/",
          "height": 0
        },
        "outputId": "55d4b943-0642-4617-bd23-55e3b9a856a1",
        "id": "aLIFPeNI6zsG"
      },
      "execution_count": 200,
      "outputs": [
        {
          "output_type": "execute_result",
          "data": {
            "text/plain": [
              "<AxesSubplot:>"
            ]
          },
          "metadata": {},
          "execution_count": 200
        },
        {
          "output_type": "display_data",
          "data": {
            "text/plain": [
              "<Figure size 432x288 with 1 Axes>"
            ],
            "image/png": "[encoded data removed]"
          },
          "metadata": {}
        }
      ],
      "id": "aLIFPeNI6zsG"
    },
    {
      "cell_type": "code",
      "source": [
        "df[df['subject']=='Web Development']['num_subscribers'].plot(kind='box')"
      ],
      "metadata": {
        "colab": {
          "base_uri": "https://localhost:8080/",
          "height": 0
        },
        "id": "JT1jcRVZ6Ryo",
        "outputId": "c4b23d3a-de5a-4090-87d6-6307f5d7c98b"
      },
      "id": "JT1jcRVZ6Ryo",
      "execution_count": 201,
      "outputs": [
        {
          "output_type": "execute_result",
          "data": {
            "text/plain": [
              "<AxesSubplot:>"
            ]
          },
          "metadata": {},
          "execution_count": 201
        },
        {
          "output_type": "display_data",
          "data": {
            "text/plain": [
              "<Figure size 432x288 with 1 Axes>"
            ],
            "image/png": "[encoded data removed]"
          },
          "metadata": {}
        }
      ]
    },
    {
      "cell_type": "markdown",
      "source": [
        "##### __num_reviews:__"
      ],
      "metadata": {
        "id": "kqZNYElA5IdX"
      },
      "id": "kqZNYElA5IdX"
    },
    {
      "cell_type": "code",
      "source": [
        "df.groupby(['subject']).mean()['num_subscribers']"
      ],
      "metadata": {
        "colab": {
          "base_uri": "https://localhost:8080/"
        },
        "outputId": "085549dc-17bd-4aaa-fac0-f86e5a679642",
        "id": "MhP8V1mN7YCC"
      },
      "execution_count": 202,
      "outputs": [
        {
          "output_type": "execute_result",
          "data": {
            "text/plain": [
              "subject\n",
              "Business Finance       1508.933054\n",
              "Graphic Design         1763.097844\n",
              "Musical Instruments    1052.377941\n",
              "Web Development        5667.436667\n",
              "Name: num_subscribers, dtype: float64"
            ]
          },
          "metadata": {},
          "execution_count": 202
        }
      ],
      "id": "MhP8V1mN7YCC"
    },
    {
      "cell_type": "code",
      "source": [
        "df[df['subject']=='Business Finance']['num_subscribers'].plot(kind='box')"
      ],
      "metadata": {
        "colab": {
          "base_uri": "https://localhost:8080/",
          "height": 0
        },
        "outputId": "548e8b86-4dca-4d1a-b481-b1bd2f784dca",
        "id": "S6PnY1R17YCE"
      },
      "execution_count": 203,
      "outputs": [
        {
          "output_type": "execute_result",
          "data": {
            "text/plain": [
              "<AxesSubplot:>"
            ]
          },
          "metadata": {},
          "execution_count": 203
        },
        {
          "output_type": "display_data",
          "data": {
            "text/plain": [
              "<Figure size 432x288 with 1 Axes>"
            ],
            "image/png": "[encoded data removed]"
          },
          "metadata": {}
        }
      ],
      "id": "S6PnY1R17YCE"
    },
    {
      "cell_type": "code",
      "source": [
        "df[df['subject']=='Graphic Design']['num_subscribers'].plot(kind='box')"
      ],
      "metadata": {
        "colab": {
          "base_uri": "https://localhost:8080/",
          "height": 0
        },
        "outputId": "cfb0f874-2c21-416c-c7c3-9872bb4fb6f0",
        "id": "LjTRbA8B7YCE"
      },
      "execution_count": 204,
      "outputs": [
        {
          "output_type": "execute_result",
          "data": {
            "text/plain": [
              "<AxesSubplot:>"
            ]
          },
          "metadata": {},
          "execution_count": 204
        },
        {
          "output_type": "display_data",
          "data": {
            "text/plain": [
              "<Figure size 432x288 with 1 Axes>"
            ],
            "image/png": "[encoded data removed]"
          },
          "metadata": {}
        }
      ],
      "id": "LjTRbA8B7YCE"
    },
    {
      "cell_type": "code",
      "source": [
        "df[df['subject']=='Musical Instruments']['num_subscribers'].plot(kind='box')"
      ],
      "metadata": {
        "colab": {
          "base_uri": "https://localhost:8080/",
          "height": 0
        },
        "outputId": "daa5755b-0c2a-4c41-e119-bc6142b6cd0e",
        "id": "ypSK18DA7YCF"
      },
      "execution_count": 205,
      "outputs": [
        {
          "output_type": "execute_result",
          "data": {
            "text/plain": [
              "<AxesSubplot:>"
            ]
          },
          "metadata": {},
          "execution_count": 205
        },
        {
          "output_type": "display_data",
          "data": {
            "text/plain": [
              "<Figure size 432x288 with 1 Axes>"
            ],
            "image/png": "[encoded data removed]"
          },
          "metadata": {}
        }
      ],
      "id": "ypSK18DA7YCF"
    },
    {
      "cell_type": "code",
      "source": [
        "df[df['subject']=='Web Development']['num_subscribers'].plot(kind='box')"
      ],
      "metadata": {
        "colab": {
          "base_uri": "https://localhost:8080/",
          "height": 0
        },
        "outputId": "7af1f9d1-9977-463c-bcaf-09135386685a",
        "id": "eb9v1l2-7YCF"
      },
      "execution_count": 206,
      "outputs": [
        {
          "output_type": "execute_result",
          "data": {
            "text/plain": [
              "<AxesSubplot:>"
            ]
          },
          "metadata": {},
          "execution_count": 206
        },
        {
          "output_type": "display_data",
          "data": {
            "text/plain": [
              "<Figure size 432x288 with 1 Axes>"
            ],
            "image/png": "[encoded data removed]"
          },
          "metadata": {}
        }
      ],
      "id": "eb9v1l2-7YCF"
    },
    {
      "cell_type": "markdown",
      "source": [
        "##### __num_lectures:__"
      ],
      "metadata": {
        "id": "F_zmWNpP5IdY"
      },
      "id": "F_zmWNpP5IdY"
    },
    {
      "cell_type": "code",
      "source": [
        "df.groupby(['subject']).mean()['num_lectures']"
      ],
      "metadata": {
        "colab": {
          "base_uri": "https://localhost:8080/"
        },
        "outputId": "a4c71dd5-457b-432d-a2e6-c47607c40b94",
        "id": "1BgAlQU17hLG"
      },
      "execution_count": 207,
      "outputs": [
        {
          "output_type": "execute_result",
          "data": {
            "text/plain": [
              "subject\n",
              "Business Finance       32.430962\n",
              "Graphic Design         32.054726\n",
              "Musical Instruments    38.316176\n",
              "Web Development        52.817500\n",
              "Name: num_lectures, dtype: float64"
            ]
          },
          "metadata": {},
          "execution_count": 207
        }
      ],
      "id": "1BgAlQU17hLG"
    },
    {
      "cell_type": "code",
      "source": [
        "df[df['subject']=='Business Finance']['num_lectures'].plot(kind='box')"
      ],
      "metadata": {
        "colab": {
          "base_uri": "https://localhost:8080/",
          "height": 0
        },
        "outputId": "a64cf47e-18cf-41b9-d0b4-ee8fc27c61b9",
        "id": "aOkDh_J47hLH"
      },
      "execution_count": 208,
      "outputs": [
        {
          "output_type": "execute_result",
          "data": {
            "text/plain": [
              "<AxesSubplot:>"
            ]
          },
          "metadata": {},
          "execution_count": 208
        },
        {
          "output_type": "display_data",
          "data": {
            "text/plain": [
              "<Figure size 432x288 with 1 Axes>"
            ],
            "image/png": "[encoded data removed]"
          },
          "metadata": {}
        }
      ],
      "id": "aOkDh_J47hLH"
    },
    {
      "cell_type": "code",
      "source": [
        "df[df['subject']=='Graphic Design']['num_lectures'].plot(kind='box')"
      ],
      "metadata": {
        "colab": {
          "base_uri": "https://localhost:8080/",
          "height": 0
        },
        "outputId": "1f6863b2-5c18-41fd-d117-59396ab1ebc1",
        "id": "Ga6OZkKH7hLI"
      },
      "execution_count": 209,
      "outputs": [
        {
          "output_type": "execute_result",
          "data": {
            "text/plain": [
              "<AxesSubplot:>"
            ]
          },
          "metadata": {},
          "execution_count": 209
        },
        {
          "output_type": "display_data",
          "data": {
            "text/plain": [
              "<Figure size 432x288 with 1 Axes>"
            ],
            "image/png": "[encoded data removed]"
          },
          "metadata": {}
        }
      ],
      "id": "Ga6OZkKH7hLI"
    },
    {
      "cell_type": "code",
      "source": [
        "df[df['subject']=='Musical Instruments']['num_lectures'].plot(kind='box')"
      ],
      "metadata": {
        "colab": {
          "base_uri": "https://localhost:8080/",
          "height": 0
        },
        "outputId": "d8b9d988-a3b4-43b5-8b9c-2e64e56246cd",
        "id": "o1Km0SMV7hLI"
      },
      "execution_count": 210,
      "outputs": [
        {
          "output_type": "execute_result",
          "data": {
            "text/plain": [
              "<AxesSubplot:>"
            ]
          },
          "metadata": {},
          "execution_count": 210
        },
        {
          "output_type": "display_data",
          "data": {
            "text/plain": [
              "<Figure size 432x288 with 1 Axes>"
            ],
            "image/png": "[encoded data removed]"
          },
          "metadata": {}
        }
      ],
      "id": "o1Km0SMV7hLI"
    },
    {
      "cell_type": "code",
      "source": [
        "df[df['subject']=='Web Development']['num_lectures'].plot(kind='box')"
      ],
      "metadata": {
        "colab": {
          "base_uri": "https://localhost:8080/",
          "height": 0
        },
        "outputId": "7ecbdd30-7c1a-4fda-f2b0-e411f435dc25",
        "id": "iS6wAxrD7hLI"
      },
      "execution_count": 211,
      "outputs": [
        {
          "output_type": "execute_result",
          "data": {
            "text/plain": [
              "<AxesSubplot:>"
            ]
          },
          "metadata": {},
          "execution_count": 211
        },
        {
          "output_type": "display_data",
          "data": {
            "text/plain": [
              "<Figure size 432x288 with 1 Axes>"
            ],
            "image/png": "[encoded data removed]"
          },
          "metadata": {}
        }
      ],
      "id": "iS6wAxrD7hLI"
    },
    {
      "cell_type": "markdown",
      "source": [
        "##### __content_duration:__"
      ],
      "metadata": {
        "id": "jyeHwoNy5SEn"
      },
      "id": "jyeHwoNy5SEn"
    },
    {
      "cell_type": "code",
      "source": [
        "df.groupby(['subject']).mean()['content_duration']"
      ],
      "metadata": {
        "colab": {
          "base_uri": "https://localhost:8080/"
        },
        "outputId": "f64fe2b9-a510-40b8-dcd4-83b39ea72862",
        "id": "YoHO1Xvq7kOa"
      },
      "execution_count": 212,
      "outputs": [
        {
          "output_type": "execute_result",
          "data": {
            "text/plain": [
              "subject\n",
              "Business Finance       3.552734\n",
              "Graphic Design         3.580078\n",
              "Musical Instruments    2.853516\n",
              "Web Development        5.593750\n",
              "Name: content_duration, dtype: float16"
            ]
          },
          "metadata": {},
          "execution_count": 212
        }
      ],
      "id": "YoHO1Xvq7kOa"
    },
    {
      "cell_type": "code",
      "source": [
        "df[df['subject']=='Business Finance']['content_duration'].plot(kind='box')"
      ],
      "metadata": {
        "colab": {
          "base_uri": "https://localhost:8080/",
          "height": 0
        },
        "outputId": "9a4bc4d1-e52c-4cf1-fa7f-bbcc55bcfe96",
        "id": "HoAM0hyi7kOc"
      },
      "execution_count": 213,
      "outputs": [
        {
          "output_type": "execute_result",
          "data": {
            "text/plain": [
              "<AxesSubplot:>"
            ]
          },
          "metadata": {},
          "execution_count": 213
        },
        {
          "output_type": "display_data",
          "data": {
            "text/plain": [
              "<Figure size 432x288 with 1 Axes>"
            ],
            "image/png": "[encoded data removed]"
          },
          "metadata": {}
        }
      ],
      "id": "HoAM0hyi7kOc"
    },
    {
      "cell_type": "code",
      "source": [
        "df[df['subject']=='Graphic Design']['content_duration'].plot(kind='box')"
      ],
      "metadata": {
        "colab": {
          "base_uri": "https://localhost:8080/",
          "height": 0
        },
        "outputId": "07e0cc0e-96bb-4462-fbf1-692e293bd825",
        "id": "JKU4tWVH7kOc"
      },
      "execution_count": 214,
      "outputs": [
        {
          "output_type": "execute_result",
          "data": {
            "text/plain": [
              "<AxesSubplot:>"
            ]
          },
          "metadata": {},
          "execution_count": 214
        },
        {
          "output_type": "display_data",
          "data": {
            "text/plain": [
              "<Figure size 432x288 with 1 Axes>"
            ],
            "image/png": "[encoded data removed]"
          },
          "metadata": {}
        }
      ],
      "id": "JKU4tWVH7kOc"
    },
    {
      "cell_type": "code",
      "source": [
        "df[df['subject']=='Musical Instruments']['content_duration'].plot(kind='box')"
      ],
      "metadata": {
        "colab": {
          "base_uri": "https://localhost:8080/",
          "height": 0
        },
        "outputId": "39ee2d1d-4b40-4610-87bb-ff6c36d1a0ac",
        "id": "LSqVQ4uN7kOd"
      },
      "execution_count": 215,
      "outputs": [
        {
          "output_type": "execute_result",
          "data": {
            "text/plain": [
              "<AxesSubplot:>"
            ]
          },
          "metadata": {},
          "execution_count": 215
        },
        {
          "output_type": "display_data",
          "data": {
            "text/plain": [
              "<Figure size 432x288 with 1 Axes>"
            ],
            "image/png": "[encoded data removed]"
          },
          "metadata": {}
        }
      ],
      "id": "LSqVQ4uN7kOd"
    },
    {
      "cell_type": "code",
      "source": [
        "df[df['subject']=='Web Development']['content_duration'].plot(kind='box')"
      ],
      "metadata": {
        "colab": {
          "base_uri": "https://localhost:8080/",
          "height": 0
        },
        "outputId": "c7a77b53-fc71-4f5a-8468-9236f4c42e08",
        "id": "LGopb8XW7kOd"
      },
      "execution_count": 216,
      "outputs": [
        {
          "output_type": "execute_result",
          "data": {
            "text/plain": [
              "<AxesSubplot:>"
            ]
          },
          "metadata": {},
          "execution_count": 216
        },
        {
          "output_type": "display_data",
          "data": {
            "text/plain": [
              "<Figure size 432x288 with 1 Axes>"
            ],
            "image/png": "[encoded data removed]"
          },
          "metadata": {}
        }
      ],
      "id": "LGopb8XW7kOd"
    },
    {
      "cell_type": "markdown",
      "id": "ad0bdae5",
      "metadata": {
        "id": "ad0bdae5"
      },
      "source": [
        "#### __Checking Duplicate Values:__"
      ]
    },
    {
      "cell_type": "code",
      "execution_count": 217,
      "id": "8d6763cd",
      "metadata": {
        "colab": {
          "base_uri": "https://localhost:8080/",
          "height": 0
        },
        "id": "8d6763cd",
        "outputId": "c108ba62-35d3-4529-d03e-4292b493b1fb"
      },
      "outputs": [
        {
          "output_type": "execute_result",
          "data": {
            "text/plain": [
              "      course_id                                       course_title  \\\n",
              "787      837322  Essentials of money value: Get a financial Life !   \n",
              "788     1157298  Introduction to Forex Trading Business For Beg...   \n",
              "894     1035638                 Understanding Financial Statements   \n",
              "1100    1084454                  CFA Level 2- Quantitative Methods   \n",
              "1473     185526                             MicroStation - Células   \n",
              "2561      28295  Learn Web Designing & HTML5/CSS3 Essentials in...   \n",
              "\n",
              "                                                    url  is_paid  price  \\\n",
              "787    https://www.udemy.com/essentials-of-money-value/     True     20   \n",
              "788   https://www.udemy.com/introduction-to-forex-tr...     True     20   \n",
              "894   https://www.udemy.com/understanding-financial-...     True     25   \n",
              "1100  https://www.udemy.com/cfa-level-2-quantitative...     True     40   \n",
              "1473        https://www.udemy.com/microstation-celulas/     True     20   \n",
              "2561  https://www.udemy.com/build-beautiful-html5-we...     True     75   \n",
              "\n",
              "      num_subscribers  num_reviews  num_lectures           level  \\\n",
              "787                 0            0            20      All Levels   \n",
              "788                 0            0            27  Beginner Level   \n",
              "894                 0            0            10      All Levels   \n",
              "1100                0            0            35      All Levels   \n",
              "1473                0            0             9  Beginner Level   \n",
              "2561            43285          525            24      All Levels   \n",
              "\n",
              "      content_duration published_timestamp           subject  \n",
              "787           0.616699          2016-05-16  Business Finance  \n",
              "788           1.500000          2017-04-23  Business Finance  \n",
              "894           1.000000          2016-12-15  Business Finance  \n",
              "1100          5.500000          2017-07-02  Business Finance  \n",
              "1473          0.616699          2014-04-15    Graphic Design  \n",
              "2561          4.000000          2013-01-03   Web Development  "
            ],
            "text/html": [
              "\n",
              "  <div id=\"df-749b5271-000d-4c8f-8fdd-880b486c4078\">\n",
              "    <div class=\"colab-df-container\">\n",
              "      <div>\n",
              "<style scoped>\n",
              "    .dataframe tbody tr th:only-of-type {\n",
              "        vertical-align: middle;\n",
              "    }\n",
              "\n",
              "    .dataframe tbody tr th {\n",
              "        vertical-align: top;\n",
              "    }\n",
              "\n",
              "    .dataframe thead th {\n",
              "        text-align: right;\n",
              "    }\n",
              "</style>\n",
              "<table border=\"1\" class=\"dataframe\">\n",
              "  <thead>\n",
              "    <tr style=\"text-align: right;\">\n",
              "      <th></th>\n",
              "      <th>course_id</th>\n",
              "      <th>course_title</th>\n",
              "      <th>url</th>\n",
              "      <th>is_paid</th>\n",
              "      <th>price</th>\n",
              "      <th>num_subscribers</th>\n",
              "      <th>num_reviews</th>\n",
              "      <th>num_lectures</th>\n",
              "      <th>level</th>\n",
              "      <th>content_duration</th>\n",
              "      <th>published_timestamp</th>\n",
              "      <th>subject</th>\n",
              "    </tr>\n",
              "  </thead>\n",
              "  <tbody>\n",
              "    <tr>\n",
              "      <th>787</th>\n",
              "      <td>837322</td>\n",
              "      <td>Essentials of money value: Get a financial Life !</td>\n",
              "      <td>https://www.udemy.com/essentials-of-money-value/</td>\n",
              "      <td>True</td>\n",
              "      <td>20</td>\n",
              "      <td>0</td>\n",
              "      <td>0</td>\n",
              "      <td>20</td>\n",
              "      <td>All Levels</td>\n",
              "      <td>0.616699</td>\n",
              "      <td>2016-05-16</td>\n",
              "      <td>Business Finance</td>\n",
              "    </tr>\n",
              "    <tr>\n",
              "      <th>788</th>\n",
              "      <td>1157298</td>\n",
              "      <td>Introduction to Forex Trading Business For Beg...</td>\n",
              "      <td>https://www.udemy.com/introduction-to-forex-tr...</td>\n",
              "      <td>True</td>\n",
              "      <td>20</td>\n",
              "      <td>0</td>\n",
              "      <td>0</td>\n",
              "      <td>27</td>\n",
              "      <td>Beginner Level</td>\n",
              "      <td>1.500000</td>\n",
              "      <td>2017-04-23</td>\n",
              "      <td>Business Finance</td>\n",
              "    </tr>\n",
              "    <tr>\n",
              "      <th>894</th>\n",
              "      <td>1035638</td>\n",
              "      <td>Understanding Financial Statements</td>\n",
              "      <td>https://www.udemy.com/understanding-financial-...</td>\n",
              "      <td>True</td>\n",
              "      <td>25</td>\n",
              "      <td>0</td>\n",
              "      <td>0</td>\n",
              "      <td>10</td>\n",
              "      <td>All Levels</td>\n",
              "      <td>1.000000</td>\n",
              "      <td>2016-12-15</td>\n",
              "      <td>Business Finance</td>\n",
              "    </tr>\n",
              "    <tr>\n",
              "      <th>1100</th>\n",
              "      <td>1084454</td>\n",
              "      <td>CFA Level 2- Quantitative Methods</td>\n",
              "      <td>https://www.udemy.com/cfa-level-2-quantitative...</td>\n",
              "      <td>True</td>\n",
              "      <td>40</td>\n",
              "      <td>0</td>\n",
              "      <td>0</td>\n",
              "      <td>35</td>\n",
              "      <td>All Levels</td>\n",
              "      <td>5.500000</td>\n",
              "      <td>2017-07-02</td>\n",
              "      <td>Business Finance</td>\n",
              "    </tr>\n",
              "    <tr>\n",
              "      <th>1473</th>\n",
              "      <td>185526</td>\n",
              "      <td>MicroStation - Células</td>\n",
              "      <td>https://www.udemy.com/microstation-celulas/</td>\n",
              "      <td>True</td>\n",
              "      <td>20</td>\n",
              "      <td>0</td>\n",
              "      <td>0</td>\n",
              "      <td>9</td>\n",
              "      <td>Beginner Level</td>\n",
              "      <td>0.616699</td>\n",
              "      <td>2014-04-15</td>\n",
              "      <td>Graphic Design</td>\n",
              "    </tr>\n",
              "    <tr>\n",
              "      <th>2561</th>\n",
              "      <td>28295</td>\n",
              "      <td>Learn Web Designing &amp; HTML5/CSS3 Essentials in...</td>\n",
              "      <td>https://www.udemy.com/build-beautiful-html5-we...</td>\n",
              "      <td>True</td>\n",
              "      <td>75</td>\n",
              "      <td>43285</td>\n",
              "      <td>525</td>\n",
              "      <td>24</td>\n",
              "      <td>All Levels</td>\n",
              "      <td>4.000000</td>\n",
              "      <td>2013-01-03</td>\n",
              "      <td>Web Development</td>\n",
              "    </tr>\n",
              "  </tbody>\n",
              "</table>\n",
              "</div>\n",
              "      <button class=\"colab-df-convert\" onclick=\"convertToInteractive('df-749b5271-000d-4c8f-8fdd-880b486c4078')\"\n",
              "              title=\"Convert this dataframe to an interactive table.\"\n",
              "              style=\"display:none;\">\n",
              "        \n",
              "  <svg xmlns=\"http://www.w3.org/2000/svg\" height=\"24px\"viewBox=\"0 0 24 24\"\n",
              "       width=\"24px\">\n",
              "    <path d=\"M0 0h24v24H0V0z\" fill=\"none\"/>\n",
              "    <path d=\"M18.56 5.44l.94 2.06.94-2.06 2.06-.94-2.06-.94-.94-2.06-.94 2.06-2.06.94zm-11 1L8.5 8.5l.94-2.06 2.06-.94-2.06-.94L8.5 2.5l-.94 2.06-2.06.94zm10 10l.94 2.06.94-2.06 2.06-.94-2.06-.94-.94-2.06-.94 2.06-2.06.94z\"/><path d=\"M17.41 7.96l-1.37-1.37c-.4-.4-.92-.59-1.43-.59-.52 0-1.04.2-1.43.59L10.3 9.45l-7.72 7.72c-.78.78-.78 2.05 0 2.83L4 21.41c.39.39.9.59 1.41.59.51 0 1.02-.2 1.41-.59l7.78-7.78 2.81-2.81c.8-.78.8-2.07 0-2.86zM5.41 20L4 18.59l7.72-7.72 1.47 1.35L5.41 20z\"/>\n",
              "  </svg>\n",
              "      </button>\n",
              "      \n",
              "  <style>\n",
              "    .colab-df-container {\n",
              "      display:flex;\n",
              "      flex-wrap:wrap;\n",
              "      gap: 12px;\n",
              "    }\n",
              "\n",
              "    .colab-df-convert {\n",
              "      background-color: #E8F0FE;\n",
              "      border: none;\n",
              "      border-radius: 50%;\n",
              "      cursor: pointer;\n",
              "      display: none;\n",
              "      fill: #1967D2;\n",
              "      height: 32px;\n",
              "      padding: 0 0 0 0;\n",
              "      width: 32px;\n",
              "    }\n",
              "\n",
              "    .colab-df-convert:hover {\n",
              "      background-color: #E2EBFA;\n",
              "      box-shadow: 0px 1px 2px rgba(60, 64, 67, 0.3), 0px 1px 3px 1px rgba(60, 64, 67, 0.15);\n",
              "      fill: #174EA6;\n",
              "    }\n",
              "\n",
              "    [theme=dark] .colab-df-convert {\n",
              "      background-color: #3B4455;\n",
              "      fill: #D2E3FC;\n",
              "    }\n",
              "\n",
              "    [theme=dark] .colab-df-convert:hover {\n",
              "      background-color: #434B5C;\n",
              "      box-shadow: 0px 1px 3px 1px rgba(0, 0, 0, 0.15);\n",
              "      filter: drop-shadow(0px 1px 2px rgba(0, 0, 0, 0.3));\n",
              "      fill: #FFFFFF;\n",
              "    }\n",
              "  </style>\n",
              "\n",
              "      <script>\n",
              "        const buttonEl =\n",
              "          document.querySelector('#df-749b5271-000d-4c8f-8fdd-880b486c4078 button.colab-df-convert');\n",
              "        buttonEl.style.display =\n",
              "          google.colab.kernel.accessAllowed ? 'block' : 'none';\n",
              "\n",
              "        async function convertToInteractive(key) {\n",
              "          const element = document.querySelector('#df-749b5271-000d-4c8f-8fdd-880b486c4078');\n",
              "          const dataTable =\n",
              "            await google.colab.kernel.invokeFunction('convertToInteractive',\n",
              "                                                     [key], {});\n",
              "          if (!dataTable) return;\n",
              "\n",
              "          const docLinkHtml = 'Like what you see? Visit the ' +\n",
              "            '<a target=\"_blank\" href=https://colab.research.google.com/notebooks/data_table.ipynb>data table notebook</a>'\n",
              "            + ' to learn more about interactive tables.';\n",
              "          element.innerHTML = '';\n",
              "          dataTable['output_type'] = 'display_data';\n",
              "          await google.colab.output.renderOutput(dataTable, element);\n",
              "          const docLink = document.createElement('div');\n",
              "          docLink.innerHTML = docLinkHtml;\n",
              "          element.appendChild(docLink);\n",
              "        }\n",
              "      </script>\n",
              "    </div>\n",
              "  </div>\n",
              "  "
            ]
          },
          "metadata": {},
          "execution_count": 217
        }
      ],
      "source": [
        "df[df.course_id.duplicated()]"
      ]
    },
    {
      "cell_type": "code",
      "source": [
        "df = df.drop_duplicates()"
      ],
      "metadata": {
        "id": "zBoComHk-pEN"
      },
      "id": "zBoComHk-pEN",
      "execution_count": 218,
      "outputs": []
    },
    {
      "cell_type": "markdown",
      "id": "7ad274a6",
      "metadata": {
        "id": "7ad274a6"
      },
      "source": [
        "#### __Checking and Filling Null Values:__"
      ]
    },
    {
      "cell_type": "code",
      "source": [
        "plt.figure(figsize=(10,10))\n",
        "sns.heatmap(df.isna())"
      ],
      "metadata": {
        "colab": {
          "base_uri": "https://localhost:8080/",
          "height": 0
        },
        "id": "hr9p5FeV_ho1",
        "outputId": "3a4e136b-922f-4996-d0a8-2ef9f1e5f614"
      },
      "id": "hr9p5FeV_ho1",
      "execution_count": 219,
      "outputs": [
        {
          "output_type": "execute_result",
          "data": {
            "text/plain": [
              "<AxesSubplot:>"
            ]
          },
          "metadata": {},
          "execution_count": 219
        },
        {
          "output_type": "display_data",
          "data": {
            "text/plain": [
              "<Figure size 720x720 with 2 Axes>"
            ],
            "image/png": "[encoded data removed]"
          },
          "metadata": {}
        }
      ]
    },
    {
      "cell_type": "markdown",
      "source": [
        "There is No Null Values."
      ],
      "metadata": {
        "id": "zom5qWgu_v6i"
      },
      "id": "zom5qWgu_v6i"
    },
    {
      "cell_type": "markdown",
      "id": "f0fb6865",
      "metadata": {
        "id": "f0fb6865"
      },
      "source": [
        "<a id='3'></a>\n",
        "### [__4- Storing Data:__](#8)"
      ]
    },
    {
      "cell_type": "markdown",
      "source": [
        "__Data After Cleaning:__"
      ],
      "metadata": {
        "id": "MX8n-OHfC1jy"
      },
      "id": "MX8n-OHfC1jy"
    },
    {
      "cell_type": "code",
      "execution_count": 220,
      "id": "81345cac",
      "metadata": {
        "scrolled": true,
        "colab": {
          "base_uri": "https://localhost:8080/",
          "height": 1000
        },
        "id": "81345cac",
        "outputId": "e420393c-2c6d-498b-f320-3618a6ecb499"
      },
      "outputs": [
        {
          "output_type": "execute_result",
          "data": {
            "text/plain": [
              "      course_id                                       course_title  \\\n",
              "0       1070968                 Ultimate Investment Banking Course   \n",
              "1       1113822  Complete GST Course & Certification - Grow You...   \n",
              "2       1006314  Financial Modeling for Business Analysts and C...   \n",
              "3       1210588  Beginner to Pro - Financial Analysis in Excel ...   \n",
              "4       1011058       How To Maximize Your Profits Trading Options   \n",
              "...         ...                                                ...   \n",
              "3673     775618  Learn jQuery from Scratch - Master of JavaScri...   \n",
              "3674    1088178  How To Design A WordPress Website With No Codi...   \n",
              "3675     635248                      Learn and Build using Polymer   \n",
              "3676     905096  CSS Animations: Create Amazing Effects on Your...   \n",
              "3677     297602  Using MODX CMS to Build Websites: A Beginner's...   \n",
              "\n",
              "                                                    url  is_paid  price  \\\n",
              "0     https://www.udemy.com/ultimate-investment-bank...     True    200   \n",
              "1         https://www.udemy.com/goods-and-services-tax/     True     75   \n",
              "2     https://www.udemy.com/financial-modeling-for-b...     True     45   \n",
              "3     https://www.udemy.com/complete-excel-finance-c...     True     95   \n",
              "4     https://www.udemy.com/how-to-maximize-your-pro...     True    200   \n",
              "...                                                 ...      ...    ...   \n",
              "3673  https://www.udemy.com/easy-jquery-for-beginner...     True    100   \n",
              "3674  https://www.udemy.com/how-to-make-a-wordpress-...     True     25   \n",
              "3675  https://www.udemy.com/learn-and-build-using-po...     True     40   \n",
              "3676  https://www.udemy.com/css-animations-create-am...     True     50   \n",
              "3677  https://www.udemy.com/using-modx-cms-to-build-...     True     45   \n",
              "\n",
              "      num_subscribers  num_reviews  num_lectures               level  \\\n",
              "0                2147           23            51          All Levels   \n",
              "1                2792          923           274          All Levels   \n",
              "2                2174           74            51  Intermediate Level   \n",
              "3                2451           11            36          All Levels   \n",
              "4                1276           45            26  Intermediate Level   \n",
              "...               ...          ...           ...                 ...   \n",
              "3673             1040           14            21          All Levels   \n",
              "3674              306            3            42      Beginner Level   \n",
              "3675              513          169            48          All Levels   \n",
              "3676              300           31            38          All Levels   \n",
              "3677              901           36            20      Beginner Level   \n",
              "\n",
              "      content_duration published_timestamp           subject  \n",
              "0                  1.5          2017-01-18  Business Finance  \n",
              "1                 39.0          2017-03-09  Business Finance  \n",
              "2                  2.5          2016-12-19  Business Finance  \n",
              "3                  3.0          2017-05-30  Business Finance  \n",
              "4                  2.0          2016-12-13  Business Finance  \n",
              "...                ...                 ...               ...  \n",
              "3673               2.0          2016-06-14   Web Development  \n",
              "3674               3.5          2017-03-10   Web Development  \n",
              "3675               3.5          2015-12-30   Web Development  \n",
              "3676               3.0          2016-08-11   Web Development  \n",
              "3677               2.0          2014-09-28   Web Development  \n",
              "\n",
              "[3672 rows x 12 columns]"
            ],
            "text/html": [
              "\n",
              "  <div id=\"df-30558b38-36fc-4d15-8a68-8933b7cadec6\">\n",
              "    <div class=\"colab-df-container\">\n",
              "      <div>\n",
              "<style scoped>\n",
              "    .dataframe tbody tr th:only-of-type {\n",
              "        vertical-align: middle;\n",
              "    }\n",
              "\n",
              "    .dataframe tbody tr th {\n",
              "        vertical-align: top;\n",
              "    }\n",
              "\n",
              "    .dataframe thead th {\n",
              "        text-align: right;\n",
              "    }\n",
              "</style>\n",
              "<table border=\"1\" class=\"dataframe\">\n",
              "  <thead>\n",
              "    <tr style=\"text-align: right;\">\n",
              "      <th></th>\n",
              "      <th>course_id</th>\n",
              "      <th>course_title</th>\n",
              "      <th>url</th>\n",
              "      <th>is_paid</th>\n",
              "      <th>price</th>\n",
              "      <th>num_subscribers</th>\n",
              "      <th>num_reviews</th>\n",
              "      <th>num_lectures</th>\n",
              "      <th>level</th>\n",
              "      <th>content_duration</th>\n",
              "      <th>published_timestamp</th>\n",
              "      <th>subject</th>\n",
              "    </tr>\n",
              "  </thead>\n",
              "  <tbody>\n",
              "    <tr>\n",
              "      <th>0</th>\n",
              "      <td>1070968</td>\n",
              "      <td>Ultimate Investment Banking Course</td>\n",
              "      <td>https://www.udemy.com/ultimate-investment-bank...</td>\n",
              "      <td>True</td>\n",
              "      <td>200</td>\n",
              "      <td>2147</td>\n",
              "      <td>23</td>\n",
              "      <td>51</td>\n",
              "      <td>All Levels</td>\n",
              "      <td>1.5</td>\n",
              "      <td>2017-01-18</td>\n",
              "      <td>Business Finance</td>\n",
              "    </tr>\n",
              "    <tr>\n",
              "      <th>1</th>\n",
              "      <td>1113822</td>\n",
              "      <td>Complete GST Course &amp; Certification - Grow You...</td>\n",
              "      <td>https://www.udemy.com/goods-and-services-tax/</td>\n",
              "      <td>True</td>\n",
              "      <td>75</td>\n",
              "      <td>2792</td>\n",
              "      <td>923</td>\n",
              "      <td>274</td>\n",
              "      <td>All Levels</td>\n",
              "      <td>39.0</td>\n",
              "      <td>2017-03-09</td>\n",
              "      <td>Business Finance</td>\n",
              "    </tr>\n",
              "    <tr>\n",
              "      <th>2</th>\n",
              "      <td>1006314</td>\n",
              "      <td>Financial Modeling for Business Analysts and C...</td>\n",
              "      <td>https://www.udemy.com/financial-modeling-for-b...</td>\n",
              "      <td>True</td>\n",
              "      <td>45</td>\n",
              "      <td>2174</td>\n",
              "      <td>74</td>\n",
              "      <td>51</td>\n",
              "      <td>Intermediate Level</td>\n",
              "      <td>2.5</td>\n",
              "      <td>2016-12-19</td>\n",
              "      <td>Business Finance</td>\n",
              "    </tr>\n",
              "    <tr>\n",
              "      <th>3</th>\n",
              "      <td>1210588</td>\n",
              "      <td>Beginner to Pro - Financial Analysis in Excel ...</td>\n",
              "      <td>https://www.udemy.com/complete-excel-finance-c...</td>\n",
              "      <td>True</td>\n",
              "      <td>95</td>\n",
              "      <td>2451</td>\n",
              "      <td>11</td>\n",
              "      <td>36</td>\n",
              "      <td>All Levels</td>\n",
              "      <td>3.0</td>\n",
              "      <td>2017-05-30</td>\n",
              "      <td>Business Finance</td>\n",
              "    </tr>\n",
              "    <tr>\n",
              "      <th>4</th>\n",
              "      <td>1011058</td>\n",
              "      <td>How To Maximize Your Profits Trading Options</td>\n",
              "      <td>https://www.udemy.com/how-to-maximize-your-pro...</td>\n",
              "      <td>True</td>\n",
              "      <td>200</td>\n",
              "      <td>1276</td>\n",
              "      <td>45</td>\n",
              "      <td>26</td>\n",
              "      <td>Intermediate Level</td>\n",
              "      <td>2.0</td>\n",
              "      <td>2016-12-13</td>\n",
              "      <td>Business Finance</td>\n",
              "    </tr>\n",
              "    <tr>\n",
              "      <th>...</th>\n",
              "      <td>...</td>\n",
              "      <td>...</td>\n",
              "      <td>...</td>\n",
              "      <td>...</td>\n",
              "      <td>...</td>\n",
              "      <td>...</td>\n",
              "      <td>...</td>\n",
              "      <td>...</td>\n",
              "      <td>...</td>\n",
              "      <td>...</td>\n",
              "      <td>...</td>\n",
              "      <td>...</td>\n",
              "    </tr>\n",
              "    <tr>\n",
              "      <th>3673</th>\n",
              "      <td>775618</td>\n",
              "      <td>Learn jQuery from Scratch - Master of JavaScri...</td>\n",
              "      <td>https://www.udemy.com/easy-jquery-for-beginner...</td>\n",
              "      <td>True</td>\n",
              "      <td>100</td>\n",
              "      <td>1040</td>\n",
              "      <td>14</td>\n",
              "      <td>21</td>\n",
              "      <td>All Levels</td>\n",
              "      <td>2.0</td>\n",
              "      <td>2016-06-14</td>\n",
              "      <td>Web Development</td>\n",
              "    </tr>\n",
              "    <tr>\n",
              "      <th>3674</th>\n",
              "      <td>1088178</td>\n",
              "      <td>How To Design A WordPress Website With No Codi...</td>\n",
              "      <td>https://www.udemy.com/how-to-make-a-wordpress-...</td>\n",
              "      <td>True</td>\n",
              "      <td>25</td>\n",
              "      <td>306</td>\n",
              "      <td>3</td>\n",
              "      <td>42</td>\n",
              "      <td>Beginner Level</td>\n",
              "      <td>3.5</td>\n",
              "      <td>2017-03-10</td>\n",
              "      <td>Web Development</td>\n",
              "    </tr>\n",
              "    <tr>\n",
              "      <th>3675</th>\n",
              "      <td>635248</td>\n",
              "      <td>Learn and Build using Polymer</td>\n",
              "      <td>https://www.udemy.com/learn-and-build-using-po...</td>\n",
              "      <td>True</td>\n",
              "      <td>40</td>\n",
              "      <td>513</td>\n",
              "      <td>169</td>\n",
              "      <td>48</td>\n",
              "      <td>All Levels</td>\n",
              "      <td>3.5</td>\n",
              "      <td>2015-12-30</td>\n",
              "      <td>Web Development</td>\n",
              "    </tr>\n",
              "    <tr>\n",
              "      <th>3676</th>\n",
              "      <td>905096</td>\n",
              "      <td>CSS Animations: Create Amazing Effects on Your...</td>\n",
              "      <td>https://www.udemy.com/css-animations-create-am...</td>\n",
              "      <td>True</td>\n",
              "      <td>50</td>\n",
              "      <td>300</td>\n",
              "      <td>31</td>\n",
              "      <td>38</td>\n",
              "      <td>All Levels</td>\n",
              "      <td>3.0</td>\n",
              "      <td>2016-08-11</td>\n",
              "      <td>Web Development</td>\n",
              "    </tr>\n",
              "    <tr>\n",
              "      <th>3677</th>\n",
              "      <td>297602</td>\n",
              "      <td>Using MODX CMS to Build Websites: A Beginner's...</td>\n",
              "      <td>https://www.udemy.com/using-modx-cms-to-build-...</td>\n",
              "      <td>True</td>\n",
              "      <td>45</td>\n",
              "      <td>901</td>\n",
              "      <td>36</td>\n",
              "      <td>20</td>\n",
              "      <td>Beginner Level</td>\n",
              "      <td>2.0</td>\n",
              "      <td>2014-09-28</td>\n",
              "      <td>Web Development</td>\n",
              "    </tr>\n",
              "  </tbody>\n",
              "</table>\n",
              "<p>3672 rows × 12 columns</p>\n",
              "</div>\n",
              "      <button class=\"colab-df-convert\" onclick=\"convertToInteractive('df-30558b38-36fc-4d15-8a68-8933b7cadec6')\"\n",
              "              title=\"Convert this dataframe to an interactive table.\"\n",
              "              style=\"display:none;\">\n",
              "        \n",
              "  <svg xmlns=\"http://www.w3.org/2000/svg\" height=\"24px\"viewBox=\"0 0 24 24\"\n",
              "       width=\"24px\">\n",
              "    <path d=\"M0 0h24v24H0V0z\" fill=\"none\"/>\n",
              "    <path d=\"M18.56 5.44l.94 2.06.94-2.06 2.06-.94-2.06-.94-.94-2.06-.94 2.06-2.06.94zm-11 1L8.5 8.5l.94-2.06 2.06-.94-2.06-.94L8.5 2.5l-.94 2.06-2.06.94zm10 10l.94 2.06.94-2.06 2.06-.94-2.06-.94-.94-2.06-.94 2.06-2.06.94z\"/><path d=\"M17.41 7.96l-1.37-1.37c-.4-.4-.92-.59-1.43-.59-.52 0-1.04.2-1.43.59L10.3 9.45l-7.72 7.72c-.78.78-.78 2.05 0 2.83L4 21.41c.39.39.9.59 1.41.59.51 0 1.02-.2 1.41-.59l7.78-7.78 2.81-2.81c.8-.78.8-2.07 0-2.86zM5.41 20L4 18.59l7.72-7.72 1.47 1.35L5.41 20z\"/>\n",
              "  </svg>\n",
              "      </button>\n",
              "      \n",
              "  <style>\n",
              "    .colab-df-container {\n",
              "      display:flex;\n",
              "      flex-wrap:wrap;\n",
              "      gap: 12px;\n",
              "    }\n",
              "\n",
              "    .colab-df-convert {\n",
              "      background-color: #E8F0FE;\n",
              "      border: none;\n",
              "      border-radius: 50%;\n",
              "      cursor: pointer;\n",
              "      display: none;\n",
              "      fill: #1967D2;\n",
              "      height: 32px;\n",
              "      padding: 0 0 0 0;\n",
              "      width: 32px;\n",
              "    }\n",
              "\n",
              "    .colab-df-convert:hover {\n",
              "      background-color: #E2EBFA;\n",
              "      box-shadow: 0px 1px 2px rgba(60, 64, 67, 0.3), 0px 1px 3px 1px rgba(60, 64, 67, 0.15);\n",
              "      fill: #174EA6;\n",
              "    }\n",
              "\n",
              "    [theme=dark] .colab-df-convert {\n",
              "      background-color: #3B4455;\n",
              "      fill: #D2E3FC;\n",
              "    }\n",
              "\n",
              "    [theme=dark] .colab-df-convert:hover {\n",
              "      background-color: #434B5C;\n",
              "      box-shadow: 0px 1px 3px 1px rgba(0, 0, 0, 0.15);\n",
              "      filter: drop-shadow(0px 1px 2px rgba(0, 0, 0, 0.3));\n",
              "      fill: #FFFFFF;\n",
              "    }\n",
              "  </style>\n",
              "\n",
              "      <script>\n",
              "        const buttonEl =\n",
              "          document.querySelector('#df-30558b38-36fc-4d15-8a68-8933b7cadec6 button.colab-df-convert');\n",
              "        buttonEl.style.display =\n",
              "          google.colab.kernel.accessAllowed ? 'block' : 'none';\n",
              "\n",
              "        async function convertToInteractive(key) {\n",
              "          const element = document.querySelector('#df-30558b38-36fc-4d15-8a68-8933b7cadec6');\n",
              "          const dataTable =\n",
              "            await google.colab.kernel.invokeFunction('convertToInteractive',\n",
              "                                                     [key], {});\n",
              "          if (!dataTable) return;\n",
              "\n",
              "          const docLinkHtml = 'Like what you see? Visit the ' +\n",
              "            '<a target=\"_blank\" href=https://colab.research.google.com/notebooks/data_table.ipynb>data table notebook</a>'\n",
              "            + ' to learn more about interactive tables.';\n",
              "          element.innerHTML = '';\n",
              "          dataTable['output_type'] = 'display_data';\n",
              "          await google.colab.output.renderOutput(dataTable, element);\n",
              "          const docLink = document.createElement('div');\n",
              "          docLink.innerHTML = docLinkHtml;\n",
              "          element.appendChild(docLink);\n",
              "        }\n",
              "      </script>\n",
              "    </div>\n",
              "  </div>\n",
              "  "
            ]
          },
          "metadata": {},
          "execution_count": 220
        }
      ],
      "source": [
        "df"
      ]
    },
    {
      "cell_type": "code",
      "execution_count": 221,
      "id": "35450723",
      "metadata": {
        "scrolled": true,
        "colab": {
          "base_uri": "https://localhost:8080/",
          "height": 725
        },
        "id": "35450723",
        "outputId": "417dd786-c1f7-4488-8de5-8e7826086f63"
      },
      "outputs": [
        {
          "output_type": "execute_result",
          "data": {
            "text/plain": [
              "<AxesSubplot:>"
            ]
          },
          "metadata": {},
          "execution_count": 221
        },
        {
          "output_type": "display_data",
          "data": {
            "text/plain": [
              "<Figure size 1080x720 with 2 Axes>"
            ],
            "image/png": "[encoded data removed]"
          },
          "metadata": {}
        }
      ],
      "source": [
        "plt.figure(figsize=(15,10))\n",
        "sns.heatmap(df.isna())"
      ]
    },
    {
      "cell_type": "markdown",
      "id": "b222e27a",
      "metadata": {
        "id": "b222e27a"
      },
      "source": [
        "__Saving The New File:__"
      ]
    },
    {
      "cell_type": "code",
      "execution_count": 223,
      "id": "11dd61ba",
      "metadata": {
        "id": "11dd61ba"
      },
      "outputs": [],
      "source": [
        "df.to_csv('/udemy_courses-raw_cleaned.csv')"
      ]
    },
    {
      "cell_type": "markdown",
      "id": "00684d74",
      "metadata": {
        "id": "00684d74"
      },
      "source": [
        "# __...........................................................تمت بحمد الله...........................................................__"
      ]
    }
  ],
  "metadata": {
    "kernelspec": {
      "display_name": "Python 3",
      "language": "python",
      "name": "python3"
    },
    "language_info": {
      "codemirror_mode": {
        "name": "ipython",
        "version": 3
      },
      "file_extension": ".py",
      "mimetype": "text/x-python",
      "name": "python",
      "nbconvert_exporter": "python",
      "pygments_lexer": "ipython3",
      "version": "3.8.8"
    },
    "colab": {
      "provenance": [],
      "collapsed_sections": [
        "oqFiyK-oGeQr",
        "ddw3x5dZH0hH",
        "9f67893c",
        "f272b3b9",
        "UMWJKPKxOEiB",
        "7d077c1a",
        "bb0f3e28",
        "nFGgOfI1t0CJ",
        "febb05e3",
        "ebe67a26",
        "8e24456c",
        "bXA82r_p5IdV",
        "riNvrtFy5IdX",
        "kqZNYElA5IdX",
        "F_zmWNpP5IdY",
        "jyeHwoNy5SEn",
        "ad0bdae5",
        "7ad274a6",
        "f0fb6865"
      ]
    }
  },
  "nbformat": 4,
  "nbformat_minor": 5
}