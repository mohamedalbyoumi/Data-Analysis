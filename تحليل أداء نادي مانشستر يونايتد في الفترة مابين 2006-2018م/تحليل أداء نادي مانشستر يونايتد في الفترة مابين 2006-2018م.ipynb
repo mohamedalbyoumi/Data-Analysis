{
 "cells": [
  {
   "cell_type": "markdown",
   "id": "a25862de",
   "metadata": {},
   "source": [
    "# ...................................................بسم الله الرحمن الرحيم.................................................."
   ]
  },
  {
   "cell_type": "markdown",
   "id": "7d077c1a",
   "metadata": {},
   "source": [
    "# 1- Data Cleaning:"
   ]
  },
  {
   "cell_type": "markdown",
   "id": "54edd8f3",
   "metadata": {
    "id": "54edd8f3"
   },
   "source": [
    "__Importing Librarys:__"
   ]
  },
  {
   "cell_type": "code",
   "execution_count": 1,
   "id": "4a7305de",
   "metadata": {
    "executionInfo": {
     "elapsed": 9,
     "status": "ok",
     "timestamp": 1643233242005,
     "user": {
      "displayName": "Ahmed Saad",
      "photoUrl": "https://lh3.googleusercontent.com/a-/AOh14GhnSLjen-GggduTlrZ3FPzYLZz62F9M5UOCy2Vl=s64",
      "userId": "07813394667672817104"
     },
     "user_tz": -120
    },
    "id": "4a7305de"
   },
   "outputs": [],
   "source": [
    "import numpy as np\n",
    "import pandas as pd\n",
    "import matplotlib.pyplot as plt\n",
    "import seaborn as sns \n",
    "import plotly.express as px\n",
    "\n",
    "\n",
    "%matplotlib inline\n",
    "sns.set()"
   ]
  },
  {
   "cell_type": "markdown",
   "id": "9e2763f7",
   "metadata": {
    "id": "9e2763f7"
   },
   "source": [
    "__Importing Data:__"
   ]
  },
  {
   "cell_type": "code",
   "execution_count": 3,
   "id": "d3f1f625",
   "metadata": {
    "executionInfo": {
     "elapsed": 5496,
     "status": "ok",
     "timestamp": 1643233247493,
     "user": {
      "displayName": "Ahmed Saad",
      "photoUrl": "https://lh3.googleusercontent.com/a-/AOh14GhnSLjen-GggduTlrZ3FPzYLZz62F9M5UOCy2Vl=s64",
      "userId": "07813394667672817104"
     },
     "user_tz": -120
    },
    "id": "d3f1f625"
   },
   "outputs": [],
   "source": [
    "match = pd.read_csv('data/datasets/results.csv')"
   ]
  },
  {
   "cell_type": "code",
   "execution_count": 4,
   "id": "cf805009",
   "metadata": {
    "executionInfo": {
     "elapsed": 5496,
     "status": "ok",
     "timestamp": 1643233247493,
     "user": {
      "displayName": "Ahmed Saad",
      "photoUrl": "https://lh3.googleusercontent.com/a-/AOh14GhnSLjen-GggduTlrZ3FPzYLZz62F9M5UOCy2Vl=s64",
      "userId": "07813394667672817104"
     },
     "user_tz": -120
    },
    "id": "d3f1f625"
   },
   "outputs": [],
   "source": [
    "stats = pd.read_csv('data/datasets/stats.csv')"
   ]
  },
  {
   "cell_type": "markdown",
   "id": "bb0f3e28",
   "metadata": {
    "id": "bb0f3e28"
   },
   "source": [
    "__Exploring Data:__"
   ]
  },
  {
   "cell_type": "markdown",
   "id": "3f7e1023",
   "metadata": {},
   "source": [
    "__Matches Dataset:__"
   ]
  },
  {
   "cell_type": "code",
   "execution_count": 5,
   "id": "c24fb94d",
   "metadata": {
    "colab": {
     "base_uri": "https://localhost:8080/",
     "height": 635
    },
    "executionInfo": {
     "elapsed": 22,
     "status": "ok",
     "timestamp": 1643233247495,
     "user": {
      "displayName": "Ahmed Saad",
      "photoUrl": "https://lh3.googleusercontent.com/a-/AOh14GhnSLjen-GggduTlrZ3FPzYLZz62F9M5UOCy2Vl=s64",
      "userId": "07813394667672817104"
     },
     "user_tz": -120
    },
    "id": "c24fb94d",
    "outputId": "ce8233f7-8883-4357-ffa9-b7e59e1fb0a6"
   },
   "outputs": [
    {
     "data": {
      "text/html": [
       "<div>\n",
       "<style scoped>\n",
       "    .dataframe tbody tr th:only-of-type {\n",
       "        vertical-align: middle;\n",
       "    }\n",
       "\n",
       "    .dataframe tbody tr th {\n",
       "        vertical-align: top;\n",
       "    }\n",
       "\n",
       "    .dataframe thead th {\n",
       "        text-align: right;\n",
       "    }\n",
       "</style>\n",
       "<table border=\"1\" class=\"dataframe\">\n",
       "  <thead>\n",
       "    <tr style=\"text-align: right;\">\n",
       "      <th></th>\n",
       "      <th>home_team</th>\n",
       "      <th>away_team</th>\n",
       "      <th>home_goals</th>\n",
       "      <th>away_goals</th>\n",
       "      <th>result</th>\n",
       "      <th>season</th>\n",
       "    </tr>\n",
       "  </thead>\n",
       "  <tbody>\n",
       "    <tr>\n",
       "      <th>0</th>\n",
       "      <td>Sheffield United</td>\n",
       "      <td>Liverpool</td>\n",
       "      <td>1.0</td>\n",
       "      <td>1.0</td>\n",
       "      <td>D</td>\n",
       "      <td>2006-2007</td>\n",
       "    </tr>\n",
       "    <tr>\n",
       "      <th>1</th>\n",
       "      <td>Arsenal</td>\n",
       "      <td>Aston Villa</td>\n",
       "      <td>1.0</td>\n",
       "      <td>1.0</td>\n",
       "      <td>D</td>\n",
       "      <td>2006-2007</td>\n",
       "    </tr>\n",
       "    <tr>\n",
       "      <th>2</th>\n",
       "      <td>Everton</td>\n",
       "      <td>Watford</td>\n",
       "      <td>2.0</td>\n",
       "      <td>1.0</td>\n",
       "      <td>H</td>\n",
       "      <td>2006-2007</td>\n",
       "    </tr>\n",
       "    <tr>\n",
       "      <th>3</th>\n",
       "      <td>Newcastle United</td>\n",
       "      <td>Wigan Athletic</td>\n",
       "      <td>2.0</td>\n",
       "      <td>1.0</td>\n",
       "      <td>H</td>\n",
       "      <td>2006-2007</td>\n",
       "    </tr>\n",
       "    <tr>\n",
       "      <th>4</th>\n",
       "      <td>Portsmouth</td>\n",
       "      <td>Blackburn Rovers</td>\n",
       "      <td>3.0</td>\n",
       "      <td>0.0</td>\n",
       "      <td>H</td>\n",
       "      <td>2006-2007</td>\n",
       "    </tr>\n",
       "  </tbody>\n",
       "</table>\n",
       "</div>"
      ],
      "text/plain": [
       "          home_team         away_team  home_goals  away_goals result  \\\n",
       "0  Sheffield United         Liverpool         1.0         1.0      D   \n",
       "1           Arsenal       Aston Villa         1.0         1.0      D   \n",
       "2           Everton           Watford         2.0         1.0      H   \n",
       "3  Newcastle United    Wigan Athletic         2.0         1.0      H   \n",
       "4        Portsmouth  Blackburn Rovers         3.0         0.0      H   \n",
       "\n",
       "      season  \n",
       "0  2006-2007  \n",
       "1  2006-2007  \n",
       "2  2006-2007  \n",
       "3  2006-2007  \n",
       "4  2006-2007  "
      ]
     },
     "execution_count": 5,
     "metadata": {},
     "output_type": "execute_result"
    }
   ],
   "source": [
    "match.head()"
   ]
  },
  {
   "cell_type": "code",
   "execution_count": 6,
   "id": "42d1965a",
   "metadata": {
    "colab": {
     "base_uri": "https://localhost:8080/",
     "height": 635
    },
    "executionInfo": {
     "elapsed": 16,
     "status": "ok",
     "timestamp": 1643233247496,
     "user": {
      "displayName": "Ahmed Saad",
      "photoUrl": "https://lh3.googleusercontent.com/a-/AOh14GhnSLjen-GggduTlrZ3FPzYLZz62F9M5UOCy2Vl=s64",
      "userId": "07813394667672817104"
     },
     "user_tz": -120
    },
    "id": "42d1965a",
    "outputId": "f6daa2e4-ee1c-4639-df9b-558591976051",
    "scrolled": true
   },
   "outputs": [
    {
     "data": {
      "text/html": [
       "<div>\n",
       "<style scoped>\n",
       "    .dataframe tbody tr th:only-of-type {\n",
       "        vertical-align: middle;\n",
       "    }\n",
       "\n",
       "    .dataframe tbody tr th {\n",
       "        vertical-align: top;\n",
       "    }\n",
       "\n",
       "    .dataframe thead th {\n",
       "        text-align: right;\n",
       "    }\n",
       "</style>\n",
       "<table border=\"1\" class=\"dataframe\">\n",
       "  <thead>\n",
       "    <tr style=\"text-align: right;\">\n",
       "      <th></th>\n",
       "      <th>home_team</th>\n",
       "      <th>away_team</th>\n",
       "      <th>home_goals</th>\n",
       "      <th>away_goals</th>\n",
       "      <th>result</th>\n",
       "      <th>season</th>\n",
       "    </tr>\n",
       "  </thead>\n",
       "  <tbody>\n",
       "    <tr>\n",
       "      <th>4555</th>\n",
       "      <td>Newcastle United</td>\n",
       "      <td>Chelsea</td>\n",
       "      <td>3.0</td>\n",
       "      <td>0.0</td>\n",
       "      <td>H</td>\n",
       "      <td>2017-2018</td>\n",
       "    </tr>\n",
       "    <tr>\n",
       "      <th>4556</th>\n",
       "      <td>Southampton</td>\n",
       "      <td>Manchester City</td>\n",
       "      <td>0.0</td>\n",
       "      <td>1.0</td>\n",
       "      <td>A</td>\n",
       "      <td>2017-2018</td>\n",
       "    </tr>\n",
       "    <tr>\n",
       "      <th>4557</th>\n",
       "      <td>Swansea City</td>\n",
       "      <td>Stoke City</td>\n",
       "      <td>1.0</td>\n",
       "      <td>2.0</td>\n",
       "      <td>A</td>\n",
       "      <td>2017-2018</td>\n",
       "    </tr>\n",
       "    <tr>\n",
       "      <th>4558</th>\n",
       "      <td>Tottenham Hotspur</td>\n",
       "      <td>Leicester City</td>\n",
       "      <td>5.0</td>\n",
       "      <td>4.0</td>\n",
       "      <td>H</td>\n",
       "      <td>2017-2018</td>\n",
       "    </tr>\n",
       "    <tr>\n",
       "      <th>4559</th>\n",
       "      <td>West Ham United</td>\n",
       "      <td>Everton</td>\n",
       "      <td>3.0</td>\n",
       "      <td>1.0</td>\n",
       "      <td>H</td>\n",
       "      <td>2017-2018</td>\n",
       "    </tr>\n",
       "  </tbody>\n",
       "</table>\n",
       "</div>"
      ],
      "text/plain": [
       "              home_team        away_team  home_goals  away_goals result  \\\n",
       "4555   Newcastle United          Chelsea         3.0         0.0      H   \n",
       "4556        Southampton  Manchester City         0.0         1.0      A   \n",
       "4557       Swansea City       Stoke City         1.0         2.0      A   \n",
       "4558  Tottenham Hotspur   Leicester City         5.0         4.0      H   \n",
       "4559    West Ham United          Everton         3.0         1.0      H   \n",
       "\n",
       "         season  \n",
       "4555  2017-2018  \n",
       "4556  2017-2018  \n",
       "4557  2017-2018  \n",
       "4558  2017-2018  \n",
       "4559  2017-2018  "
      ]
     },
     "execution_count": 6,
     "metadata": {},
     "output_type": "execute_result"
    }
   ],
   "source": [
    "match.tail()"
   ]
  },
  {
   "cell_type": "code",
   "execution_count": 7,
   "id": "f9e133f3",
   "metadata": {
    "colab": {
     "base_uri": "https://localhost:8080/"
    },
    "executionInfo": {
     "elapsed": 439,
     "status": "ok",
     "timestamp": 1643233248437,
     "user": {
      "displayName": "Ahmed Saad",
      "photoUrl": "https://lh3.googleusercontent.com/a-/AOh14GhnSLjen-GggduTlrZ3FPzYLZz62F9M5UOCy2Vl=s64",
      "userId": "07813394667672817104"
     },
     "user_tz": -120
    },
    "id": "f9e133f3",
    "outputId": "2ab18505-10f7-4090-c368-98e8e6280e7a",
    "scrolled": true
   },
   "outputs": [
    {
     "name": "stdout",
     "output_type": "stream",
     "text": [
      "<class 'pandas.core.frame.DataFrame'>\n",
      "RangeIndex: 4560 entries, 0 to 4559\n",
      "Data columns (total 6 columns):\n",
      " #   Column      Non-Null Count  Dtype  \n",
      "---  ------      --------------  -----  \n",
      " 0   home_team   4560 non-null   object \n",
      " 1   away_team   4560 non-null   object \n",
      " 2   home_goals  4560 non-null   float64\n",
      " 3   away_goals  4560 non-null   float64\n",
      " 4   result      4560 non-null   object \n",
      " 5   season      4560 non-null   object \n",
      "dtypes: float64(2), object(4)\n",
      "memory usage: 213.9+ KB\n"
     ]
    }
   ],
   "source": [
    "match.info()"
   ]
  },
  {
   "cell_type": "code",
   "execution_count": 8,
   "id": "23cd78c8",
   "metadata": {
    "colab": {
     "base_uri": "https://localhost:8080/",
     "height": 300
    },
    "executionInfo": {
     "elapsed": 456,
     "status": "ok",
     "timestamp": 1643233248888,
     "user": {
      "displayName": "Ahmed Saad",
      "photoUrl": "https://lh3.googleusercontent.com/a-/AOh14GhnSLjen-GggduTlrZ3FPzYLZz62F9M5UOCy2Vl=s64",
      "userId": "07813394667672817104"
     },
     "user_tz": -120
    },
    "id": "23cd78c8",
    "outputId": "6868d2ae-ad0b-4d47-d837-da6e28cd1daf"
   },
   "outputs": [
    {
     "data": {
      "text/html": [
       "<div>\n",
       "<style scoped>\n",
       "    .dataframe tbody tr th:only-of-type {\n",
       "        vertical-align: middle;\n",
       "    }\n",
       "\n",
       "    .dataframe tbody tr th {\n",
       "        vertical-align: top;\n",
       "    }\n",
       "\n",
       "    .dataframe thead th {\n",
       "        text-align: right;\n",
       "    }\n",
       "</style>\n",
       "<table border=\"1\" class=\"dataframe\">\n",
       "  <thead>\n",
       "    <tr style=\"text-align: right;\">\n",
       "      <th></th>\n",
       "      <th>home_goals</th>\n",
       "      <th>away_goals</th>\n",
       "    </tr>\n",
       "  </thead>\n",
       "  <tbody>\n",
       "    <tr>\n",
       "      <th>count</th>\n",
       "      <td>4560.000000</td>\n",
       "      <td>4560.000000</td>\n",
       "    </tr>\n",
       "    <tr>\n",
       "      <th>mean</th>\n",
       "      <td>1.543202</td>\n",
       "      <td>1.144298</td>\n",
       "    </tr>\n",
       "    <tr>\n",
       "      <th>std</th>\n",
       "      <td>1.315163</td>\n",
       "      <td>1.139824</td>\n",
       "    </tr>\n",
       "    <tr>\n",
       "      <th>min</th>\n",
       "      <td>0.000000</td>\n",
       "      <td>0.000000</td>\n",
       "    </tr>\n",
       "    <tr>\n",
       "      <th>25%</th>\n",
       "      <td>1.000000</td>\n",
       "      <td>0.000000</td>\n",
       "    </tr>\n",
       "    <tr>\n",
       "      <th>50%</th>\n",
       "      <td>1.000000</td>\n",
       "      <td>1.000000</td>\n",
       "    </tr>\n",
       "    <tr>\n",
       "      <th>75%</th>\n",
       "      <td>2.000000</td>\n",
       "      <td>2.000000</td>\n",
       "    </tr>\n",
       "    <tr>\n",
       "      <th>max</th>\n",
       "      <td>9.000000</td>\n",
       "      <td>7.000000</td>\n",
       "    </tr>\n",
       "  </tbody>\n",
       "</table>\n",
       "</div>"
      ],
      "text/plain": [
       "        home_goals   away_goals\n",
       "count  4560.000000  4560.000000\n",
       "mean      1.543202     1.144298\n",
       "std       1.315163     1.139824\n",
       "min       0.000000     0.000000\n",
       "25%       1.000000     0.000000\n",
       "50%       1.000000     1.000000\n",
       "75%       2.000000     2.000000\n",
       "max       9.000000     7.000000"
      ]
     },
     "execution_count": 8,
     "metadata": {},
     "output_type": "execute_result"
    }
   ],
   "source": [
    "match.describe()"
   ]
  },
  {
   "cell_type": "code",
   "execution_count": 9,
   "id": "f5d3a3f0",
   "metadata": {
    "colab": {
     "base_uri": "https://localhost:8080/"
    },
    "executionInfo": {
     "elapsed": 15,
     "status": "ok",
     "timestamp": 1643233248890,
     "user": {
      "displayName": "Ahmed Saad",
      "photoUrl": "https://lh3.googleusercontent.com/a-/AOh14GhnSLjen-GggduTlrZ3FPzYLZz62F9M5UOCy2Vl=s64",
      "userId": "07813394667672817104"
     },
     "user_tz": -120
    },
    "id": "f5d3a3f0",
    "outputId": "3b8e1b27-7071-4a37-d49a-84d8cb4578b1",
    "scrolled": false
   },
   "outputs": [
    {
     "data": {
      "text/plain": [
       "Index(['home_team', 'away_team', 'home_goals', 'away_goals', 'result',\n",
       "       'season'],\n",
       "      dtype='object')"
      ]
     },
     "execution_count": 9,
     "metadata": {},
     "output_type": "execute_result"
    }
   ],
   "source": [
    "match.columns"
   ]
  },
  {
   "cell_type": "code",
   "execution_count": 10,
   "id": "26c8ad22",
   "metadata": {
    "colab": {
     "base_uri": "https://localhost:8080/",
     "height": 714
    },
    "executionInfo": {
     "elapsed": 18628,
     "status": "ok",
     "timestamp": 1643233267507,
     "user": {
      "displayName": "Ahmed Saad",
      "photoUrl": "https://lh3.googleusercontent.com/a-/AOh14GhnSLjen-GggduTlrZ3FPzYLZz62F9M5UOCy2Vl=s64",
      "userId": "07813394667672817104"
     },
     "user_tz": -120
    },
    "id": "26c8ad22",
    "outputId": "fbb68b39-1a8c-499a-dc1f-c893b2412d27",
    "scrolled": true
   },
   "outputs": [
    {
     "data": {
      "text/plain": [
       "<AxesSubplot:>"
      ]
     },
     "execution_count": 10,
     "metadata": {},
     "output_type": "execute_result"
    },
    {
     "data": {
      "image/png": "[encoded data removed]",
      "text/plain": [
       "<Figure size 720x720 with 2 Axes>"
      ]
     },
     "metadata": {},
     "output_type": "display_data"
    }
   ],
   "source": [
    "plt.figure(figsize=(10,10))\n",
    "sns.heatmap(match.isna())"
   ]
  },
  {
   "cell_type": "markdown",
   "id": "93efa1f3",
   "metadata": {},
   "source": [
    "__Stats Dataset:__"
   ]
  },
  {
   "cell_type": "code",
   "execution_count": 11,
   "id": "6e74cacf",
   "metadata": {
    "colab": {
     "base_uri": "https://localhost:8080/",
     "height": 635
    },
    "executionInfo": {
     "elapsed": 22,
     "status": "ok",
     "timestamp": 1643233247495,
     "user": {
      "displayName": "Ahmed Saad",
      "photoUrl": "https://lh3.googleusercontent.com/a-/AOh14GhnSLjen-GggduTlrZ3FPzYLZz62F9M5UOCy2Vl=s64",
      "userId": "07813394667672817104"
     },
     "user_tz": -120
    },
    "id": "c24fb94d",
    "outputId": "ce8233f7-8883-4357-ffa9-b7e59e1fb0a6"
   },
   "outputs": [
    {
     "data": {
      "text/html": [
       "<div>\n",
       "<style scoped>\n",
       "    .dataframe tbody tr th:only-of-type {\n",
       "        vertical-align: middle;\n",
       "    }\n",
       "\n",
       "    .dataframe tbody tr th {\n",
       "        vertical-align: top;\n",
       "    }\n",
       "\n",
       "    .dataframe thead th {\n",
       "        text-align: right;\n",
       "    }\n",
       "</style>\n",
       "<table border=\"1\" class=\"dataframe\">\n",
       "  <thead>\n",
       "    <tr style=\"text-align: right;\">\n",
       "      <th></th>\n",
       "      <th>team</th>\n",
       "      <th>wins</th>\n",
       "      <th>losses</th>\n",
       "      <th>goals</th>\n",
       "      <th>total_yel_card</th>\n",
       "      <th>total_red_card</th>\n",
       "      <th>total_scoring_att</th>\n",
       "      <th>ontarget_scoring_att</th>\n",
       "      <th>hit_woodwork</th>\n",
       "      <th>att_hd_goal</th>\n",
       "      <th>...</th>\n",
       "      <th>total_cross</th>\n",
       "      <th>corner_taken</th>\n",
       "      <th>touches</th>\n",
       "      <th>big_chance_missed</th>\n",
       "      <th>clearance_off_line</th>\n",
       "      <th>dispossessed</th>\n",
       "      <th>penalty_save</th>\n",
       "      <th>total_high_claim</th>\n",
       "      <th>punches</th>\n",
       "      <th>season</th>\n",
       "    </tr>\n",
       "  </thead>\n",
       "  <tbody>\n",
       "    <tr>\n",
       "      <th>0</th>\n",
       "      <td>Manchester United</td>\n",
       "      <td>28.0</td>\n",
       "      <td>5.0</td>\n",
       "      <td>83.0</td>\n",
       "      <td>60.0</td>\n",
       "      <td>1.0</td>\n",
       "      <td>698.0</td>\n",
       "      <td>256.0</td>\n",
       "      <td>21.0</td>\n",
       "      <td>12.0</td>\n",
       "      <td>...</td>\n",
       "      <td>918.0</td>\n",
       "      <td>258.0</td>\n",
       "      <td>25686.0</td>\n",
       "      <td>NaN</td>\n",
       "      <td>1.0</td>\n",
       "      <td>NaN</td>\n",
       "      <td>2.0</td>\n",
       "      <td>37.0</td>\n",
       "      <td>25.0</td>\n",
       "      <td>2006-2007</td>\n",
       "    </tr>\n",
       "    <tr>\n",
       "      <th>1</th>\n",
       "      <td>Chelsea</td>\n",
       "      <td>24.0</td>\n",
       "      <td>3.0</td>\n",
       "      <td>64.0</td>\n",
       "      <td>62.0</td>\n",
       "      <td>4.0</td>\n",
       "      <td>636.0</td>\n",
       "      <td>216.0</td>\n",
       "      <td>14.0</td>\n",
       "      <td>16.0</td>\n",
       "      <td>...</td>\n",
       "      <td>897.0</td>\n",
       "      <td>231.0</td>\n",
       "      <td>24010.0</td>\n",
       "      <td>NaN</td>\n",
       "      <td>2.0</td>\n",
       "      <td>NaN</td>\n",
       "      <td>1.0</td>\n",
       "      <td>74.0</td>\n",
       "      <td>22.0</td>\n",
       "      <td>2006-2007</td>\n",
       "    </tr>\n",
       "    <tr>\n",
       "      <th>2</th>\n",
       "      <td>Liverpool</td>\n",
       "      <td>20.0</td>\n",
       "      <td>10.0</td>\n",
       "      <td>57.0</td>\n",
       "      <td>44.0</td>\n",
       "      <td>0.0</td>\n",
       "      <td>668.0</td>\n",
       "      <td>214.0</td>\n",
       "      <td>15.0</td>\n",
       "      <td>8.0</td>\n",
       "      <td>...</td>\n",
       "      <td>1107.0</td>\n",
       "      <td>282.0</td>\n",
       "      <td>24150.0</td>\n",
       "      <td>NaN</td>\n",
       "      <td>1.0</td>\n",
       "      <td>NaN</td>\n",
       "      <td>0.0</td>\n",
       "      <td>51.0</td>\n",
       "      <td>27.0</td>\n",
       "      <td>2006-2007</td>\n",
       "    </tr>\n",
       "    <tr>\n",
       "      <th>3</th>\n",
       "      <td>Arsenal</td>\n",
       "      <td>19.0</td>\n",
       "      <td>8.0</td>\n",
       "      <td>63.0</td>\n",
       "      <td>59.0</td>\n",
       "      <td>3.0</td>\n",
       "      <td>638.0</td>\n",
       "      <td>226.0</td>\n",
       "      <td>19.0</td>\n",
       "      <td>10.0</td>\n",
       "      <td>...</td>\n",
       "      <td>873.0</td>\n",
       "      <td>278.0</td>\n",
       "      <td>25592.0</td>\n",
       "      <td>NaN</td>\n",
       "      <td>1.0</td>\n",
       "      <td>NaN</td>\n",
       "      <td>0.0</td>\n",
       "      <td>88.0</td>\n",
       "      <td>27.0</td>\n",
       "      <td>2006-2007</td>\n",
       "    </tr>\n",
       "    <tr>\n",
       "      <th>4</th>\n",
       "      <td>Tottenham Hotspur</td>\n",
       "      <td>17.0</td>\n",
       "      <td>12.0</td>\n",
       "      <td>57.0</td>\n",
       "      <td>48.0</td>\n",
       "      <td>3.0</td>\n",
       "      <td>520.0</td>\n",
       "      <td>184.0</td>\n",
       "      <td>6.0</td>\n",
       "      <td>5.0</td>\n",
       "      <td>...</td>\n",
       "      <td>796.0</td>\n",
       "      <td>181.0</td>\n",
       "      <td>22200.0</td>\n",
       "      <td>NaN</td>\n",
       "      <td>2.0</td>\n",
       "      <td>NaN</td>\n",
       "      <td>0.0</td>\n",
       "      <td>51.0</td>\n",
       "      <td>24.0</td>\n",
       "      <td>2006-2007</td>\n",
       "    </tr>\n",
       "  </tbody>\n",
       "</table>\n",
       "<p>5 rows × 42 columns</p>\n",
       "</div>"
      ],
      "text/plain": [
       "                team  wins  losses  goals  total_yel_card  total_red_card  \\\n",
       "0  Manchester United  28.0     5.0   83.0            60.0             1.0   \n",
       "1            Chelsea  24.0     3.0   64.0            62.0             4.0   \n",
       "2          Liverpool  20.0    10.0   57.0            44.0             0.0   \n",
       "3            Arsenal  19.0     8.0   63.0            59.0             3.0   \n",
       "4  Tottenham Hotspur  17.0    12.0   57.0            48.0             3.0   \n",
       "\n",
       "   total_scoring_att  ontarget_scoring_att  hit_woodwork  att_hd_goal  ...  \\\n",
       "0              698.0                 256.0          21.0         12.0  ...   \n",
       "1              636.0                 216.0          14.0         16.0  ...   \n",
       "2              668.0                 214.0          15.0          8.0  ...   \n",
       "3              638.0                 226.0          19.0         10.0  ...   \n",
       "4              520.0                 184.0           6.0          5.0  ...   \n",
       "\n",
       "   total_cross  corner_taken  touches  big_chance_missed  clearance_off_line  \\\n",
       "0        918.0         258.0  25686.0                NaN                 1.0   \n",
       "1        897.0         231.0  24010.0                NaN                 2.0   \n",
       "2       1107.0         282.0  24150.0                NaN                 1.0   \n",
       "3        873.0         278.0  25592.0                NaN                 1.0   \n",
       "4        796.0         181.0  22200.0                NaN                 2.0   \n",
       "\n",
       "   dispossessed  penalty_save  total_high_claim  punches     season  \n",
       "0           NaN           2.0              37.0     25.0  2006-2007  \n",
       "1           NaN           1.0              74.0     22.0  2006-2007  \n",
       "2           NaN           0.0              51.0     27.0  2006-2007  \n",
       "3           NaN           0.0              88.0     27.0  2006-2007  \n",
       "4           NaN           0.0              51.0     24.0  2006-2007  \n",
       "\n",
       "[5 rows x 42 columns]"
      ]
     },
     "execution_count": 11,
     "metadata": {},
     "output_type": "execute_result"
    }
   ],
   "source": [
    "stats.head()"
   ]
  },
  {
   "cell_type": "code",
   "execution_count": 12,
   "id": "a41f39be",
   "metadata": {
    "colab": {
     "base_uri": "https://localhost:8080/",
     "height": 635
    },
    "executionInfo": {
     "elapsed": 16,
     "status": "ok",
     "timestamp": 1643233247496,
     "user": {
      "displayName": "Ahmed Saad",
      "photoUrl": "https://lh3.googleusercontent.com/a-/AOh14GhnSLjen-GggduTlrZ3FPzYLZz62F9M5UOCy2Vl=s64",
      "userId": "07813394667672817104"
     },
     "user_tz": -120
    },
    "id": "42d1965a",
    "outputId": "f6daa2e4-ee1c-4639-df9b-558591976051",
    "scrolled": true
   },
   "outputs": [
    {
     "data": {
      "text/html": [
       "<div>\n",
       "<style scoped>\n",
       "    .dataframe tbody tr th:only-of-type {\n",
       "        vertical-align: middle;\n",
       "    }\n",
       "\n",
       "    .dataframe tbody tr th {\n",
       "        vertical-align: top;\n",
       "    }\n",
       "\n",
       "    .dataframe thead th {\n",
       "        text-align: right;\n",
       "    }\n",
       "</style>\n",
       "<table border=\"1\" class=\"dataframe\">\n",
       "  <thead>\n",
       "    <tr style=\"text-align: right;\">\n",
       "      <th></th>\n",
       "      <th>team</th>\n",
       "      <th>wins</th>\n",
       "      <th>losses</th>\n",
       "      <th>goals</th>\n",
       "      <th>total_yel_card</th>\n",
       "      <th>total_red_card</th>\n",
       "      <th>total_scoring_att</th>\n",
       "      <th>ontarget_scoring_att</th>\n",
       "      <th>hit_woodwork</th>\n",
       "      <th>att_hd_goal</th>\n",
       "      <th>...</th>\n",
       "      <th>total_cross</th>\n",
       "      <th>corner_taken</th>\n",
       "      <th>touches</th>\n",
       "      <th>big_chance_missed</th>\n",
       "      <th>clearance_off_line</th>\n",
       "      <th>dispossessed</th>\n",
       "      <th>penalty_save</th>\n",
       "      <th>total_high_claim</th>\n",
       "      <th>punches</th>\n",
       "      <th>season</th>\n",
       "    </tr>\n",
       "  </thead>\n",
       "  <tbody>\n",
       "    <tr>\n",
       "      <th>235</th>\n",
       "      <td>Huddersfield Town</td>\n",
       "      <td>9.0</td>\n",
       "      <td>19.0</td>\n",
       "      <td>28.0</td>\n",
       "      <td>62.0</td>\n",
       "      <td>3.0</td>\n",
       "      <td>362.0</td>\n",
       "      <td>109.0</td>\n",
       "      <td>8.0</td>\n",
       "      <td>5.0</td>\n",
       "      <td>...</td>\n",
       "      <td>765.0</td>\n",
       "      <td>165.0</td>\n",
       "      <td>22619.0</td>\n",
       "      <td>21.0</td>\n",
       "      <td>6.0</td>\n",
       "      <td>416.0</td>\n",
       "      <td>2.0</td>\n",
       "      <td>31.0</td>\n",
       "      <td>24.0</td>\n",
       "      <td>2017-2018</td>\n",
       "    </tr>\n",
       "    <tr>\n",
       "      <th>236</th>\n",
       "      <td>Swansea City</td>\n",
       "      <td>8.0</td>\n",
       "      <td>21.0</td>\n",
       "      <td>28.0</td>\n",
       "      <td>51.0</td>\n",
       "      <td>1.0</td>\n",
       "      <td>338.0</td>\n",
       "      <td>103.0</td>\n",
       "      <td>8.0</td>\n",
       "      <td>3.0</td>\n",
       "      <td>...</td>\n",
       "      <td>694.0</td>\n",
       "      <td>150.0</td>\n",
       "      <td>22775.0</td>\n",
       "      <td>26.0</td>\n",
       "      <td>1.0</td>\n",
       "      <td>439.0</td>\n",
       "      <td>3.0</td>\n",
       "      <td>44.0</td>\n",
       "      <td>15.0</td>\n",
       "      <td>2017-2018</td>\n",
       "    </tr>\n",
       "    <tr>\n",
       "      <th>237</th>\n",
       "      <td>Southampton</td>\n",
       "      <td>7.0</td>\n",
       "      <td>16.0</td>\n",
       "      <td>37.0</td>\n",
       "      <td>63.0</td>\n",
       "      <td>2.0</td>\n",
       "      <td>450.0</td>\n",
       "      <td>145.0</td>\n",
       "      <td>15.0</td>\n",
       "      <td>7.0</td>\n",
       "      <td>...</td>\n",
       "      <td>800.0</td>\n",
       "      <td>227.0</td>\n",
       "      <td>24639.0</td>\n",
       "      <td>37.0</td>\n",
       "      <td>4.0</td>\n",
       "      <td>379.0</td>\n",
       "      <td>1.0</td>\n",
       "      <td>29.0</td>\n",
       "      <td>13.0</td>\n",
       "      <td>2017-2018</td>\n",
       "    </tr>\n",
       "    <tr>\n",
       "      <th>238</th>\n",
       "      <td>Stoke City</td>\n",
       "      <td>7.0</td>\n",
       "      <td>19.0</td>\n",
       "      <td>35.0</td>\n",
       "      <td>62.0</td>\n",
       "      <td>1.0</td>\n",
       "      <td>384.0</td>\n",
       "      <td>132.0</td>\n",
       "      <td>8.0</td>\n",
       "      <td>8.0</td>\n",
       "      <td>...</td>\n",
       "      <td>598.0</td>\n",
       "      <td>136.0</td>\n",
       "      <td>20368.0</td>\n",
       "      <td>33.0</td>\n",
       "      <td>3.0</td>\n",
       "      <td>402.0</td>\n",
       "      <td>0.0</td>\n",
       "      <td>27.0</td>\n",
       "      <td>14.0</td>\n",
       "      <td>2017-2018</td>\n",
       "    </tr>\n",
       "    <tr>\n",
       "      <th>239</th>\n",
       "      <td>West Bromwich Albion</td>\n",
       "      <td>6.0</td>\n",
       "      <td>19.0</td>\n",
       "      <td>31.0</td>\n",
       "      <td>73.0</td>\n",
       "      <td>1.0</td>\n",
       "      <td>378.0</td>\n",
       "      <td>114.0</td>\n",
       "      <td>7.0</td>\n",
       "      <td>10.0</td>\n",
       "      <td>...</td>\n",
       "      <td>784.0</td>\n",
       "      <td>176.0</td>\n",
       "      <td>20552.0</td>\n",
       "      <td>28.0</td>\n",
       "      <td>3.0</td>\n",
       "      <td>446.0</td>\n",
       "      <td>0.0</td>\n",
       "      <td>40.0</td>\n",
       "      <td>5.0</td>\n",
       "      <td>2017-2018</td>\n",
       "    </tr>\n",
       "  </tbody>\n",
       "</table>\n",
       "<p>5 rows × 42 columns</p>\n",
       "</div>"
      ],
      "text/plain": [
       "                     team  wins  losses  goals  total_yel_card  \\\n",
       "235     Huddersfield Town   9.0    19.0   28.0            62.0   \n",
       "236          Swansea City   8.0    21.0   28.0            51.0   \n",
       "237           Southampton   7.0    16.0   37.0            63.0   \n",
       "238            Stoke City   7.0    19.0   35.0            62.0   \n",
       "239  West Bromwich Albion   6.0    19.0   31.0            73.0   \n",
       "\n",
       "     total_red_card  total_scoring_att  ontarget_scoring_att  hit_woodwork  \\\n",
       "235             3.0              362.0                 109.0           8.0   \n",
       "236             1.0              338.0                 103.0           8.0   \n",
       "237             2.0              450.0                 145.0          15.0   \n",
       "238             1.0              384.0                 132.0           8.0   \n",
       "239             1.0              378.0                 114.0           7.0   \n",
       "\n",
       "     att_hd_goal  ...  total_cross  corner_taken  touches  big_chance_missed  \\\n",
       "235          5.0  ...        765.0         165.0  22619.0               21.0   \n",
       "236          3.0  ...        694.0         150.0  22775.0               26.0   \n",
       "237          7.0  ...        800.0         227.0  24639.0               37.0   \n",
       "238          8.0  ...        598.0         136.0  20368.0               33.0   \n",
       "239         10.0  ...        784.0         176.0  20552.0               28.0   \n",
       "\n",
       "     clearance_off_line  dispossessed  penalty_save  total_high_claim  \\\n",
       "235                 6.0         416.0           2.0              31.0   \n",
       "236                 1.0         439.0           3.0              44.0   \n",
       "237                 4.0         379.0           1.0              29.0   \n",
       "238                 3.0         402.0           0.0              27.0   \n",
       "239                 3.0         446.0           0.0              40.0   \n",
       "\n",
       "     punches     season  \n",
       "235     24.0  2017-2018  \n",
       "236     15.0  2017-2018  \n",
       "237     13.0  2017-2018  \n",
       "238     14.0  2017-2018  \n",
       "239      5.0  2017-2018  \n",
       "\n",
       "[5 rows x 42 columns]"
      ]
     },
     "execution_count": 12,
     "metadata": {},
     "output_type": "execute_result"
    }
   ],
   "source": [
    "stats.tail()"
   ]
  },
  {
   "cell_type": "code",
   "execution_count": 13,
   "id": "24197ef3",
   "metadata": {
    "colab": {
     "base_uri": "https://localhost:8080/"
    },
    "executionInfo": {
     "elapsed": 439,
     "status": "ok",
     "timestamp": 1643233248437,
     "user": {
      "displayName": "Ahmed Saad",
      "photoUrl": "https://lh3.googleusercontent.com/a-/AOh14GhnSLjen-GggduTlrZ3FPzYLZz62F9M5UOCy2Vl=s64",
      "userId": "07813394667672817104"
     },
     "user_tz": -120
    },
    "id": "f9e133f3",
    "outputId": "2ab18505-10f7-4090-c368-98e8e6280e7a",
    "scrolled": true
   },
   "outputs": [
    {
     "name": "stdout",
     "output_type": "stream",
     "text": [
      "<class 'pandas.core.frame.DataFrame'>\n",
      "RangeIndex: 240 entries, 0 to 239\n",
      "Data columns (total 42 columns):\n",
      " #   Column                Non-Null Count  Dtype  \n",
      "---  ------                --------------  -----  \n",
      " 0   team                  240 non-null    object \n",
      " 1   wins                  240 non-null    float64\n",
      " 2   losses                240 non-null    float64\n",
      " 3   goals                 240 non-null    float64\n",
      " 4   total_yel_card        240 non-null    float64\n",
      " 5   total_red_card        240 non-null    float64\n",
      " 6   total_scoring_att     240 non-null    float64\n",
      " 7   ontarget_scoring_att  240 non-null    float64\n",
      " 8   hit_woodwork          240 non-null    float64\n",
      " 9   att_hd_goal           240 non-null    float64\n",
      " 10  att_pen_goal          240 non-null    float64\n",
      " 11  att_freekick_goal     240 non-null    float64\n",
      " 12  att_ibox_goal         240 non-null    float64\n",
      " 13  att_obox_goal         240 non-null    float64\n",
      " 14  goal_fastbreak        240 non-null    float64\n",
      " 15  total_offside         240 non-null    float64\n",
      " 16  clean_sheet           240 non-null    float64\n",
      " 17  goals_conceded        240 non-null    float64\n",
      " 18  saves                 220 non-null    float64\n",
      " 19  outfielder_block      240 non-null    float64\n",
      " 20  interception          240 non-null    float64\n",
      " 21  total_tackle          240 non-null    float64\n",
      " 22  last_man_tackle       240 non-null    float64\n",
      " 23  total_clearance       240 non-null    float64\n",
      " 24  head_clearance        220 non-null    float64\n",
      " 25  own_goals             240 non-null    float64\n",
      " 26  penalty_conceded      240 non-null    float64\n",
      " 27  pen_goals_conceded    240 non-null    float64\n",
      " 28  total_pass            240 non-null    float64\n",
      " 29  total_through_ball    220 non-null    float64\n",
      " 30  total_long_balls      240 non-null    float64\n",
      " 31  backward_pass         160 non-null    float64\n",
      " 32  total_cross           240 non-null    float64\n",
      " 33  corner_taken          240 non-null    float64\n",
      " 34  touches               240 non-null    float64\n",
      " 35  big_chance_missed     160 non-null    float64\n",
      " 36  clearance_off_line    240 non-null    float64\n",
      " 37  dispossessed          220 non-null    float64\n",
      " 38  penalty_save          240 non-null    float64\n",
      " 39  total_high_claim      240 non-null    float64\n",
      " 40  punches               240 non-null    float64\n",
      " 41  season                240 non-null    object \n",
      "dtypes: float64(40), object(2)\n",
      "memory usage: 78.9+ KB\n"
     ]
    }
   ],
   "source": [
    "stats.info()"
   ]
  },
  {
   "cell_type": "code",
   "execution_count": 14,
   "id": "d30c93d0",
   "metadata": {
    "colab": {
     "base_uri": "https://localhost:8080/",
     "height": 300
    },
    "executionInfo": {
     "elapsed": 456,
     "status": "ok",
     "timestamp": 1643233248888,
     "user": {
      "displayName": "Ahmed Saad",
      "photoUrl": "https://lh3.googleusercontent.com/a-/AOh14GhnSLjen-GggduTlrZ3FPzYLZz62F9M5UOCy2Vl=s64",
      "userId": "07813394667672817104"
     },
     "user_tz": -120
    },
    "id": "23cd78c8",
    "outputId": "6868d2ae-ad0b-4d47-d837-da6e28cd1daf"
   },
   "outputs": [
    {
     "data": {
      "text/html": [
       "<div>\n",
       "<style scoped>\n",
       "    .dataframe tbody tr th:only-of-type {\n",
       "        vertical-align: middle;\n",
       "    }\n",
       "\n",
       "    .dataframe tbody tr th {\n",
       "        vertical-align: top;\n",
       "    }\n",
       "\n",
       "    .dataframe thead th {\n",
       "        text-align: right;\n",
       "    }\n",
       "</style>\n",
       "<table border=\"1\" class=\"dataframe\">\n",
       "  <thead>\n",
       "    <tr style=\"text-align: right;\">\n",
       "      <th></th>\n",
       "      <th>wins</th>\n",
       "      <th>losses</th>\n",
       "      <th>goals</th>\n",
       "      <th>total_yel_card</th>\n",
       "      <th>total_red_card</th>\n",
       "      <th>total_scoring_att</th>\n",
       "      <th>ontarget_scoring_att</th>\n",
       "      <th>hit_woodwork</th>\n",
       "      <th>att_hd_goal</th>\n",
       "      <th>att_pen_goal</th>\n",
       "      <th>...</th>\n",
       "      <th>backward_pass</th>\n",
       "      <th>total_cross</th>\n",
       "      <th>corner_taken</th>\n",
       "      <th>touches</th>\n",
       "      <th>big_chance_missed</th>\n",
       "      <th>clearance_off_line</th>\n",
       "      <th>dispossessed</th>\n",
       "      <th>penalty_save</th>\n",
       "      <th>total_high_claim</th>\n",
       "      <th>punches</th>\n",
       "    </tr>\n",
       "  </thead>\n",
       "  <tbody>\n",
       "    <tr>\n",
       "      <th>count</th>\n",
       "      <td>240.000000</td>\n",
       "      <td>240.000000</td>\n",
       "      <td>240.000000</td>\n",
       "      <td>240.000000</td>\n",
       "      <td>240.000000</td>\n",
       "      <td>240.000000</td>\n",
       "      <td>240.000000</td>\n",
       "      <td>240.000000</td>\n",
       "      <td>240.000000</td>\n",
       "      <td>240.000000</td>\n",
       "      <td>...</td>\n",
       "      <td>160.000000</td>\n",
       "      <td>240.000000</td>\n",
       "      <td>240.000000</td>\n",
       "      <td>240.000000</td>\n",
       "      <td>160.000000</td>\n",
       "      <td>240.000000</td>\n",
       "      <td>220.000000</td>\n",
       "      <td>240.000000</td>\n",
       "      <td>240.000000</td>\n",
       "      <td>240.000000</td>\n",
       "    </tr>\n",
       "    <tr>\n",
       "      <th>mean</th>\n",
       "      <td>14.150000</td>\n",
       "      <td>14.150000</td>\n",
       "      <td>51.062500</td>\n",
       "      <td>61.079167</td>\n",
       "      <td>2.862500</td>\n",
       "      <td>514.241667</td>\n",
       "      <td>168.116667</td>\n",
       "      <td>12.283333</td>\n",
       "      <td>9.016667</td>\n",
       "      <td>3.650000</td>\n",
       "      <td>...</td>\n",
       "      <td>2465.650000</td>\n",
       "      <td>831.370833</td>\n",
       "      <td>207.191667</td>\n",
       "      <td>23908.962500</td>\n",
       "      <td>39.200000</td>\n",
       "      <td>4.991667</td>\n",
       "      <td>472.968182</td>\n",
       "      <td>0.837500</td>\n",
       "      <td>54.920833</td>\n",
       "      <td>22.783333</td>\n",
       "    </tr>\n",
       "    <tr>\n",
       "      <th>std</th>\n",
       "      <td>6.022482</td>\n",
       "      <td>5.596846</td>\n",
       "      <td>16.203474</td>\n",
       "      <td>10.078249</td>\n",
       "      <td>1.802442</td>\n",
       "      <td>95.979164</td>\n",
       "      <td>38.748882</td>\n",
       "      <td>4.820950</td>\n",
       "      <td>3.659077</td>\n",
       "      <td>2.052246</td>\n",
       "      <td>...</td>\n",
       "      <td>491.135729</td>\n",
       "      <td>118.551756</td>\n",
       "      <td>35.933177</td>\n",
       "      <td>3247.161627</td>\n",
       "      <td>13.391915</td>\n",
       "      <td>2.804646</td>\n",
       "      <td>84.653006</td>\n",
       "      <td>0.947718</td>\n",
       "      <td>18.780999</td>\n",
       "      <td>9.148869</td>\n",
       "    </tr>\n",
       "    <tr>\n",
       "      <th>min</th>\n",
       "      <td>1.000000</td>\n",
       "      <td>2.000000</td>\n",
       "      <td>20.000000</td>\n",
       "      <td>38.000000</td>\n",
       "      <td>0.000000</td>\n",
       "      <td>338.000000</td>\n",
       "      <td>94.000000</td>\n",
       "      <td>4.000000</td>\n",
       "      <td>1.000000</td>\n",
       "      <td>0.000000</td>\n",
       "      <td>...</td>\n",
       "      <td>1382.000000</td>\n",
       "      <td>572.000000</td>\n",
       "      <td>136.000000</td>\n",
       "      <td>16772.000000</td>\n",
       "      <td>18.000000</td>\n",
       "      <td>0.000000</td>\n",
       "      <td>296.000000</td>\n",
       "      <td>0.000000</td>\n",
       "      <td>19.000000</td>\n",
       "      <td>4.000000</td>\n",
       "    </tr>\n",
       "    <tr>\n",
       "      <th>25%</th>\n",
       "      <td>10.000000</td>\n",
       "      <td>10.000000</td>\n",
       "      <td>40.000000</td>\n",
       "      <td>54.000000</td>\n",
       "      <td>1.000000</td>\n",
       "      <td>441.000000</td>\n",
       "      <td>140.000000</td>\n",
       "      <td>9.000000</td>\n",
       "      <td>6.000000</td>\n",
       "      <td>2.000000</td>\n",
       "      <td>...</td>\n",
       "      <td>2120.000000</td>\n",
       "      <td>749.000000</td>\n",
       "      <td>180.000000</td>\n",
       "      <td>21577.000000</td>\n",
       "      <td>30.000000</td>\n",
       "      <td>3.000000</td>\n",
       "      <td>412.750000</td>\n",
       "      <td>0.000000</td>\n",
       "      <td>40.000000</td>\n",
       "      <td>17.000000</td>\n",
       "    </tr>\n",
       "    <tr>\n",
       "      <th>50%</th>\n",
       "      <td>12.000000</td>\n",
       "      <td>15.000000</td>\n",
       "      <td>47.000000</td>\n",
       "      <td>60.500000</td>\n",
       "      <td>3.000000</td>\n",
       "      <td>498.500000</td>\n",
       "      <td>158.500000</td>\n",
       "      <td>11.500000</td>\n",
       "      <td>9.000000</td>\n",
       "      <td>3.500000</td>\n",
       "      <td>...</td>\n",
       "      <td>2374.000000</td>\n",
       "      <td>818.000000</td>\n",
       "      <td>201.000000</td>\n",
       "      <td>23168.500000</td>\n",
       "      <td>37.000000</td>\n",
       "      <td>5.000000</td>\n",
       "      <td>465.000000</td>\n",
       "      <td>1.000000</td>\n",
       "      <td>53.000000</td>\n",
       "      <td>22.000000</td>\n",
       "    </tr>\n",
       "    <tr>\n",
       "      <th>75%</th>\n",
       "      <td>18.000000</td>\n",
       "      <td>19.000000</td>\n",
       "      <td>61.000000</td>\n",
       "      <td>67.000000</td>\n",
       "      <td>4.000000</td>\n",
       "      <td>572.000000</td>\n",
       "      <td>194.250000</td>\n",
       "      <td>15.000000</td>\n",
       "      <td>12.000000</td>\n",
       "      <td>5.000000</td>\n",
       "      <td>...</td>\n",
       "      <td>2808.750000</td>\n",
       "      <td>911.250000</td>\n",
       "      <td>230.000000</td>\n",
       "      <td>26294.000000</td>\n",
       "      <td>44.250000</td>\n",
       "      <td>7.000000</td>\n",
       "      <td>522.500000</td>\n",
       "      <td>1.000000</td>\n",
       "      <td>68.000000</td>\n",
       "      <td>27.000000</td>\n",
       "    </tr>\n",
       "    <tr>\n",
       "      <th>max</th>\n",
       "      <td>32.000000</td>\n",
       "      <td>29.000000</td>\n",
       "      <td>106.000000</td>\n",
       "      <td>94.000000</td>\n",
       "      <td>9.000000</td>\n",
       "      <td>834.000000</td>\n",
       "      <td>288.000000</td>\n",
       "      <td>33.000000</td>\n",
       "      <td>18.000000</td>\n",
       "      <td>11.000000</td>\n",
       "      <td>...</td>\n",
       "      <td>4546.000000</td>\n",
       "      <td>1156.000000</td>\n",
       "      <td>309.000000</td>\n",
       "      <td>35130.000000</td>\n",
       "      <td>88.000000</td>\n",
       "      <td>16.000000</td>\n",
       "      <td>776.000000</td>\n",
       "      <td>5.000000</td>\n",
       "      <td>118.000000</td>\n",
       "      <td>66.000000</td>\n",
       "    </tr>\n",
       "  </tbody>\n",
       "</table>\n",
       "<p>8 rows × 40 columns</p>\n",
       "</div>"
      ],
      "text/plain": [
       "             wins      losses       goals  total_yel_card  total_red_card  \\\n",
       "count  240.000000  240.000000  240.000000      240.000000      240.000000   \n",
       "mean    14.150000   14.150000   51.062500       61.079167        2.862500   \n",
       "std      6.022482    5.596846   16.203474       10.078249        1.802442   \n",
       "min      1.000000    2.000000   20.000000       38.000000        0.000000   \n",
       "25%     10.000000   10.000000   40.000000       54.000000        1.000000   \n",
       "50%     12.000000   15.000000   47.000000       60.500000        3.000000   \n",
       "75%     18.000000   19.000000   61.000000       67.000000        4.000000   \n",
       "max     32.000000   29.000000  106.000000       94.000000        9.000000   \n",
       "\n",
       "       total_scoring_att  ontarget_scoring_att  hit_woodwork  att_hd_goal  \\\n",
       "count         240.000000            240.000000    240.000000   240.000000   \n",
       "mean          514.241667            168.116667     12.283333     9.016667   \n",
       "std            95.979164             38.748882      4.820950     3.659077   \n",
       "min           338.000000             94.000000      4.000000     1.000000   \n",
       "25%           441.000000            140.000000      9.000000     6.000000   \n",
       "50%           498.500000            158.500000     11.500000     9.000000   \n",
       "75%           572.000000            194.250000     15.000000    12.000000   \n",
       "max           834.000000            288.000000     33.000000    18.000000   \n",
       "\n",
       "       att_pen_goal  ...  backward_pass  total_cross  corner_taken  \\\n",
       "count    240.000000  ...     160.000000   240.000000    240.000000   \n",
       "mean       3.650000  ...    2465.650000   831.370833    207.191667   \n",
       "std        2.052246  ...     491.135729   118.551756     35.933177   \n",
       "min        0.000000  ...    1382.000000   572.000000    136.000000   \n",
       "25%        2.000000  ...    2120.000000   749.000000    180.000000   \n",
       "50%        3.500000  ...    2374.000000   818.000000    201.000000   \n",
       "75%        5.000000  ...    2808.750000   911.250000    230.000000   \n",
       "max       11.000000  ...    4546.000000  1156.000000    309.000000   \n",
       "\n",
       "            touches  big_chance_missed  clearance_off_line  dispossessed  \\\n",
       "count    240.000000         160.000000          240.000000    220.000000   \n",
       "mean   23908.962500          39.200000            4.991667    472.968182   \n",
       "std     3247.161627          13.391915            2.804646     84.653006   \n",
       "min    16772.000000          18.000000            0.000000    296.000000   \n",
       "25%    21577.000000          30.000000            3.000000    412.750000   \n",
       "50%    23168.500000          37.000000            5.000000    465.000000   \n",
       "75%    26294.000000          44.250000            7.000000    522.500000   \n",
       "max    35130.000000          88.000000           16.000000    776.000000   \n",
       "\n",
       "       penalty_save  total_high_claim     punches  \n",
       "count    240.000000        240.000000  240.000000  \n",
       "mean       0.837500         54.920833   22.783333  \n",
       "std        0.947718         18.780999    9.148869  \n",
       "min        0.000000         19.000000    4.000000  \n",
       "25%        0.000000         40.000000   17.000000  \n",
       "50%        1.000000         53.000000   22.000000  \n",
       "75%        1.000000         68.000000   27.000000  \n",
       "max        5.000000        118.000000   66.000000  \n",
       "\n",
       "[8 rows x 40 columns]"
      ]
     },
     "execution_count": 14,
     "metadata": {},
     "output_type": "execute_result"
    }
   ],
   "source": [
    "stats.describe()"
   ]
  },
  {
   "cell_type": "code",
   "execution_count": 15,
   "id": "025fbeac",
   "metadata": {
    "colab": {
     "base_uri": "https://localhost:8080/"
    },
    "executionInfo": {
     "elapsed": 15,
     "status": "ok",
     "timestamp": 1643233248890,
     "user": {
      "displayName": "Ahmed Saad",
      "photoUrl": "https://lh3.googleusercontent.com/a-/AOh14GhnSLjen-GggduTlrZ3FPzYLZz62F9M5UOCy2Vl=s64",
      "userId": "07813394667672817104"
     },
     "user_tz": -120
    },
    "id": "f5d3a3f0",
    "outputId": "3b8e1b27-7071-4a37-d49a-84d8cb4578b1",
    "scrolled": false
   },
   "outputs": [
    {
     "data": {
      "text/plain": [
       "Index(['team', 'wins', 'losses', 'goals', 'total_yel_card', 'total_red_card',\n",
       "       'total_scoring_att', 'ontarget_scoring_att', 'hit_woodwork',\n",
       "       'att_hd_goal', 'att_pen_goal', 'att_freekick_goal', 'att_ibox_goal',\n",
       "       'att_obox_goal', 'goal_fastbreak', 'total_offside', 'clean_sheet',\n",
       "       'goals_conceded', 'saves', 'outfielder_block', 'interception',\n",
       "       'total_tackle', 'last_man_tackle', 'total_clearance', 'head_clearance',\n",
       "       'own_goals', 'penalty_conceded', 'pen_goals_conceded', 'total_pass',\n",
       "       'total_through_ball', 'total_long_balls', 'backward_pass',\n",
       "       'total_cross', 'corner_taken', 'touches', 'big_chance_missed',\n",
       "       'clearance_off_line', 'dispossessed', 'penalty_save',\n",
       "       'total_high_claim', 'punches', 'season'],\n",
       "      dtype='object')"
      ]
     },
     "execution_count": 15,
     "metadata": {},
     "output_type": "execute_result"
    }
   ],
   "source": [
    "stats.columns"
   ]
  },
  {
   "cell_type": "code",
   "execution_count": 16,
   "id": "88a23b9a",
   "metadata": {
    "colab": {
     "base_uri": "https://localhost:8080/",
     "height": 714
    },
    "executionInfo": {
     "elapsed": 18628,
     "status": "ok",
     "timestamp": 1643233267507,
     "user": {
      "displayName": "Ahmed Saad",
      "photoUrl": "https://lh3.googleusercontent.com/a-/AOh14GhnSLjen-GggduTlrZ3FPzYLZz62F9M5UOCy2Vl=s64",
      "userId": "07813394667672817104"
     },
     "user_tz": -120
    },
    "id": "26c8ad22",
    "outputId": "fbb68b39-1a8c-499a-dc1f-c893b2412d27",
    "scrolled": true
   },
   "outputs": [
    {
     "data": {
      "text/plain": [
       "<AxesSubplot:>"
      ]
     },
     "execution_count": 16,
     "metadata": {},
     "output_type": "execute_result"
    },
    {
     "data": {
      "image/png": "[encoded data removed]",
      "text/plain": [
       "<Figure size 720x720 with 2 Axes>"
      ]
     },
     "metadata": {},
     "output_type": "display_data"
    }
   ],
   "source": [
    "plt.figure(figsize=(10,10))\n",
    "sns.heatmap(stats.isna())"
   ]
  },
  {
   "cell_type": "markdown",
   "id": "223e8838",
   "metadata": {
    "id": "bb0f3e28"
   },
   "source": [
    "__Checking:__"
   ]
  },
  {
   "cell_type": "markdown",
   "id": "febb05e3",
   "metadata": {
    "id": "febb05e3"
   },
   "source": [
    "__Checking Columns Names:__"
   ]
  },
  {
   "cell_type": "markdown",
   "id": "e3b98982",
   "metadata": {},
   "source": [
    "__Matches Dataset:__"
   ]
  },
  {
   "cell_type": "code",
   "execution_count": 17,
   "id": "43491dc9",
   "metadata": {
    "executionInfo": {
     "elapsed": 66,
     "status": "ok",
     "timestamp": 1643233267515,
     "user": {
      "displayName": "Ahmed Saad",
      "photoUrl": "https://lh3.googleusercontent.com/a-/AOh14GhnSLjen-GggduTlrZ3FPzYLZz62F9M5UOCy2Vl=s64",
      "userId": "07813394667672817104"
     },
     "user_tz": -120
    },
    "id": "43491dc9"
   },
   "outputs": [],
   "source": [
    "c = match.columns"
   ]
  },
  {
   "cell_type": "code",
   "execution_count": 18,
   "id": "7ff684c9",
   "metadata": {},
   "outputs": [
    {
     "data": {
      "text/plain": [
       "Index(['home_team', 'away_team', 'home_goals', 'away_goals', 'result',\n",
       "       'season'],\n",
       "      dtype='object')"
      ]
     },
     "execution_count": 18,
     "metadata": {},
     "output_type": "execute_result"
    }
   ],
   "source": [
    "c"
   ]
  },
  {
   "cell_type": "markdown",
   "id": "463f9010",
   "metadata": {},
   "source": [
    "no changes needed."
   ]
  },
  {
   "cell_type": "markdown",
   "id": "1de64692",
   "metadata": {},
   "source": [
    "__Stats Dataset:__"
   ]
  },
  {
   "cell_type": "code",
   "execution_count": 19,
   "id": "51e9e56c",
   "metadata": {
    "executionInfo": {
     "elapsed": 66,
     "status": "ok",
     "timestamp": 1643233267515,
     "user": {
      "displayName": "Ahmed Saad",
      "photoUrl": "https://lh3.googleusercontent.com/a-/AOh14GhnSLjen-GggduTlrZ3FPzYLZz62F9M5UOCy2Vl=s64",
      "userId": "07813394667672817104"
     },
     "user_tz": -120
    },
    "id": "43491dc9"
   },
   "outputs": [],
   "source": [
    "c = stats.columns"
   ]
  },
  {
   "cell_type": "code",
   "execution_count": 20,
   "id": "d8e962c7",
   "metadata": {},
   "outputs": [
    {
     "data": {
      "text/plain": [
       "Index(['team', 'wins', 'losses', 'goals', 'total_yel_card', 'total_red_card',\n",
       "       'total_scoring_att', 'ontarget_scoring_att', 'hit_woodwork',\n",
       "       'att_hd_goal', 'att_pen_goal', 'att_freekick_goal', 'att_ibox_goal',\n",
       "       'att_obox_goal', 'goal_fastbreak', 'total_offside', 'clean_sheet',\n",
       "       'goals_conceded', 'saves', 'outfielder_block', 'interception',\n",
       "       'total_tackle', 'last_man_tackle', 'total_clearance', 'head_clearance',\n",
       "       'own_goals', 'penalty_conceded', 'pen_goals_conceded', 'total_pass',\n",
       "       'total_through_ball', 'total_long_balls', 'backward_pass',\n",
       "       'total_cross', 'corner_taken', 'touches', 'big_chance_missed',\n",
       "       'clearance_off_line', 'dispossessed', 'penalty_save',\n",
       "       'total_high_claim', 'punches', 'season'],\n",
       "      dtype='object')"
      ]
     },
     "execution_count": 20,
     "metadata": {},
     "output_type": "execute_result"
    }
   ],
   "source": [
    "c"
   ]
  },
  {
   "cell_type": "markdown",
   "id": "3019925a",
   "metadata": {},
   "source": [
    "no changes needed."
   ]
  },
  {
   "cell_type": "markdown",
   "id": "595678d8",
   "metadata": {},
   "source": [
    "__Checking Null Values:__"
   ]
  },
  {
   "cell_type": "markdown",
   "id": "2e7200bb",
   "metadata": {},
   "source": [
    "__Matches Dataset:__"
   ]
  },
  {
   "cell_type": "markdown",
   "id": "68d49b86",
   "metadata": {},
   "source": [
    "no changes needed."
   ]
  },
  {
   "cell_type": "markdown",
   "id": "d37eb8b3",
   "metadata": {},
   "source": [
    "__Stats Dataset:__"
   ]
  },
  {
   "cell_type": "code",
   "execution_count": 21,
   "id": "43e18926",
   "metadata": {
    "scrolled": true
   },
   "outputs": [
    {
     "data": {
      "text/html": [
       "<div>\n",
       "<style scoped>\n",
       "    .dataframe tbody tr th:only-of-type {\n",
       "        vertical-align: middle;\n",
       "    }\n",
       "\n",
       "    .dataframe tbody tr th {\n",
       "        vertical-align: top;\n",
       "    }\n",
       "\n",
       "    .dataframe thead th {\n",
       "        text-align: right;\n",
       "    }\n",
       "</style>\n",
       "<table border=\"1\" class=\"dataframe\">\n",
       "  <thead>\n",
       "    <tr style=\"text-align: right;\">\n",
       "      <th></th>\n",
       "      <th>saves</th>\n",
       "      <th>head_clearance</th>\n",
       "      <th>total_through_ball</th>\n",
       "      <th>backward_pass</th>\n",
       "      <th>big_chance_missed</th>\n",
       "      <th>dispossessed</th>\n",
       "    </tr>\n",
       "  </thead>\n",
       "  <tbody>\n",
       "    <tr>\n",
       "      <th>0</th>\n",
       "      <td>2.0</td>\n",
       "      <td>NaN</td>\n",
       "      <td>NaN</td>\n",
       "      <td>NaN</td>\n",
       "      <td>NaN</td>\n",
       "      <td>NaN</td>\n",
       "    </tr>\n",
       "    <tr>\n",
       "      <th>1</th>\n",
       "      <td>4.0</td>\n",
       "      <td>NaN</td>\n",
       "      <td>NaN</td>\n",
       "      <td>NaN</td>\n",
       "      <td>NaN</td>\n",
       "      <td>NaN</td>\n",
       "    </tr>\n",
       "    <tr>\n",
       "      <th>2</th>\n",
       "      <td>1.0</td>\n",
       "      <td>NaN</td>\n",
       "      <td>NaN</td>\n",
       "      <td>NaN</td>\n",
       "      <td>NaN</td>\n",
       "      <td>NaN</td>\n",
       "    </tr>\n",
       "    <tr>\n",
       "      <th>3</th>\n",
       "      <td>6.0</td>\n",
       "      <td>NaN</td>\n",
       "      <td>NaN</td>\n",
       "      <td>NaN</td>\n",
       "      <td>NaN</td>\n",
       "      <td>NaN</td>\n",
       "    </tr>\n",
       "    <tr>\n",
       "      <th>4</th>\n",
       "      <td>11.0</td>\n",
       "      <td>NaN</td>\n",
       "      <td>NaN</td>\n",
       "      <td>NaN</td>\n",
       "      <td>NaN</td>\n",
       "      <td>NaN</td>\n",
       "    </tr>\n",
       "    <tr>\n",
       "      <th>...</th>\n",
       "      <td>...</td>\n",
       "      <td>...</td>\n",
       "      <td>...</td>\n",
       "      <td>...</td>\n",
       "      <td>...</td>\n",
       "      <td>...</td>\n",
       "    </tr>\n",
       "    <tr>\n",
       "      <th>235</th>\n",
       "      <td>103.0</td>\n",
       "      <td>490.0</td>\n",
       "      <td>26.0</td>\n",
       "      <td>2267.0</td>\n",
       "      <td>21.0</td>\n",
       "      <td>416.0</td>\n",
       "    </tr>\n",
       "    <tr>\n",
       "      <th>236</th>\n",
       "      <td>137.0</td>\n",
       "      <td>499.0</td>\n",
       "      <td>23.0</td>\n",
       "      <td>2582.0</td>\n",
       "      <td>26.0</td>\n",
       "      <td>439.0</td>\n",
       "    </tr>\n",
       "    <tr>\n",
       "      <th>237</th>\n",
       "      <td>110.0</td>\n",
       "      <td>509.0</td>\n",
       "      <td>56.0</td>\n",
       "      <td>2589.0</td>\n",
       "      <td>37.0</td>\n",
       "      <td>379.0</td>\n",
       "    </tr>\n",
       "    <tr>\n",
       "      <th>238</th>\n",
       "      <td>152.0</td>\n",
       "      <td>609.0</td>\n",
       "      <td>33.0</td>\n",
       "      <td>1979.0</td>\n",
       "      <td>33.0</td>\n",
       "      <td>402.0</td>\n",
       "    </tr>\n",
       "    <tr>\n",
       "      <th>239</th>\n",
       "      <td>102.0</td>\n",
       "      <td>544.0</td>\n",
       "      <td>34.0</td>\n",
       "      <td>2041.0</td>\n",
       "      <td>28.0</td>\n",
       "      <td>446.0</td>\n",
       "    </tr>\n",
       "  </tbody>\n",
       "</table>\n",
       "<p>240 rows × 6 columns</p>\n",
       "</div>"
      ],
      "text/plain": [
       "     saves  head_clearance  total_through_ball  backward_pass  \\\n",
       "0      2.0             NaN                 NaN            NaN   \n",
       "1      4.0             NaN                 NaN            NaN   \n",
       "2      1.0             NaN                 NaN            NaN   \n",
       "3      6.0             NaN                 NaN            NaN   \n",
       "4     11.0             NaN                 NaN            NaN   \n",
       "..     ...             ...                 ...            ...   \n",
       "235  103.0           490.0                26.0         2267.0   \n",
       "236  137.0           499.0                23.0         2582.0   \n",
       "237  110.0           509.0                56.0         2589.0   \n",
       "238  152.0           609.0                33.0         1979.0   \n",
       "239  102.0           544.0                34.0         2041.0   \n",
       "\n",
       "     big_chance_missed  dispossessed  \n",
       "0                  NaN           NaN  \n",
       "1                  NaN           NaN  \n",
       "2                  NaN           NaN  \n",
       "3                  NaN           NaN  \n",
       "4                  NaN           NaN  \n",
       "..                 ...           ...  \n",
       "235               21.0         416.0  \n",
       "236               26.0         439.0  \n",
       "237               37.0         379.0  \n",
       "238               33.0         402.0  \n",
       "239               28.0         446.0  \n",
       "\n",
       "[240 rows x 6 columns]"
      ]
     },
     "execution_count": 21,
     "metadata": {},
     "output_type": "execute_result"
    }
   ],
   "source": [
    "columns = stats.columns\n",
    "c = []\n",
    "for column in columns:\n",
    "    if len(stats[column].isna().value_counts()) > 1:\n",
    "        c.append(column)\n",
    "        \n",
    "stats[c]        "
   ]
  },
  {
   "cell_type": "code",
   "execution_count": 22,
   "id": "6cc38a0d",
   "metadata": {},
   "outputs": [],
   "source": [
    "stats['saves'].fillna(stats['saves'].mean(), inplace=True)"
   ]
  },
  {
   "cell_type": "code",
   "execution_count": 23,
   "id": "4c8ed968",
   "metadata": {},
   "outputs": [],
   "source": [
    "for i in c[1:]:\n",
    "    stats.drop(i, axis=1, inplace=True)"
   ]
  },
  {
   "cell_type": "markdown",
   "id": "ebe67a26",
   "metadata": {
    "id": "ebe67a26"
   },
   "source": [
    "__Checking Data Types:__"
   ]
  },
  {
   "cell_type": "markdown",
   "id": "54e55b97",
   "metadata": {},
   "source": [
    "__Matches Dataset:__"
   ]
  },
  {
   "cell_type": "code",
   "execution_count": 24,
   "id": "bea4f996",
   "metadata": {},
   "outputs": [
    {
     "name": "stdout",
     "output_type": "stream",
     "text": [
      "<class 'pandas.core.frame.DataFrame'>\n",
      "RangeIndex: 4560 entries, 0 to 4559\n",
      "Data columns (total 6 columns):\n",
      " #   Column      Non-Null Count  Dtype  \n",
      "---  ------      --------------  -----  \n",
      " 0   home_team   4560 non-null   object \n",
      " 1   away_team   4560 non-null   object \n",
      " 2   home_goals  4560 non-null   float64\n",
      " 3   away_goals  4560 non-null   float64\n",
      " 4   result      4560 non-null   object \n",
      " 5   season      4560 non-null   object \n",
      "dtypes: float64(2), object(4)\n",
      "memory usage: 213.9+ KB\n"
     ]
    }
   ],
   "source": [
    "match.info()"
   ]
  },
  {
   "cell_type": "code",
   "execution_count": 25,
   "id": "c9f43eab",
   "metadata": {},
   "outputs": [],
   "source": [
    "match['home_team'] = match['home_team'].astype('category')"
   ]
  },
  {
   "cell_type": "code",
   "execution_count": 26,
   "id": "8cd08afa",
   "metadata": {},
   "outputs": [],
   "source": [
    "match['away_team'] = match['away_team'].astype('category')"
   ]
  },
  {
   "cell_type": "code",
   "execution_count": 27,
   "id": "1a5b913e",
   "metadata": {},
   "outputs": [],
   "source": [
    "match['result'] = match['result'].astype('category')"
   ]
  },
  {
   "cell_type": "code",
   "execution_count": 28,
   "id": "967e0797",
   "metadata": {},
   "outputs": [],
   "source": [
    "match['home_goals'] = match['home_goals'].astype('int16')"
   ]
  },
  {
   "cell_type": "code",
   "execution_count": 29,
   "id": "57a40cc6",
   "metadata": {},
   "outputs": [],
   "source": [
    "match['away_goals'] = match['away_goals'].astype('int16')"
   ]
  },
  {
   "cell_type": "code",
   "execution_count": 30,
   "id": "95228f3e",
   "metadata": {},
   "outputs": [],
   "source": [
    "match['season'] = match['season'].astype('category')"
   ]
  },
  {
   "cell_type": "code",
   "execution_count": 31,
   "id": "e83e5fd8",
   "metadata": {
    "scrolled": true
   },
   "outputs": [
    {
     "name": "stdout",
     "output_type": "stream",
     "text": [
      "<class 'pandas.core.frame.DataFrame'>\n",
      "RangeIndex: 4560 entries, 0 to 4559\n",
      "Data columns (total 6 columns):\n",
      " #   Column      Non-Null Count  Dtype   \n",
      "---  ------      --------------  -----   \n",
      " 0   home_team   4560 non-null   category\n",
      " 1   away_team   4560 non-null   category\n",
      " 2   home_goals  4560 non-null   int16   \n",
      " 3   away_goals  4560 non-null   int16   \n",
      " 4   result      4560 non-null   category\n",
      " 5   season      4560 non-null   category\n",
      "dtypes: category(4), int16(2)\n",
      "memory usage: 39.0 KB\n"
     ]
    }
   ],
   "source": [
    "match.info()"
   ]
  },
  {
   "cell_type": "markdown",
   "id": "3ec98228",
   "metadata": {},
   "source": [
    "__Stats Dataset:__"
   ]
  },
  {
   "cell_type": "code",
   "execution_count": 32,
   "id": "54f642d4",
   "metadata": {},
   "outputs": [
    {
     "name": "stdout",
     "output_type": "stream",
     "text": [
      "<class 'pandas.core.frame.DataFrame'>\n",
      "RangeIndex: 240 entries, 0 to 239\n",
      "Data columns (total 37 columns):\n",
      " #   Column                Non-Null Count  Dtype  \n",
      "---  ------                --------------  -----  \n",
      " 0   team                  240 non-null    object \n",
      " 1   wins                  240 non-null    float64\n",
      " 2   losses                240 non-null    float64\n",
      " 3   goals                 240 non-null    float64\n",
      " 4   total_yel_card        240 non-null    float64\n",
      " 5   total_red_card        240 non-null    float64\n",
      " 6   total_scoring_att     240 non-null    float64\n",
      " 7   ontarget_scoring_att  240 non-null    float64\n",
      " 8   hit_woodwork          240 non-null    float64\n",
      " 9   att_hd_goal           240 non-null    float64\n",
      " 10  att_pen_goal          240 non-null    float64\n",
      " 11  att_freekick_goal     240 non-null    float64\n",
      " 12  att_ibox_goal         240 non-null    float64\n",
      " 13  att_obox_goal         240 non-null    float64\n",
      " 14  goal_fastbreak        240 non-null    float64\n",
      " 15  total_offside         240 non-null    float64\n",
      " 16  clean_sheet           240 non-null    float64\n",
      " 17  goals_conceded        240 non-null    float64\n",
      " 18  saves                 240 non-null    float64\n",
      " 19  outfielder_block      240 non-null    float64\n",
      " 20  interception          240 non-null    float64\n",
      " 21  total_tackle          240 non-null    float64\n",
      " 22  last_man_tackle       240 non-null    float64\n",
      " 23  total_clearance       240 non-null    float64\n",
      " 24  own_goals             240 non-null    float64\n",
      " 25  penalty_conceded      240 non-null    float64\n",
      " 26  pen_goals_conceded    240 non-null    float64\n",
      " 27  total_pass            240 non-null    float64\n",
      " 28  total_long_balls      240 non-null    float64\n",
      " 29  total_cross           240 non-null    float64\n",
      " 30  corner_taken          240 non-null    float64\n",
      " 31  touches               240 non-null    float64\n",
      " 32  clearance_off_line    240 non-null    float64\n",
      " 33  penalty_save          240 non-null    float64\n",
      " 34  total_high_claim      240 non-null    float64\n",
      " 35  punches               240 non-null    float64\n",
      " 36  season                240 non-null    object \n",
      "dtypes: float64(35), object(2)\n",
      "memory usage: 69.5+ KB\n"
     ]
    }
   ],
   "source": [
    "stats.info()"
   ]
  },
  {
   "cell_type": "code",
   "execution_count": 33,
   "id": "ad7e1f8e",
   "metadata": {},
   "outputs": [],
   "source": [
    "colums = stats.columns[1:-1]\n",
    "\n",
    "for column in colums:\n",
    "    try:\n",
    "        stats[column] = stats[column].astype('int16')\n",
    "    except:\n",
    "        stats[column] = stats[column].astype('int32')"
   ]
  },
  {
   "cell_type": "code",
   "execution_count": 34,
   "id": "e2a6b89c",
   "metadata": {},
   "outputs": [
    {
     "name": "stdout",
     "output_type": "stream",
     "text": [
      "<class 'pandas.core.frame.DataFrame'>\n",
      "RangeIndex: 240 entries, 0 to 239\n",
      "Data columns (total 37 columns):\n",
      " #   Column                Non-Null Count  Dtype \n",
      "---  ------                --------------  ----- \n",
      " 0   team                  240 non-null    object\n",
      " 1   wins                  240 non-null    int16 \n",
      " 2   losses                240 non-null    int16 \n",
      " 3   goals                 240 non-null    int16 \n",
      " 4   total_yel_card        240 non-null    int16 \n",
      " 5   total_red_card        240 non-null    int16 \n",
      " 6   total_scoring_att     240 non-null    int16 \n",
      " 7   ontarget_scoring_att  240 non-null    int16 \n",
      " 8   hit_woodwork          240 non-null    int16 \n",
      " 9   att_hd_goal           240 non-null    int16 \n",
      " 10  att_pen_goal          240 non-null    int16 \n",
      " 11  att_freekick_goal     240 non-null    int16 \n",
      " 12  att_ibox_goal         240 non-null    int16 \n",
      " 13  att_obox_goal         240 non-null    int16 \n",
      " 14  goal_fastbreak        240 non-null    int16 \n",
      " 15  total_offside         240 non-null    int16 \n",
      " 16  clean_sheet           240 non-null    int16 \n",
      " 17  goals_conceded        240 non-null    int16 \n",
      " 18  saves                 240 non-null    int16 \n",
      " 19  outfielder_block      240 non-null    int16 \n",
      " 20  interception          240 non-null    int16 \n",
      " 21  total_tackle          240 non-null    int16 \n",
      " 22  last_man_tackle       240 non-null    int16 \n",
      " 23  total_clearance       240 non-null    int16 \n",
      " 24  own_goals             240 non-null    int16 \n",
      " 25  penalty_conceded      240 non-null    int16 \n",
      " 26  pen_goals_conceded    240 non-null    int16 \n",
      " 27  total_pass            240 non-null    int16 \n",
      " 28  total_long_balls      240 non-null    int16 \n",
      " 29  total_cross           240 non-null    int16 \n",
      " 30  corner_taken          240 non-null    int16 \n",
      " 31  touches               240 non-null    int16 \n",
      " 32  clearance_off_line    240 non-null    int16 \n",
      " 33  penalty_save          240 non-null    int16 \n",
      " 34  total_high_claim      240 non-null    int16 \n",
      " 35  punches               240 non-null    int16 \n",
      " 36  season                240 non-null    object\n",
      "dtypes: int16(35), object(2)\n",
      "memory usage: 20.3+ KB\n"
     ]
    }
   ],
   "source": [
    "stats.info()"
   ]
  },
  {
   "cell_type": "markdown",
   "id": "edabc634",
   "metadata": {},
   "source": [
    "__Special Changes:__"
   ]
  },
  {
   "cell_type": "markdown",
   "id": "4f3283de",
   "metadata": {},
   "source": [
    "__Matches Dataset:__"
   ]
  },
  {
   "cell_type": "code",
   "execution_count": 35,
   "id": "6061b602",
   "metadata": {},
   "outputs": [],
   "source": [
    "def team_score(df, season, team):\n",
    "    \n",
    "    season_df = df[df['season']==season]\n",
    "\n",
    "    season_teamx = season_df[(season_df['home_team']==team) | (season_df['away_team']==team)].reset_index()\n",
    "    \n",
    "    score = 0\n",
    "    goals = 0\n",
    "    in_goals = 0\n",
    "\n",
    "    for i in range(0, len(season_teamx)):\n",
    "        \n",
    "        if season_teamx['home_team'][i]==team:\n",
    "            goals = goals + season_teamx['home_goals'][i]\n",
    "            in_goals = in_goals + season_teamx['away_goals'][i]\n",
    "            \n",
    "        if season_teamx['away_team'][i]==team:\n",
    "            goals = goals + season_teamx['away_goals'][i]\n",
    "            in_goals = in_goals + season_teamx['home_goals'][i]\n",
    "            \n",
    "        if (season_teamx['result'][i]=='H') and (season_teamx['home_team'][i]==team):\n",
    "            score = score + 3\n",
    "            \n",
    "        elif (season_teamx['result'][i]=='A') and (season_teamx['away_team'][i]==team):\n",
    "            score = score + 3\n",
    "        \n",
    "        elif (season_teamx['result'][i]=='D') and (season_teamx['home_team'][i]==team):\n",
    "            score = score + 1\n",
    "            \n",
    "        elif (season_teamx['result'][i]=='D') and (season_teamx['away_team'][i]==team):\n",
    "            score = score + 1\n",
    "            \n",
    "        \n",
    "    return [team, score, goals, in_goals]"
   ]
  },
  {
   "cell_type": "code",
   "execution_count": 36,
   "id": "a07d0e30",
   "metadata": {},
   "outputs": [
    {
     "data": {
      "text/html": [
       "<div>\n",
       "<style scoped>\n",
       "    .dataframe tbody tr th:only-of-type {\n",
       "        vertical-align: middle;\n",
       "    }\n",
       "\n",
       "    .dataframe tbody tr th {\n",
       "        vertical-align: top;\n",
       "    }\n",
       "\n",
       "    .dataframe thead th {\n",
       "        text-align: right;\n",
       "    }\n",
       "</style>\n",
       "<table border=\"1\" class=\"dataframe\">\n",
       "  <thead>\n",
       "    <tr style=\"text-align: right;\">\n",
       "      <th></th>\n",
       "      <th>season</th>\n",
       "      <th>team_score</th>\n",
       "      <th>team</th>\n",
       "      <th>goals</th>\n",
       "      <th>in_goals</th>\n",
       "    </tr>\n",
       "  </thead>\n",
       "  <tbody>\n",
       "    <tr>\n",
       "      <th>0</th>\n",
       "      <td>2006-2007</td>\n",
       "      <td>68</td>\n",
       "      <td>Liverpool</td>\n",
       "      <td>57</td>\n",
       "      <td>27</td>\n",
       "    </tr>\n",
       "    <tr>\n",
       "      <th>1</th>\n",
       "      <td>2006-2007</td>\n",
       "      <td>50</td>\n",
       "      <td>Aston Villa</td>\n",
       "      <td>43</td>\n",
       "      <td>41</td>\n",
       "    </tr>\n",
       "    <tr>\n",
       "      <th>2</th>\n",
       "      <td>2006-2007</td>\n",
       "      <td>28</td>\n",
       "      <td>Watford</td>\n",
       "      <td>29</td>\n",
       "      <td>59</td>\n",
       "    </tr>\n",
       "    <tr>\n",
       "      <th>3</th>\n",
       "      <td>2006-2007</td>\n",
       "      <td>38</td>\n",
       "      <td>Wigan Athletic</td>\n",
       "      <td>37</td>\n",
       "      <td>59</td>\n",
       "    </tr>\n",
       "    <tr>\n",
       "      <th>4</th>\n",
       "      <td>2006-2007</td>\n",
       "      <td>52</td>\n",
       "      <td>Blackburn Rovers</td>\n",
       "      <td>52</td>\n",
       "      <td>54</td>\n",
       "    </tr>\n",
       "    <tr>\n",
       "      <th>...</th>\n",
       "      <td>...</td>\n",
       "      <td>...</td>\n",
       "      <td>...</td>\n",
       "      <td>...</td>\n",
       "      <td>...</td>\n",
       "    </tr>\n",
       "    <tr>\n",
       "      <th>235</th>\n",
       "      <td>2017-2018</td>\n",
       "      <td>63</td>\n",
       "      <td>Arsenal</td>\n",
       "      <td>74</td>\n",
       "      <td>51</td>\n",
       "    </tr>\n",
       "    <tr>\n",
       "      <th>236</th>\n",
       "      <td>2017-2018</td>\n",
       "      <td>44</td>\n",
       "      <td>Newcastle United</td>\n",
       "      <td>39</td>\n",
       "      <td>47</td>\n",
       "    </tr>\n",
       "    <tr>\n",
       "      <th>237</th>\n",
       "      <td>2017-2018</td>\n",
       "      <td>70</td>\n",
       "      <td>Chelsea</td>\n",
       "      <td>62</td>\n",
       "      <td>38</td>\n",
       "    </tr>\n",
       "    <tr>\n",
       "      <th>238</th>\n",
       "      <td>2017-2018</td>\n",
       "      <td>49</td>\n",
       "      <td>Everton</td>\n",
       "      <td>44</td>\n",
       "      <td>58</td>\n",
       "    </tr>\n",
       "    <tr>\n",
       "      <th>239</th>\n",
       "      <td>2017-2018</td>\n",
       "      <td>36</td>\n",
       "      <td>Southampton</td>\n",
       "      <td>37</td>\n",
       "      <td>56</td>\n",
       "    </tr>\n",
       "  </tbody>\n",
       "</table>\n",
       "<p>240 rows × 5 columns</p>\n",
       "</div>"
      ],
      "text/plain": [
       "        season  team_score              team  goals  in_goals\n",
       "0    2006-2007          68         Liverpool     57        27\n",
       "1    2006-2007          50       Aston Villa     43        41\n",
       "2    2006-2007          28           Watford     29        59\n",
       "3    2006-2007          38    Wigan Athletic     37        59\n",
       "4    2006-2007          52  Blackburn Rovers     52        54\n",
       "..         ...         ...               ...    ...       ...\n",
       "235  2017-2018          63           Arsenal     74        51\n",
       "236  2017-2018          44  Newcastle United     39        47\n",
       "237  2017-2018          70           Chelsea     62        38\n",
       "238  2017-2018          49           Everton     44        58\n",
       "239  2017-2018          36       Southampton     37        56\n",
       "\n",
       "[240 rows x 5 columns]"
      ]
     },
     "execution_count": 36,
     "metadata": {},
     "output_type": "execute_result"
    }
   ],
   "source": [
    "seasons = []\n",
    "teams_scores = []\n",
    "teams = []\n",
    "goals = []\n",
    "in_goals = []\n",
    "\n",
    "\n",
    "for season in list(match['season'].value_counts().index):\n",
    "        \n",
    "    for team in list(match[match['season']==season]['away_team'].unique()):\n",
    "        \n",
    "        teamx = team_score(match, season, team)\n",
    "        seasons.append(season)\n",
    "        teams.append(teamx[0])\n",
    "        teams_scores.append(teamx[1])\n",
    "        goals.append(teamx[2])\n",
    "        in_goals.append(teamx[3])\n",
    "        \n",
    "        \n",
    "ts_df = pd.DataFrame({'season':seasons, 'team_score':teams_scores, 'team':teams, 'goals':goals, 'in_goals':in_goals})\n",
    "ts_df"
   ]
  },
  {
   "cell_type": "code",
   "execution_count": 37,
   "id": "56ceb93c",
   "metadata": {},
   "outputs": [],
   "source": [
    "def get_derby(df, in_teams):\n",
    "    \n",
    "    derbys = {}\n",
    "    teams = in_teams\n",
    "\n",
    "    for derby in teams:\n",
    "    \n",
    "            indexs = []\n",
    "                \n",
    "            for season in list(match['season'].unique().sort_values()):\n",
    "            \n",
    "                season_df = match[match['season']==season]\n",
    "                for i in teams:\n",
    "\n",
    "                    try:\n",
    "                        indexs.append((season_df[(season_df['home_team'] == derby) & (season_df['away_team'] == i)].index)[0])\n",
    "                        indexs.append((season_df[(season_df['home_team'] == i) & (season_df['away_team'] == derby)].index)[0])\n",
    "                    \n",
    "                    except:\n",
    "                            pass\n",
    "                    \n",
    "            try:\n",
    "                derbys[derby] = match.iloc[indexs].reset_index(drop=True)\n",
    "\n",
    "            except:\n",
    "                    print(match.iloc[indexs].reset_index(drop=True))\n",
    "      \n",
    "     \n",
    "    return derbys"
   ]
  },
  {
   "cell_type": "code",
   "execution_count": 38,
   "id": "b59a5744",
   "metadata": {},
   "outputs": [],
   "source": [
    "derbys = get_derby(match, ['Liverpool', 'Manchester United', 'Chelsea', 'Arsenal', 'Manchester City'])"
   ]
  },
  {
   "cell_type": "code",
   "execution_count": 39,
   "id": "aaf8350b",
   "metadata": {},
   "outputs": [],
   "source": [
    "teamss = ['''Jose Mourinho\t27 May, 2016\t18 Dec, 2018\n",
    "Louis van Gaal\t19 May, 2014\t23 May, 2016\n",
    "Ryan Giggs\t22 Apr, 2014\t19 May, 2014\n",
    "David Moyes\t19 May, 2013\t22 Apr, 2014\n",
    "Alex Ferguson\t06 Nov, 1986\t19 May, 2013''', \n",
    "'''Unai Emery\t23 May, 2018\t29 Nov, 2019\n",
    "Arsene Wenger\t30 Sep, 1996\t14 May, 2018''',\n",
    "'''Maurizio Sarri\t14 Jul, 2018\t16 Jun, 2019\n",
    "Antonio Conte\t03 Jul, 2016\t13 Jul, 2018\n",
    "Guus Hiddink\t20 Dec, 2015\t03 Jul, 2016\n",
    "Steve Holland\t18 Dec, 2015\t20 Dec, 2015\n",
    "Eddie Newton\t18 Dec, 2015\t20 Dec, 2015\n",
    "Jose Mourinho\t03 Jun, 2013\t17 Dec, 2015\n",
    "Rafael Benitez\t21 Nov, 2012\t29 May, 2013\n",
    "Roberto Di Matteo\t04 Mar, 2012\t21 Nov, 2012\n",
    "Andre Villas-Boas\t22 Jun, 2011\t04 Mar, 2012\n",
    "Carlo Ancelotti\t01 Jun, 2009\t22 May, 2011\n",
    "Guus Hiddink\t16 Feb, 2009\t31 May, 2009\n",
    "Ray Wilkins\t09 Feb, 2009\t16 Feb, 2009\n",
    "Felipe Scolari\t11 Jun, 2008\t09 Feb, 2009\n",
    "Avram Grant\t20 Sep, 2007\t24 May, 2008''',\n",
    "'''Jurgen Klopp\t08 Oct, 2015\tPresent\n",
    "Brendan Rodgers\t01 Jun, 2012\t04 Oct, 2015\n",
    "Kenny Dalglish\t08 Jan, 2011\t16 May, 2012\n",
    "Roy Hodgson\t01 Jul, 2010\t08 Jan, 2011\n",
    "Rafael Benitez\t16 Jun, 2004\t03 Jun, 2010''',\n",
    "'''Josep Guardiola\t01 Jul, 2016\tPresent\n",
    "Manuel Pellegrini\t14 Jun, 2013\t30 Jun, 2016\n",
    "Brian Kidd\t13 May, 2013\t14 Jun, 2013\n",
    "Roberto Mancini\t20 Dec, 2009\t13 May, 2013\n",
    "Mark Hughes\t04 Jun, 2008\t20 Dec, 2009\n",
    "Sven-Goran Eriksson\t06 Jul, 2007\t02 Jun, 2008\n",
    "Stuart Pearce\t11 Mar, 2005\t14 May, 2007\n",
    "Kevin Keegan\t24 May, 2001\t11 Mar, 2005''']"
   ]
  },
  {
   "cell_type": "code",
   "execution_count": 40,
   "id": "57fbc7be",
   "metadata": {},
   "outputs": [],
   "source": [
    "top5_man = {}\n",
    "top5 = ['Manchester United', 'Arsenal', 'Chelsea','Liverpool', 'Manchester City']\n",
    "\n",
    "for i, team in enumerate(teamss):\n",
    "    \n",
    "    manager= []; from_=[]; to=[]\n",
    "    rows = team.split('\\n')\n",
    "    \n",
    "    for row in rows:\n",
    "        \n",
    "            data = row.split('\\t')\n",
    "            manager.append(str(data[0]))\n",
    "            from_.append(str(data[1]))\n",
    "            to.append(str(data[2]))\n",
    "        \n",
    "    top5_man[top5[i]] =  pd.DataFrame({'manager':manager, 'from':from_, 'to':to})"
   ]
  },
  {
   "cell_type": "code",
   "execution_count": 41,
   "id": "ed21dab8",
   "metadata": {},
   "outputs": [],
   "source": [
    "years = ['''Position\tø-Age\tMarket value\tø-Market value\n",
    "Goalkeeper\t23.67\t€47.20m\t€7.87m\n",
    "Defender\t24.36\t€156.25m\t€11.16m\n",
    "midfield\t25.21\t€227.00m\t€16.21m\n",
    "Attack\t23.75\t€101.00m\t€12.63m\n",
    "Total:\t24.43\t€531.45m\t€12.65m''', '''Position\tø-Age\tMarket value\tø-Market value\n",
    "Goalkeeper\t23.67\t€47.20m\t€7.87m\n",
    "Defender\t24.36\t€156.25m\t€11.16m\n",
    "midfield\t25.21\t€227.00m\t€16.21m\n",
    "Attack\t23.75\t€101.00m\t€12.63m\n",
    "Total:\t24.43\t€531.45m\t€12.65m''', '''Position\tø-Age\tMarket value\tø-Market value\n",
    "Goalkeeper\t25.00\t€48.75m\t€8.13m\n",
    "Defender\t22.65\t€133.50m\t€7.85m\n",
    "midfield\t24.46\t€131.60m\t€10.12m\n",
    "Attack\t22.75\t€126.00m\t€15.75m\n",
    "Total:\t23.52\t€439.85m\t€10.00m''', '''Position\tø-Age\tMarket value\tø-Market value\n",
    "Goalkeeper\t27.00\t€32.50m\t€6.50m\n",
    "Defender\t23.38\t€122.60m\t€7.66m\n",
    "midfield\t25.73\t€108.50m\t€9.86m\n",
    "Attack\t25.27\t€241.80m\t€21.98m\n",
    "Total:\t24.88\t€505.40m\t€11.75m''', '''Position\tø-Age\tMarket value\tø-Market value\n",
    "Goalkeeper\t24.50\t€20.75m\t€5.19m\n",
    "Defender\t26.67\t€115.00m\t€9.58m\n",
    "midfield\t27.78\t€113.50m\t€12.61m\n",
    "Attack\t23.08\t€153.30m\t€12.78m\n",
    "Total:\t25.54\t€402.55m\t€10.88m''', '''Position\tø-Age\tMarket value\tø-Market value\n",
    "Goalkeeper\t23.50\t€24.25m\t€6.06m\n",
    "Defender\t25.00\t€157.00m\t€11.21m\n",
    "midfield\t25.75\t€73.50m\t€6.13m\n",
    "Attack\t23.64\t€202.75m\t€18.43m\n",
    "Total:\t24.71\t€457.50m\t€11.16m''', '''Position\tø-Age\tMarket value\tø-Market value\n",
    "Goalkeeper\t25.25\t€24.50m\t€6.13m\n",
    "Defender\t23.38\t€161.85m\t€10.12m\n",
    "midfield\t25.83\t€60.75m\t€5.06m\n",
    "Attack\t24.67\t€157.00m\t€17.44m\n",
    "Total:\t24.56\t€404.10m\t€9.86m''', '''Position\tø-Age\tMarket value\tø-Market value\n",
    "Goalkeeper\t29.25\t€6.20m\t€1.55m\n",
    "Defender\t26.08\t€144.25m\t€11.10m\n",
    "midfield\t24.44\t€97.00m\t€6.06m\n",
    "Attack\t23.40\t€140.55m\t€14.06m\n",
    "Total:\t25.14\t€388.00m\t€9.02m''', '''Position\tø-Age\tMarket value\tø-Market value\n",
    "Goalkeeper\t28.50\t€11.60m\t€2.90m\n",
    "Defender\t25.50\t€144.80m\t€12.07m\n",
    "midfield\t25.29\t€110.38m\t€7.88m\n",
    "Attack\t22.50\t€118.10m\t€11.81m\n",
    "Total:\t24.98\t€384.88m\t€9.62m''', '''Position\tø-Age\tMarket value\tø-Market value\n",
    "Goalkeeper\t26.00\t€11.90m\t€2.38m\n",
    "Defender\t24.15\t€122.45m\t€9.42m\n",
    "midfield\t23.86\t€102.70m\t€7.34m\n",
    "Attack\t22.60\t€188.90m\t€18.89m\n",
    "Total:\t23.90\t€425.95m\t€10.14m''', '''Position\tø-Age\tMarket value\tø-Market value\n",
    "Goalkeeper\t27.50\t€11.70m\t€2.93m\n",
    "Defender\t25.33\t€97.90m\t€8.16m\n",
    "midfield\t24.64\t€94.85m\t€8.62m\n",
    "Attack\t23.18\t€150.10m\t€13.65m\n",
    "Total:\t24.74\t€354.55m\t€9.33m''', '''Position\tø-Age\tMarket value\tø-Market value\n",
    "Goalkeeper\t27.33\t€8.90m\t€2.97m\n",
    "Defender\t24.00\t€90.53m\t€6.04m\n",
    "midfield\t23.75\t€73.13m\t€6.09m\n",
    "Attack\t25.38\t€86.60m\t€10.83m\n",
    "Total:\t24.47\t€259.15m\t€6.82m''']"
   ]
  },
  {
   "cell_type": "code",
   "execution_count": 42,
   "id": "61aebe3e",
   "metadata": {},
   "outputs": [],
   "source": [
    "manu_markt = {}\n",
    "for i, year in enumerate(years):\n",
    "    headers = None\n",
    "    rows = year.split('\\n')\n",
    "    Position= []; Age=[]; Market_value=[]\n",
    "    for j, row in enumerate(rows):\n",
    "        \n",
    "        if j == 0:\n",
    "            \n",
    "            headers  = row.split('\\t')\n",
    "                \n",
    "        else:\n",
    "            \n",
    "            data = row.split('\\t')\n",
    "            Position.append(str(data[0]))\n",
    "            Age.append(float(data[1]))\n",
    "            Market_value.append(float(data[2][1:5]))\n",
    "        \n",
    "    manu_markt[i+2006] =  pd.DataFrame({headers[0]:Position, headers[1]:Age, headers[2]+' in million':Market_value})"
   ]
  },
  {
   "cell_type": "markdown",
   "id": "09530ab7",
   "metadata": {},
   "source": [
    "__Stats Dataset:__"
   ]
  },
  {
   "cell_type": "code",
   "execution_count": 43,
   "id": "2bafffd7",
   "metadata": {},
   "outputs": [
    {
     "data": {
      "text/html": [
       "<div>\n",
       "<style scoped>\n",
       "    .dataframe tbody tr th:only-of-type {\n",
       "        vertical-align: middle;\n",
       "    }\n",
       "\n",
       "    .dataframe tbody tr th {\n",
       "        vertical-align: top;\n",
       "    }\n",
       "\n",
       "    .dataframe thead th {\n",
       "        text-align: right;\n",
       "    }\n",
       "</style>\n",
       "<table border=\"1\" class=\"dataframe\">\n",
       "  <thead>\n",
       "    <tr style=\"text-align: right;\">\n",
       "      <th></th>\n",
       "      <th>season</th>\n",
       "      <th>team_score</th>\n",
       "      <th>team_x</th>\n",
       "      <th>goals</th>\n",
       "      <th>in_goals</th>\n",
       "      <th>team_y</th>\n",
       "      <th>total_yel_card</th>\n",
       "      <th>total_red_card</th>\n",
       "      <th>total_scoring_att</th>\n",
       "      <th>ontarget_scoring_att</th>\n",
       "      <th>...</th>\n",
       "      <th>total_tackle</th>\n",
       "      <th>last_man_tackle</th>\n",
       "      <th>own_goals</th>\n",
       "      <th>penalty_conceded</th>\n",
       "      <th>pen_goals_conceded</th>\n",
       "      <th>total_pass</th>\n",
       "      <th>total_long_balls</th>\n",
       "      <th>corner_taken</th>\n",
       "      <th>total_high_claim</th>\n",
       "      <th>punches</th>\n",
       "    </tr>\n",
       "  </thead>\n",
       "  <tbody>\n",
       "    <tr>\n",
       "      <th>0</th>\n",
       "      <td>2006-2007</td>\n",
       "      <td>68</td>\n",
       "      <td>Liverpool</td>\n",
       "      <td>57</td>\n",
       "      <td>27</td>\n",
       "      <td>Liverpool</td>\n",
       "      <td>44</td>\n",
       "      <td>0</td>\n",
       "      <td>668</td>\n",
       "      <td>214</td>\n",
       "      <td>...</td>\n",
       "      <td>969</td>\n",
       "      <td>2</td>\n",
       "      <td>0</td>\n",
       "      <td>1</td>\n",
       "      <td>1</td>\n",
       "      <td>17154</td>\n",
       "      <td>2800</td>\n",
       "      <td>282</td>\n",
       "      <td>51</td>\n",
       "      <td>27</td>\n",
       "    </tr>\n",
       "    <tr>\n",
       "      <th>1</th>\n",
       "      <td>2006-2007</td>\n",
       "      <td>50</td>\n",
       "      <td>Aston Villa</td>\n",
       "      <td>43</td>\n",
       "      <td>41</td>\n",
       "      <td>Aston Villa</td>\n",
       "      <td>48</td>\n",
       "      <td>1</td>\n",
       "      <td>470</td>\n",
       "      <td>154</td>\n",
       "      <td>...</td>\n",
       "      <td>936</td>\n",
       "      <td>0</td>\n",
       "      <td>1</td>\n",
       "      <td>4</td>\n",
       "      <td>3</td>\n",
       "      <td>13254</td>\n",
       "      <td>2152</td>\n",
       "      <td>213</td>\n",
       "      <td>57</td>\n",
       "      <td>26</td>\n",
       "    </tr>\n",
       "    <tr>\n",
       "      <th>2</th>\n",
       "      <td>2006-2007</td>\n",
       "      <td>28</td>\n",
       "      <td>Watford</td>\n",
       "      <td>29</td>\n",
       "      <td>59</td>\n",
       "      <td>Watford</td>\n",
       "      <td>45</td>\n",
       "      <td>2</td>\n",
       "      <td>418</td>\n",
       "      <td>135</td>\n",
       "      <td>...</td>\n",
       "      <td>744</td>\n",
       "      <td>1</td>\n",
       "      <td>5</td>\n",
       "      <td>6</td>\n",
       "      <td>5</td>\n",
       "      <td>10175</td>\n",
       "      <td>2263</td>\n",
       "      <td>212</td>\n",
       "      <td>63</td>\n",
       "      <td>15</td>\n",
       "    </tr>\n",
       "    <tr>\n",
       "      <th>3</th>\n",
       "      <td>2006-2007</td>\n",
       "      <td>38</td>\n",
       "      <td>Wigan Athletic</td>\n",
       "      <td>37</td>\n",
       "      <td>59</td>\n",
       "      <td>Wigan Athletic</td>\n",
       "      <td>73</td>\n",
       "      <td>3</td>\n",
       "      <td>474</td>\n",
       "      <td>147</td>\n",
       "      <td>...</td>\n",
       "      <td>809</td>\n",
       "      <td>0</td>\n",
       "      <td>5</td>\n",
       "      <td>7</td>\n",
       "      <td>5</td>\n",
       "      <td>11353</td>\n",
       "      <td>2418</td>\n",
       "      <td>177</td>\n",
       "      <td>61</td>\n",
       "      <td>29</td>\n",
       "    </tr>\n",
       "    <tr>\n",
       "      <th>4</th>\n",
       "      <td>2006-2007</td>\n",
       "      <td>52</td>\n",
       "      <td>Blackburn Rovers</td>\n",
       "      <td>52</td>\n",
       "      <td>54</td>\n",
       "      <td>Blackburn Rovers</td>\n",
       "      <td>77</td>\n",
       "      <td>6</td>\n",
       "      <td>478</td>\n",
       "      <td>155</td>\n",
       "      <td>...</td>\n",
       "      <td>864</td>\n",
       "      <td>2</td>\n",
       "      <td>2</td>\n",
       "      <td>11</td>\n",
       "      <td>6</td>\n",
       "      <td>14033</td>\n",
       "      <td>2544</td>\n",
       "      <td>205</td>\n",
       "      <td>56</td>\n",
       "      <td>25</td>\n",
       "    </tr>\n",
       "    <tr>\n",
       "      <th>...</th>\n",
       "      <td>...</td>\n",
       "      <td>...</td>\n",
       "      <td>...</td>\n",
       "      <td>...</td>\n",
       "      <td>...</td>\n",
       "      <td>...</td>\n",
       "      <td>...</td>\n",
       "      <td>...</td>\n",
       "      <td>...</td>\n",
       "      <td>...</td>\n",
       "      <td>...</td>\n",
       "      <td>...</td>\n",
       "      <td>...</td>\n",
       "      <td>...</td>\n",
       "      <td>...</td>\n",
       "      <td>...</td>\n",
       "      <td>...</td>\n",
       "      <td>...</td>\n",
       "      <td>...</td>\n",
       "      <td>...</td>\n",
       "      <td>...</td>\n",
       "    </tr>\n",
       "    <tr>\n",
       "      <th>235</th>\n",
       "      <td>2017-2018</td>\n",
       "      <td>63</td>\n",
       "      <td>Arsenal</td>\n",
       "      <td>74</td>\n",
       "      <td>51</td>\n",
       "      <td>Arsenal</td>\n",
       "      <td>57</td>\n",
       "      <td>2</td>\n",
       "      <td>594</td>\n",
       "      <td>234</td>\n",
       "      <td>...</td>\n",
       "      <td>623</td>\n",
       "      <td>5</td>\n",
       "      <td>0</td>\n",
       "      <td>6</td>\n",
       "      <td>5</td>\n",
       "      <td>23524</td>\n",
       "      <td>1994</td>\n",
       "      <td>225</td>\n",
       "      <td>39</td>\n",
       "      <td>24</td>\n",
       "    </tr>\n",
       "    <tr>\n",
       "      <th>236</th>\n",
       "      <td>2017-2018</td>\n",
       "      <td>44</td>\n",
       "      <td>Newcastle United</td>\n",
       "      <td>39</td>\n",
       "      <td>47</td>\n",
       "      <td>Newcastle United</td>\n",
       "      <td>52</td>\n",
       "      <td>2</td>\n",
       "      <td>451</td>\n",
       "      <td>149</td>\n",
       "      <td>...</td>\n",
       "      <td>644</td>\n",
       "      <td>6</td>\n",
       "      <td>3</td>\n",
       "      <td>6</td>\n",
       "      <td>4</td>\n",
       "      <td>14028</td>\n",
       "      <td>2610</td>\n",
       "      <td>167</td>\n",
       "      <td>40</td>\n",
       "      <td>18</td>\n",
       "    </tr>\n",
       "    <tr>\n",
       "      <th>237</th>\n",
       "      <td>2017-2018</td>\n",
       "      <td>70</td>\n",
       "      <td>Chelsea</td>\n",
       "      <td>62</td>\n",
       "      <td>38</td>\n",
       "      <td>Chelsea</td>\n",
       "      <td>42</td>\n",
       "      <td>4</td>\n",
       "      <td>606</td>\n",
       "      <td>220</td>\n",
       "      <td>...</td>\n",
       "      <td>636</td>\n",
       "      <td>1</td>\n",
       "      <td>2</td>\n",
       "      <td>2</td>\n",
       "      <td>2</td>\n",
       "      <td>21264</td>\n",
       "      <td>2140</td>\n",
       "      <td>230</td>\n",
       "      <td>27</td>\n",
       "      <td>12</td>\n",
       "    </tr>\n",
       "    <tr>\n",
       "      <th>238</th>\n",
       "      <td>2017-2018</td>\n",
       "      <td>49</td>\n",
       "      <td>Everton</td>\n",
       "      <td>44</td>\n",
       "      <td>58</td>\n",
       "      <td>Everton</td>\n",
       "      <td>51</td>\n",
       "      <td>3</td>\n",
       "      <td>359</td>\n",
       "      <td>121</td>\n",
       "      <td>...</td>\n",
       "      <td>644</td>\n",
       "      <td>0</td>\n",
       "      <td>1</td>\n",
       "      <td>5</td>\n",
       "      <td>3</td>\n",
       "      <td>14749</td>\n",
       "      <td>2726</td>\n",
       "      <td>150</td>\n",
       "      <td>28</td>\n",
       "      <td>23</td>\n",
       "    </tr>\n",
       "    <tr>\n",
       "      <th>239</th>\n",
       "      <td>2017-2018</td>\n",
       "      <td>36</td>\n",
       "      <td>Southampton</td>\n",
       "      <td>37</td>\n",
       "      <td>56</td>\n",
       "      <td>Southampton</td>\n",
       "      <td>63</td>\n",
       "      <td>2</td>\n",
       "      <td>450</td>\n",
       "      <td>145</td>\n",
       "      <td>...</td>\n",
       "      <td>658</td>\n",
       "      <td>4</td>\n",
       "      <td>1</td>\n",
       "      <td>2</td>\n",
       "      <td>1</td>\n",
       "      <td>17174</td>\n",
       "      <td>2541</td>\n",
       "      <td>227</td>\n",
       "      <td>29</td>\n",
       "      <td>13</td>\n",
       "    </tr>\n",
       "  </tbody>\n",
       "</table>\n",
       "<p>240 rows × 23 columns</p>\n",
       "</div>"
      ],
      "text/plain": [
       "        season  team_score            team_x  goals  in_goals  \\\n",
       "0    2006-2007          68         Liverpool     57        27   \n",
       "1    2006-2007          50       Aston Villa     43        41   \n",
       "2    2006-2007          28           Watford     29        59   \n",
       "3    2006-2007          38    Wigan Athletic     37        59   \n",
       "4    2006-2007          52  Blackburn Rovers     52        54   \n",
       "..         ...         ...               ...    ...       ...   \n",
       "235  2017-2018          63           Arsenal     74        51   \n",
       "236  2017-2018          44  Newcastle United     39        47   \n",
       "237  2017-2018          70           Chelsea     62        38   \n",
       "238  2017-2018          49           Everton     44        58   \n",
       "239  2017-2018          36       Southampton     37        56   \n",
       "\n",
       "               team_y  total_yel_card  total_red_card  total_scoring_att  \\\n",
       "0           Liverpool              44               0                668   \n",
       "1         Aston Villa              48               1                470   \n",
       "2             Watford              45               2                418   \n",
       "3      Wigan Athletic              73               3                474   \n",
       "4    Blackburn Rovers              77               6                478   \n",
       "..                ...             ...             ...                ...   \n",
       "235           Arsenal              57               2                594   \n",
       "236  Newcastle United              52               2                451   \n",
       "237           Chelsea              42               4                606   \n",
       "238           Everton              51               3                359   \n",
       "239       Southampton              63               2                450   \n",
       "\n",
       "     ontarget_scoring_att  ...  total_tackle  last_man_tackle  own_goals  \\\n",
       "0                     214  ...           969                2          0   \n",
       "1                     154  ...           936                0          1   \n",
       "2                     135  ...           744                1          5   \n",
       "3                     147  ...           809                0          5   \n",
       "4                     155  ...           864                2          2   \n",
       "..                    ...  ...           ...              ...        ...   \n",
       "235                   234  ...           623                5          0   \n",
       "236                   149  ...           644                6          3   \n",
       "237                   220  ...           636                1          2   \n",
       "238                   121  ...           644                0          1   \n",
       "239                   145  ...           658                4          1   \n",
       "\n",
       "     penalty_conceded  pen_goals_conceded  total_pass  total_long_balls  \\\n",
       "0                   1                   1       17154              2800   \n",
       "1                   4                   3       13254              2152   \n",
       "2                   6                   5       10175              2263   \n",
       "3                   7                   5       11353              2418   \n",
       "4                  11                   6       14033              2544   \n",
       "..                ...                 ...         ...               ...   \n",
       "235                 6                   5       23524              1994   \n",
       "236                 6                   4       14028              2610   \n",
       "237                 2                   2       21264              2140   \n",
       "238                 5                   3       14749              2726   \n",
       "239                 2                   1       17174              2541   \n",
       "\n",
       "     corner_taken  total_high_claim  punches  \n",
       "0             282                51       27  \n",
       "1             213                57       26  \n",
       "2             212                63       15  \n",
       "3             177                61       29  \n",
       "4             205                56       25  \n",
       "..            ...               ...      ...  \n",
       "235           225                39       24  \n",
       "236           167                40       18  \n",
       "237           230                27       12  \n",
       "238           150                28       23  \n",
       "239           227                29       13  \n",
       "\n",
       "[240 rows x 23 columns]"
      ]
     },
     "execution_count": 43,
     "metadata": {},
     "output_type": "execute_result"
    }
   ],
   "source": [
    "stats_needed = stats[['team', 'total_yel_card', 'total_red_card', 'total_scoring_att', 'ontarget_scoring_att', 'total_offside', 'clean_sheet', 'saves', 'total_tackle', 'last_man_tackle', 'own_goals', 'penalty_conceded', 'pen_goals_conceded', 'total_pass', 'total_long_balls', 'corner_taken', 'total_high_claim', 'punches', 'season']]\n",
    "x = ts_df.merge(stats_needed, on='season', how='inner')\n",
    "indexs = [i for i in range(0, len(x)) if x['team_x'][i] == x['team_y'][i]]\n",
    "seasons_stats = x.iloc[indexs].reset_index(drop=True)\n",
    "seasons_stats"
   ]
  },
  {
   "cell_type": "markdown",
   "id": "cf4da0c8",
   "metadata": {},
   "source": [
    "# Data After Cleaning:"
   ]
  },
  {
   "cell_type": "markdown",
   "id": "5cbc7b3f",
   "metadata": {},
   "source": [
    "__Matches Dataset:__"
   ]
  },
  {
   "cell_type": "code",
   "execution_count": 44,
   "id": "38a57823",
   "metadata": {},
   "outputs": [
    {
     "data": {
      "text/html": [
       "<div>\n",
       "<style scoped>\n",
       "    .dataframe tbody tr th:only-of-type {\n",
       "        vertical-align: middle;\n",
       "    }\n",
       "\n",
       "    .dataframe tbody tr th {\n",
       "        vertical-align: top;\n",
       "    }\n",
       "\n",
       "    .dataframe thead th {\n",
       "        text-align: right;\n",
       "    }\n",
       "</style>\n",
       "<table border=\"1\" class=\"dataframe\">\n",
       "  <thead>\n",
       "    <tr style=\"text-align: right;\">\n",
       "      <th></th>\n",
       "      <th>home_team</th>\n",
       "      <th>away_team</th>\n",
       "      <th>home_goals</th>\n",
       "      <th>away_goals</th>\n",
       "      <th>result</th>\n",
       "      <th>season</th>\n",
       "    </tr>\n",
       "  </thead>\n",
       "  <tbody>\n",
       "    <tr>\n",
       "      <th>0</th>\n",
       "      <td>Sheffield United</td>\n",
       "      <td>Liverpool</td>\n",
       "      <td>1</td>\n",
       "      <td>1</td>\n",
       "      <td>D</td>\n",
       "      <td>2006-2007</td>\n",
       "    </tr>\n",
       "    <tr>\n",
       "      <th>1</th>\n",
       "      <td>Arsenal</td>\n",
       "      <td>Aston Villa</td>\n",
       "      <td>1</td>\n",
       "      <td>1</td>\n",
       "      <td>D</td>\n",
       "      <td>2006-2007</td>\n",
       "    </tr>\n",
       "    <tr>\n",
       "      <th>2</th>\n",
       "      <td>Everton</td>\n",
       "      <td>Watford</td>\n",
       "      <td>2</td>\n",
       "      <td>1</td>\n",
       "      <td>H</td>\n",
       "      <td>2006-2007</td>\n",
       "    </tr>\n",
       "    <tr>\n",
       "      <th>3</th>\n",
       "      <td>Newcastle United</td>\n",
       "      <td>Wigan Athletic</td>\n",
       "      <td>2</td>\n",
       "      <td>1</td>\n",
       "      <td>H</td>\n",
       "      <td>2006-2007</td>\n",
       "    </tr>\n",
       "    <tr>\n",
       "      <th>4</th>\n",
       "      <td>Portsmouth</td>\n",
       "      <td>Blackburn Rovers</td>\n",
       "      <td>3</td>\n",
       "      <td>0</td>\n",
       "      <td>H</td>\n",
       "      <td>2006-2007</td>\n",
       "    </tr>\n",
       "    <tr>\n",
       "      <th>...</th>\n",
       "      <td>...</td>\n",
       "      <td>...</td>\n",
       "      <td>...</td>\n",
       "      <td>...</td>\n",
       "      <td>...</td>\n",
       "      <td>...</td>\n",
       "    </tr>\n",
       "    <tr>\n",
       "      <th>4555</th>\n",
       "      <td>Newcastle United</td>\n",
       "      <td>Chelsea</td>\n",
       "      <td>3</td>\n",
       "      <td>0</td>\n",
       "      <td>H</td>\n",
       "      <td>2017-2018</td>\n",
       "    </tr>\n",
       "    <tr>\n",
       "      <th>4556</th>\n",
       "      <td>Southampton</td>\n",
       "      <td>Manchester City</td>\n",
       "      <td>0</td>\n",
       "      <td>1</td>\n",
       "      <td>A</td>\n",
       "      <td>2017-2018</td>\n",
       "    </tr>\n",
       "    <tr>\n",
       "      <th>4557</th>\n",
       "      <td>Swansea City</td>\n",
       "      <td>Stoke City</td>\n",
       "      <td>1</td>\n",
       "      <td>2</td>\n",
       "      <td>A</td>\n",
       "      <td>2017-2018</td>\n",
       "    </tr>\n",
       "    <tr>\n",
       "      <th>4558</th>\n",
       "      <td>Tottenham Hotspur</td>\n",
       "      <td>Leicester City</td>\n",
       "      <td>5</td>\n",
       "      <td>4</td>\n",
       "      <td>H</td>\n",
       "      <td>2017-2018</td>\n",
       "    </tr>\n",
       "    <tr>\n",
       "      <th>4559</th>\n",
       "      <td>West Ham United</td>\n",
       "      <td>Everton</td>\n",
       "      <td>3</td>\n",
       "      <td>1</td>\n",
       "      <td>H</td>\n",
       "      <td>2017-2018</td>\n",
       "    </tr>\n",
       "  </tbody>\n",
       "</table>\n",
       "<p>4560 rows × 6 columns</p>\n",
       "</div>"
      ],
      "text/plain": [
       "              home_team         away_team  home_goals  away_goals result  \\\n",
       "0      Sheffield United         Liverpool           1           1      D   \n",
       "1               Arsenal       Aston Villa           1           1      D   \n",
       "2               Everton           Watford           2           1      H   \n",
       "3      Newcastle United    Wigan Athletic           2           1      H   \n",
       "4            Portsmouth  Blackburn Rovers           3           0      H   \n",
       "...                 ...               ...         ...         ...    ...   \n",
       "4555   Newcastle United           Chelsea           3           0      H   \n",
       "4556        Southampton   Manchester City           0           1      A   \n",
       "4557       Swansea City        Stoke City           1           2      A   \n",
       "4558  Tottenham Hotspur    Leicester City           5           4      H   \n",
       "4559    West Ham United           Everton           3           1      H   \n",
       "\n",
       "         season  \n",
       "0     2006-2007  \n",
       "1     2006-2007  \n",
       "2     2006-2007  \n",
       "3     2006-2007  \n",
       "4     2006-2007  \n",
       "...         ...  \n",
       "4555  2017-2018  \n",
       "4556  2017-2018  \n",
       "4557  2017-2018  \n",
       "4558  2017-2018  \n",
       "4559  2017-2018  \n",
       "\n",
       "[4560 rows x 6 columns]"
      ]
     },
     "execution_count": 44,
     "metadata": {},
     "output_type": "execute_result"
    }
   ],
   "source": [
    "match"
   ]
  },
  {
   "cell_type": "markdown",
   "id": "bc5f7bf6",
   "metadata": {},
   "source": [
    "__Stats Dataset:__"
   ]
  },
  {
   "cell_type": "code",
   "execution_count": 45,
   "id": "dd3fdb20",
   "metadata": {
    "scrolled": true
   },
   "outputs": [
    {
     "data": {
      "text/html": [
       "<div>\n",
       "<style scoped>\n",
       "    .dataframe tbody tr th:only-of-type {\n",
       "        vertical-align: middle;\n",
       "    }\n",
       "\n",
       "    .dataframe tbody tr th {\n",
       "        vertical-align: top;\n",
       "    }\n",
       "\n",
       "    .dataframe thead th {\n",
       "        text-align: right;\n",
       "    }\n",
       "</style>\n",
       "<table border=\"1\" class=\"dataframe\">\n",
       "  <thead>\n",
       "    <tr style=\"text-align: right;\">\n",
       "      <th></th>\n",
       "      <th>team</th>\n",
       "      <th>wins</th>\n",
       "      <th>losses</th>\n",
       "      <th>goals</th>\n",
       "      <th>total_yel_card</th>\n",
       "      <th>total_red_card</th>\n",
       "      <th>total_scoring_att</th>\n",
       "      <th>ontarget_scoring_att</th>\n",
       "      <th>hit_woodwork</th>\n",
       "      <th>att_hd_goal</th>\n",
       "      <th>att_pen_goal</th>\n",
       "      <th>att_freekick_goal</th>\n",
       "      <th>att_ibox_goal</th>\n",
       "      <th>att_obox_goal</th>\n",
       "      <th>goal_fastbreak</th>\n",
       "      <th>total_offside</th>\n",
       "      <th>clean_sheet</th>\n",
       "      <th>goals_conceded</th>\n",
       "      <th>saves</th>\n",
       "      <th>outfielder_block</th>\n",
       "      <th>interception</th>\n",
       "      <th>total_tackle</th>\n",
       "      <th>last_man_tackle</th>\n",
       "      <th>total_clearance</th>\n",
       "      <th>own_goals</th>\n",
       "      <th>penalty_conceded</th>\n",
       "      <th>pen_goals_conceded</th>\n",
       "      <th>total_pass</th>\n",
       "      <th>total_long_balls</th>\n",
       "      <th>total_cross</th>\n",
       "      <th>corner_taken</th>\n",
       "      <th>touches</th>\n",
       "      <th>clearance_off_line</th>\n",
       "      <th>penalty_save</th>\n",
       "      <th>total_high_claim</th>\n",
       "      <th>punches</th>\n",
       "      <th>season</th>\n",
       "    </tr>\n",
       "  </thead>\n",
       "  <tbody>\n",
       "    <tr>\n",
       "      <th>0</th>\n",
       "      <td>Manchester United</td>\n",
       "      <td>28</td>\n",
       "      <td>5</td>\n",
       "      <td>83</td>\n",
       "      <td>60</td>\n",
       "      <td>1</td>\n",
       "      <td>698</td>\n",
       "      <td>256</td>\n",
       "      <td>21</td>\n",
       "      <td>12</td>\n",
       "      <td>5</td>\n",
       "      <td>1</td>\n",
       "      <td>72</td>\n",
       "      <td>11</td>\n",
       "      <td>9</td>\n",
       "      <td>80</td>\n",
       "      <td>16</td>\n",
       "      <td>27</td>\n",
       "      <td>2</td>\n",
       "      <td>81</td>\n",
       "      <td>254</td>\n",
       "      <td>890</td>\n",
       "      <td>1</td>\n",
       "      <td>1222</td>\n",
       "      <td>1</td>\n",
       "      <td>5</td>\n",
       "      <td>3</td>\n",
       "      <td>18723</td>\n",
       "      <td>2397</td>\n",
       "      <td>918</td>\n",
       "      <td>258</td>\n",
       "      <td>25686</td>\n",
       "      <td>1</td>\n",
       "      <td>2</td>\n",
       "      <td>37</td>\n",
       "      <td>25</td>\n",
       "      <td>2006-2007</td>\n",
       "    </tr>\n",
       "    <tr>\n",
       "      <th>1</th>\n",
       "      <td>Chelsea</td>\n",
       "      <td>24</td>\n",
       "      <td>3</td>\n",
       "      <td>64</td>\n",
       "      <td>62</td>\n",
       "      <td>4</td>\n",
       "      <td>636</td>\n",
       "      <td>216</td>\n",
       "      <td>14</td>\n",
       "      <td>16</td>\n",
       "      <td>3</td>\n",
       "      <td>6</td>\n",
       "      <td>41</td>\n",
       "      <td>23</td>\n",
       "      <td>6</td>\n",
       "      <td>127</td>\n",
       "      <td>22</td>\n",
       "      <td>24</td>\n",
       "      <td>4</td>\n",
       "      <td>74</td>\n",
       "      <td>292</td>\n",
       "      <td>982</td>\n",
       "      <td>0</td>\n",
       "      <td>1206</td>\n",
       "      <td>1</td>\n",
       "      <td>3</td>\n",
       "      <td>2</td>\n",
       "      <td>16759</td>\n",
       "      <td>2270</td>\n",
       "      <td>897</td>\n",
       "      <td>231</td>\n",
       "      <td>24010</td>\n",
       "      <td>2</td>\n",
       "      <td>1</td>\n",
       "      <td>74</td>\n",
       "      <td>22</td>\n",
       "      <td>2006-2007</td>\n",
       "    </tr>\n",
       "    <tr>\n",
       "      <th>2</th>\n",
       "      <td>Liverpool</td>\n",
       "      <td>20</td>\n",
       "      <td>10</td>\n",
       "      <td>57</td>\n",
       "      <td>44</td>\n",
       "      <td>0</td>\n",
       "      <td>668</td>\n",
       "      <td>214</td>\n",
       "      <td>15</td>\n",
       "      <td>8</td>\n",
       "      <td>6</td>\n",
       "      <td>1</td>\n",
       "      <td>46</td>\n",
       "      <td>11</td>\n",
       "      <td>3</td>\n",
       "      <td>120</td>\n",
       "      <td>20</td>\n",
       "      <td>27</td>\n",
       "      <td>1</td>\n",
       "      <td>65</td>\n",
       "      <td>246</td>\n",
       "      <td>969</td>\n",
       "      <td>2</td>\n",
       "      <td>1115</td>\n",
       "      <td>0</td>\n",
       "      <td>1</td>\n",
       "      <td>1</td>\n",
       "      <td>17154</td>\n",
       "      <td>2800</td>\n",
       "      <td>1107</td>\n",
       "      <td>282</td>\n",
       "      <td>24150</td>\n",
       "      <td>1</td>\n",
       "      <td>0</td>\n",
       "      <td>51</td>\n",
       "      <td>27</td>\n",
       "      <td>2006-2007</td>\n",
       "    </tr>\n",
       "    <tr>\n",
       "      <th>3</th>\n",
       "      <td>Arsenal</td>\n",
       "      <td>19</td>\n",
       "      <td>8</td>\n",
       "      <td>63</td>\n",
       "      <td>59</td>\n",
       "      <td>3</td>\n",
       "      <td>638</td>\n",
       "      <td>226</td>\n",
       "      <td>19</td>\n",
       "      <td>10</td>\n",
       "      <td>10</td>\n",
       "      <td>3</td>\n",
       "      <td>53</td>\n",
       "      <td>10</td>\n",
       "      <td>7</td>\n",
       "      <td>111</td>\n",
       "      <td>12</td>\n",
       "      <td>35</td>\n",
       "      <td>6</td>\n",
       "      <td>73</td>\n",
       "      <td>214</td>\n",
       "      <td>998</td>\n",
       "      <td>1</td>\n",
       "      <td>1202</td>\n",
       "      <td>1</td>\n",
       "      <td>3</td>\n",
       "      <td>3</td>\n",
       "      <td>18458</td>\n",
       "      <td>2045</td>\n",
       "      <td>873</td>\n",
       "      <td>278</td>\n",
       "      <td>25592</td>\n",
       "      <td>1</td>\n",
       "      <td>0</td>\n",
       "      <td>88</td>\n",
       "      <td>27</td>\n",
       "      <td>2006-2007</td>\n",
       "    </tr>\n",
       "    <tr>\n",
       "      <th>4</th>\n",
       "      <td>Tottenham Hotspur</td>\n",
       "      <td>17</td>\n",
       "      <td>12</td>\n",
       "      <td>57</td>\n",
       "      <td>48</td>\n",
       "      <td>3</td>\n",
       "      <td>520</td>\n",
       "      <td>184</td>\n",
       "      <td>6</td>\n",
       "      <td>5</td>\n",
       "      <td>6</td>\n",
       "      <td>2</td>\n",
       "      <td>44</td>\n",
       "      <td>13</td>\n",
       "      <td>9</td>\n",
       "      <td>149</td>\n",
       "      <td>6</td>\n",
       "      <td>54</td>\n",
       "      <td>11</td>\n",
       "      <td>128</td>\n",
       "      <td>276</td>\n",
       "      <td>995</td>\n",
       "      <td>2</td>\n",
       "      <td>1412</td>\n",
       "      <td>2</td>\n",
       "      <td>7</td>\n",
       "      <td>6</td>\n",
       "      <td>14914</td>\n",
       "      <td>2408</td>\n",
       "      <td>796</td>\n",
       "      <td>181</td>\n",
       "      <td>22200</td>\n",
       "      <td>2</td>\n",
       "      <td>0</td>\n",
       "      <td>51</td>\n",
       "      <td>24</td>\n",
       "      <td>2006-2007</td>\n",
       "    </tr>\n",
       "    <tr>\n",
       "      <th>...</th>\n",
       "      <td>...</td>\n",
       "      <td>...</td>\n",
       "      <td>...</td>\n",
       "      <td>...</td>\n",
       "      <td>...</td>\n",
       "      <td>...</td>\n",
       "      <td>...</td>\n",
       "      <td>...</td>\n",
       "      <td>...</td>\n",
       "      <td>...</td>\n",
       "      <td>...</td>\n",
       "      <td>...</td>\n",
       "      <td>...</td>\n",
       "      <td>...</td>\n",
       "      <td>...</td>\n",
       "      <td>...</td>\n",
       "      <td>...</td>\n",
       "      <td>...</td>\n",
       "      <td>...</td>\n",
       "      <td>...</td>\n",
       "      <td>...</td>\n",
       "      <td>...</td>\n",
       "      <td>...</td>\n",
       "      <td>...</td>\n",
       "      <td>...</td>\n",
       "      <td>...</td>\n",
       "      <td>...</td>\n",
       "      <td>...</td>\n",
       "      <td>...</td>\n",
       "      <td>...</td>\n",
       "      <td>...</td>\n",
       "      <td>...</td>\n",
       "      <td>...</td>\n",
       "      <td>...</td>\n",
       "      <td>...</td>\n",
       "      <td>...</td>\n",
       "      <td>...</td>\n",
       "    </tr>\n",
       "    <tr>\n",
       "      <th>235</th>\n",
       "      <td>Huddersfield Town</td>\n",
       "      <td>9</td>\n",
       "      <td>19</td>\n",
       "      <td>28</td>\n",
       "      <td>62</td>\n",
       "      <td>3</td>\n",
       "      <td>362</td>\n",
       "      <td>109</td>\n",
       "      <td>8</td>\n",
       "      <td>5</td>\n",
       "      <td>2</td>\n",
       "      <td>0</td>\n",
       "      <td>27</td>\n",
       "      <td>1</td>\n",
       "      <td>2</td>\n",
       "      <td>67</td>\n",
       "      <td>10</td>\n",
       "      <td>58</td>\n",
       "      <td>103</td>\n",
       "      <td>118</td>\n",
       "      <td>519</td>\n",
       "      <td>744</td>\n",
       "      <td>4</td>\n",
       "      <td>1070</td>\n",
       "      <td>1</td>\n",
       "      <td>6</td>\n",
       "      <td>4</td>\n",
       "      <td>14960</td>\n",
       "      <td>2563</td>\n",
       "      <td>765</td>\n",
       "      <td>165</td>\n",
       "      <td>22619</td>\n",
       "      <td>6</td>\n",
       "      <td>2</td>\n",
       "      <td>31</td>\n",
       "      <td>24</td>\n",
       "      <td>2017-2018</td>\n",
       "    </tr>\n",
       "    <tr>\n",
       "      <th>236</th>\n",
       "      <td>Swansea City</td>\n",
       "      <td>8</td>\n",
       "      <td>21</td>\n",
       "      <td>28</td>\n",
       "      <td>51</td>\n",
       "      <td>1</td>\n",
       "      <td>338</td>\n",
       "      <td>103</td>\n",
       "      <td>8</td>\n",
       "      <td>3</td>\n",
       "      <td>1</td>\n",
       "      <td>0</td>\n",
       "      <td>24</td>\n",
       "      <td>4</td>\n",
       "      <td>0</td>\n",
       "      <td>38</td>\n",
       "      <td>9</td>\n",
       "      <td>56</td>\n",
       "      <td>137</td>\n",
       "      <td>124</td>\n",
       "      <td>390</td>\n",
       "      <td>610</td>\n",
       "      <td>2</td>\n",
       "      <td>943</td>\n",
       "      <td>2</td>\n",
       "      <td>7</td>\n",
       "      <td>3</td>\n",
       "      <td>15721</td>\n",
       "      <td>2580</td>\n",
       "      <td>694</td>\n",
       "      <td>150</td>\n",
       "      <td>22775</td>\n",
       "      <td>1</td>\n",
       "      <td>3</td>\n",
       "      <td>44</td>\n",
       "      <td>15</td>\n",
       "      <td>2017-2018</td>\n",
       "    </tr>\n",
       "    <tr>\n",
       "      <th>237</th>\n",
       "      <td>Southampton</td>\n",
       "      <td>7</td>\n",
       "      <td>16</td>\n",
       "      <td>37</td>\n",
       "      <td>63</td>\n",
       "      <td>2</td>\n",
       "      <td>450</td>\n",
       "      <td>145</td>\n",
       "      <td>15</td>\n",
       "      <td>7</td>\n",
       "      <td>3</td>\n",
       "      <td>1</td>\n",
       "      <td>34</td>\n",
       "      <td>3</td>\n",
       "      <td>2</td>\n",
       "      <td>73</td>\n",
       "      <td>8</td>\n",
       "      <td>56</td>\n",
       "      <td>110</td>\n",
       "      <td>128</td>\n",
       "      <td>462</td>\n",
       "      <td>658</td>\n",
       "      <td>4</td>\n",
       "      <td>953</td>\n",
       "      <td>1</td>\n",
       "      <td>2</td>\n",
       "      <td>1</td>\n",
       "      <td>17174</td>\n",
       "      <td>2541</td>\n",
       "      <td>800</td>\n",
       "      <td>227</td>\n",
       "      <td>24639</td>\n",
       "      <td>4</td>\n",
       "      <td>1</td>\n",
       "      <td>29</td>\n",
       "      <td>13</td>\n",
       "      <td>2017-2018</td>\n",
       "    </tr>\n",
       "    <tr>\n",
       "      <th>238</th>\n",
       "      <td>Stoke City</td>\n",
       "      <td>7</td>\n",
       "      <td>19</td>\n",
       "      <td>35</td>\n",
       "      <td>62</td>\n",
       "      <td>1</td>\n",
       "      <td>384</td>\n",
       "      <td>132</td>\n",
       "      <td>8</td>\n",
       "      <td>8</td>\n",
       "      <td>0</td>\n",
       "      <td>1</td>\n",
       "      <td>28</td>\n",
       "      <td>8</td>\n",
       "      <td>2</td>\n",
       "      <td>87</td>\n",
       "      <td>6</td>\n",
       "      <td>68</td>\n",
       "      <td>152</td>\n",
       "      <td>142</td>\n",
       "      <td>461</td>\n",
       "      <td>678</td>\n",
       "      <td>9</td>\n",
       "      <td>1164</td>\n",
       "      <td>2</td>\n",
       "      <td>5</td>\n",
       "      <td>5</td>\n",
       "      <td>12892</td>\n",
       "      <td>2528</td>\n",
       "      <td>598</td>\n",
       "      <td>136</td>\n",
       "      <td>20368</td>\n",
       "      <td>3</td>\n",
       "      <td>0</td>\n",
       "      <td>27</td>\n",
       "      <td>14</td>\n",
       "      <td>2017-2018</td>\n",
       "    </tr>\n",
       "    <tr>\n",
       "      <th>239</th>\n",
       "      <td>West Bromwich Albion</td>\n",
       "      <td>6</td>\n",
       "      <td>19</td>\n",
       "      <td>31</td>\n",
       "      <td>73</td>\n",
       "      <td>1</td>\n",
       "      <td>378</td>\n",
       "      <td>114</td>\n",
       "      <td>7</td>\n",
       "      <td>10</td>\n",
       "      <td>1</td>\n",
       "      <td>1</td>\n",
       "      <td>29</td>\n",
       "      <td>2</td>\n",
       "      <td>2</td>\n",
       "      <td>79</td>\n",
       "      <td>10</td>\n",
       "      <td>56</td>\n",
       "      <td>102</td>\n",
       "      <td>148</td>\n",
       "      <td>469</td>\n",
       "      <td>604</td>\n",
       "      <td>0</td>\n",
       "      <td>993</td>\n",
       "      <td>2</td>\n",
       "      <td>1</td>\n",
       "      <td>1</td>\n",
       "      <td>13218</td>\n",
       "      <td>2699</td>\n",
       "      <td>784</td>\n",
       "      <td>176</td>\n",
       "      <td>20552</td>\n",
       "      <td>3</td>\n",
       "      <td>0</td>\n",
       "      <td>40</td>\n",
       "      <td>5</td>\n",
       "      <td>2017-2018</td>\n",
       "    </tr>\n",
       "  </tbody>\n",
       "</table>\n",
       "<p>240 rows × 37 columns</p>\n",
       "</div>"
      ],
      "text/plain": [
       "                     team  wins  losses  goals  total_yel_card  \\\n",
       "0       Manchester United    28       5     83              60   \n",
       "1                 Chelsea    24       3     64              62   \n",
       "2               Liverpool    20      10     57              44   \n",
       "3                 Arsenal    19       8     63              59   \n",
       "4       Tottenham Hotspur    17      12     57              48   \n",
       "..                    ...   ...     ...    ...             ...   \n",
       "235     Huddersfield Town     9      19     28              62   \n",
       "236          Swansea City     8      21     28              51   \n",
       "237           Southampton     7      16     37              63   \n",
       "238            Stoke City     7      19     35              62   \n",
       "239  West Bromwich Albion     6      19     31              73   \n",
       "\n",
       "     total_red_card  total_scoring_att  ontarget_scoring_att  hit_woodwork  \\\n",
       "0                 1                698                   256            21   \n",
       "1                 4                636                   216            14   \n",
       "2                 0                668                   214            15   \n",
       "3                 3                638                   226            19   \n",
       "4                 3                520                   184             6   \n",
       "..              ...                ...                   ...           ...   \n",
       "235               3                362                   109             8   \n",
       "236               1                338                   103             8   \n",
       "237               2                450                   145            15   \n",
       "238               1                384                   132             8   \n",
       "239               1                378                   114             7   \n",
       "\n",
       "     att_hd_goal  att_pen_goal  att_freekick_goal  att_ibox_goal  \\\n",
       "0             12             5                  1             72   \n",
       "1             16             3                  6             41   \n",
       "2              8             6                  1             46   \n",
       "3             10            10                  3             53   \n",
       "4              5             6                  2             44   \n",
       "..           ...           ...                ...            ...   \n",
       "235            5             2                  0             27   \n",
       "236            3             1                  0             24   \n",
       "237            7             3                  1             34   \n",
       "238            8             0                  1             28   \n",
       "239           10             1                  1             29   \n",
       "\n",
       "     att_obox_goal  goal_fastbreak  total_offside  clean_sheet  \\\n",
       "0               11               9             80           16   \n",
       "1               23               6            127           22   \n",
       "2               11               3            120           20   \n",
       "3               10               7            111           12   \n",
       "4               13               9            149            6   \n",
       "..             ...             ...            ...          ...   \n",
       "235              1               2             67           10   \n",
       "236              4               0             38            9   \n",
       "237              3               2             73            8   \n",
       "238              8               2             87            6   \n",
       "239              2               2             79           10   \n",
       "\n",
       "     goals_conceded  saves  outfielder_block  interception  total_tackle  \\\n",
       "0                27      2                81           254           890   \n",
       "1                24      4                74           292           982   \n",
       "2                27      1                65           246           969   \n",
       "3                35      6                73           214           998   \n",
       "4                54     11               128           276           995   \n",
       "..              ...    ...               ...           ...           ...   \n",
       "235              58    103               118           519           744   \n",
       "236              56    137               124           390           610   \n",
       "237              56    110               128           462           658   \n",
       "238              68    152               142           461           678   \n",
       "239              56    102               148           469           604   \n",
       "\n",
       "     last_man_tackle  total_clearance  own_goals  penalty_conceded  \\\n",
       "0                  1             1222          1                 5   \n",
       "1                  0             1206          1                 3   \n",
       "2                  2             1115          0                 1   \n",
       "3                  1             1202          1                 3   \n",
       "4                  2             1412          2                 7   \n",
       "..               ...              ...        ...               ...   \n",
       "235                4             1070          1                 6   \n",
       "236                2              943          2                 7   \n",
       "237                4              953          1                 2   \n",
       "238                9             1164          2                 5   \n",
       "239                0              993          2                 1   \n",
       "\n",
       "     pen_goals_conceded  total_pass  total_long_balls  total_cross  \\\n",
       "0                     3       18723              2397          918   \n",
       "1                     2       16759              2270          897   \n",
       "2                     1       17154              2800         1107   \n",
       "3                     3       18458              2045          873   \n",
       "4                     6       14914              2408          796   \n",
       "..                  ...         ...               ...          ...   \n",
       "235                   4       14960              2563          765   \n",
       "236                   3       15721              2580          694   \n",
       "237                   1       17174              2541          800   \n",
       "238                   5       12892              2528          598   \n",
       "239                   1       13218              2699          784   \n",
       "\n",
       "     corner_taken  touches  clearance_off_line  penalty_save  \\\n",
       "0             258    25686                   1             2   \n",
       "1             231    24010                   2             1   \n",
       "2             282    24150                   1             0   \n",
       "3             278    25592                   1             0   \n",
       "4             181    22200                   2             0   \n",
       "..            ...      ...                 ...           ...   \n",
       "235           165    22619                   6             2   \n",
       "236           150    22775                   1             3   \n",
       "237           227    24639                   4             1   \n",
       "238           136    20368                   3             0   \n",
       "239           176    20552                   3             0   \n",
       "\n",
       "     total_high_claim  punches     season  \n",
       "0                  37       25  2006-2007  \n",
       "1                  74       22  2006-2007  \n",
       "2                  51       27  2006-2007  \n",
       "3                  88       27  2006-2007  \n",
       "4                  51       24  2006-2007  \n",
       "..                ...      ...        ...  \n",
       "235                31       24  2017-2018  \n",
       "236                44       15  2017-2018  \n",
       "237                29       13  2017-2018  \n",
       "238                27       14  2017-2018  \n",
       "239                40        5  2017-2018  \n",
       "\n",
       "[240 rows x 37 columns]"
      ]
     },
     "execution_count": 45,
     "metadata": {},
     "output_type": "execute_result"
    }
   ],
   "source": [
    "pd.set_option('display.max_columns', None)\n",
    "stats"
   ]
  },
  {
   "cell_type": "markdown",
   "id": "9ef7ab81",
   "metadata": {},
   "source": [
    "# 2-EDA:"
   ]
  },
  {
   "cell_type": "markdown",
   "id": "52d8aaec",
   "metadata": {},
   "source": [
    "__Who won the premier league in the available seasons?__"
   ]
  },
  {
   "cell_type": "code",
   "execution_count": 46,
   "id": "a035c7ee",
   "metadata": {},
   "outputs": [],
   "source": [
    "winers = {}\n",
    "\n",
    "for season in list(match['season'].value_counts().index):\n",
    "    \n",
    "    teams_score = {}\n",
    "    \n",
    "    for team in list(match[match['season']==season]['away_team'].unique()):\n",
    "        teamx = 0\n",
    "        teamx = team_score(match, season, team)\n",
    "        teams_score[teamx[1]] = teamx[0]\n",
    "        \n",
    "    winers[season] = [teams_score[max(teams_score)], max(teams_score)]\n",
    "        "
   ]
  },
  {
   "cell_type": "code",
   "execution_count": 47,
   "id": "a046851b",
   "metadata": {},
   "outputs": [
    {
     "data": {
      "text/plain": [
       "{'2006-2007': ['Manchester United', 89],\n",
       " '2007-2008': ['Manchester United', 87],\n",
       " '2008-2009': ['Manchester United', 90],\n",
       " '2009-2010': ['Chelsea', 86],\n",
       " '2010-2011': ['Manchester United', 80],\n",
       " '2011-2012': ['Manchester City', 89],\n",
       " '2012-2013': ['Manchester United', 89],\n",
       " '2013-2014': ['Manchester City', 86],\n",
       " '2014-2015': ['Chelsea', 87],\n",
       " '2015-2016': ['Leicester City', 81],\n",
       " '2016-2017': ['Chelsea', 93],\n",
       " '2017-2018': ['Manchester City', 100]}"
      ]
     },
     "execution_count": 47,
     "metadata": {},
     "output_type": "execute_result"
    }
   ],
   "source": [
    "winers"
   ]
  },
  {
   "cell_type": "markdown",
   "id": "390f6899",
   "metadata": {},
   "source": [
    "__Who are the relegated teams in the available seasons?__"
   ]
  },
  {
   "cell_type": "code",
   "execution_count": 48,
   "id": "19a2de08",
   "metadata": {},
   "outputs": [
    {
     "data": {
      "text/plain": [
       "{'2006-2007': [('Watford', 28),\n",
       "  ('Charlton Athletic', 34),\n",
       "  ('Sheffield United', 38)],\n",
       " '2007-2008': [('Derby County', 11), ('Birmingham City', 35), ('Reading', 36)],\n",
       " '2008-2009': [('West Bromwich Albion', 32),\n",
       "  ('Middlesbrough', 32),\n",
       "  ('Newcastle United', 34)],\n",
       " '2009-2010': [('Portsmouth', 28), ('Hull City', 30), ('Burnley', 30)],\n",
       " '2010-2011': [('West Ham United', 33),\n",
       "  ('Birmingham City', 39),\n",
       "  ('Blackpool', 39)],\n",
       " '2011-2012': [('Wolverhampton Wanderers', 25),\n",
       "  ('Blackburn Rovers', 31),\n",
       "  ('Bolton Wanderers', 36)],\n",
       " '2012-2013': [('Queens Park Rangers', 25),\n",
       "  ('Reading', 28),\n",
       "  ('Wigan Athletic', 36)],\n",
       " '2013-2014': [('Cardiff City', 30), ('Fulham', 32), ('Norwich City', 33)],\n",
       " '2014-2015': [('Queens Park Rangers', 30),\n",
       "  ('Burnley', 33),\n",
       "  ('Hull City', 35)],\n",
       " '2015-2016': [('Aston Villa', 17),\n",
       "  ('Norwich City', 34),\n",
       "  ('Newcastle United', 37)],\n",
       " '2016-2017': [('Sunderland', 24), ('Middlesbrough', 28), ('Hull City', 34)],\n",
       " '2017-2018': [('West Bromwich Albion', 31),\n",
       "  ('Stoke City', 33),\n",
       "  ('Swansea City', 33)]}"
      ]
     },
     "execution_count": 48,
     "metadata": {},
     "output_type": "execute_result"
    }
   ],
   "source": [
    "relegated_teams ={season:[(ts_df[ts_df['season']==season].sort_values(by='team_score').reset_index(drop=True).iloc[i]['team'], ts_df[ts_df['season']==season].sort_values(by='team_score').reset_index(drop=True).iloc[i]['team_score']) for i in range(0, 3)] for season in list(match['season'].value_counts().index)}\n",
    "relegated_teams"
   ]
  },
  {
   "cell_type": "markdown",
   "id": "787fd721",
   "metadata": {},
   "source": [
    "__top 6 teams in the available seasons?__"
   ]
  },
  {
   "cell_type": "code",
   "execution_count": 49,
   "id": "8c4578a1",
   "metadata": {},
   "outputs": [
    {
     "data": {
      "text/plain": [
       "{'2006-2007': [('Manchester United', 89),\n",
       "  ('Chelsea', 83),\n",
       "  ('Liverpool', 68),\n",
       "  ('Arsenal', 68),\n",
       "  ('Tottenham Hotspur', 60),\n",
       "  ('Everton', 58)],\n",
       " '2007-2008': [('Manchester United', 87),\n",
       "  ('Chelsea', 85),\n",
       "  ('Arsenal', 83),\n",
       "  ('Liverpool', 76),\n",
       "  ('Everton', 65),\n",
       "  ('Aston Villa', 60)],\n",
       " '2008-2009': [('Manchester United', 90),\n",
       "  ('Liverpool', 86),\n",
       "  ('Chelsea', 83),\n",
       "  ('Arsenal', 72),\n",
       "  ('Everton', 63),\n",
       "  ('Aston Villa', 62)],\n",
       " '2009-2010': [('Chelsea', 86),\n",
       "  ('Manchester United', 85),\n",
       "  ('Arsenal', 75),\n",
       "  ('Tottenham Hotspur', 70),\n",
       "  ('Manchester City', 67),\n",
       "  ('Aston Villa', 64)],\n",
       " '2010-2011': [('Manchester United', 80),\n",
       "  ('Manchester City', 71),\n",
       "  ('Chelsea', 71),\n",
       "  ('Arsenal', 68),\n",
       "  ('Tottenham Hotspur', 62),\n",
       "  ('Liverpool', 58)],\n",
       " '2011-2012': [('Manchester City', 89),\n",
       "  ('Manchester United', 89),\n",
       "  ('Arsenal', 70),\n",
       "  ('Tottenham Hotspur', 69),\n",
       "  ('Newcastle United', 65),\n",
       "  ('Chelsea', 64)],\n",
       " '2012-2013': [('Manchester United', 89),\n",
       "  ('Manchester City', 78),\n",
       "  ('Chelsea', 75),\n",
       "  ('Arsenal', 73),\n",
       "  ('Tottenham Hotspur', 72),\n",
       "  ('Everton', 63)],\n",
       " '2013-2014': [('Manchester City', 86),\n",
       "  ('Liverpool', 84),\n",
       "  ('Chelsea', 82),\n",
       "  ('Arsenal', 79),\n",
       "  ('Everton', 72),\n",
       "  ('Tottenham Hotspur', 69)],\n",
       " '2014-2015': [('Chelsea', 87),\n",
       "  ('Manchester City', 79),\n",
       "  ('Arsenal', 75),\n",
       "  ('Manchester United', 70),\n",
       "  ('Tottenham Hotspur', 64),\n",
       "  ('Liverpool', 62)],\n",
       " '2015-2016': [('Leicester City', 81),\n",
       "  ('Arsenal', 71),\n",
       "  ('Tottenham Hotspur', 70),\n",
       "  ('Manchester City', 66),\n",
       "  ('Manchester United', 66),\n",
       "  ('Southampton', 63)],\n",
       " '2016-2017': [('Chelsea', 93),\n",
       "  ('Tottenham Hotspur', 86),\n",
       "  ('Manchester City', 78),\n",
       "  ('Liverpool', 76),\n",
       "  ('Arsenal', 75),\n",
       "  ('Manchester United', 69)],\n",
       " '2017-2018': [('Manchester City', 100),\n",
       "  ('Manchester United', 81),\n",
       "  ('Tottenham Hotspur', 77),\n",
       "  ('Liverpool', 75),\n",
       "  ('Chelsea', 70),\n",
       "  ('Arsenal', 63)]}"
      ]
     },
     "execution_count": 49,
     "metadata": {},
     "output_type": "execute_result"
    }
   ],
   "source": [
    "top6_teams ={season:[(ts_df[ts_df['season']==season].sort_values(by='team_score', ascending=False).reset_index(drop=True).iloc[i]['team'], ts_df[ts_df['season']==season].sort_values(by='team_score', ascending=False).reset_index(drop=True).iloc[i]['team_score']) for i in range(0, 6)] for season in list(match['season'].value_counts().index)}\n",
    "top6_teams"
   ]
  },
  {
   "cell_type": "markdown",
   "id": "8706680b",
   "metadata": {},
   "source": [
    "__what is manchester united position in the available seasons?__"
   ]
  },
  {
   "cell_type": "code",
   "execution_count": 50,
   "id": "551ac92a",
   "metadata": {},
   "outputs": [
    {
     "data": {
      "text/plain": [
       "{'2006-2007': 1,\n",
       " '2007-2008': 1,\n",
       " '2008-2009': 1,\n",
       " '2009-2010': 2,\n",
       " '2010-2011': 1,\n",
       " '2011-2012': 2,\n",
       " '2012-2013': 1,\n",
       " '2013-2014': 7,\n",
       " '2014-2015': 4,\n",
       " '2015-2016': 5,\n",
       " '2016-2017': 6,\n",
       " '2017-2018': 2}"
      ]
     },
     "execution_count": 50,
     "metadata": {},
     "output_type": "execute_result"
    }
   ],
   "source": [
    "manU_pos = {season: int(ts_df[ts_df['season']==season].sort_values(by='team_score', ascending=False).reset_index()[ts_df[ts_df['season']==season].sort_values(by='team_score', ascending=False).reset_index().loc[:,'team']=='Manchester United'].index[0]+1) for season in list(match['season'].value_counts().index)}\n",
    "manU_pos"
   ]
  },
  {
   "cell_type": "code",
   "execution_count": null,
   "id": "4c15c4b6",
   "metadata": {},
   "outputs": [],
   "source": []
  },
  {
   "cell_type": "code",
   "execution_count": 51,
   "id": "a32c2976",
   "metadata": {},
   "outputs": [],
   "source": [
    "seasons_stats_manU = seasons_stats[seasons_stats['team_x']=='Manchester United'].drop('team_y', axis=1)"
   ]
  },
  {
   "cell_type": "code",
   "execution_count": 52,
   "id": "b598e9af",
   "metadata": {},
   "outputs": [
    {
     "data": {
      "text/plain": [
       "['season',\n",
       " 'goals',\n",
       " 'in_goals',\n",
       " 'total_yel_card',\n",
       " 'total_scoring_att',\n",
       " 'ontarget_scoring_att',\n",
       " 'total_offside',\n",
       " 'clean_sheet',\n",
       " 'penalty_conceded',\n",
       " 'pen_goals_conceded',\n",
       " 'corner_taken']"
      ]
     },
     "execution_count": 52,
     "metadata": {},
     "output_type": "execute_result"
    }
   ],
   "source": [
    "['season', 'goals', 'in_goals', 'total_yel_card', 'total_scoring_att', 'ontarget_scoring_att', 'total_offside' ,'clean_sheet', 'penalty_conceded', 'pen_goals_conceded','corner_taken']"
   ]
  },
  {
   "cell_type": "markdown",
   "id": "a89583d4",
   "metadata": {},
   "source": [
    "### Exploring Data"
   ]
  },
  {
   "cell_type": "code",
   "execution_count": null,
   "id": "9870012a",
   "metadata": {},
   "outputs": [],
   "source": [
    "'team_x' in ['season', 'team_x']"
   ]
  },
  {
   "cell_type": "code",
   "execution_count": null,
   "id": "461b12fa",
   "metadata": {},
   "outputs": [],
   "source": [
    "list(seasons_stats_manU.columns)[:]"
   ]
  },
  {
   "cell_type": "code",
   "execution_count": null,
   "id": "c0d12210",
   "metadata": {
    "scrolled": true
   },
   "outputs": [],
   "source": [
    "sns.scatterplot(seasons_stats_manU['season'], seasons_stats_manU['team_score'])"
   ]
  },
  {
   "cell_type": "code",
   "execution_count": null,
   "id": "00ccd028",
   "metadata": {
    "scrolled": true
   },
   "outputs": [],
   "source": [
    "sns.scatterplot(seasons_stats_manU['season'], seasons_stats_manU['goals'])"
   ]
  },
  {
   "cell_type": "code",
   "execution_count": null,
   "id": "e143e6d4",
   "metadata": {
    "scrolled": true
   },
   "outputs": [],
   "source": [
    "sns.scatterplot(seasons_stats_manU['season'], seasons_stats_manU['in_goals'])"
   ]
  },
  {
   "cell_type": "code",
   "execution_count": null,
   "id": "6a80fb32",
   "metadata": {
    "scrolled": true
   },
   "outputs": [],
   "source": [
    "sns.scatterplot(seasons_stats_manU['season'], seasons_stats_manU['total_yel_card'])"
   ]
  },
  {
   "cell_type": "code",
   "execution_count": null,
   "id": "7b4e21f8",
   "metadata": {
    "scrolled": true
   },
   "outputs": [],
   "source": [
    "sns.scatterplot(seasons_stats_manU['season'], seasons_stats_manU['total_red_card'])"
   ]
  },
  {
   "cell_type": "code",
   "execution_count": null,
   "id": "f4466373",
   "metadata": {
    "scrolled": true
   },
   "outputs": [],
   "source": [
    "sns.scatterplot(seasons_stats_manU['season'], seasons_stats_manU['total_scoring_att'])"
   ]
  },
  {
   "cell_type": "code",
   "execution_count": null,
   "id": "84ec7128",
   "metadata": {
    "scrolled": true
   },
   "outputs": [],
   "source": [
    "sns.scatterplot(seasons_stats_manU['season'], seasons_stats_manU['ontarget_scoring_att'])"
   ]
  },
  {
   "cell_type": "code",
   "execution_count": null,
   "id": "471c6afd",
   "metadata": {
    "scrolled": true
   },
   "outputs": [],
   "source": [
    "sns.scatterplot(seasons_stats_manU['season'], seasons_stats_manU['total_offside'])"
   ]
  },
  {
   "cell_type": "code",
   "execution_count": null,
   "id": "5f000ea7",
   "metadata": {
    "scrolled": true
   },
   "outputs": [],
   "source": [
    "sns.scatterplot(seasons_stats_manU['season'], seasons_stats_manU['clean_sheet'])"
   ]
  },
  {
   "cell_type": "code",
   "execution_count": null,
   "id": "75f48a8a",
   "metadata": {
    "scrolled": true
   },
   "outputs": [],
   "source": [
    "sns.scatterplot(seasons_stats_manU['season'], seasons_stats_manU['saves'])"
   ]
  },
  {
   "cell_type": "code",
   "execution_count": null,
   "id": "407409a8",
   "metadata": {
    "scrolled": true
   },
   "outputs": [],
   "source": [
    "sns.scatterplot(seasons_stats_manU['season'], seasons_stats_manU['total_tackle'])"
   ]
  },
  {
   "cell_type": "code",
   "execution_count": null,
   "id": "a5e84401",
   "metadata": {
    "scrolled": true
   },
   "outputs": [],
   "source": [
    "sns.scatterplot(seasons_stats_manU['season'], seasons_stats_manU['last_man_tackle'])"
   ]
  },
  {
   "cell_type": "code",
   "execution_count": null,
   "id": "cbf6332f",
   "metadata": {
    "scrolled": true
   },
   "outputs": [],
   "source": [
    "sns.scatterplot(seasons_stats_manU['season'], seasons_stats_manU['own_goals'])"
   ]
  },
  {
   "cell_type": "code",
   "execution_count": null,
   "id": "28f920ba",
   "metadata": {
    "scrolled": true
   },
   "outputs": [],
   "source": [
    "sns.scatterplot(seasons_stats_manU['season'], seasons_stats_manU['penalty_conceded'])"
   ]
  },
  {
   "cell_type": "code",
   "execution_count": null,
   "id": "ddd599df",
   "metadata": {
    "scrolled": true
   },
   "outputs": [],
   "source": [
    "sns.scatterplot(seasons_stats_manU['season'], seasons_stats_manU['pen_goals_conceded'])"
   ]
  },
  {
   "cell_type": "code",
   "execution_count": null,
   "id": "15cf8e5a",
   "metadata": {
    "scrolled": true
   },
   "outputs": [],
   "source": [
    "sns.scatterplot(seasons_stats_manU['season'], seasons_stats_manU['total_pass'])"
   ]
  },
  {
   "cell_type": "code",
   "execution_count": null,
   "id": "eb7db509",
   "metadata": {
    "scrolled": true
   },
   "outputs": [],
   "source": [
    "sns.scatterplot(seasons_stats_manU['season'], seasons_stats_manU['total_long_balls'])"
   ]
  },
  {
   "cell_type": "code",
   "execution_count": null,
   "id": "43a90066",
   "metadata": {
    "scrolled": true
   },
   "outputs": [],
   "source": [
    "sns.scatterplot(seasons_stats_manU['season'], seasons_stats_manU['corner_taken'])"
   ]
  },
  {
   "cell_type": "code",
   "execution_count": null,
   "id": "dd8f6adf",
   "metadata": {
    "scrolled": true
   },
   "outputs": [],
   "source": [
    "sns.scatterplot(seasons_stats_manU['season'], seasons_stats_manU['total_high_claim'])"
   ]
  },
  {
   "cell_type": "code",
   "execution_count": null,
   "id": "6e6a8524",
   "metadata": {
    "scrolled": true
   },
   "outputs": [],
   "source": [
    "sns.scatterplot(seasons_stats_manU['season'], seasons_stats_manU['punches'])"
   ]
  },
  {
   "cell_type": "code",
   "execution_count": null,
   "id": "d61047c6",
   "metadata": {},
   "outputs": [],
   "source": [
    "for i in range(len(manu_markt)):\n",
    "\n",
    "    manu_markt[i+2006].to_csv(str(i+2006) + '.csv')"
   ]
  },
  {
   "cell_type": "code",
   "execution_count": null,
   "id": "e0e401d4",
   "metadata": {},
   "outputs": [],
   "source": [
    "for i in range(len(seasons_stats_manU)):\n",
    "    seasons_stats_manU['season'].iloc[i] = seasons_stats_manU['season'].iloc[i][0:4]"
   ]
  },
  {
   "cell_type": "code",
   "execution_count": null,
   "id": "40969055",
   "metadata": {},
   "outputs": [],
   "source": [
    "seasons_stats_manU['season'] = seasons_stats_manU['season'].apply(lambda x: int(x[0:4]))"
   ]
  },
  {
   "cell_type": "code",
   "execution_count": null,
   "id": "98897bdb",
   "metadata": {},
   "outputs": [],
   "source": [
    "seasons_stats_manU"
   ]
  },
  {
   "cell_type": "code",
   "execution_count": null,
   "id": "6fac60d1",
   "metadata": {},
   "outputs": [],
   "source": [
    "seasons_stats_manU.to_csv('seasons_stats_manU.csv')"
   ]
  },
  {
   "cell_type": "code",
   "execution_count": null,
   "id": "df5a9349",
   "metadata": {},
   "outputs": [],
   "source": [
    "seasons_stats_manU['total_yel_card'].iloc[8:].mean()"
   ]
  },
  {
   "cell_type": "code",
   "execution_count": null,
   "id": "a060828e",
   "metadata": {},
   "outputs": [],
   "source": [
    "age = []\n",
    "mrkt = []\n",
    "for i in manu_markt.keys():\n",
    "    age.append(manu_markt[i].iloc[4]['ø-Age'])\n",
    "    mrkt.append(manu_markt[i].iloc[4]['Market value in million'])"
   ]
  },
  {
   "cell_type": "code",
   "execution_count": null,
   "id": "a0fbbfde",
   "metadata": {},
   "outputs": [],
   "source": [
    "x = pd.DataFrame({'season':seasons_stats_manU['season'], 'Age':age, 'Market':mrkt})"
   ]
  },
  {
   "cell_type": "code",
   "execution_count": null,
   "id": "e24cae8f",
   "metadata": {},
   "outputs": [],
   "source": [
    "manu_markt[2015]"
   ]
  },
  {
   "cell_type": "code",
   "execution_count": null,
   "id": "2452f85a",
   "metadata": {},
   "outputs": [],
   "source": [
    "manu_markt.keys()"
   ]
  },
  {
   "cell_type": "code",
   "execution_count": null,
   "id": "07453ab4",
   "metadata": {},
   "outputs": [],
   "source": [
    "['2006-2007', '2007-2008', '2008-2009']"
   ]
  },
  {
   "cell_type": "code",
   "execution_count": 82,
   "id": "f06d0b8f",
   "metadata": {},
   "outputs": [],
   "source": [
    "x = derbys['Manchester United'][(derbys['Manchester United']['season'] == '2013-2014') | (derbys['Manchester United']['season'] == '2014-2015') | (derbys['Manchester United']['season'] == '2015-2016') | (derbys['Manchester United']['season'] == '2016-2017') | (derbys['Manchester United']['season'] == '2017-2018')]"
   ]
  },
  {
   "cell_type": "code",
   "execution_count": 83,
   "id": "997a24af",
   "metadata": {},
   "outputs": [],
   "source": [
    "win = 0; lose = 0; drw = 0\n",
    "\n",
    "for i in range(len(x)):\n",
    "    \n",
    "    if (x.iloc[i]['home_team'] == 'Manchester United') & (x.iloc[i]['result'] == 'H'):\n",
    "        win = win+1\n",
    "        \n",
    "    elif (x.iloc[i]['away_team'] == 'Manchester United') & (x.iloc[i]['result'] == 'A'):\n",
    "        win = win+1\n",
    "        \n",
    "    elif (x.iloc[i]['home_team'] == 'Manchester United') & (x.iloc[i]['result'] == 'A'):\n",
    "        lose = lose+1\n",
    "        \n",
    "    elif (x.iloc[i]['away_team'] == 'Manchester United') & (x.iloc[i]['result'] == 'H'):\n",
    "        lose = lose+1\n",
    "        \n",
    "    elif (x.iloc[i]['home_team'] == 'Manchester United') & (x.iloc[i]['result'] == 'D'):\n",
    "        drw = drw+1\n",
    "        \n",
    "    elif (x.iloc[i]['away_team'] == 'Manchester United') & (x.iloc[i]['result'] == 'D'):\n",
    "        drw = drw+1"
   ]
  },
  {
   "cell_type": "code",
   "execution_count": 84,
   "id": "8c2753af",
   "metadata": {},
   "outputs": [
    {
     "data": {
      "text/plain": [
       "15"
      ]
     },
     "execution_count": 84,
     "metadata": {},
     "output_type": "execute_result"
    }
   ],
   "source": [
    "win"
   ]
  },
  {
   "cell_type": "code",
   "execution_count": 85,
   "id": "58461ea0",
   "metadata": {},
   "outputs": [
    {
     "data": {
      "text/plain": [
       "13"
      ]
     },
     "execution_count": 85,
     "metadata": {},
     "output_type": "execute_result"
    }
   ],
   "source": [
    "lose"
   ]
  },
  {
   "cell_type": "code",
   "execution_count": 86,
   "id": "f738e2d9",
   "metadata": {},
   "outputs": [
    {
     "data": {
      "text/plain": [
       "12"
      ]
     },
     "execution_count": 86,
     "metadata": {},
     "output_type": "execute_result"
    }
   ],
   "source": [
    "drw"
   ]
  },
  {
   "cell_type": "code",
   "execution_count": 81,
   "id": "be1dd7f0",
   "metadata": {},
   "outputs": [
    {
     "data": {
      "text/plain": [
       "24"
      ]
     },
     "execution_count": 81,
     "metadata": {},
     "output_type": "execute_result"
    }
   ],
   "source": [
    "len(x)"
   ]
  },
  {
   "cell_type": "code",
   "execution_count": 70,
   "id": "b6607b62",
   "metadata": {},
   "outputs": [
    {
     "data": {
      "text/html": [
       "<div>\n",
       "<style scoped>\n",
       "    .dataframe tbody tr th:only-of-type {\n",
       "        vertical-align: middle;\n",
       "    }\n",
       "\n",
       "    .dataframe tbody tr th {\n",
       "        vertical-align: top;\n",
       "    }\n",
       "\n",
       "    .dataframe thead th {\n",
       "        text-align: right;\n",
       "    }\n",
       "</style>\n",
       "<table border=\"1\" class=\"dataframe\">\n",
       "  <thead>\n",
       "    <tr style=\"text-align: right;\">\n",
       "      <th></th>\n",
       "      <th>home_team</th>\n",
       "      <th>away_team</th>\n",
       "      <th>home_goals</th>\n",
       "      <th>away_goals</th>\n",
       "      <th>result</th>\n",
       "      <th>season</th>\n",
       "    </tr>\n",
       "  </thead>\n",
       "  <tbody>\n",
       "    <tr>\n",
       "      <th>0</th>\n",
       "      <td>Manchester United</td>\n",
       "      <td>Liverpool</td>\n",
       "      <td>2</td>\n",
       "      <td>0</td>\n",
       "      <td>H</td>\n",
       "      <td>2006-2007</td>\n",
       "    </tr>\n",
       "    <tr>\n",
       "      <th>1</th>\n",
       "      <td>Liverpool</td>\n",
       "      <td>Manchester United</td>\n",
       "      <td>0</td>\n",
       "      <td>1</td>\n",
       "      <td>A</td>\n",
       "      <td>2006-2007</td>\n",
       "    </tr>\n",
       "    <tr>\n",
       "      <th>2</th>\n",
       "      <td>Manchester United</td>\n",
       "      <td>Chelsea</td>\n",
       "      <td>1</td>\n",
       "      <td>1</td>\n",
       "      <td>D</td>\n",
       "      <td>2006-2007</td>\n",
       "    </tr>\n",
       "    <tr>\n",
       "      <th>3</th>\n",
       "      <td>Chelsea</td>\n",
       "      <td>Manchester United</td>\n",
       "      <td>0</td>\n",
       "      <td>0</td>\n",
       "      <td>D</td>\n",
       "      <td>2006-2007</td>\n",
       "    </tr>\n",
       "    <tr>\n",
       "      <th>4</th>\n",
       "      <td>Manchester United</td>\n",
       "      <td>Arsenal</td>\n",
       "      <td>0</td>\n",
       "      <td>1</td>\n",
       "      <td>A</td>\n",
       "      <td>2006-2007</td>\n",
       "    </tr>\n",
       "    <tr>\n",
       "      <th>5</th>\n",
       "      <td>Arsenal</td>\n",
       "      <td>Manchester United</td>\n",
       "      <td>2</td>\n",
       "      <td>1</td>\n",
       "      <td>H</td>\n",
       "      <td>2006-2007</td>\n",
       "    </tr>\n",
       "    <tr>\n",
       "      <th>6</th>\n",
       "      <td>Manchester United</td>\n",
       "      <td>Manchester City</td>\n",
       "      <td>3</td>\n",
       "      <td>1</td>\n",
       "      <td>H</td>\n",
       "      <td>2006-2007</td>\n",
       "    </tr>\n",
       "    <tr>\n",
       "      <th>7</th>\n",
       "      <td>Manchester City</td>\n",
       "      <td>Manchester United</td>\n",
       "      <td>0</td>\n",
       "      <td>1</td>\n",
       "      <td>A</td>\n",
       "      <td>2006-2007</td>\n",
       "    </tr>\n",
       "    <tr>\n",
       "      <th>8</th>\n",
       "      <td>Manchester United</td>\n",
       "      <td>Liverpool</td>\n",
       "      <td>3</td>\n",
       "      <td>0</td>\n",
       "      <td>H</td>\n",
       "      <td>2007-2008</td>\n",
       "    </tr>\n",
       "    <tr>\n",
       "      <th>9</th>\n",
       "      <td>Liverpool</td>\n",
       "      <td>Manchester United</td>\n",
       "      <td>0</td>\n",
       "      <td>1</td>\n",
       "      <td>A</td>\n",
       "      <td>2007-2008</td>\n",
       "    </tr>\n",
       "    <tr>\n",
       "      <th>10</th>\n",
       "      <td>Manchester United</td>\n",
       "      <td>Chelsea</td>\n",
       "      <td>2</td>\n",
       "      <td>0</td>\n",
       "      <td>H</td>\n",
       "      <td>2007-2008</td>\n",
       "    </tr>\n",
       "    <tr>\n",
       "      <th>11</th>\n",
       "      <td>Chelsea</td>\n",
       "      <td>Manchester United</td>\n",
       "      <td>2</td>\n",
       "      <td>1</td>\n",
       "      <td>H</td>\n",
       "      <td>2007-2008</td>\n",
       "    </tr>\n",
       "    <tr>\n",
       "      <th>12</th>\n",
       "      <td>Manchester United</td>\n",
       "      <td>Arsenal</td>\n",
       "      <td>2</td>\n",
       "      <td>1</td>\n",
       "      <td>H</td>\n",
       "      <td>2007-2008</td>\n",
       "    </tr>\n",
       "    <tr>\n",
       "      <th>13</th>\n",
       "      <td>Arsenal</td>\n",
       "      <td>Manchester United</td>\n",
       "      <td>2</td>\n",
       "      <td>2</td>\n",
       "      <td>D</td>\n",
       "      <td>2007-2008</td>\n",
       "    </tr>\n",
       "    <tr>\n",
       "      <th>14</th>\n",
       "      <td>Manchester United</td>\n",
       "      <td>Manchester City</td>\n",
       "      <td>1</td>\n",
       "      <td>2</td>\n",
       "      <td>A</td>\n",
       "      <td>2007-2008</td>\n",
       "    </tr>\n",
       "    <tr>\n",
       "      <th>15</th>\n",
       "      <td>Manchester City</td>\n",
       "      <td>Manchester United</td>\n",
       "      <td>1</td>\n",
       "      <td>0</td>\n",
       "      <td>H</td>\n",
       "      <td>2007-2008</td>\n",
       "    </tr>\n",
       "    <tr>\n",
       "      <th>16</th>\n",
       "      <td>Manchester United</td>\n",
       "      <td>Liverpool</td>\n",
       "      <td>1</td>\n",
       "      <td>4</td>\n",
       "      <td>A</td>\n",
       "      <td>2008-2009</td>\n",
       "    </tr>\n",
       "    <tr>\n",
       "      <th>17</th>\n",
       "      <td>Liverpool</td>\n",
       "      <td>Manchester United</td>\n",
       "      <td>2</td>\n",
       "      <td>1</td>\n",
       "      <td>H</td>\n",
       "      <td>2008-2009</td>\n",
       "    </tr>\n",
       "    <tr>\n",
       "      <th>18</th>\n",
       "      <td>Manchester United</td>\n",
       "      <td>Chelsea</td>\n",
       "      <td>3</td>\n",
       "      <td>0</td>\n",
       "      <td>H</td>\n",
       "      <td>2008-2009</td>\n",
       "    </tr>\n",
       "    <tr>\n",
       "      <th>19</th>\n",
       "      <td>Chelsea</td>\n",
       "      <td>Manchester United</td>\n",
       "      <td>1</td>\n",
       "      <td>1</td>\n",
       "      <td>D</td>\n",
       "      <td>2008-2009</td>\n",
       "    </tr>\n",
       "    <tr>\n",
       "      <th>20</th>\n",
       "      <td>Manchester United</td>\n",
       "      <td>Arsenal</td>\n",
       "      <td>0</td>\n",
       "      <td>0</td>\n",
       "      <td>D</td>\n",
       "      <td>2008-2009</td>\n",
       "    </tr>\n",
       "    <tr>\n",
       "      <th>21</th>\n",
       "      <td>Arsenal</td>\n",
       "      <td>Manchester United</td>\n",
       "      <td>2</td>\n",
       "      <td>1</td>\n",
       "      <td>H</td>\n",
       "      <td>2008-2009</td>\n",
       "    </tr>\n",
       "    <tr>\n",
       "      <th>22</th>\n",
       "      <td>Manchester United</td>\n",
       "      <td>Manchester City</td>\n",
       "      <td>2</td>\n",
       "      <td>0</td>\n",
       "      <td>H</td>\n",
       "      <td>2008-2009</td>\n",
       "    </tr>\n",
       "    <tr>\n",
       "      <th>23</th>\n",
       "      <td>Manchester City</td>\n",
       "      <td>Manchester United</td>\n",
       "      <td>0</td>\n",
       "      <td>1</td>\n",
       "      <td>A</td>\n",
       "      <td>2008-2009</td>\n",
       "    </tr>\n",
       "  </tbody>\n",
       "</table>\n",
       "</div>"
      ],
      "text/plain": [
       "            home_team          away_team  home_goals  away_goals result  \\\n",
       "0   Manchester United          Liverpool           2           0      H   \n",
       "1           Liverpool  Manchester United           0           1      A   \n",
       "2   Manchester United            Chelsea           1           1      D   \n",
       "3             Chelsea  Manchester United           0           0      D   \n",
       "4   Manchester United            Arsenal           0           1      A   \n",
       "5             Arsenal  Manchester United           2           1      H   \n",
       "6   Manchester United    Manchester City           3           1      H   \n",
       "7     Manchester City  Manchester United           0           1      A   \n",
       "8   Manchester United          Liverpool           3           0      H   \n",
       "9           Liverpool  Manchester United           0           1      A   \n",
       "10  Manchester United            Chelsea           2           0      H   \n",
       "11            Chelsea  Manchester United           2           1      H   \n",
       "12  Manchester United            Arsenal           2           1      H   \n",
       "13            Arsenal  Manchester United           2           2      D   \n",
       "14  Manchester United    Manchester City           1           2      A   \n",
       "15    Manchester City  Manchester United           1           0      H   \n",
       "16  Manchester United          Liverpool           1           4      A   \n",
       "17          Liverpool  Manchester United           2           1      H   \n",
       "18  Manchester United            Chelsea           3           0      H   \n",
       "19            Chelsea  Manchester United           1           1      D   \n",
       "20  Manchester United            Arsenal           0           0      D   \n",
       "21            Arsenal  Manchester United           2           1      H   \n",
       "22  Manchester United    Manchester City           2           0      H   \n",
       "23    Manchester City  Manchester United           0           1      A   \n",
       "\n",
       "       season  \n",
       "0   2006-2007  \n",
       "1   2006-2007  \n",
       "2   2006-2007  \n",
       "3   2006-2007  \n",
       "4   2006-2007  \n",
       "5   2006-2007  \n",
       "6   2006-2007  \n",
       "7   2006-2007  \n",
       "8   2007-2008  \n",
       "9   2007-2008  \n",
       "10  2007-2008  \n",
       "11  2007-2008  \n",
       "12  2007-2008  \n",
       "13  2007-2008  \n",
       "14  2007-2008  \n",
       "15  2007-2008  \n",
       "16  2008-2009  \n",
       "17  2008-2009  \n",
       "18  2008-2009  \n",
       "19  2008-2009  \n",
       "20  2008-2009  \n",
       "21  2008-2009  \n",
       "22  2008-2009  \n",
       "23  2008-2009  "
      ]
     },
     "execution_count": 70,
     "metadata": {},
     "output_type": "execute_result"
    }
   ],
   "source": [
    "x"
   ]
  },
  {
   "cell_type": "code",
   "execution_count": 87,
   "id": "e225fd06",
   "metadata": {},
   "outputs": [
    {
     "data": {
      "text/html": [
       "<div>\n",
       "<style scoped>\n",
       "    .dataframe tbody tr th:only-of-type {\n",
       "        vertical-align: middle;\n",
       "    }\n",
       "\n",
       "    .dataframe tbody tr th {\n",
       "        vertical-align: top;\n",
       "    }\n",
       "\n",
       "    .dataframe thead th {\n",
       "        text-align: right;\n",
       "    }\n",
       "</style>\n",
       "<table border=\"1\" class=\"dataframe\">\n",
       "  <thead>\n",
       "    <tr style=\"text-align: right;\">\n",
       "      <th></th>\n",
       "      <th>manager</th>\n",
       "      <th>from</th>\n",
       "      <th>to</th>\n",
       "    </tr>\n",
       "  </thead>\n",
       "  <tbody>\n",
       "    <tr>\n",
       "      <th>0</th>\n",
       "      <td>Jose Mourinho</td>\n",
       "      <td>27 May, 2016</td>\n",
       "      <td>18 Dec, 2018</td>\n",
       "    </tr>\n",
       "    <tr>\n",
       "      <th>1</th>\n",
       "      <td>Louis van Gaal</td>\n",
       "      <td>19 May, 2014</td>\n",
       "      <td>23 May, 2016</td>\n",
       "    </tr>\n",
       "    <tr>\n",
       "      <th>2</th>\n",
       "      <td>Ryan Giggs</td>\n",
       "      <td>22 Apr, 2014</td>\n",
       "      <td>19 May, 2014</td>\n",
       "    </tr>\n",
       "    <tr>\n",
       "      <th>3</th>\n",
       "      <td>David Moyes</td>\n",
       "      <td>19 May, 2013</td>\n",
       "      <td>22 Apr, 2014</td>\n",
       "    </tr>\n",
       "    <tr>\n",
       "      <th>4</th>\n",
       "      <td>Alex Ferguson</td>\n",
       "      <td>06 Nov, 1986</td>\n",
       "      <td>19 May, 2013</td>\n",
       "    </tr>\n",
       "  </tbody>\n",
       "</table>\n",
       "</div>"
      ],
      "text/plain": [
       "          manager          from            to\n",
       "0   Jose Mourinho  27 May, 2016  18 Dec, 2018\n",
       "1  Louis van Gaal  19 May, 2014  23 May, 2016\n",
       "2      Ryan Giggs  22 Apr, 2014  19 May, 2014\n",
       "3     David Moyes  19 May, 2013  22 Apr, 2014\n",
       "4   Alex Ferguson  06 Nov, 1986  19 May, 2013"
      ]
     },
     "execution_count": 87,
     "metadata": {},
     "output_type": "execute_result"
    }
   ],
   "source": [
    "top5_man['Manchester United']"
   ]
  },
  {
   "cell_type": "code",
   "execution_count": null,
   "id": "114a6038",
   "metadata": {},
   "outputs": [],
   "source": []
  },
  {
   "cell_type": "code",
   "execution_count": null,
   "id": "a7cb15a6",
   "metadata": {},
   "outputs": [],
   "source": []
  },
  {
   "cell_type": "code",
   "execution_count": null,
   "id": "7948b717",
   "metadata": {},
   "outputs": [],
   "source": []
  },
  {
   "cell_type": "code",
   "execution_count": null,
   "id": "ec4d21ab",
   "metadata": {},
   "outputs": [],
   "source": []
  },
  {
   "cell_type": "code",
   "execution_count": null,
   "id": "bf3a8c4f",
   "metadata": {},
   "outputs": [],
   "source": []
  },
  {
   "cell_type": "code",
   "execution_count": 64,
   "id": "663e2cd1",
   "metadata": {},
   "outputs": [
    {
     "name": "stderr",
     "output_type": "stream",
     "text": [
      "C:\\Users\\dramr\\Downloads\\ANACONDA\\lib\\site-packages\\seaborn\\_decorators.py:36: FutureWarning: Pass the following variables as keyword args: x, y. From version 0.12, the only valid positional argument will be `data`, and passing other arguments without an explicit keyword will result in an error or misinterpretation.\n",
      "  warnings.warn(\n",
      "C:\\Users\\dramr\\Downloads\\ANACONDA\\lib\\site-packages\\seaborn\\_decorators.py:36: FutureWarning: Pass the following variables as keyword args: x, y. From version 0.12, the only valid positional argument will be `data`, and passing other arguments without an explicit keyword will result in an error or misinterpretation.\n",
      "  warnings.warn(\n",
      "C:\\Users\\dramr\\Downloads\\ANACONDA\\lib\\site-packages\\seaborn\\_decorators.py:36: FutureWarning: Pass the following variables as keyword args: x, y. From version 0.12, the only valid positional argument will be `data`, and passing other arguments without an explicit keyword will result in an error or misinterpretation.\n",
      "  warnings.warn(\n",
      "C:\\Users\\dramr\\Downloads\\ANACONDA\\lib\\site-packages\\seaborn\\_decorators.py:36: FutureWarning: Pass the following variables as keyword args: x, y. From version 0.12, the only valid positional argument will be `data`, and passing other arguments without an explicit keyword will result in an error or misinterpretation.\n",
      "  warnings.warn(\n",
      "C:\\Users\\dramr\\Downloads\\ANACONDA\\lib\\site-packages\\seaborn\\_decorators.py:36: FutureWarning: Pass the following variables as keyword args: x, y. From version 0.12, the only valid positional argument will be `data`, and passing other arguments without an explicit keyword will result in an error or misinterpretation.\n",
      "  warnings.warn(\n",
      "C:\\Users\\dramr\\Downloads\\ANACONDA\\lib\\site-packages\\seaborn\\_decorators.py:36: FutureWarning: Pass the following variables as keyword args: x, y. From version 0.12, the only valid positional argument will be `data`, and passing other arguments without an explicit keyword will result in an error or misinterpretation.\n",
      "  warnings.warn(\n",
      "C:\\Users\\dramr\\Downloads\\ANACONDA\\lib\\site-packages\\seaborn\\_decorators.py:36: FutureWarning: Pass the following variables as keyword args: x, y. From version 0.12, the only valid positional argument will be `data`, and passing other arguments without an explicit keyword will result in an error or misinterpretation.\n",
      "  warnings.warn(\n",
      "C:\\Users\\dramr\\Downloads\\ANACONDA\\lib\\site-packages\\seaborn\\_decorators.py:36: FutureWarning: Pass the following variables as keyword args: x, y. From version 0.12, the only valid positional argument will be `data`, and passing other arguments without an explicit keyword will result in an error or misinterpretation.\n",
      "  warnings.warn(\n",
      "C:\\Users\\dramr\\Downloads\\ANACONDA\\lib\\site-packages\\seaborn\\_decorators.py:36: FutureWarning: Pass the following variables as keyword args: x, y. From version 0.12, the only valid positional argument will be `data`, and passing other arguments without an explicit keyword will result in an error or misinterpretation.\n",
      "  warnings.warn(\n",
      "C:\\Users\\dramr\\Downloads\\ANACONDA\\lib\\site-packages\\seaborn\\_decorators.py:36: FutureWarning: Pass the following variables as keyword args: x, y. From version 0.12, the only valid positional argument will be `data`, and passing other arguments without an explicit keyword will result in an error or misinterpretation.\n",
      "  warnings.warn(\n",
      "C:\\Users\\dramr\\Downloads\\ANACONDA\\lib\\site-packages\\seaborn\\_decorators.py:36: FutureWarning: Pass the following variables as keyword args: x, y. From version 0.12, the only valid positional argument will be `data`, and passing other arguments without an explicit keyword will result in an error or misinterpretation.\n",
      "  warnings.warn(\n",
      "C:\\Users\\dramr\\Downloads\\ANACONDA\\lib\\site-packages\\seaborn\\_decorators.py:36: FutureWarning: Pass the following variables as keyword args: x, y. From version 0.12, the only valid positional argument will be `data`, and passing other arguments without an explicit keyword will result in an error or misinterpretation.\n",
      "  warnings.warn(\n",
      "C:\\Users\\dramr\\Downloads\\ANACONDA\\lib\\site-packages\\seaborn\\_decorators.py:36: FutureWarning: Pass the following variables as keyword args: x, y. From version 0.12, the only valid positional argument will be `data`, and passing other arguments without an explicit keyword will result in an error or misinterpretation.\n",
      "  warnings.warn(\n",
      "C:\\Users\\dramr\\Downloads\\ANACONDA\\lib\\site-packages\\seaborn\\_decorators.py:36: FutureWarning: Pass the following variables as keyword args: x, y. From version 0.12, the only valid positional argument will be `data`, and passing other arguments without an explicit keyword will result in an error or misinterpretation.\n",
      "  warnings.warn(\n",
      "C:\\Users\\dramr\\Downloads\\ANACONDA\\lib\\site-packages\\seaborn\\_decorators.py:36: FutureWarning: Pass the following variables as keyword args: x, y. From version 0.12, the only valid positional argument will be `data`, and passing other arguments without an explicit keyword will result in an error or misinterpretation.\n",
      "  warnings.warn(\n",
      "C:\\Users\\dramr\\Downloads\\ANACONDA\\lib\\site-packages\\seaborn\\_decorators.py:36: FutureWarning: Pass the following variables as keyword args: x, y. From version 0.12, the only valid positional argument will be `data`, and passing other arguments without an explicit keyword will result in an error or misinterpretation.\n",
      "  warnings.warn(\n",
      "C:\\Users\\dramr\\Downloads\\ANACONDA\\lib\\site-packages\\seaborn\\_decorators.py:36: FutureWarning: Pass the following variables as keyword args: x, y. From version 0.12, the only valid positional argument will be `data`, and passing other arguments without an explicit keyword will result in an error or misinterpretation.\n",
      "  warnings.warn(\n",
      "C:\\Users\\dramr\\Downloads\\ANACONDA\\lib\\site-packages\\seaborn\\_decorators.py:36: FutureWarning: Pass the following variables as keyword args: x, y. From version 0.12, the only valid positional argument will be `data`, and passing other arguments without an explicit keyword will result in an error or misinterpretation.\n",
      "  warnings.warn(\n",
      "C:\\Users\\dramr\\Downloads\\ANACONDA\\lib\\site-packages\\seaborn\\_decorators.py:36: FutureWarning: Pass the following variables as keyword args: x, y. From version 0.12, the only valid positional argument will be `data`, and passing other arguments without an explicit keyword will result in an error or misinterpretation.\n",
      "  warnings.warn(\n",
      "C:\\Users\\dramr\\Downloads\\ANACONDA\\lib\\site-packages\\seaborn\\_decorators.py:36: FutureWarning: Pass the following variables as keyword args: x, y. From version 0.12, the only valid positional argument will be `data`, and passing other arguments without an explicit keyword will result in an error or misinterpretation.\n",
      "  warnings.warn(\n"
     ]
    },
    {
     "data": {
      "image/png": "[encoded data removed]",
      "text/plain": [
       "<Figure size 432x288 with 1 Axes>"
      ]
     },
     "metadata": {},
     "output_type": "display_data"
    }
   ],
   "source": [
    "for col in seasons_stats_manU.columns:\n",
    "    if col in ['season', 'team_x']:\n",
    "        pass\n",
    "    else:\n",
    "        \n",
    "         sns.scatterplot(seasons_stats_manU['season'], seasons_stats_manU['goals'])"
   ]
  },
  {
   "cell_type": "code",
   "execution_count": 61,
   "id": "7d81a235",
   "metadata": {},
   "outputs": [
    {
     "name": "stderr",
     "output_type": "stream",
     "text": [
      "C:\\Users\\dramr\\Downloads\\ANACONDA\\lib\\site-packages\\seaborn\\_decorators.py:36: FutureWarning: Pass the following variables as keyword args: x, y. From version 0.12, the only valid positional argument will be `data`, and passing other arguments without an explicit keyword will result in an error or misinterpretation.\n",
      "  warnings.warn(\n"
     ]
    },
    {
     "data": {
      "text/plain": [
       "<AxesSubplot:xlabel='season', ylabel='goals'>"
      ]
     },
     "execution_count": 61,
     "metadata": {},
     "output_type": "execute_result"
    },
    {
     "data": {
      "image/png": "[encoded data removed]",
      "text/plain": [
       "<Figure size 432x288 with 1 Axes>"
      ]
     },
     "metadata": {},
     "output_type": "display_data"
    }
   ],
   "source": [
    "sns.scatterplot(seasons_stats_manU['season'], seasons_stats_manU['goals'])"
   ]
  },
  {
   "cell_type": "code",
   "execution_count": 63,
   "id": "f1104fc9",
   "metadata": {},
   "outputs": [
    {
     "data": {
      "text/plain": [
       "Index(['season', 'team_score', 'team_x', 'goals', 'in_goals', 'total_yel_card',\n",
       "       'total_red_card', 'total_scoring_att', 'ontarget_scoring_att',\n",
       "       'total_offside', 'clean_sheet', 'saves', 'total_tackle',\n",
       "       'last_man_tackle', 'own_goals', 'penalty_conceded',\n",
       "       'pen_goals_conceded', 'total_pass', 'total_long_balls', 'corner_taken',\n",
       "       'total_high_claim', 'punches'],\n",
       "      dtype='object')"
      ]
     },
     "execution_count": 63,
     "metadata": {},
     "output_type": "execute_result"
    }
   ],
   "source": [
    "seasons_stats_manU.columns"
   ]
  },
  {
   "cell_type": "code",
   "execution_count": 69,
   "id": "927dd25b",
   "metadata": {},
   "outputs": [
    {
     "data": {
      "text/html": [
       "<div>\n",
       "<style scoped>\n",
       "    .dataframe tbody tr th:only-of-type {\n",
       "        vertical-align: middle;\n",
       "    }\n",
       "\n",
       "    .dataframe tbody tr th {\n",
       "        vertical-align: top;\n",
       "    }\n",
       "\n",
       "    .dataframe thead th {\n",
       "        text-align: right;\n",
       "    }\n",
       "</style>\n",
       "<table border=\"1\" class=\"dataframe\">\n",
       "  <thead>\n",
       "    <tr style=\"text-align: right;\">\n",
       "      <th></th>\n",
       "      <th>season</th>\n",
       "      <th>team_score</th>\n",
       "      <th>team_x</th>\n",
       "      <th>goals</th>\n",
       "      <th>in_goals</th>\n",
       "      <th>total_yel_card</th>\n",
       "      <th>total_red_card</th>\n",
       "      <th>total_scoring_att</th>\n",
       "      <th>ontarget_scoring_att</th>\n",
       "      <th>total_offside</th>\n",
       "      <th>clean_sheet</th>\n",
       "      <th>saves</th>\n",
       "      <th>total_tackle</th>\n",
       "      <th>last_man_tackle</th>\n",
       "      <th>own_goals</th>\n",
       "      <th>penalty_conceded</th>\n",
       "      <th>pen_goals_conceded</th>\n",
       "      <th>total_pass</th>\n",
       "      <th>total_long_balls</th>\n",
       "      <th>corner_taken</th>\n",
       "      <th>total_high_claim</th>\n",
       "      <th>punches</th>\n",
       "    </tr>\n",
       "  </thead>\n",
       "  <tbody>\n",
       "    <tr>\n",
       "      <th>15</th>\n",
       "      <td>2006-2007</td>\n",
       "      <td>89</td>\n",
       "      <td>Manchester United</td>\n",
       "      <td>83</td>\n",
       "      <td>27</td>\n",
       "      <td>60</td>\n",
       "      <td>1</td>\n",
       "      <td>698</td>\n",
       "      <td>256</td>\n",
       "      <td>80</td>\n",
       "      <td>16</td>\n",
       "      <td>2</td>\n",
       "      <td>890</td>\n",
       "      <td>1</td>\n",
       "      <td>1</td>\n",
       "      <td>5</td>\n",
       "      <td>3</td>\n",
       "      <td>18723</td>\n",
       "      <td>2397</td>\n",
       "      <td>258</td>\n",
       "      <td>37</td>\n",
       "      <td>25</td>\n",
       "    </tr>\n",
       "    <tr>\n",
       "      <th>34</th>\n",
       "      <td>2007-2008</td>\n",
       "      <td>87</td>\n",
       "      <td>Manchester United</td>\n",
       "      <td>80</td>\n",
       "      <td>22</td>\n",
       "      <td>51</td>\n",
       "      <td>2</td>\n",
       "      <td>696</td>\n",
       "      <td>260</td>\n",
       "      <td>100</td>\n",
       "      <td>21</td>\n",
       "      <td>2</td>\n",
       "      <td>978</td>\n",
       "      <td>2</td>\n",
       "      <td>0</td>\n",
       "      <td>1</td>\n",
       "      <td>1</td>\n",
       "      <td>17422</td>\n",
       "      <td>2417</td>\n",
       "      <td>261</td>\n",
       "      <td>47</td>\n",
       "      <td>23</td>\n",
       "    </tr>\n",
       "    <tr>\n",
       "      <th>59</th>\n",
       "      <td>2008-2009</td>\n",
       "      <td>90</td>\n",
       "      <td>Manchester United</td>\n",
       "      <td>68</td>\n",
       "      <td>24</td>\n",
       "      <td>61</td>\n",
       "      <td>5</td>\n",
       "      <td>715</td>\n",
       "      <td>230</td>\n",
       "      <td>99</td>\n",
       "      <td>24</td>\n",
       "      <td>51</td>\n",
       "      <td>741</td>\n",
       "      <td>8</td>\n",
       "      <td>1</td>\n",
       "      <td>3</td>\n",
       "      <td>3</td>\n",
       "      <td>19416</td>\n",
       "      <td>2192</td>\n",
       "      <td>257</td>\n",
       "      <td>56</td>\n",
       "      <td>22</td>\n",
       "    </tr>\n",
       "    <tr>\n",
       "      <th>73</th>\n",
       "      <td>2009-2010</td>\n",
       "      <td>85</td>\n",
       "      <td>Manchester United</td>\n",
       "      <td>86</td>\n",
       "      <td>28</td>\n",
       "      <td>49</td>\n",
       "      <td>4</td>\n",
       "      <td>695</td>\n",
       "      <td>221</td>\n",
       "      <td>85</td>\n",
       "      <td>19</td>\n",
       "      <td>0</td>\n",
       "      <td>828</td>\n",
       "      <td>13</td>\n",
       "      <td>0</td>\n",
       "      <td>2</td>\n",
       "      <td>2</td>\n",
       "      <td>19318</td>\n",
       "      <td>2205</td>\n",
       "      <td>297</td>\n",
       "      <td>65</td>\n",
       "      <td>18</td>\n",
       "    </tr>\n",
       "    <tr>\n",
       "      <th>97</th>\n",
       "      <td>2010-2011</td>\n",
       "      <td>80</td>\n",
       "      <td>Manchester United</td>\n",
       "      <td>78</td>\n",
       "      <td>37</td>\n",
       "      <td>56</td>\n",
       "      <td>3</td>\n",
       "      <td>618</td>\n",
       "      <td>212</td>\n",
       "      <td>102</td>\n",
       "      <td>15</td>\n",
       "      <td>0</td>\n",
       "      <td>693</td>\n",
       "      <td>17</td>\n",
       "      <td>1</td>\n",
       "      <td>6</td>\n",
       "      <td>5</td>\n",
       "      <td>18870</td>\n",
       "      <td>2279</td>\n",
       "      <td>243</td>\n",
       "      <td>45</td>\n",
       "      <td>16</td>\n",
       "    </tr>\n",
       "    <tr>\n",
       "      <th>107</th>\n",
       "      <td>2011-2012</td>\n",
       "      <td>89</td>\n",
       "      <td>Manchester United</td>\n",
       "      <td>89</td>\n",
       "      <td>33</td>\n",
       "      <td>51</td>\n",
       "      <td>1</td>\n",
       "      <td>646</td>\n",
       "      <td>243</td>\n",
       "      <td>89</td>\n",
       "      <td>20</td>\n",
       "      <td>0</td>\n",
       "      <td>803</td>\n",
       "      <td>6</td>\n",
       "      <td>2</td>\n",
       "      <td>3</td>\n",
       "      <td>2</td>\n",
       "      <td>20184</td>\n",
       "      <td>2189</td>\n",
       "      <td>279</td>\n",
       "      <td>37</td>\n",
       "      <td>26</td>\n",
       "    </tr>\n",
       "    <tr>\n",
       "      <th>129</th>\n",
       "      <td>2012-2013</td>\n",
       "      <td>89</td>\n",
       "      <td>Manchester United</td>\n",
       "      <td>86</td>\n",
       "      <td>43</td>\n",
       "      <td>57</td>\n",
       "      <td>1</td>\n",
       "      <td>561</td>\n",
       "      <td>213</td>\n",
       "      <td>96</td>\n",
       "      <td>13</td>\n",
       "      <td>1</td>\n",
       "      <td>731</td>\n",
       "      <td>4</td>\n",
       "      <td>4</td>\n",
       "      <td>0</td>\n",
       "      <td>0</td>\n",
       "      <td>19696</td>\n",
       "      <td>1973</td>\n",
       "      <td>218</td>\n",
       "      <td>38</td>\n",
       "      <td>28</td>\n",
       "    </tr>\n",
       "    <tr>\n",
       "      <th>146</th>\n",
       "      <td>2013-2014</td>\n",
       "      <td>64</td>\n",
       "      <td>Manchester United</td>\n",
       "      <td>64</td>\n",
       "      <td>43</td>\n",
       "      <td>66</td>\n",
       "      <td>3</td>\n",
       "      <td>526</td>\n",
       "      <td>183</td>\n",
       "      <td>97</td>\n",
       "      <td>13</td>\n",
       "      <td>103</td>\n",
       "      <td>676</td>\n",
       "      <td>4</td>\n",
       "      <td>1</td>\n",
       "      <td>4</td>\n",
       "      <td>3</td>\n",
       "      <td>18894</td>\n",
       "      <td>2077</td>\n",
       "      <td>216</td>\n",
       "      <td>32</td>\n",
       "      <td>14</td>\n",
       "    </tr>\n",
       "    <tr>\n",
       "      <th>178</th>\n",
       "      <td>2014-2015</td>\n",
       "      <td>70</td>\n",
       "      <td>Manchester United</td>\n",
       "      <td>62</td>\n",
       "      <td>37</td>\n",
       "      <td>64</td>\n",
       "      <td>5</td>\n",
       "      <td>512</td>\n",
       "      <td>180</td>\n",
       "      <td>87</td>\n",
       "      <td>11</td>\n",
       "      <td>100</td>\n",
       "      <td>739</td>\n",
       "      <td>4</td>\n",
       "      <td>1</td>\n",
       "      <td>4</td>\n",
       "      <td>3</td>\n",
       "      <td>21311</td>\n",
       "      <td>2969</td>\n",
       "      <td>214</td>\n",
       "      <td>33</td>\n",
       "      <td>7</td>\n",
       "    </tr>\n",
       "    <tr>\n",
       "      <th>190</th>\n",
       "      <td>2015-2016</td>\n",
       "      <td>66</td>\n",
       "      <td>Manchester United</td>\n",
       "      <td>49</td>\n",
       "      <td>35</td>\n",
       "      <td>65</td>\n",
       "      <td>1</td>\n",
       "      <td>430</td>\n",
       "      <td>144</td>\n",
       "      <td>75</td>\n",
       "      <td>18</td>\n",
       "      <td>90</td>\n",
       "      <td>760</td>\n",
       "      <td>4</td>\n",
       "      <td>2</td>\n",
       "      <td>2</td>\n",
       "      <td>2</td>\n",
       "      <td>20070</td>\n",
       "      <td>2649</td>\n",
       "      <td>228</td>\n",
       "      <td>29</td>\n",
       "      <td>13</td>\n",
       "    </tr>\n",
       "    <tr>\n",
       "      <th>207</th>\n",
       "      <td>2016-2017</td>\n",
       "      <td>69</td>\n",
       "      <td>Manchester United</td>\n",
       "      <td>54</td>\n",
       "      <td>29</td>\n",
       "      <td>78</td>\n",
       "      <td>2</td>\n",
       "      <td>591</td>\n",
       "      <td>210</td>\n",
       "      <td>99</td>\n",
       "      <td>17</td>\n",
       "      <td>85</td>\n",
       "      <td>690</td>\n",
       "      <td>4</td>\n",
       "      <td>1</td>\n",
       "      <td>5</td>\n",
       "      <td>4</td>\n",
       "      <td>20245</td>\n",
       "      <td>2424</td>\n",
       "      <td>217</td>\n",
       "      <td>32</td>\n",
       "      <td>4</td>\n",
       "    </tr>\n",
       "    <tr>\n",
       "      <th>230</th>\n",
       "      <td>2017-2018</td>\n",
       "      <td>81</td>\n",
       "      <td>Manchester United</td>\n",
       "      <td>68</td>\n",
       "      <td>28</td>\n",
       "      <td>64</td>\n",
       "      <td>1</td>\n",
       "      <td>512</td>\n",
       "      <td>178</td>\n",
       "      <td>88</td>\n",
       "      <td>19</td>\n",
       "      <td>118</td>\n",
       "      <td>564</td>\n",
       "      <td>0</td>\n",
       "      <td>2</td>\n",
       "      <td>1</td>\n",
       "      <td>1</td>\n",
       "      <td>20064</td>\n",
       "      <td>2308</td>\n",
       "      <td>220</td>\n",
       "      <td>20</td>\n",
       "      <td>6</td>\n",
       "    </tr>\n",
       "  </tbody>\n",
       "</table>\n",
       "</div>"
      ],
      "text/plain": [
       "        season  team_score             team_x  goals  in_goals  \\\n",
       "15   2006-2007          89  Manchester United     83        27   \n",
       "34   2007-2008          87  Manchester United     80        22   \n",
       "59   2008-2009          90  Manchester United     68        24   \n",
       "73   2009-2010          85  Manchester United     86        28   \n",
       "97   2010-2011          80  Manchester United     78        37   \n",
       "107  2011-2012          89  Manchester United     89        33   \n",
       "129  2012-2013          89  Manchester United     86        43   \n",
       "146  2013-2014          64  Manchester United     64        43   \n",
       "178  2014-2015          70  Manchester United     62        37   \n",
       "190  2015-2016          66  Manchester United     49        35   \n",
       "207  2016-2017          69  Manchester United     54        29   \n",
       "230  2017-2018          81  Manchester United     68        28   \n",
       "\n",
       "     total_yel_card  total_red_card  total_scoring_att  ontarget_scoring_att  \\\n",
       "15               60               1                698                   256   \n",
       "34               51               2                696                   260   \n",
       "59               61               5                715                   230   \n",
       "73               49               4                695                   221   \n",
       "97               56               3                618                   212   \n",
       "107              51               1                646                   243   \n",
       "129              57               1                561                   213   \n",
       "146              66               3                526                   183   \n",
       "178              64               5                512                   180   \n",
       "190              65               1                430                   144   \n",
       "207              78               2                591                   210   \n",
       "230              64               1                512                   178   \n",
       "\n",
       "     total_offside  clean_sheet  saves  total_tackle  last_man_tackle  \\\n",
       "15              80           16      2           890                1   \n",
       "34             100           21      2           978                2   \n",
       "59              99           24     51           741                8   \n",
       "73              85           19      0           828               13   \n",
       "97             102           15      0           693               17   \n",
       "107             89           20      0           803                6   \n",
       "129             96           13      1           731                4   \n",
       "146             97           13    103           676                4   \n",
       "178             87           11    100           739                4   \n",
       "190             75           18     90           760                4   \n",
       "207             99           17     85           690                4   \n",
       "230             88           19    118           564                0   \n",
       "\n",
       "     own_goals  penalty_conceded  pen_goals_conceded  total_pass  \\\n",
       "15           1                 5                   3       18723   \n",
       "34           0                 1                   1       17422   \n",
       "59           1                 3                   3       19416   \n",
       "73           0                 2                   2       19318   \n",
       "97           1                 6                   5       18870   \n",
       "107          2                 3                   2       20184   \n",
       "129          4                 0                   0       19696   \n",
       "146          1                 4                   3       18894   \n",
       "178          1                 4                   3       21311   \n",
       "190          2                 2                   2       20070   \n",
       "207          1                 5                   4       20245   \n",
       "230          2                 1                   1       20064   \n",
       "\n",
       "     total_long_balls  corner_taken  total_high_claim  punches  \n",
       "15               2397           258                37       25  \n",
       "34               2417           261                47       23  \n",
       "59               2192           257                56       22  \n",
       "73               2205           297                65       18  \n",
       "97               2279           243                45       16  \n",
       "107              2189           279                37       26  \n",
       "129              1973           218                38       28  \n",
       "146              2077           216                32       14  \n",
       "178              2969           214                33        7  \n",
       "190              2649           228                29       13  \n",
       "207              2424           217                32        4  \n",
       "230              2308           220                20        6  "
      ]
     },
     "execution_count": 69,
     "metadata": {},
     "output_type": "execute_result"
    }
   ],
   "source": [
    "seasons_stats_manU"
   ]
  },
  {
   "cell_type": "code",
   "execution_count": null,
   "id": "5ad32c87",
   "metadata": {},
   "outputs": [],
   "source": []
  },
  {
   "cell_type": "code",
   "execution_count": null,
   "id": "5075397f",
   "metadata": {},
   "outputs": [],
   "source": []
  },
  {
   "cell_type": "code",
   "execution_count": null,
   "id": "df6dc2ac",
   "metadata": {},
   "outputs": [],
   "source": []
  },
  {
   "cell_type": "code",
   "execution_count": null,
   "id": "f49d77a0",
   "metadata": {},
   "outputs": [],
   "source": []
  },
  {
   "cell_type": "code",
   "execution_count": null,
   "id": "ec70c7de",
   "metadata": {},
   "outputs": [],
   "source": []
  },
  {
   "cell_type": "code",
   "execution_count": null,
   "id": "ad8db468",
   "metadata": {},
   "outputs": [],
   "source": []
  },
  {
   "cell_type": "code",
   "execution_count": null,
   "id": "67d2b442",
   "metadata": {},
   "outputs": [],
   "source": []
  },
  {
   "cell_type": "code",
   "execution_count": null,
   "id": "d862ae51",
   "metadata": {
    "scrolled": false
   },
   "outputs": [],
   "source": [
    "sns.pairplot(v[['season', 'goals', 'in_goals', 'total_yel_card', 'total_scoring_att', 'total_red_card', 'total_offside' ,'clean_sheet', 'penalty_conceded', 'pen_goals_conceded','corner_taken']],hue='season',palette='rocket')"
   ]
  },
  {
   "cell_type": "code",
   "execution_count": null,
   "id": "d43e5fac",
   "metadata": {},
   "outputs": [],
   "source": [
    "هدي يا ابو الشباب"
   ]
  },
  {
   "cell_type": "code",
   "execution_count": null,
   "id": "983b66d3",
   "metadata": {},
   "outputs": [],
   "source": []
  },
  {
   "cell_type": "code",
   "execution_count": null,
   "id": "7cece1ff",
   "metadata": {},
   "outputs": [],
   "source": []
  },
  {
   "cell_type": "code",
   "execution_count": null,
   "id": "f5eff9be",
   "metadata": {},
   "outputs": [],
   "source": [
    "max(teams_score.values())"
   ]
  },
  {
   "cell_type": "code",
   "execution_count": null,
   "id": "0b800b3f",
   "metadata": {},
   "outputs": [],
   "source": [
    "{98:'s'}.keys()"
   ]
  },
  {
   "cell_type": "code",
   "execution_count": null,
   "id": "6d1ee6a5",
   "metadata": {},
   "outputs": [],
   "source": [
    "len(list(match['season'].value_counts().index))"
   ]
  },
  {
   "cell_type": "code",
   "execution_count": null,
   "id": "3d4e634e",
   "metadata": {},
   "outputs": [],
   "source": [
    "team_score(match, '2006-2007', 'Reading')"
   ]
  },
  {
   "cell_type": "code",
   "execution_count": null,
   "id": "9f2d09af",
   "metadata": {},
   "outputs": [],
   "source": [
    "len(list(match[match['season']=='2006-2007']['home_team'].value_counts().index))"
   ]
  },
  {
   "cell_type": "code",
   "execution_count": null,
   "id": "05383952",
   "metadata": {},
   "outputs": [],
   "source": [
    "list(match[match['season']=='2006-2007']['away_team'].unique())"
   ]
  },
  {
   "cell_type": "code",
   "execution_count": null,
   "id": "4a540599",
   "metadata": {},
   "outputs": [],
   "source": [
    "match[match['season']=='2006-2007']"
   ]
  },
  {
   "cell_type": "code",
   "execution_count": null,
   "id": "d836577f",
   "metadata": {},
   "outputs": [],
   "source": []
  },
  {
   "cell_type": "code",
   "execution_count": null,
   "id": "6020cc38",
   "metadata": {},
   "outputs": [],
   "source": []
  },
  {
   "cell_type": "code",
   "execution_count": null,
   "id": "257bb96f",
   "metadata": {},
   "outputs": [],
   "source": []
  },
  {
   "cell_type": "code",
   "execution_count": null,
   "id": "87ccec07",
   "metadata": {},
   "outputs": [],
   "source": []
  },
  {
   "cell_type": "code",
   "execution_count": null,
   "id": "9ec1e33d",
   "metadata": {},
   "outputs": [],
   "source": []
  },
  {
   "cell_type": "code",
   "execution_count": null,
   "id": "85f53e92",
   "metadata": {},
   "outputs": [],
   "source": [
    "def league_winer(season, df):\n",
    "    df"
   ]
  },
  {
   "cell_type": "code",
   "execution_count": null,
   "id": "920f956e",
   "metadata": {},
   "outputs": [],
   "source": [
    "x = pd.DataFrame(match.groupby('season').sum())"
   ]
  },
  {
   "cell_type": "code",
   "execution_count": null,
   "id": "b8414c74",
   "metadata": {},
   "outputs": [],
   "source": [
    "x[x.index==x.index[0]]"
   ]
  },
  {
   "cell_type": "code",
   "execution_count": null,
   "id": "7bfc977f",
   "metadata": {},
   "outputs": [],
   "source": [
    "x['total'] = x['home_team_points'] + x['away_team_points']"
   ]
  },
  {
   "cell_type": "code",
   "execution_count": null,
   "id": "0a16e2a5",
   "metadata": {},
   "outputs": [],
   "source": [
    "x.loc['2006-2007'][(x.loc['2006-2007']['total']==x.loc['2006-2007']['total'].max()) & x.index[1]=='Manchester United']"
   ]
  },
  {
   "cell_type": "code",
   "execution_count": null,
   "id": "fcddea5b",
   "metadata": {},
   "outputs": [],
   "source": [
    "x.loc[('2006-2007','Manchester United')]"
   ]
  },
  {
   "cell_type": "code",
   "execution_count": null,
   "id": "ce1f3765",
   "metadata": {},
   "outputs": [],
   "source": []
  },
  {
   "cell_type": "code",
   "execution_count": null,
   "id": "94f2effa",
   "metadata": {},
   "outputs": [],
   "source": []
  },
  {
   "cell_type": "code",
   "execution_count": null,
   "id": "e03057c0",
   "metadata": {},
   "outputs": [],
   "source": []
  },
  {
   "cell_type": "code",
   "execution_count": null,
   "id": "32bb3299",
   "metadata": {},
   "outputs": [],
   "source": [
    "d = match[match['season']=='2006-2007']"
   ]
  },
  {
   "cell_type": "code",
   "execution_count": null,
   "id": "1a10d946",
   "metadata": {},
   "outputs": [],
   "source": [
    "d = d[(d['home_team']=='Manchester United') | (d['away_team']=='Manchester United')]"
   ]
  },
  {
   "cell_type": "code",
   "execution_count": null,
   "id": "bd0c8e88",
   "metadata": {},
   "outputs": [],
   "source": [
    "d.reset_index(drop=True, inplace=True)"
   ]
  },
  {
   "cell_type": "code",
   "execution_count": null,
   "id": "83f31b12",
   "metadata": {},
   "outputs": [],
   "source": [
    "total = []\n",
    "for i in range(0, len(d)):\n",
    "    if (d['result'][i] == 'H') & (d['home_team'][i] == 'Manchester United'):\n",
    "        total.append(d['home_team_points'][i])\n",
    "        \n",
    "        \n",
    "    elif (d['result'][i]=='A') & (d['away_team'][i] == 'Manchester United'):\n",
    "        total.append(d['away_team_points'][i])\n",
    "        \n",
    "    else:\n",
    "        total.append(1)"
   ]
  },
  {
   "cell_type": "code",
   "execution_count": null,
   "id": "489c911c",
   "metadata": {},
   "outputs": [],
   "source": [
    "d.groupby(['home_team', 'away_team']).sum().loc['Manchester United']"
   ]
  },
  {
   "cell_type": "code",
   "execution_count": null,
   "id": "212abc46",
   "metadata": {},
   "outputs": [],
   "source": [
    "total.sum()"
   ]
  },
  {
   "cell_type": "code",
   "execution_count": null,
   "id": "e0f80298",
   "metadata": {},
   "outputs": [],
   "source": [
    "d"
   ]
  },
  {
   "cell_type": "code",
   "execution_count": null,
   "id": "936aa557",
   "metadata": {},
   "outputs": [],
   "source": []
  },
  {
   "cell_type": "code",
   "execution_count": null,
   "id": "05e7c067",
   "metadata": {},
   "outputs": [],
   "source": []
  },
  {
   "cell_type": "code",
   "execution_count": null,
   "id": "612a79d1",
   "metadata": {},
   "outputs": [],
   "source": []
  },
  {
   "cell_type": "code",
   "execution_count": null,
   "id": "49711b43",
   "metadata": {},
   "outputs": [],
   "source": [
    "len(stats[stats['team']=='Manchester United'])"
   ]
  },
  {
   "cell_type": "markdown",
   "id": "65b8a4fd",
   "metadata": {
    "id": "bb0f3e28"
   },
   "source": [
    "<a id='2'></a>\n",
    "### [Exploring Data:](#6)"
   ]
  },
  {
   "cell_type": "code",
   "execution_count": null,
   "id": "26236c8d",
   "metadata": {
    "colab": {
     "base_uri": "https://localhost:8080/",
     "height": 635
    },
    "executionInfo": {
     "elapsed": 22,
     "status": "ok",
     "timestamp": 1643233247495,
     "user": {
      "displayName": "Ahmed Saad",
      "photoUrl": "https://lh3.googleusercontent.com/a-/AOh14GhnSLjen-GggduTlrZ3FPzYLZz62F9M5UOCy2Vl=s64",
      "userId": "07813394667672817104"
     },
     "user_tz": -120
    },
    "id": "c24fb94d",
    "outputId": "ce8233f7-8883-4357-ffa9-b7e59e1fb0a6",
    "scrolled": true
   },
   "outputs": [],
   "source": [
    "stats.head()"
   ]
  },
  {
   "cell_type": "code",
   "execution_count": null,
   "id": "2801069a",
   "metadata": {},
   "outputs": [],
   "source": [
    "x = stats[stats['team']=='Manchester United']\n"
   ]
  },
  {
   "cell_type": "code",
   "execution_count": null,
   "id": "18368632",
   "metadata": {},
   "outputs": [],
   "source": [
    "x.index = range(2006,2018)\n",
    "x.goals.plot()"
   ]
  },
  {
   "cell_type": "code",
   "execution_count": null,
   "id": "2fdeec5c",
   "metadata": {},
   "outputs": [],
   "source": [
    "sns.pairplot(x[['wins','losses','goals','total_yel_card','total_red_card','total_scoring_att','ontarget_scoring_att']])"
   ]
  },
  {
   "cell_type": "code",
   "execution_count": null,
   "id": "7e589131",
   "metadata": {},
   "outputs": [],
   "source": [
    "sns.heatmap(x[['wins','losses','goals','total_yel_card','total_red_card','total_scoring_att','ontarget_scoring_att']].iloc[0:7].corr(),)"
   ]
  },
  {
   "cell_type": "code",
   "execution_count": null,
   "id": "7f88655f",
   "metadata": {},
   "outputs": [],
   "source": []
  },
  {
   "cell_type": "code",
   "execution_count": null,
   "id": "a0d92291",
   "metadata": {},
   "outputs": [],
   "source": []
  },
  {
   "cell_type": "code",
   "execution_count": null,
   "id": "0114ec8b",
   "metadata": {},
   "outputs": [],
   "source": []
  },
  {
   "cell_type": "code",
   "execution_count": null,
   "id": "ebb1b3c0",
   "metadata": {},
   "outputs": [],
   "source": []
  },
  {
   "cell_type": "code",
   "execution_count": null,
   "id": "48002ac4",
   "metadata": {
    "colab": {
     "base_uri": "https://localhost:8080/",
     "height": 635
    },
    "executionInfo": {
     "elapsed": 16,
     "status": "ok",
     "timestamp": 1643233247496,
     "user": {
      "displayName": "Ahmed Saad",
      "photoUrl": "https://lh3.googleusercontent.com/a-/AOh14GhnSLjen-GggduTlrZ3FPzYLZz62F9M5UOCy2Vl=s64",
      "userId": "07813394667672817104"
     },
     "user_tz": -120
    },
    "id": "42d1965a",
    "outputId": "f6daa2e4-ee1c-4639-df9b-558591976051",
    "scrolled": true
   },
   "outputs": [],
   "source": [
    "df.tail()"
   ]
  },
  {
   "cell_type": "code",
   "execution_count": null,
   "id": "42a748f5",
   "metadata": {
    "colab": {
     "base_uri": "https://localhost:8080/"
    },
    "executionInfo": {
     "elapsed": 439,
     "status": "ok",
     "timestamp": 1643233248437,
     "user": {
      "displayName": "Ahmed Saad",
      "photoUrl": "https://lh3.googleusercontent.com/a-/AOh14GhnSLjen-GggduTlrZ3FPzYLZz62F9M5UOCy2Vl=s64",
      "userId": "07813394667672817104"
     },
     "user_tz": -120
    },
    "id": "f9e133f3",
    "outputId": "2ab18505-10f7-4090-c368-98e8e6280e7a",
    "scrolled": true
   },
   "outputs": [],
   "source": [
    "df.info()"
   ]
  },
  {
   "cell_type": "code",
   "execution_count": null,
   "id": "915a68a0",
   "metadata": {
    "colab": {
     "base_uri": "https://localhost:8080/",
     "height": 300
    },
    "executionInfo": {
     "elapsed": 456,
     "status": "ok",
     "timestamp": 1643233248888,
     "user": {
      "displayName": "Ahmed Saad",
      "photoUrl": "https://lh3.googleusercontent.com/a-/AOh14GhnSLjen-GggduTlrZ3FPzYLZz62F9M5UOCy2Vl=s64",
      "userId": "07813394667672817104"
     },
     "user_tz": -120
    },
    "id": "23cd78c8",
    "outputId": "6868d2ae-ad0b-4d47-d837-da6e28cd1daf"
   },
   "outputs": [],
   "source": [
    "df.describe()"
   ]
  },
  {
   "cell_type": "code",
   "execution_count": null,
   "id": "d98fcb78",
   "metadata": {
    "colab": {
     "base_uri": "https://localhost:8080/"
    },
    "executionInfo": {
     "elapsed": 15,
     "status": "ok",
     "timestamp": 1643233248890,
     "user": {
      "displayName": "Ahmed Saad",
      "photoUrl": "https://lh3.googleusercontent.com/a-/AOh14GhnSLjen-GggduTlrZ3FPzYLZz62F9M5UOCy2Vl=s64",
      "userId": "07813394667672817104"
     },
     "user_tz": -120
    },
    "id": "f5d3a3f0",
    "outputId": "3b8e1b27-7071-4a37-d49a-84d8cb4578b1",
    "scrolled": false
   },
   "outputs": [],
   "source": [
    "df.columns"
   ]
  },
  {
   "cell_type": "code",
   "execution_count": null,
   "id": "393961af",
   "metadata": {
    "colab": {
     "base_uri": "https://localhost:8080/",
     "height": 714
    },
    "executionInfo": {
     "elapsed": 18628,
     "status": "ok",
     "timestamp": 1643233267507,
     "user": {
      "displayName": "Ahmed Saad",
      "photoUrl": "https://lh3.googleusercontent.com/a-/AOh14GhnSLjen-GggduTlrZ3FPzYLZz62F9M5UOCy2Vl=s64",
      "userId": "07813394667672817104"
     },
     "user_tz": -120
    },
    "id": "26c8ad22",
    "outputId": "fbb68b39-1a8c-499a-dc1f-c893b2412d27",
    "scrolled": true
   },
   "outputs": [],
   "source": [
    "plt.figure(figsize=(10,10))\n",
    "sns.heatmap(df.isna())"
   ]
  },
  {
   "cell_type": "markdown",
   "id": "1903b1fa",
   "metadata": {
    "id": "bb0f3e28"
   },
   "source": [
    "<a id='3'></a>\n",
    "### [Checking:](#7)"
   ]
  },
  {
   "cell_type": "markdown",
   "id": "4f50fafe",
   "metadata": {
    "id": "febb05e3"
   },
   "source": [
    "__Checking Columns Names:__"
   ]
  },
  {
   "cell_type": "code",
   "execution_count": null,
   "id": "e7ef2eea",
   "metadata": {
    "executionInfo": {
     "elapsed": 66,
     "status": "ok",
     "timestamp": 1643233267515,
     "user": {
      "displayName": "Ahmed Saad",
      "photoUrl": "https://lh3.googleusercontent.com/a-/AOh14GhnSLjen-GggduTlrZ3FPzYLZz62F9M5UOCy2Vl=s64",
      "userId": "07813394667672817104"
     },
     "user_tz": -120
    },
    "id": "43491dc9"
   },
   "outputs": [],
   "source": [
    "c = df.columns"
   ]
  },
  {
   "cell_type": "code",
   "execution_count": null,
   "id": "4fa50151",
   "metadata": {},
   "outputs": [],
   "source": [
    "stats['team']"
   ]
  },
  {
   "cell_type": "code",
   "execution_count": null,
   "id": "e83b357c",
   "metadata": {},
   "outputs": [],
   "source": []
  }
 ],
 "metadata": {
  "kernelspec": {
   "display_name": "Python 3 (ipykernel)",
   "language": "python",
   "name": "python3"
  },
  "language_info": {
   "codemirror_mode": {
    "name": "ipython",
    "version": 3
   },
   "file_extension": ".py",
   "mimetype": "text/x-python",
   "name": "python",
   "nbconvert_exporter": "python",
   "pygments_lexer": "ipython3",
   "version": "3.9.13"
  }
 },
 "nbformat": 4,
 "nbformat_minor": 5
}
