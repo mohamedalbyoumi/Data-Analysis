{
 "cells": [
  {
   "cell_type": "markdown",
   "id": "a25862de",
   "metadata": {},
   "source": [
    "# ...................................................بسم الله الرحمن الرحيم.................................................."
   ]
  },
  {
   "cell_type": "markdown",
   "id": "6ca807b4",
   "metadata": {},
   "source": [
    "__In This Projet I am Scraping a Website and Storing the Collected Data in a Database that is Created for the First Time.__"
   ]
  },
  {
   "cell_type": "markdown",
   "id": "9174a326",
   "metadata": {},
   "source": [
    " __The Targeted Website:__ noon online store - Egypt."
   ]
  },
  {
   "cell_type": "markdown",
   "id": "603df15e",
   "metadata": {},
   "source": [
    "__The Objective:__ Scraping 11 Pages that Include All their Availabul Mobile Phones."
   ]
  },
  {
   "cell_type": "markdown",
   "id": "e4a5a5a0",
   "metadata": {},
   "source": [
    "# Tasks:"
   ]
  },
  {
   "cell_type": "markdown",
   "id": "9f67893c",
   "metadata": {},
   "source": [
    "#### [1-Web Scraping.](#1 \"introduction\")\n",
    "<a id='5'></a>"
   ]
  },
  {
   "cell_type": "markdown",
   "id": "f272b3b9",
   "metadata": {},
   "source": [
    "#### [2-Data Cleaning.](#2 \"special for the received data\")\n",
    "<a id='6'></a>"
   ]
  },
  {
   "cell_type": "markdown",
   "id": "83a661f5",
   "metadata": {},
   "source": [
    "#### [3-Creating and Storing in a Database.](#3 \"it is simple, because the data it self is simple\")\n",
    "<a id='7'></a>"
   ]
  },
  {
   "cell_type": "markdown",
   "id": "ccdf6374",
   "metadata": {},
   "source": [
    "#### [4-Exporting The Data to csv Format.](#4 \"introduction\")\n",
    "<a id='8'></a>"
   ]
  },
  {
   "cell_type": "markdown",
   "id": "7d077c1a",
   "metadata": {},
   "source": [
    "<a id='1'></a>\n",
    "## [1- Web Scraping:](#5)"
   ]
  },
  {
   "cell_type": "markdown",
   "id": "d04ed08a",
   "metadata": {},
   "source": [
    "Due to the Straight Forward Nature of the Task, I am only Going to Use BeautifulSoup and requests as the libraries for connecting and parsing and not Going to Use Other libraries Such as selenium."
   ]
  },
  {
   "cell_type": "markdown",
   "id": "1b5ee526",
   "metadata": {},
   "source": [
    "__Importing Libraries:__"
   ]
  },
  {
   "cell_type": "code",
   "execution_count": 1,
   "id": "213331af",
   "metadata": {},
   "outputs": [],
   "source": [
    "import pandas as pd\n",
    "import numpy as np\n",
    "import requests\n",
    "from bs4 import BeautifulSoup\n",
    "from time import sleep\n",
    "from random import randint"
   ]
  },
  {
   "cell_type": "markdown",
   "id": "51e31cbe",
   "metadata": {},
   "source": [
    "__Scraping The Actual Data:__"
   ]
  },
  {
   "cell_type": "code",
   "execution_count": 2,
   "id": "bbe637c9",
   "metadata": {},
   "outputs": [],
   "source": [
    "#declaring the list of empty variables, So that we can append the data overall\n",
    "\n",
    "description = []\n",
    "currency = []\n",
    "price = []\n",
    "oldPrice = []\n",
    "discount = []\n",
    "shepper = []\n",
    "rating = []\n",
    "topSeller = []\n",
    "\n",
    "#creating an array of values and passing it in the url for dynamic webpages\n",
    "pages = np.arange(1,11)\n",
    "\n",
    "#according to the HTML page you scrape and the data you want to collect you should write your exact conditions,\n",
    "#but it should be similar to following\n",
    "#the whole core of the script\n",
    "for page in pages:\n",
    "    page = requests.get(\"https://www.noon.com/egypt-ar/eg-all-mobiles/?f%5Bis_fbn%5D=\"+str(page)+\"&limit=50&sort%5Bby%5D=popularity&sort%5Bdir%5D=desc\")\n",
    "    soup = BeautifulSoup(page.text, 'html.parser')\n",
    "    mPhone_data = soup.findAll('span', attrs = {'class': 'sc-5e739f1b-0 gEERDr wrapper productContainer'})\n",
    "    sleep(randint(2,8))\n",
    "    for phone in mPhone_data:\n",
    "        phone_description = phone.a.div.div.find('div', class_ = 'sc-f8165ac8-15 bkbUJe').div.text\n",
    "        description.append(phone_description)\n",
    "        \n",
    "        \n",
    "        phone_currency = phone.a.div.div.find('div', class_ = 'sc-f8165ac8-15 bkbUJe').find('div', class_ = 'sc-f8165ac8-18 kOXsff').div.div.span.text\n",
    "        currency.append(phone_currency)\n",
    "        \n",
    "        \n",
    "        phone_price = phone.a.div.div.find('div', class_ = 'sc-f8165ac8-15 bkbUJe').find('div', class_ = 'sc-f8165ac8-18 kOXsff').div.div.strong.text\n",
    "        price.append(phone_price)\n",
    "        \n",
    "        \n",
    "        try :\n",
    "            phone.a.div.div.find('div', class_ = 'sc-f8165ac8-15 bkbUJe').find('div', class_ = 'sc-f8165ac8-18 kOXsff').div.find('div', class_ = 'sc-ac248257-2 fbaLpY').find('span', class_ = 'oldPrice').text\n",
    "            phone_oldPrice = phone.a.div.div.find('div', class_ = 'sc-f8165ac8-15 bkbUJe').find('div', class_ = 'sc-f8165ac8-18 kOXsff').div.find('div', class_ = 'sc-ac248257-2 fbaLpY').find('span', class_ = 'oldPrice').text\n",
    "        except:\n",
    "            phone_oldPrice = '0'\n",
    "            \n",
    "        oldPrice.append(phone_oldPrice)\n",
    "        \n",
    "        \n",
    "        try :\n",
    "            phone.a.div.div.find('div', class_ = 'sc-f8165ac8-15 bkbUJe').find('div', class_ = 'sc-f8165ac8-18 kOXsff').div.find('div', class_ = 'sc-ac248257-2 fbaLpY').find('span', class_ = 'discount').text\n",
    "            phone_discount = phone.a.div.div.find('div', class_ = 'sc-f8165ac8-15 bkbUJe').find('div', class_ = 'sc-f8165ac8-18 kOXsff').div.find('div', class_ = 'sc-ac248257-2 fbaLpY').find('span', class_ = 'discount').text\n",
    "        except:\n",
    "            phone_discount = '0'\n",
    "        \n",
    "        discount.append(phone_discount)\n",
    "        \n",
    "        \n",
    "        phone_shepper = phone.a.div.div.find('div', class_ = 'sc-f8165ac8-15 bkbUJe').find('div', class_ = 'sc-f8165ac8-19 bOilcU').div.find('div', class_ = 'sc-b823bcb8-0 jYIGEK').img.attrs['alt']\n",
    "        shepper.append(phone_shepper)\n",
    "        \n",
    "        \n",
    "        try :\n",
    "            phone.a.div.div.find('div', class_ = 'sc-f8165ac8-15 bkbUJe').find('div', class_ = 'sc-f8165ac8-19 bOilcU').div.find('div', class_ = 'sc-f8165ac8-21 kkkcRi').div.find('span', class_ = 'ratingValue').text\n",
    "            phone_rating = phone.a.div.div.find('div', class_ = 'sc-f8165ac8-15 bkbUJe').find('div', class_ = 'sc-f8165ac8-19 bOilcU').div.find('div', class_ = 'sc-f8165ac8-21 kkkcRi').div.find('span', class_ = 'ratingValue').text\n",
    "        except:\n",
    "            phone_rating = None\n",
    "        rating.append(phone_rating)\n",
    "\n",
    "        \n",
    "        if len(phone.a.div.div.find('div', class_ = 'sc-f8165ac8-1 kqfCOw').find('div', class_ = 'sc-f8165ac8-2 iyYXPE').find('div', class_ = 'sc-f8165ac8-3 illpwe').text) > 0:\n",
    "                 phone_topSeller = \"yes\"\n",
    "        else:\n",
    "            phone_topSeller = \"no\"\n",
    "            \n",
    "        topSeller.append(phone_topSeller)"
   ]
  },
  {
   "cell_type": "markdown",
   "id": "fbcd5378",
   "metadata": {},
   "source": [
    "__Showing Some of About The scraped Data:__"
   ]
  },
  {
   "cell_type": "code",
   "execution_count": 3,
   "id": "776ede54",
   "metadata": {},
   "outputs": [
    {
     "name": "stdout",
     "output_type": "stream",
     "text": [
      "First Elemint in the List: ريل مي C11 (2021)\n",
      "Number of Elemints in The List: 500\n",
      "=====================\n",
      "First Elemint in the List: جنيه \n",
      "Number of Elemints in The List: 500\n",
      "=====================\n",
      "First Elemint in the List: 2914.00\n",
      "Number of Elemints in The List: 500\n",
      "=====================\n",
      "First Elemint in the List: جنيه 4400\n",
      "Number of Elemints in The List: 500\n",
      "=====================\n",
      "First Elemint in the List: خصم 33٪\n",
      "Number of Elemints in The List: 500\n",
      "=====================\n",
      "First Elemint in the List: noon-express\n",
      "Number of Elemints in The List: 500\n",
      "=====================\n",
      "First Elemint in the List: 4.5\n",
      "Number of Elemints in The List: 500\n",
      "=====================\n",
      "First Elemint in the List: yes\n",
      "Number of Elemints in The List: 500\n",
      "=====================\n"
     ]
    }
   ],
   "source": [
    "print('First Elemint in the List: ' + str(description[0][0:17]))\n",
    "print('Number of Elemints in The List: ' + str(len(description)))\n",
    "print('=====================')\n",
    "print('First Elemint in the List: ' + str(currency[0]))\n",
    "print('Number of Elemints in The List: ' + str(len(currency)))\n",
    "print('=====================')\n",
    "print('First Elemint in the List: ' + str(price[0]))\n",
    "print('Number of Elemints in The List: ' + str(len(price)))\n",
    "print('=====================')\n",
    "print('First Elemint in the List: ' + str(oldPrice[0]))\n",
    "print('Number of Elemints in The List: ' + str(len(oldPrice)))\n",
    "print('=====================')\n",
    "print('First Elemint in the List: ' + str(discount[0]))\n",
    "print('Number of Elemints in The List: ' + str(len(discount)))\n",
    "print('=====================')\n",
    "print('First Elemint in the List: ' + str(shepper[0]))\n",
    "print('Number of Elemints in The List: ' + str(len(shepper)))\n",
    "print('=====================')\n",
    "print('First Elemint in the List: ' + str(rating[0]))\n",
    "print('Number of Elemints in The List: ' + str(len(rating)))\n",
    "print('=====================')\n",
    "print('First Elemint in the List: ' + str(topSeller[0]))\n",
    "print('Number of Elemints in The List: ' + str(len(topSeller)))\n",
    "print('=====================')"
   ]
  },
  {
   "cell_type": "markdown",
   "id": "28965282",
   "metadata": {},
   "source": [
    "__Presenting The Data in a Dataframe:__"
   ]
  },
  {
   "cell_type": "code",
   "execution_count": 4,
   "id": "7b76ce72",
   "metadata": {},
   "outputs": [],
   "source": [
    "noon_phones = pd.DataFrame({'price':price, 'currency':currency, 'oldPrice':oldPrice, 'discountIn%':discount, 'shepper':shepper, 'rating':rating, 'topSeller':topSeller, 'description':description})"
   ]
  },
  {
   "cell_type": "code",
   "execution_count": 5,
   "id": "e6b34bc2",
   "metadata": {
    "scrolled": true
   },
   "outputs": [
    {
     "data": {
      "text/html": [
       "<div>\n",
       "<style scoped>\n",
       "    .dataframe tbody tr th:only-of-type {\n",
       "        vertical-align: middle;\n",
       "    }\n",
       "\n",
       "    .dataframe tbody tr th {\n",
       "        vertical-align: top;\n",
       "    }\n",
       "\n",
       "    .dataframe thead th {\n",
       "        text-align: right;\n",
       "    }\n",
       "</style>\n",
       "<table border=\"1\" class=\"dataframe\">\n",
       "  <thead>\n",
       "    <tr style=\"text-align: right;\">\n",
       "      <th></th>\n",
       "      <th>price</th>\n",
       "      <th>currency</th>\n",
       "      <th>oldPrice</th>\n",
       "      <th>discountIn%</th>\n",
       "      <th>shepper</th>\n",
       "      <th>rating</th>\n",
       "      <th>topSeller</th>\n",
       "      <th>description</th>\n",
       "    </tr>\n",
       "  </thead>\n",
       "  <tbody>\n",
       "    <tr>\n",
       "      <th>0</th>\n",
       "      <td>2914.00</td>\n",
       "      <td>جنيه</td>\n",
       "      <td>جنيه 4400</td>\n",
       "      <td>خصم 33٪</td>\n",
       "      <td>noon-express</td>\n",
       "      <td>4.5</td>\n",
       "      <td>yes</td>\n",
       "      <td>ريل مي C11 (2021) Dual SIM Cool Blue 2GB RAM 3...</td>\n",
       "    </tr>\n",
       "    <tr>\n",
       "      <th>1</th>\n",
       "      <td>2999.00</td>\n",
       "      <td>جنيه</td>\n",
       "      <td>جنيه 3199</td>\n",
       "      <td>خصم 6٪</td>\n",
       "      <td>noon-express</td>\n",
       "      <td>4.6</td>\n",
       "      <td>yes</td>\n",
       "      <td>سامسونج Galaxy A03 Core Dual SIM Onyx Black 2G...</td>\n",
       "    </tr>\n",
       "    <tr>\n",
       "      <th>2</th>\n",
       "      <td>3020.00</td>\n",
       "      <td>جنيه</td>\n",
       "      <td>جنيه 3444</td>\n",
       "      <td>خصم 12٪</td>\n",
       "      <td>noon-express</td>\n",
       "      <td>4.6</td>\n",
       "      <td>yes</td>\n",
       "      <td>شاومي هاتف ريدمي 9A ثنائي الشريحة بذاكرة داخلي...</td>\n",
       "    </tr>\n",
       "    <tr>\n",
       "      <th>3</th>\n",
       "      <td>3010.00</td>\n",
       "      <td>جنيه</td>\n",
       "      <td>جنيه 3444</td>\n",
       "      <td>خصم 12٪</td>\n",
       "      <td>noon-express</td>\n",
       "      <td>4.5</td>\n",
       "      <td>yes</td>\n",
       "      <td>شاومي هاتف ريدمي 9A ثنائي الشريحة بذاكرة رام س...</td>\n",
       "    </tr>\n",
       "    <tr>\n",
       "      <th>4</th>\n",
       "      <td>3090.00</td>\n",
       "      <td>جنيه</td>\n",
       "      <td>0</td>\n",
       "      <td>0</td>\n",
       "      <td>noon-express</td>\n",
       "      <td>4.5</td>\n",
       "      <td>no</td>\n",
       "      <td>سامسونج Galaxy A03 Core Dual SIM Bronze 2GB RA...</td>\n",
       "    </tr>\n",
       "  </tbody>\n",
       "</table>\n",
       "</div>"
      ],
      "text/plain": [
       "     price currency   oldPrice discountIn%       shepper rating topSeller  \\\n",
       "0  2914.00    جنيه   جنيه 4400     خصم 33٪  noon-express    4.5       yes   \n",
       "1  2999.00    جنيه   جنيه 3199      خصم 6٪  noon-express    4.6       yes   \n",
       "2  3020.00    جنيه   جنيه 3444     خصم 12٪  noon-express    4.6       yes   \n",
       "3  3010.00    جنيه   جنيه 3444     خصم 12٪  noon-express    4.5       yes   \n",
       "4  3090.00    جنيه           0           0  noon-express    4.5        no   \n",
       "\n",
       "                                         description  \n",
       "0  ريل مي C11 (2021) Dual SIM Cool Blue 2GB RAM 3...  \n",
       "1  سامسونج Galaxy A03 Core Dual SIM Onyx Black 2G...  \n",
       "2  شاومي هاتف ريدمي 9A ثنائي الشريحة بذاكرة داخلي...  \n",
       "3  شاومي هاتف ريدمي 9A ثنائي الشريحة بذاكرة رام س...  \n",
       "4  سامسونج Galaxy A03 Core Dual SIM Bronze 2GB RA...  "
      ]
     },
     "execution_count": 5,
     "metadata": {},
     "output_type": "execute_result"
    }
   ],
   "source": [
    "noon_phones.head()"
   ]
  },
  {
   "cell_type": "markdown",
   "id": "742606af",
   "metadata": {},
   "source": [
    "<a id='2'></a>\n",
    "[__Cleaning The Data:__](#6)"
   ]
  },
  {
   "cell_type": "code",
   "execution_count": 6,
   "id": "e502efb2",
   "metadata": {},
   "outputs": [
    {
     "data": {
      "text/html": [
       "<div>\n",
       "<style scoped>\n",
       "    .dataframe tbody tr th:only-of-type {\n",
       "        vertical-align: middle;\n",
       "    }\n",
       "\n",
       "    .dataframe tbody tr th {\n",
       "        vertical-align: top;\n",
       "    }\n",
       "\n",
       "    .dataframe thead th {\n",
       "        text-align: right;\n",
       "    }\n",
       "</style>\n",
       "<table border=\"1\" class=\"dataframe\">\n",
       "  <thead>\n",
       "    <tr style=\"text-align: right;\">\n",
       "      <th></th>\n",
       "      <th>price</th>\n",
       "      <th>currency</th>\n",
       "      <th>oldPrice</th>\n",
       "      <th>discountIn%</th>\n",
       "      <th>shepper</th>\n",
       "      <th>rating</th>\n",
       "      <th>topSeller</th>\n",
       "      <th>description</th>\n",
       "    </tr>\n",
       "  </thead>\n",
       "  <tbody>\n",
       "    <tr>\n",
       "      <th>0</th>\n",
       "      <td>2914.00</td>\n",
       "      <td>جنيه</td>\n",
       "      <td>جنيه 4400</td>\n",
       "      <td>خصم 33٪</td>\n",
       "      <td>noon-express</td>\n",
       "      <td>4.5</td>\n",
       "      <td>yes</td>\n",
       "      <td>ريل مي C11 (2021) Dual SIM Cool Blue 2GB RAM 3...</td>\n",
       "    </tr>\n",
       "    <tr>\n",
       "      <th>1</th>\n",
       "      <td>2999.00</td>\n",
       "      <td>جنيه</td>\n",
       "      <td>جنيه 3199</td>\n",
       "      <td>خصم 6٪</td>\n",
       "      <td>noon-express</td>\n",
       "      <td>4.6</td>\n",
       "      <td>yes</td>\n",
       "      <td>سامسونج Galaxy A03 Core Dual SIM Onyx Black 2G...</td>\n",
       "    </tr>\n",
       "    <tr>\n",
       "      <th>2</th>\n",
       "      <td>3020.00</td>\n",
       "      <td>جنيه</td>\n",
       "      <td>جنيه 3444</td>\n",
       "      <td>خصم 12٪</td>\n",
       "      <td>noon-express</td>\n",
       "      <td>4.6</td>\n",
       "      <td>yes</td>\n",
       "      <td>شاومي هاتف ريدمي 9A ثنائي الشريحة بذاكرة داخلي...</td>\n",
       "    </tr>\n",
       "    <tr>\n",
       "      <th>3</th>\n",
       "      <td>3010.00</td>\n",
       "      <td>جنيه</td>\n",
       "      <td>جنيه 3444</td>\n",
       "      <td>خصم 12٪</td>\n",
       "      <td>noon-express</td>\n",
       "      <td>4.5</td>\n",
       "      <td>yes</td>\n",
       "      <td>شاومي هاتف ريدمي 9A ثنائي الشريحة بذاكرة رام س...</td>\n",
       "    </tr>\n",
       "    <tr>\n",
       "      <th>4</th>\n",
       "      <td>3090.00</td>\n",
       "      <td>جنيه</td>\n",
       "      <td>0</td>\n",
       "      <td>0</td>\n",
       "      <td>noon-express</td>\n",
       "      <td>4.5</td>\n",
       "      <td>no</td>\n",
       "      <td>سامسونج Galaxy A03 Core Dual SIM Bronze 2GB RA...</td>\n",
       "    </tr>\n",
       "    <tr>\n",
       "      <th>...</th>\n",
       "      <td>...</td>\n",
       "      <td>...</td>\n",
       "      <td>...</td>\n",
       "      <td>...</td>\n",
       "      <td>...</td>\n",
       "      <td>...</td>\n",
       "      <td>...</td>\n",
       "      <td>...</td>\n",
       "    </tr>\n",
       "    <tr>\n",
       "      <th>495</th>\n",
       "      <td>18700.00</td>\n",
       "      <td>جنيه</td>\n",
       "      <td>جنيه 19550</td>\n",
       "      <td>0</td>\n",
       "      <td>noon-express</td>\n",
       "      <td>4.3</td>\n",
       "      <td>no</td>\n",
       "      <td>سامسونج هاتف جالاكسي Z فليب 3 بشريحة واحدة وذا...</td>\n",
       "    </tr>\n",
       "    <tr>\n",
       "      <th>496</th>\n",
       "      <td>6666.00</td>\n",
       "      <td>جنيه</td>\n",
       "      <td>جنيه 8050</td>\n",
       "      <td>خصم 17٪</td>\n",
       "      <td>noon-express</td>\n",
       "      <td>4.2</td>\n",
       "      <td>no</td>\n",
       "      <td>شاومي هاتف ريدمي نوت 11 ثنائي الشريحة بذاكرة ر...</td>\n",
       "    </tr>\n",
       "    <tr>\n",
       "      <th>497</th>\n",
       "      <td>17100.00</td>\n",
       "      <td>جنيه</td>\n",
       "      <td>جنيه 18379</td>\n",
       "      <td>خصم 6٪</td>\n",
       "      <td>noon-express</td>\n",
       "      <td>None</td>\n",
       "      <td>no</td>\n",
       "      <td>أبل آيفون Xs  ماكس مع فيس تايم سعة 512 جيجاباي...</td>\n",
       "    </tr>\n",
       "    <tr>\n",
       "      <th>498</th>\n",
       "      <td>5399.00</td>\n",
       "      <td>جنيه</td>\n",
       "      <td>0</td>\n",
       "      <td>0</td>\n",
       "      <td>noon-express</td>\n",
       "      <td>4.7</td>\n",
       "      <td>no</td>\n",
       "      <td>أوبو A54 Dual SIM Starry Blue 4GB RAM 128GB 4G...</td>\n",
       "    </tr>\n",
       "    <tr>\n",
       "      <th>499</th>\n",
       "      <td>5599.00</td>\n",
       "      <td>جنيه</td>\n",
       "      <td>0</td>\n",
       "      <td>0</td>\n",
       "      <td>noon-express</td>\n",
       "      <td>4.6</td>\n",
       "      <td>no</td>\n",
       "      <td>شاومي Redmi 10 2022 Dual SIM Carbon Gray 4GB R...</td>\n",
       "    </tr>\n",
       "  </tbody>\n",
       "</table>\n",
       "<p>500 rows × 8 columns</p>\n",
       "</div>"
      ],
      "text/plain": [
       "        price currency    oldPrice discountIn%       shepper rating topSeller  \\\n",
       "0     2914.00    جنيه    جنيه 4400     خصم 33٪  noon-express    4.5       yes   \n",
       "1     2999.00    جنيه    جنيه 3199      خصم 6٪  noon-express    4.6       yes   \n",
       "2     3020.00    جنيه    جنيه 3444     خصم 12٪  noon-express    4.6       yes   \n",
       "3     3010.00    جنيه    جنيه 3444     خصم 12٪  noon-express    4.5       yes   \n",
       "4     3090.00    جنيه            0           0  noon-express    4.5        no   \n",
       "..        ...      ...         ...         ...           ...    ...       ...   \n",
       "495  18700.00    جنيه   جنيه 19550           0  noon-express    4.3        no   \n",
       "496   6666.00    جنيه    جنيه 8050     خصم 17٪  noon-express    4.2        no   \n",
       "497  17100.00    جنيه   جنيه 18379      خصم 6٪  noon-express   None        no   \n",
       "498   5399.00    جنيه            0           0  noon-express    4.7        no   \n",
       "499   5599.00    جنيه            0           0  noon-express    4.6        no   \n",
       "\n",
       "                                           description  \n",
       "0    ريل مي C11 (2021) Dual SIM Cool Blue 2GB RAM 3...  \n",
       "1    سامسونج Galaxy A03 Core Dual SIM Onyx Black 2G...  \n",
       "2    شاومي هاتف ريدمي 9A ثنائي الشريحة بذاكرة داخلي...  \n",
       "3    شاومي هاتف ريدمي 9A ثنائي الشريحة بذاكرة رام س...  \n",
       "4    سامسونج Galaxy A03 Core Dual SIM Bronze 2GB RA...  \n",
       "..                                                 ...  \n",
       "495  سامسونج هاتف جالاكسي Z فليب 3 بشريحة واحدة وذا...  \n",
       "496  شاومي هاتف ريدمي نوت 11 ثنائي الشريحة بذاكرة ر...  \n",
       "497  أبل آيفون Xs  ماكس مع فيس تايم سعة 512 جيجاباي...  \n",
       "498  أوبو A54 Dual SIM Starry Blue 4GB RAM 128GB 4G...  \n",
       "499  شاومي Redmi 10 2022 Dual SIM Carbon Gray 4GB R...  \n",
       "\n",
       "[500 rows x 8 columns]"
      ]
     },
     "execution_count": 6,
     "metadata": {},
     "output_type": "execute_result"
    }
   ],
   "source": [
    "noon_phones"
   ]
  },
  {
   "cell_type": "markdown",
   "id": "f9e7449a",
   "metadata": {},
   "source": [
    "Exploring The Data: Descriptive Statistics."
   ]
  },
  {
   "cell_type": "code",
   "execution_count": 7,
   "id": "c4190bc5",
   "metadata": {},
   "outputs": [
    {
     "data": {
      "text/html": [
       "<div>\n",
       "<style scoped>\n",
       "    .dataframe tbody tr th:only-of-type {\n",
       "        vertical-align: middle;\n",
       "    }\n",
       "\n",
       "    .dataframe tbody tr th {\n",
       "        vertical-align: top;\n",
       "    }\n",
       "\n",
       "    .dataframe thead th {\n",
       "        text-align: right;\n",
       "    }\n",
       "</style>\n",
       "<table border=\"1\" class=\"dataframe\">\n",
       "  <thead>\n",
       "    <tr style=\"text-align: right;\">\n",
       "      <th></th>\n",
       "      <th>price</th>\n",
       "      <th>currency</th>\n",
       "      <th>oldPrice</th>\n",
       "      <th>discountIn%</th>\n",
       "      <th>shepper</th>\n",
       "      <th>rating</th>\n",
       "      <th>topSeller</th>\n",
       "      <th>description</th>\n",
       "    </tr>\n",
       "  </thead>\n",
       "  <tbody>\n",
       "    <tr>\n",
       "      <th>count</th>\n",
       "      <td>500</td>\n",
       "      <td>500</td>\n",
       "      <td>500</td>\n",
       "      <td>500</td>\n",
       "      <td>500</td>\n",
       "      <td>430</td>\n",
       "      <td>500</td>\n",
       "      <td>500</td>\n",
       "    </tr>\n",
       "    <tr>\n",
       "      <th>unique</th>\n",
       "      <td>48</td>\n",
       "      <td>1</td>\n",
       "      <td>18</td>\n",
       "      <td>12</td>\n",
       "      <td>1</td>\n",
       "      <td>9</td>\n",
       "      <td>2</td>\n",
       "      <td>50</td>\n",
       "    </tr>\n",
       "    <tr>\n",
       "      <th>top</th>\n",
       "      <td>3939.00</td>\n",
       "      <td>جنيه</td>\n",
       "      <td>0</td>\n",
       "      <td>0</td>\n",
       "      <td>noon-express</td>\n",
       "      <td>4.5</td>\n",
       "      <td>no</td>\n",
       "      <td>أوبو Reno 7 Black Dual Sim 8GB RAM 256GB 4G LTE …</td>\n",
       "    </tr>\n",
       "    <tr>\n",
       "      <th>freq</th>\n",
       "      <td>20</td>\n",
       "      <td>500</td>\n",
       "      <td>310</td>\n",
       "      <td>350</td>\n",
       "      <td>500</td>\n",
       "      <td>80</td>\n",
       "      <td>310</td>\n",
       "      <td>10</td>\n",
       "    </tr>\n",
       "  </tbody>\n",
       "</table>\n",
       "</div>"
      ],
      "text/plain": [
       "          price currency oldPrice discountIn%       shepper rating topSeller  \\\n",
       "count       500      500      500         500           500    430       500   \n",
       "unique       48        1       18          12             1      9         2   \n",
       "top     3939.00    جنيه         0           0  noon-express    4.5        no   \n",
       "freq         20      500      310         350           500     80       310   \n",
       "\n",
       "                                              description  \n",
       "count                                                 500  \n",
       "unique                                                 50  \n",
       "top     أوبو Reno 7 Black Dual Sim 8GB RAM 256GB 4G LTE …  \n",
       "freq                                                   10  "
      ]
     },
     "execution_count": 7,
     "metadata": {},
     "output_type": "execute_result"
    }
   ],
   "source": [
    "noon_phones.describe()"
   ]
  },
  {
   "cell_type": "code",
   "execution_count": 8,
   "id": "f4ceb4a4",
   "metadata": {},
   "outputs": [
    {
     "name": "stdout",
     "output_type": "stream",
     "text": [
      "<class 'pandas.core.frame.DataFrame'>\n",
      "RangeIndex: 500 entries, 0 to 499\n",
      "Data columns (total 8 columns):\n",
      " #   Column       Non-Null Count  Dtype \n",
      "---  ------       --------------  ----- \n",
      " 0   price        500 non-null    object\n",
      " 1   currency     500 non-null    object\n",
      " 2   oldPrice     500 non-null    object\n",
      " 3   discountIn%  500 non-null    object\n",
      " 4   shepper      500 non-null    object\n",
      " 5   rating       430 non-null    object\n",
      " 6   topSeller    500 non-null    object\n",
      " 7   description  500 non-null    object\n",
      "dtypes: object(8)\n",
      "memory usage: 31.4+ KB\n"
     ]
    }
   ],
   "source": [
    "noon_phones.info()"
   ]
  },
  {
   "cell_type": "markdown",
   "id": "4872ebee",
   "metadata": {},
   "source": [
    "Cheacking Columns Content:"
   ]
  },
  {
   "cell_type": "code",
   "execution_count": 9,
   "id": "e41acc1d",
   "metadata": {},
   "outputs": [
    {
     "data": {
      "text/plain": [
       "جنيه     500\n",
       "Name: currency, dtype: int64"
      ]
     },
     "execution_count": 9,
     "metadata": {},
     "output_type": "execute_result"
    }
   ],
   "source": [
    "noon_phones['currency'].value_counts()"
   ]
  },
  {
   "cell_type": "code",
   "execution_count": 10,
   "id": "d58492d8",
   "metadata": {},
   "outputs": [
    {
     "data": {
      "text/plain": [
       "noon-express    500\n",
       "Name: shepper, dtype: int64"
      ]
     },
     "execution_count": 10,
     "metadata": {},
     "output_type": "execute_result"
    }
   ],
   "source": [
    "noon_phones['shepper'].value_counts()"
   ]
  },
  {
   "cell_type": "code",
   "execution_count": 11,
   "id": "4bb50b17",
   "metadata": {},
   "outputs": [
    {
     "data": {
      "text/plain": [
       "no     310\n",
       "yes    190\n",
       "Name: topSeller, dtype: int64"
      ]
     },
     "execution_count": 11,
     "metadata": {},
     "output_type": "execute_result"
    }
   ],
   "source": [
    "noon_phones['topSeller'].value_counts()"
   ]
  },
  {
   "cell_type": "markdown",
   "id": "850a93aa",
   "metadata": {},
   "source": [
    "Spicial Changes:"
   ]
  },
  {
   "cell_type": "code",
   "execution_count": 12,
   "id": "308ab050",
   "metadata": {},
   "outputs": [],
   "source": [
    "m = []\n",
    "for i in noon_phones['description']:\n",
    "    x = i.split()[0:2]\n",
    "    if x[1] == 'مي':\n",
    "        x = ' '.join(x)\n",
    "    else:\n",
    "        x = x[0]\n",
    "    m.append(x)\n",
    "    \n",
    "m = pd.Series(m).astype('category')\n",
    "noon_phones.insert(loc=0, column='brand', value=m)"
   ]
  },
  {
   "cell_type": "code",
   "execution_count": 13,
   "id": "483e171b",
   "metadata": {},
   "outputs": [],
   "source": [
    "noon_phones['currency'] = noon_phones['currency'].astype('category')"
   ]
  },
  {
   "cell_type": "code",
   "execution_count": 14,
   "id": "694e98bb",
   "metadata": {},
   "outputs": [],
   "source": [
    "noon_phones['price'] = noon_phones['price'].astype('float64')"
   ]
  },
  {
   "cell_type": "code",
   "execution_count": 15,
   "id": "7b387702",
   "metadata": {},
   "outputs": [],
   "source": [
    "import re\n",
    "x = noon_phones['oldPrice'].astype('string').str.findall('[0-9]+')\n",
    "m = []\n",
    "[m.append(i[0]) for i in x]\n",
    "noon_phones['oldPrice'] = m \n",
    "noon_phones['oldPrice'] = noon_phones['oldPrice'].astype('int64')"
   ]
  },
  {
   "cell_type": "code",
   "execution_count": 16,
   "id": "31e9f55a",
   "metadata": {},
   "outputs": [],
   "source": [
    "x = noon_phones['discountIn%'].astype('string').str.findall('[0-9]+')\n",
    "m = []\n",
    "[m.append(i[0]) for i in x]\n",
    "noon_phones['discountIn%'] = m \n",
    "noon_phones['discountIn%'] = noon_phones['discountIn%'].astype('int64')"
   ]
  },
  {
   "cell_type": "code",
   "execution_count": 17,
   "id": "35f37a03",
   "metadata": {},
   "outputs": [],
   "source": [
    "noon_phones['shepper'] = noon_phones['shepper'].astype('category')"
   ]
  },
  {
   "cell_type": "code",
   "execution_count": 18,
   "id": "a2ad6899",
   "metadata": {},
   "outputs": [],
   "source": [
    "noon_phones['rating'] = noon_phones['rating'].astype('float64')"
   ]
  },
  {
   "cell_type": "code",
   "execution_count": 19,
   "id": "7e0cad84",
   "metadata": {},
   "outputs": [],
   "source": [
    "noon_phones['topSeller'] = noon_phones['topSeller'].astype('category')"
   ]
  },
  {
   "cell_type": "markdown",
   "id": "99501fb6",
   "metadata": {},
   "source": [
    "__Data After Cleaning:__"
   ]
  },
  {
   "cell_type": "code",
   "execution_count": 20,
   "id": "9944f2e4",
   "metadata": {
    "scrolled": true
   },
   "outputs": [
    {
     "name": "stdout",
     "output_type": "stream",
     "text": [
      "<class 'pandas.core.frame.DataFrame'>\n",
      "RangeIndex: 500 entries, 0 to 499\n",
      "Data columns (total 9 columns):\n",
      " #   Column       Non-Null Count  Dtype   \n",
      "---  ------       --------------  -----   \n",
      " 0   brand        500 non-null    category\n",
      " 1   price        500 non-null    float64 \n",
      " 2   currency     500 non-null    category\n",
      " 3   oldPrice     500 non-null    int64   \n",
      " 4   discountIn%  500 non-null    int64   \n",
      " 5   shepper      500 non-null    category\n",
      " 6   rating       430 non-null    float64 \n",
      " 7   topSeller    500 non-null    category\n",
      " 8   description  500 non-null    object  \n",
      "dtypes: category(4), float64(2), int64(2), object(1)\n",
      "memory usage: 22.3+ KB\n"
     ]
    }
   ],
   "source": [
    "noon_phones.info()"
   ]
  },
  {
   "cell_type": "code",
   "execution_count": 21,
   "id": "d572f9e2",
   "metadata": {},
   "outputs": [
    {
     "data": {
      "text/html": [
       "<div>\n",
       "<style scoped>\n",
       "    .dataframe tbody tr th:only-of-type {\n",
       "        vertical-align: middle;\n",
       "    }\n",
       "\n",
       "    .dataframe tbody tr th {\n",
       "        vertical-align: top;\n",
       "    }\n",
       "\n",
       "    .dataframe thead th {\n",
       "        text-align: right;\n",
       "    }\n",
       "</style>\n",
       "<table border=\"1\" class=\"dataframe\">\n",
       "  <thead>\n",
       "    <tr style=\"text-align: right;\">\n",
       "      <th></th>\n",
       "      <th>brand</th>\n",
       "      <th>price</th>\n",
       "      <th>currency</th>\n",
       "      <th>oldPrice</th>\n",
       "      <th>discountIn%</th>\n",
       "      <th>shepper</th>\n",
       "      <th>rating</th>\n",
       "      <th>topSeller</th>\n",
       "      <th>description</th>\n",
       "    </tr>\n",
       "  </thead>\n",
       "  <tbody>\n",
       "    <tr>\n",
       "      <th>0</th>\n",
       "      <td>ريل مي</td>\n",
       "      <td>2914.0</td>\n",
       "      <td>جنيه</td>\n",
       "      <td>4400</td>\n",
       "      <td>33</td>\n",
       "      <td>noon-express</td>\n",
       "      <td>4.5</td>\n",
       "      <td>yes</td>\n",
       "      <td>ريل مي C11 (2021) Dual SIM Cool Blue 2GB RAM 3...</td>\n",
       "    </tr>\n",
       "    <tr>\n",
       "      <th>1</th>\n",
       "      <td>سامسونج</td>\n",
       "      <td>2999.0</td>\n",
       "      <td>جنيه</td>\n",
       "      <td>3199</td>\n",
       "      <td>6</td>\n",
       "      <td>noon-express</td>\n",
       "      <td>4.6</td>\n",
       "      <td>yes</td>\n",
       "      <td>سامسونج Galaxy A03 Core Dual SIM Onyx Black 2G...</td>\n",
       "    </tr>\n",
       "    <tr>\n",
       "      <th>2</th>\n",
       "      <td>شاومي</td>\n",
       "      <td>3020.0</td>\n",
       "      <td>جنيه</td>\n",
       "      <td>3444</td>\n",
       "      <td>12</td>\n",
       "      <td>noon-express</td>\n",
       "      <td>4.6</td>\n",
       "      <td>yes</td>\n",
       "      <td>شاومي هاتف ريدمي 9A ثنائي الشريحة بذاكرة داخلي...</td>\n",
       "    </tr>\n",
       "    <tr>\n",
       "      <th>3</th>\n",
       "      <td>شاومي</td>\n",
       "      <td>3010.0</td>\n",
       "      <td>جنيه</td>\n",
       "      <td>3444</td>\n",
       "      <td>12</td>\n",
       "      <td>noon-express</td>\n",
       "      <td>4.5</td>\n",
       "      <td>yes</td>\n",
       "      <td>شاومي هاتف ريدمي 9A ثنائي الشريحة بذاكرة رام س...</td>\n",
       "    </tr>\n",
       "    <tr>\n",
       "      <th>4</th>\n",
       "      <td>سامسونج</td>\n",
       "      <td>3090.0</td>\n",
       "      <td>جنيه</td>\n",
       "      <td>0</td>\n",
       "      <td>0</td>\n",
       "      <td>noon-express</td>\n",
       "      <td>4.5</td>\n",
       "      <td>no</td>\n",
       "      <td>سامسونج Galaxy A03 Core Dual SIM Bronze 2GB RA...</td>\n",
       "    </tr>\n",
       "    <tr>\n",
       "      <th>...</th>\n",
       "      <td>...</td>\n",
       "      <td>...</td>\n",
       "      <td>...</td>\n",
       "      <td>...</td>\n",
       "      <td>...</td>\n",
       "      <td>...</td>\n",
       "      <td>...</td>\n",
       "      <td>...</td>\n",
       "      <td>...</td>\n",
       "    </tr>\n",
       "    <tr>\n",
       "      <th>495</th>\n",
       "      <td>سامسونج</td>\n",
       "      <td>18700.0</td>\n",
       "      <td>جنيه</td>\n",
       "      <td>19550</td>\n",
       "      <td>0</td>\n",
       "      <td>noon-express</td>\n",
       "      <td>4.3</td>\n",
       "      <td>no</td>\n",
       "      <td>سامسونج هاتف جالاكسي Z فليب 3 بشريحة واحدة وذا...</td>\n",
       "    </tr>\n",
       "    <tr>\n",
       "      <th>496</th>\n",
       "      <td>شاومي</td>\n",
       "      <td>6666.0</td>\n",
       "      <td>جنيه</td>\n",
       "      <td>8050</td>\n",
       "      <td>17</td>\n",
       "      <td>noon-express</td>\n",
       "      <td>4.2</td>\n",
       "      <td>no</td>\n",
       "      <td>شاومي هاتف ريدمي نوت 11 ثنائي الشريحة بذاكرة ر...</td>\n",
       "    </tr>\n",
       "    <tr>\n",
       "      <th>497</th>\n",
       "      <td>أبل</td>\n",
       "      <td>17100.0</td>\n",
       "      <td>جنيه</td>\n",
       "      <td>18379</td>\n",
       "      <td>6</td>\n",
       "      <td>noon-express</td>\n",
       "      <td>NaN</td>\n",
       "      <td>no</td>\n",
       "      <td>أبل آيفون Xs  ماكس مع فيس تايم سعة 512 جيجاباي...</td>\n",
       "    </tr>\n",
       "    <tr>\n",
       "      <th>498</th>\n",
       "      <td>أوبو</td>\n",
       "      <td>5399.0</td>\n",
       "      <td>جنيه</td>\n",
       "      <td>0</td>\n",
       "      <td>0</td>\n",
       "      <td>noon-express</td>\n",
       "      <td>4.7</td>\n",
       "      <td>no</td>\n",
       "      <td>أوبو A54 Dual SIM Starry Blue 4GB RAM 128GB 4G...</td>\n",
       "    </tr>\n",
       "    <tr>\n",
       "      <th>499</th>\n",
       "      <td>شاومي</td>\n",
       "      <td>5599.0</td>\n",
       "      <td>جنيه</td>\n",
       "      <td>0</td>\n",
       "      <td>0</td>\n",
       "      <td>noon-express</td>\n",
       "      <td>4.6</td>\n",
       "      <td>no</td>\n",
       "      <td>شاومي Redmi 10 2022 Dual SIM Carbon Gray 4GB R...</td>\n",
       "    </tr>\n",
       "  </tbody>\n",
       "</table>\n",
       "<p>500 rows × 9 columns</p>\n",
       "</div>"
      ],
      "text/plain": [
       "       brand    price currency  oldPrice  discountIn%       shepper  rating  \\\n",
       "0     ريل مي   2914.0    جنيه       4400           33  noon-express     4.5   \n",
       "1    سامسونج   2999.0    جنيه       3199            6  noon-express     4.6   \n",
       "2      شاومي   3020.0    جنيه       3444           12  noon-express     4.6   \n",
       "3      شاومي   3010.0    جنيه       3444           12  noon-express     4.5   \n",
       "4    سامسونج   3090.0    جنيه          0            0  noon-express     4.5   \n",
       "..       ...      ...      ...       ...          ...           ...     ...   \n",
       "495  سامسونج  18700.0    جنيه      19550            0  noon-express     4.3   \n",
       "496    شاومي   6666.0    جنيه       8050           17  noon-express     4.2   \n",
       "497      أبل  17100.0    جنيه      18379            6  noon-express     NaN   \n",
       "498     أوبو   5399.0    جنيه          0            0  noon-express     4.7   \n",
       "499    شاومي   5599.0    جنيه          0            0  noon-express     4.6   \n",
       "\n",
       "    topSeller                                        description  \n",
       "0         yes  ريل مي C11 (2021) Dual SIM Cool Blue 2GB RAM 3...  \n",
       "1         yes  سامسونج Galaxy A03 Core Dual SIM Onyx Black 2G...  \n",
       "2         yes  شاومي هاتف ريدمي 9A ثنائي الشريحة بذاكرة داخلي...  \n",
       "3         yes  شاومي هاتف ريدمي 9A ثنائي الشريحة بذاكرة رام س...  \n",
       "4          no  سامسونج Galaxy A03 Core Dual SIM Bronze 2GB RA...  \n",
       "..        ...                                                ...  \n",
       "495        no  سامسونج هاتف جالاكسي Z فليب 3 بشريحة واحدة وذا...  \n",
       "496        no  شاومي هاتف ريدمي نوت 11 ثنائي الشريحة بذاكرة ر...  \n",
       "497        no  أبل آيفون Xs  ماكس مع فيس تايم سعة 512 جيجاباي...  \n",
       "498        no  أوبو A54 Dual SIM Starry Blue 4GB RAM 128GB 4G...  \n",
       "499        no  شاومي Redmi 10 2022 Dual SIM Carbon Gray 4GB R...  \n",
       "\n",
       "[500 rows x 9 columns]"
      ]
     },
     "execution_count": 21,
     "metadata": {},
     "output_type": "execute_result"
    }
   ],
   "source": [
    "noon_phones"
   ]
  },
  {
   "cell_type": "markdown",
   "id": "dec2a747",
   "metadata": {},
   "source": [
    "<a id='3'></a>\n",
    "## [2- Creating a Database and Storing The Data in It:](#7)"
   ]
  },
  {
   "cell_type": "markdown",
   "id": "21978d8d",
   "metadata": {},
   "source": [
    "__Importing Libraries:__"
   ]
  },
  {
   "cell_type": "code",
   "execution_count": 22,
   "id": "4c4a58b0",
   "metadata": {},
   "outputs": [],
   "source": [
    "import sqlite3"
   ]
  },
  {
   "cell_type": "markdown",
   "id": "4beaa87d",
   "metadata": {},
   "source": [
    "__Creating The Database:__"
   ]
  },
  {
   "cell_type": "code",
   "execution_count": 23,
   "id": "8c33250d",
   "metadata": {
    "scrolled": true
   },
   "outputs": [
    {
     "data": {
      "text/plain": [
       "<sqlite3.Cursor at 0x2164453c340>"
      ]
     },
     "execution_count": 23,
     "metadata": {},
     "output_type": "execute_result"
    }
   ],
   "source": [
    "#making connect to the database, implecetly initilaizs one if there wasn't\n",
    "conn = sqlite3.connect('noon_mobile_data.sqlite')\n",
    "#Initializing The cursor\n",
    "cur = conn.cursor()\n",
    "\n",
    "#making the table\n",
    "cur.execute('''DROP TABLE IF EXISTS Phones ''')\n",
    "\n",
    "cur.execute('''CREATE TABLE IF NOT EXISTS Phones (id INTEGER PRIMARY KEY, brand TEXT, price FLOAT,currency TEXT, oldPrice INTEGER, discount INTEGER, shepper TEXT , rating FLOAT, topSeller TEXT, description TEXT)''')"
   ]
  },
  {
   "cell_type": "markdown",
   "id": "a52a49c4",
   "metadata": {},
   "source": [
    "__Storing The Data Into The Phones Table:__"
   ]
  },
  {
   "cell_type": "code",
   "execution_count": 24,
   "id": "55b77715",
   "metadata": {},
   "outputs": [],
   "source": [
    "#calling the int() function was because the data byte int64 is not suitable for the .execute() parameters\n",
    "for n in range(0, 500, 1):\n",
    "    cur.execute('INSERT INTO Phones (id, brand, price, currency, oldPrice, discount, shepper, rating, topSeller, description) VALUES ( ?,?,?,?,?,?,?,?,?,? )', (n+1, noon_phones['brand'][n], noon_phones['price'][n], noon_phones['currency'][n], int(noon_phones['oldPrice'][n]), int(noon_phones['discountIn%'][n]), noon_phones['shepper'][n], noon_phones['rating'][n], noon_phones['topSeller'][n], noon_phones['description'][n]))\n",
    "    \n",
    "conn.commit()"
   ]
  },
  {
   "cell_type": "markdown",
   "id": "7641d520",
   "metadata": {},
   "source": [
    "[__Exporting The Data to csv Format:__](#8)\n",
    "<a id='4'></a>"
   ]
  },
  {
   "cell_type": "code",
   "execution_count": 25,
   "id": "9cfef8d6",
   "metadata": {},
   "outputs": [],
   "source": [
    "#beaware that the \"category\" data is going to be stored as string so the file size will be greater than the dataframe size\n",
    "noon_phones.to_csv('noon_mobile_data.csv')"
   ]
  },
  {
   "cell_type": "markdown",
   "id": "ef95216d",
   "metadata": {},
   "source": [
    "# ..........................................................تم بحمد الله........................................................."
   ]
  }
 ],
 "metadata": {
  "kernelspec": {
   "display_name": "Python 3 (ipykernel)",
   "language": "python",
   "name": "python3"
  },
  "language_info": {
   "codemirror_mode": {
    "name": "ipython",
    "version": 3
   },
   "file_extension": ".py",
   "mimetype": "text/x-python",
   "name": "python",
   "nbconvert_exporter": "python",
   "pygments_lexer": "ipython3",
   "version": "3.9.13"
  }
 },
 "nbformat": 4,
 "nbformat_minor": 5
}
