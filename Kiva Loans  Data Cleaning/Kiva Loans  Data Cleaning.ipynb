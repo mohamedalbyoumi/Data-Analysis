{
 "cells": [
  {
   "cell_type": "markdown",
   "id": "a25862de",
   "metadata": {},
   "source": [
    "# ...................................................بسم الله الرحمن الرحيم.................................................."
   ]
  },
  {
   "cell_type": "markdown",
   "id": "6ca807b4",
   "metadata": {},
   "source": [
    "__In This Projet I am cleaning a dataset.__"
   ]
  },
  {
   "cell_type": "markdown",
   "id": "c4ca226d",
   "metadata": {},
   "source": [
    "__Acknowledgments:__"
   ]
  },
  {
   "cell_type": "markdown",
   "id": "f955b556",
   "metadata": {},
   "source": [
    "__[• eng.Mustafa Othman](\"https://www.youtube.com/channel/UCITfscBBm40O9MgtqiQC00w\")__"
   ]
  },
  {
   "cell_type": "markdown",
   "id": "9174a326",
   "metadata": {},
   "source": [
    " __The Targeted Dataset:__ kiva loans - a dataset of the organization's operations."
   ]
  },
  {
   "cell_type": "markdown",
   "id": "603df15e",
   "metadata": {},
   "source": [
    "__The Objective:__ cleaning the dataset and prepare it for the data analysis."
   ]
  },
  {
   "cell_type": "markdown",
   "id": "e4a5a5a0",
   "metadata": {},
   "source": [
    "# Tasks:"
   ]
  },
  {
   "cell_type": "markdown",
   "id": "9f67893c",
   "metadata": {},
   "source": [
    "#### [1-Data Cleaning.](#1)\n",
    "<a id='5'></a>"
   ]
  },
  {
   "cell_type": "markdown",
   "id": "f272b3b9",
   "metadata": {},
   "source": [
    "#### [2-Exploring Data.](#2)\n",
    "<a id='6'></a>"
   ]
  },
  {
   "cell_type": "markdown",
   "id": "83a661f5",
   "metadata": {},
   "source": [
    "#### [3-Checking.](#3)\n",
    "<a id='7'></a>"
   ]
  },
  {
   "cell_type": "markdown",
   "id": "ccdf6374",
   "metadata": {},
   "source": [
    "#### [4-Special Changes.](#4)\n",
    "<a id='8'></a>"
   ]
  },
  {
   "cell_type": "markdown",
   "id": "7d077c1a",
   "metadata": {},
   "source": [
    "<a id='1'></a>\n",
    "## [1- Data Cleaning:](#5)"
   ]
  },
  {
   "cell_type": "markdown",
   "id": "54edd8f3",
   "metadata": {
    "id": "54edd8f3"
   },
   "source": [
    "__Importing Librarys:__"
   ]
  },
  {
   "cell_type": "code",
   "execution_count": 1,
   "id": "4a7305de",
   "metadata": {
    "executionInfo": {
     "elapsed": 9,
     "status": "ok",
     "timestamp": 1643233242005,
     "user": {
      "displayName": "Ahmed Saad",
      "photoUrl": "https://lh3.googleusercontent.com/a-/AOh14GhnSLjen-GggduTlrZ3FPzYLZz62F9M5UOCy2Vl=s64",
      "userId": "07813394667672817104"
     },
     "user_tz": -120
    },
    "id": "4a7305de"
   },
   "outputs": [],
   "source": [
    "import numpy as np\n",
    "import pandas as pd\n",
    "import matplotlib.pyplot as plt\n",
    "import seaborn as sns \n",
    "import plotly.express as px\n",
    "\n",
    "\n",
    "%matplotlib inline\n",
    "sns.set()"
   ]
  },
  {
   "cell_type": "markdown",
   "id": "9e2763f7",
   "metadata": {
    "id": "9e2763f7"
   },
   "source": [
    "__Importing Data:__"
   ]
  },
  {
   "cell_type": "code",
   "execution_count": 2,
   "id": "d3f1f625",
   "metadata": {
    "executionInfo": {
     "elapsed": 5496,
     "status": "ok",
     "timestamp": 1643233247493,
     "user": {
      "displayName": "Ahmed Saad",
      "photoUrl": "https://lh3.googleusercontent.com/a-/AOh14GhnSLjen-GggduTlrZ3FPzYLZz62F9M5UOCy2Vl=s64",
      "userId": "07813394667672817104"
     },
     "user_tz": -120
    },
    "id": "d3f1f625"
   },
   "outputs": [],
   "source": [
    "df = pd.read_csv('kiva_loans.csv', parse_dates=True)"
   ]
  },
  {
   "cell_type": "markdown",
   "id": "bb0f3e28",
   "metadata": {
    "id": "bb0f3e28"
   },
   "source": [
    "<a id='2'></a>\n",
    "### [Exploring Data:](#6)"
   ]
  },
  {
   "cell_type": "code",
   "execution_count": 3,
   "id": "c24fb94d",
   "metadata": {
    "colab": {
     "base_uri": "https://localhost:8080/",
     "height": 635
    },
    "executionInfo": {
     "elapsed": 22,
     "status": "ok",
     "timestamp": 1643233247495,
     "user": {
      "displayName": "Ahmed Saad",
      "photoUrl": "https://lh3.googleusercontent.com/a-/AOh14GhnSLjen-GggduTlrZ3FPzYLZz62F9M5UOCy2Vl=s64",
      "userId": "07813394667672817104"
     },
     "user_tz": -120
    },
    "id": "c24fb94d",
    "outputId": "ce8233f7-8883-4357-ffa9-b7e59e1fb0a6"
   },
   "outputs": [
    {
     "data": {
      "text/html": [
       "<div>\n",
       "<style scoped>\n",
       "    .dataframe tbody tr th:only-of-type {\n",
       "        vertical-align: middle;\n",
       "    }\n",
       "\n",
       "    .dataframe tbody tr th {\n",
       "        vertical-align: top;\n",
       "    }\n",
       "\n",
       "    .dataframe thead th {\n",
       "        text-align: right;\n",
       "    }\n",
       "</style>\n",
       "<table border=\"1\" class=\"dataframe\">\n",
       "  <thead>\n",
       "    <tr style=\"text-align: right;\">\n",
       "      <th></th>\n",
       "      <th>id</th>\n",
       "      <th>funded_amount</th>\n",
       "      <th>loan_amount</th>\n",
       "      <th>activity</th>\n",
       "      <th>sector</th>\n",
       "      <th>use</th>\n",
       "      <th>country_code</th>\n",
       "      <th>country</th>\n",
       "      <th>region</th>\n",
       "      <th>currency</th>\n",
       "      <th>partner_id</th>\n",
       "      <th>posted_time</th>\n",
       "      <th>disbursed_time</th>\n",
       "      <th>funded_time</th>\n",
       "      <th>term_in_months</th>\n",
       "      <th>lender_count</th>\n",
       "      <th>tags</th>\n",
       "      <th>borrower_genders</th>\n",
       "      <th>repayment_interval</th>\n",
       "      <th>date</th>\n",
       "    </tr>\n",
       "  </thead>\n",
       "  <tbody>\n",
       "    <tr>\n",
       "      <th>0</th>\n",
       "      <td>653051</td>\n",
       "      <td>300.0</td>\n",
       "      <td>300.0</td>\n",
       "      <td>Fruits &amp; Vegetables</td>\n",
       "      <td>Food</td>\n",
       "      <td>To buy seasonal, fresh fruits to sell.</td>\n",
       "      <td>PK</td>\n",
       "      <td>Pakistan</td>\n",
       "      <td>Lahore</td>\n",
       "      <td>PKR</td>\n",
       "      <td>247.0</td>\n",
       "      <td>2014-01-01 06:12:39+00:00</td>\n",
       "      <td>2013-12-17 08:00:00+00:00</td>\n",
       "      <td>2014-01-02 10:06:32+00:00</td>\n",
       "      <td>12.0</td>\n",
       "      <td>12</td>\n",
       "      <td>NaN</td>\n",
       "      <td>female</td>\n",
       "      <td>irregular</td>\n",
       "      <td>2014-01-01</td>\n",
       "    </tr>\n",
       "    <tr>\n",
       "      <th>1</th>\n",
       "      <td>653053</td>\n",
       "      <td>575.0</td>\n",
       "      <td>575.0</td>\n",
       "      <td>Rickshaw</td>\n",
       "      <td>Transportation</td>\n",
       "      <td>to repair and maintain the auto rickshaw used ...</td>\n",
       "      <td>PK</td>\n",
       "      <td>Pakistan</td>\n",
       "      <td>Lahore</td>\n",
       "      <td>PKR</td>\n",
       "      <td>247.0</td>\n",
       "      <td>2014-01-01 06:51:08+00:00</td>\n",
       "      <td>2013-12-17 08:00:00+00:00</td>\n",
       "      <td>2014-01-02 09:17:23+00:00</td>\n",
       "      <td>11.0</td>\n",
       "      <td>14</td>\n",
       "      <td>NaN</td>\n",
       "      <td>female, female</td>\n",
       "      <td>irregular</td>\n",
       "      <td>2014-01-01</td>\n",
       "    </tr>\n",
       "    <tr>\n",
       "      <th>2</th>\n",
       "      <td>653068</td>\n",
       "      <td>150.0</td>\n",
       "      <td>150.0</td>\n",
       "      <td>Transportation</td>\n",
       "      <td>Transportation</td>\n",
       "      <td>To repair their old cycle-van and buy another ...</td>\n",
       "      <td>IN</td>\n",
       "      <td>India</td>\n",
       "      <td>Maynaguri</td>\n",
       "      <td>INR</td>\n",
       "      <td>334.0</td>\n",
       "      <td>2014-01-01 09:58:07+00:00</td>\n",
       "      <td>2013-12-17 08:00:00+00:00</td>\n",
       "      <td>2014-01-01 16:01:36+00:00</td>\n",
       "      <td>43.0</td>\n",
       "      <td>6</td>\n",
       "      <td>user_favorite, user_favorite</td>\n",
       "      <td>female</td>\n",
       "      <td>bullet</td>\n",
       "      <td>2014-01-01</td>\n",
       "    </tr>\n",
       "    <tr>\n",
       "      <th>3</th>\n",
       "      <td>653063</td>\n",
       "      <td>200.0</td>\n",
       "      <td>200.0</td>\n",
       "      <td>Embroidery</td>\n",
       "      <td>Arts</td>\n",
       "      <td>to purchase an embroidery machine and a variet...</td>\n",
       "      <td>PK</td>\n",
       "      <td>Pakistan</td>\n",
       "      <td>Lahore</td>\n",
       "      <td>PKR</td>\n",
       "      <td>247.0</td>\n",
       "      <td>2014-01-01 08:03:11+00:00</td>\n",
       "      <td>2013-12-24 08:00:00+00:00</td>\n",
       "      <td>2014-01-01 13:00:00+00:00</td>\n",
       "      <td>11.0</td>\n",
       "      <td>8</td>\n",
       "      <td>NaN</td>\n",
       "      <td>female</td>\n",
       "      <td>irregular</td>\n",
       "      <td>2014-01-01</td>\n",
       "    </tr>\n",
       "    <tr>\n",
       "      <th>4</th>\n",
       "      <td>653084</td>\n",
       "      <td>400.0</td>\n",
       "      <td>400.0</td>\n",
       "      <td>Milk Sales</td>\n",
       "      <td>Food</td>\n",
       "      <td>to purchase one buffalo.</td>\n",
       "      <td>PK</td>\n",
       "      <td>Pakistan</td>\n",
       "      <td>Abdul Hakeem</td>\n",
       "      <td>PKR</td>\n",
       "      <td>245.0</td>\n",
       "      <td>2014-01-01 11:53:19+00:00</td>\n",
       "      <td>2013-12-17 08:00:00+00:00</td>\n",
       "      <td>2014-01-01 19:18:51+00:00</td>\n",
       "      <td>14.0</td>\n",
       "      <td>16</td>\n",
       "      <td>NaN</td>\n",
       "      <td>female</td>\n",
       "      <td>monthly</td>\n",
       "      <td>2014-01-01</td>\n",
       "    </tr>\n",
       "  </tbody>\n",
       "</table>\n",
       "</div>"
      ],
      "text/plain": [
       "       id  funded_amount  loan_amount             activity          sector  \\\n",
       "0  653051          300.0        300.0  Fruits & Vegetables            Food   \n",
       "1  653053          575.0        575.0             Rickshaw  Transportation   \n",
       "2  653068          150.0        150.0       Transportation  Transportation   \n",
       "3  653063          200.0        200.0           Embroidery            Arts   \n",
       "4  653084          400.0        400.0           Milk Sales            Food   \n",
       "\n",
       "                                                 use country_code   country  \\\n",
       "0            To buy seasonal, fresh fruits to sell.            PK  Pakistan   \n",
       "1  to repair and maintain the auto rickshaw used ...           PK  Pakistan   \n",
       "2  To repair their old cycle-van and buy another ...           IN     India   \n",
       "3  to purchase an embroidery machine and a variet...           PK  Pakistan   \n",
       "4                           to purchase one buffalo.           PK  Pakistan   \n",
       "\n",
       "         region currency  partner_id                posted_time  \\\n",
       "0        Lahore      PKR       247.0  2014-01-01 06:12:39+00:00   \n",
       "1        Lahore      PKR       247.0  2014-01-01 06:51:08+00:00   \n",
       "2     Maynaguri      INR       334.0  2014-01-01 09:58:07+00:00   \n",
       "3        Lahore      PKR       247.0  2014-01-01 08:03:11+00:00   \n",
       "4  Abdul Hakeem      PKR       245.0  2014-01-01 11:53:19+00:00   \n",
       "\n",
       "              disbursed_time                funded_time  term_in_months  \\\n",
       "0  2013-12-17 08:00:00+00:00  2014-01-02 10:06:32+00:00            12.0   \n",
       "1  2013-12-17 08:00:00+00:00  2014-01-02 09:17:23+00:00            11.0   \n",
       "2  2013-12-17 08:00:00+00:00  2014-01-01 16:01:36+00:00            43.0   \n",
       "3  2013-12-24 08:00:00+00:00  2014-01-01 13:00:00+00:00            11.0   \n",
       "4  2013-12-17 08:00:00+00:00  2014-01-01 19:18:51+00:00            14.0   \n",
       "\n",
       "   lender_count                          tags borrower_genders  \\\n",
       "0            12                           NaN           female   \n",
       "1            14                           NaN   female, female   \n",
       "2             6  user_favorite, user_favorite           female   \n",
       "3             8                           NaN           female   \n",
       "4            16                           NaN           female   \n",
       "\n",
       "  repayment_interval        date  \n",
       "0          irregular  2014-01-01  \n",
       "1          irregular  2014-01-01  \n",
       "2             bullet  2014-01-01  \n",
       "3          irregular  2014-01-01  \n",
       "4            monthly  2014-01-01  "
      ]
     },
     "execution_count": 3,
     "metadata": {},
     "output_type": "execute_result"
    }
   ],
   "source": [
    "df.head()"
   ]
  },
  {
   "cell_type": "code",
   "execution_count": 4,
   "id": "42d1965a",
   "metadata": {
    "colab": {
     "base_uri": "https://localhost:8080/",
     "height": 635
    },
    "executionInfo": {
     "elapsed": 16,
     "status": "ok",
     "timestamp": 1643233247496,
     "user": {
      "displayName": "Ahmed Saad",
      "photoUrl": "https://lh3.googleusercontent.com/a-/AOh14GhnSLjen-GggduTlrZ3FPzYLZz62F9M5UOCy2Vl=s64",
      "userId": "07813394667672817104"
     },
     "user_tz": -120
    },
    "id": "42d1965a",
    "outputId": "f6daa2e4-ee1c-4639-df9b-558591976051",
    "scrolled": true
   },
   "outputs": [
    {
     "data": {
      "text/html": [
       "<div>\n",
       "<style scoped>\n",
       "    .dataframe tbody tr th:only-of-type {\n",
       "        vertical-align: middle;\n",
       "    }\n",
       "\n",
       "    .dataframe tbody tr th {\n",
       "        vertical-align: top;\n",
       "    }\n",
       "\n",
       "    .dataframe thead th {\n",
       "        text-align: right;\n",
       "    }\n",
       "</style>\n",
       "<table border=\"1\" class=\"dataframe\">\n",
       "  <thead>\n",
       "    <tr style=\"text-align: right;\">\n",
       "      <th></th>\n",
       "      <th>id</th>\n",
       "      <th>funded_amount</th>\n",
       "      <th>loan_amount</th>\n",
       "      <th>activity</th>\n",
       "      <th>sector</th>\n",
       "      <th>use</th>\n",
       "      <th>country_code</th>\n",
       "      <th>country</th>\n",
       "      <th>region</th>\n",
       "      <th>currency</th>\n",
       "      <th>partner_id</th>\n",
       "      <th>posted_time</th>\n",
       "      <th>disbursed_time</th>\n",
       "      <th>funded_time</th>\n",
       "      <th>term_in_months</th>\n",
       "      <th>lender_count</th>\n",
       "      <th>tags</th>\n",
       "      <th>borrower_genders</th>\n",
       "      <th>repayment_interval</th>\n",
       "      <th>date</th>\n",
       "    </tr>\n",
       "  </thead>\n",
       "  <tbody>\n",
       "    <tr>\n",
       "      <th>671200</th>\n",
       "      <td>1340323</td>\n",
       "      <td>0.0</td>\n",
       "      <td>25.0</td>\n",
       "      <td>Livestock</td>\n",
       "      <td>Agriculture</td>\n",
       "      <td>[True, u'para compara: cemento, arenya y ladri...</td>\n",
       "      <td>PY</td>\n",
       "      <td>Paraguay</td>\n",
       "      <td>Concepción</td>\n",
       "      <td>USD</td>\n",
       "      <td>58.0</td>\n",
       "      <td>2017-07-25 16:55:34+00:00</td>\n",
       "      <td>2017-07-25 07:00:00+00:00</td>\n",
       "      <td>NaN</td>\n",
       "      <td>13.0</td>\n",
       "      <td>0</td>\n",
       "      <td>NaN</td>\n",
       "      <td>female</td>\n",
       "      <td>monthly</td>\n",
       "      <td>2017-07-25</td>\n",
       "    </tr>\n",
       "    <tr>\n",
       "      <th>671201</th>\n",
       "      <td>1340316</td>\n",
       "      <td>25.0</td>\n",
       "      <td>25.0</td>\n",
       "      <td>Livestock</td>\n",
       "      <td>Agriculture</td>\n",
       "      <td>[True, u'to start a turducken farm.'] - this l...</td>\n",
       "      <td>KE</td>\n",
       "      <td>Kenya</td>\n",
       "      <td>NaN</td>\n",
       "      <td>KES</td>\n",
       "      <td>138.0</td>\n",
       "      <td>2017-07-25 06:14:08+00:00</td>\n",
       "      <td>2017-07-24 07:00:00+00:00</td>\n",
       "      <td>2017-07-26 02:09:43+00:00</td>\n",
       "      <td>13.0</td>\n",
       "      <td>1</td>\n",
       "      <td>NaN</td>\n",
       "      <td>female</td>\n",
       "      <td>monthly</td>\n",
       "      <td>2017-07-25</td>\n",
       "    </tr>\n",
       "    <tr>\n",
       "      <th>671202</th>\n",
       "      <td>1340334</td>\n",
       "      <td>0.0</td>\n",
       "      <td>25.0</td>\n",
       "      <td>Games</td>\n",
       "      <td>Entertainment</td>\n",
       "      <td>NaN</td>\n",
       "      <td>KE</td>\n",
       "      <td>Kenya</td>\n",
       "      <td>NaN</td>\n",
       "      <td>KES</td>\n",
       "      <td>138.0</td>\n",
       "      <td>2017-07-26 00:02:07+00:00</td>\n",
       "      <td>2017-07-25 07:00:00+00:00</td>\n",
       "      <td>NaN</td>\n",
       "      <td>13.0</td>\n",
       "      <td>0</td>\n",
       "      <td>NaN</td>\n",
       "      <td>NaN</td>\n",
       "      <td>monthly</td>\n",
       "      <td>2017-07-26</td>\n",
       "    </tr>\n",
       "    <tr>\n",
       "      <th>671203</th>\n",
       "      <td>1340338</td>\n",
       "      <td>0.0</td>\n",
       "      <td>25.0</td>\n",
       "      <td>Livestock</td>\n",
       "      <td>Agriculture</td>\n",
       "      <td>[True, u'to start a turducken farm.'] - this l...</td>\n",
       "      <td>KE</td>\n",
       "      <td>Kenya</td>\n",
       "      <td>NaN</td>\n",
       "      <td>KES</td>\n",
       "      <td>138.0</td>\n",
       "      <td>2017-07-26 06:12:55+00:00</td>\n",
       "      <td>2017-07-25 07:00:00+00:00</td>\n",
       "      <td>NaN</td>\n",
       "      <td>13.0</td>\n",
       "      <td>0</td>\n",
       "      <td>NaN</td>\n",
       "      <td>female</td>\n",
       "      <td>monthly</td>\n",
       "      <td>2017-07-26</td>\n",
       "    </tr>\n",
       "    <tr>\n",
       "      <th>671204</th>\n",
       "      <td>1340339</td>\n",
       "      <td>0.0</td>\n",
       "      <td>25.0</td>\n",
       "      <td>Livestock</td>\n",
       "      <td>Agriculture</td>\n",
       "      <td>[True, u'to start a turducken farm.'] - this l...</td>\n",
       "      <td>KE</td>\n",
       "      <td>Kenya</td>\n",
       "      <td>NaN</td>\n",
       "      <td>KES</td>\n",
       "      <td>138.0</td>\n",
       "      <td>2017-07-26 06:31:46+00:00</td>\n",
       "      <td>2017-07-25 07:00:00+00:00</td>\n",
       "      <td>NaN</td>\n",
       "      <td>13.0</td>\n",
       "      <td>0</td>\n",
       "      <td>NaN</td>\n",
       "      <td>female</td>\n",
       "      <td>monthly</td>\n",
       "      <td>2017-07-26</td>\n",
       "    </tr>\n",
       "  </tbody>\n",
       "</table>\n",
       "</div>"
      ],
      "text/plain": [
       "             id  funded_amount  loan_amount   activity         sector  \\\n",
       "671200  1340323            0.0         25.0  Livestock    Agriculture   \n",
       "671201  1340316           25.0         25.0  Livestock    Agriculture   \n",
       "671202  1340334            0.0         25.0      Games  Entertainment   \n",
       "671203  1340338            0.0         25.0  Livestock    Agriculture   \n",
       "671204  1340339            0.0         25.0  Livestock    Agriculture   \n",
       "\n",
       "                                                      use country_code  \\\n",
       "671200  [True, u'para compara: cemento, arenya y ladri...           PY   \n",
       "671201  [True, u'to start a turducken farm.'] - this l...           KE   \n",
       "671202                                                NaN           KE   \n",
       "671203  [True, u'to start a turducken farm.'] - this l...           KE   \n",
       "671204  [True, u'to start a turducken farm.'] - this l...           KE   \n",
       "\n",
       "         country      region currency  partner_id                posted_time  \\\n",
       "671200  Paraguay  Concepción      USD        58.0  2017-07-25 16:55:34+00:00   \n",
       "671201     Kenya         NaN      KES       138.0  2017-07-25 06:14:08+00:00   \n",
       "671202     Kenya         NaN      KES       138.0  2017-07-26 00:02:07+00:00   \n",
       "671203     Kenya         NaN      KES       138.0  2017-07-26 06:12:55+00:00   \n",
       "671204     Kenya         NaN      KES       138.0  2017-07-26 06:31:46+00:00   \n",
       "\n",
       "                   disbursed_time                funded_time  term_in_months  \\\n",
       "671200  2017-07-25 07:00:00+00:00                        NaN            13.0   \n",
       "671201  2017-07-24 07:00:00+00:00  2017-07-26 02:09:43+00:00            13.0   \n",
       "671202  2017-07-25 07:00:00+00:00                        NaN            13.0   \n",
       "671203  2017-07-25 07:00:00+00:00                        NaN            13.0   \n",
       "671204  2017-07-25 07:00:00+00:00                        NaN            13.0   \n",
       "\n",
       "        lender_count tags borrower_genders repayment_interval        date  \n",
       "671200             0  NaN           female            monthly  2017-07-25  \n",
       "671201             1  NaN           female            monthly  2017-07-25  \n",
       "671202             0  NaN              NaN            monthly  2017-07-26  \n",
       "671203             0  NaN           female            monthly  2017-07-26  \n",
       "671204             0  NaN           female            monthly  2017-07-26  "
      ]
     },
     "execution_count": 4,
     "metadata": {},
     "output_type": "execute_result"
    }
   ],
   "source": [
    "df.tail()"
   ]
  },
  {
   "cell_type": "code",
   "execution_count": 5,
   "id": "f9e133f3",
   "metadata": {
    "colab": {
     "base_uri": "https://localhost:8080/"
    },
    "executionInfo": {
     "elapsed": 439,
     "status": "ok",
     "timestamp": 1643233248437,
     "user": {
      "displayName": "Ahmed Saad",
      "photoUrl": "https://lh3.googleusercontent.com/a-/AOh14GhnSLjen-GggduTlrZ3FPzYLZz62F9M5UOCy2Vl=s64",
      "userId": "07813394667672817104"
     },
     "user_tz": -120
    },
    "id": "f9e133f3",
    "outputId": "2ab18505-10f7-4090-c368-98e8e6280e7a",
    "scrolled": true
   },
   "outputs": [
    {
     "name": "stdout",
     "output_type": "stream",
     "text": [
      "<class 'pandas.core.frame.DataFrame'>\n",
      "RangeIndex: 671205 entries, 0 to 671204\n",
      "Data columns (total 20 columns):\n",
      " #   Column              Non-Null Count   Dtype  \n",
      "---  ------              --------------   -----  \n",
      " 0   id                  671205 non-null  int64  \n",
      " 1   funded_amount       671205 non-null  float64\n",
      " 2   loan_amount         671205 non-null  float64\n",
      " 3   activity            671205 non-null  object \n",
      " 4   sector              671205 non-null  object \n",
      " 5   use                 666973 non-null  object \n",
      " 6   country_code        671197 non-null  object \n",
      " 7   country             671205 non-null  object \n",
      " 8   region              614405 non-null  object \n",
      " 9   currency            671205 non-null  object \n",
      " 10  partner_id          657698 non-null  float64\n",
      " 11  posted_time         671205 non-null  object \n",
      " 12  disbursed_time      668809 non-null  object \n",
      " 13  funded_time         622874 non-null  object \n",
      " 14  term_in_months      671205 non-null  float64\n",
      " 15  lender_count        671205 non-null  int64  \n",
      " 16  tags                499789 non-null  object \n",
      " 17  borrower_genders    666984 non-null  object \n",
      " 18  repayment_interval  671205 non-null  object \n",
      " 19  date                671205 non-null  object \n",
      "dtypes: float64(4), int64(2), object(14)\n",
      "memory usage: 102.4+ MB\n"
     ]
    }
   ],
   "source": [
    "df.info()"
   ]
  },
  {
   "cell_type": "code",
   "execution_count": 6,
   "id": "23cd78c8",
   "metadata": {
    "colab": {
     "base_uri": "https://localhost:8080/",
     "height": 300
    },
    "executionInfo": {
     "elapsed": 456,
     "status": "ok",
     "timestamp": 1643233248888,
     "user": {
      "displayName": "Ahmed Saad",
      "photoUrl": "https://lh3.googleusercontent.com/a-/AOh14GhnSLjen-GggduTlrZ3FPzYLZz62F9M5UOCy2Vl=s64",
      "userId": "07813394667672817104"
     },
     "user_tz": -120
    },
    "id": "23cd78c8",
    "outputId": "6868d2ae-ad0b-4d47-d837-da6e28cd1daf"
   },
   "outputs": [
    {
     "data": {
      "text/html": [
       "<div>\n",
       "<style scoped>\n",
       "    .dataframe tbody tr th:only-of-type {\n",
       "        vertical-align: middle;\n",
       "    }\n",
       "\n",
       "    .dataframe tbody tr th {\n",
       "        vertical-align: top;\n",
       "    }\n",
       "\n",
       "    .dataframe thead th {\n",
       "        text-align: right;\n",
       "    }\n",
       "</style>\n",
       "<table border=\"1\" class=\"dataframe\">\n",
       "  <thead>\n",
       "    <tr style=\"text-align: right;\">\n",
       "      <th></th>\n",
       "      <th>id</th>\n",
       "      <th>funded_amount</th>\n",
       "      <th>loan_amount</th>\n",
       "      <th>partner_id</th>\n",
       "      <th>term_in_months</th>\n",
       "      <th>lender_count</th>\n",
       "    </tr>\n",
       "  </thead>\n",
       "  <tbody>\n",
       "    <tr>\n",
       "      <th>count</th>\n",
       "      <td>6.712050e+05</td>\n",
       "      <td>671205.000000</td>\n",
       "      <td>671205.000000</td>\n",
       "      <td>657698.000000</td>\n",
       "      <td>671205.000000</td>\n",
       "      <td>671205.000000</td>\n",
       "    </tr>\n",
       "    <tr>\n",
       "      <th>mean</th>\n",
       "      <td>9.932486e+05</td>\n",
       "      <td>785.995061</td>\n",
       "      <td>842.397107</td>\n",
       "      <td>178.199616</td>\n",
       "      <td>13.739022</td>\n",
       "      <td>20.590922</td>\n",
       "    </tr>\n",
       "    <tr>\n",
       "      <th>std</th>\n",
       "      <td>1.966113e+05</td>\n",
       "      <td>1130.398941</td>\n",
       "      <td>1198.660073</td>\n",
       "      <td>94.247581</td>\n",
       "      <td>8.598919</td>\n",
       "      <td>28.459551</td>\n",
       "    </tr>\n",
       "    <tr>\n",
       "      <th>min</th>\n",
       "      <td>6.530470e+05</td>\n",
       "      <td>0.000000</td>\n",
       "      <td>25.000000</td>\n",
       "      <td>9.000000</td>\n",
       "      <td>1.000000</td>\n",
       "      <td>0.000000</td>\n",
       "    </tr>\n",
       "    <tr>\n",
       "      <th>25%</th>\n",
       "      <td>8.230720e+05</td>\n",
       "      <td>250.000000</td>\n",
       "      <td>275.000000</td>\n",
       "      <td>126.000000</td>\n",
       "      <td>8.000000</td>\n",
       "      <td>7.000000</td>\n",
       "    </tr>\n",
       "    <tr>\n",
       "      <th>50%</th>\n",
       "      <td>9.927800e+05</td>\n",
       "      <td>450.000000</td>\n",
       "      <td>500.000000</td>\n",
       "      <td>145.000000</td>\n",
       "      <td>13.000000</td>\n",
       "      <td>13.000000</td>\n",
       "    </tr>\n",
       "    <tr>\n",
       "      <th>75%</th>\n",
       "      <td>1.163653e+06</td>\n",
       "      <td>900.000000</td>\n",
       "      <td>1000.000000</td>\n",
       "      <td>204.000000</td>\n",
       "      <td>14.000000</td>\n",
       "      <td>24.000000</td>\n",
       "    </tr>\n",
       "    <tr>\n",
       "      <th>max</th>\n",
       "      <td>1.340339e+06</td>\n",
       "      <td>100000.000000</td>\n",
       "      <td>100000.000000</td>\n",
       "      <td>536.000000</td>\n",
       "      <td>158.000000</td>\n",
       "      <td>2986.000000</td>\n",
       "    </tr>\n",
       "  </tbody>\n",
       "</table>\n",
       "</div>"
      ],
      "text/plain": [
       "                 id  funded_amount    loan_amount     partner_id  \\\n",
       "count  6.712050e+05  671205.000000  671205.000000  657698.000000   \n",
       "mean   9.932486e+05     785.995061     842.397107     178.199616   \n",
       "std    1.966113e+05    1130.398941    1198.660073      94.247581   \n",
       "min    6.530470e+05       0.000000      25.000000       9.000000   \n",
       "25%    8.230720e+05     250.000000     275.000000     126.000000   \n",
       "50%    9.927800e+05     450.000000     500.000000     145.000000   \n",
       "75%    1.163653e+06     900.000000    1000.000000     204.000000   \n",
       "max    1.340339e+06  100000.000000  100000.000000     536.000000   \n",
       "\n",
       "       term_in_months   lender_count  \n",
       "count   671205.000000  671205.000000  \n",
       "mean        13.739022      20.590922  \n",
       "std          8.598919      28.459551  \n",
       "min          1.000000       0.000000  \n",
       "25%          8.000000       7.000000  \n",
       "50%         13.000000      13.000000  \n",
       "75%         14.000000      24.000000  \n",
       "max        158.000000    2986.000000  "
      ]
     },
     "execution_count": 6,
     "metadata": {},
     "output_type": "execute_result"
    }
   ],
   "source": [
    "df.describe()"
   ]
  },
  {
   "cell_type": "code",
   "execution_count": 7,
   "id": "f5d3a3f0",
   "metadata": {
    "colab": {
     "base_uri": "https://localhost:8080/"
    },
    "executionInfo": {
     "elapsed": 15,
     "status": "ok",
     "timestamp": 1643233248890,
     "user": {
      "displayName": "Ahmed Saad",
      "photoUrl": "https://lh3.googleusercontent.com/a-/AOh14GhnSLjen-GggduTlrZ3FPzYLZz62F9M5UOCy2Vl=s64",
      "userId": "07813394667672817104"
     },
     "user_tz": -120
    },
    "id": "f5d3a3f0",
    "outputId": "3b8e1b27-7071-4a37-d49a-84d8cb4578b1",
    "scrolled": false
   },
   "outputs": [
    {
     "data": {
      "text/plain": [
       "Index(['id', 'funded_amount', 'loan_amount', 'activity', 'sector', 'use',\n",
       "       'country_code', 'country', 'region', 'currency', 'partner_id',\n",
       "       'posted_time', 'disbursed_time', 'funded_time', 'term_in_months',\n",
       "       'lender_count', 'tags', 'borrower_genders', 'repayment_interval',\n",
       "       'date'],\n",
       "      dtype='object')"
      ]
     },
     "execution_count": 7,
     "metadata": {},
     "output_type": "execute_result"
    }
   ],
   "source": [
    "df.columns"
   ]
  },
  {
   "cell_type": "code",
   "execution_count": 8,
   "id": "26c8ad22",
   "metadata": {
    "colab": {
     "base_uri": "https://localhost:8080/",
     "height": 714
    },
    "executionInfo": {
     "elapsed": 18628,
     "status": "ok",
     "timestamp": 1643233267507,
     "user": {
      "displayName": "Ahmed Saad",
      "photoUrl": "https://lh3.googleusercontent.com/a-/AOh14GhnSLjen-GggduTlrZ3FPzYLZz62F9M5UOCy2Vl=s64",
      "userId": "07813394667672817104"
     },
     "user_tz": -120
    },
    "id": "26c8ad22",
    "outputId": "fbb68b39-1a8c-499a-dc1f-c893b2412d27",
    "scrolled": true
   },
   "outputs": [
    {
     "data": {
      "text/plain": [
       "<AxesSubplot:>"
      ]
     },
     "execution_count": 8,
     "metadata": {},
     "output_type": "execute_result"
    },
    {
     "data": {
      "image/png": "[encoded data removed]",
      "text/plain": [
       "<Figure size 720x720 with 2 Axes>"
      ]
     },
     "metadata": {},
     "output_type": "display_data"
    }
   ],
   "source": [
    "plt.figure(figsize=(10,10))\n",
    "sns.heatmap(df.isna())"
   ]
  },
  {
   "cell_type": "markdown",
   "id": "223e8838",
   "metadata": {
    "id": "bb0f3e28"
   },
   "source": [
    "<a id='3'></a>\n",
    "### [Checking:](#7)"
   ]
  },
  {
   "cell_type": "markdown",
   "id": "febb05e3",
   "metadata": {
    "id": "febb05e3"
   },
   "source": [
    "__Checking Columns Names:__"
   ]
  },
  {
   "cell_type": "code",
   "execution_count": 9,
   "id": "43491dc9",
   "metadata": {
    "executionInfo": {
     "elapsed": 66,
     "status": "ok",
     "timestamp": 1643233267515,
     "user": {
      "displayName": "Ahmed Saad",
      "photoUrl": "https://lh3.googleusercontent.com/a-/AOh14GhnSLjen-GggduTlrZ3FPzYLZz62F9M5UOCy2Vl=s64",
      "userId": "07813394667672817104"
     },
     "user_tz": -120
    },
    "id": "43491dc9"
   },
   "outputs": [],
   "source": [
    "c = df.columns"
   ]
  },
  {
   "cell_type": "code",
   "execution_count": 10,
   "id": "d10ffb2e",
   "metadata": {
    "colab": {
     "base_uri": "https://localhost:8080/",
     "height": 35
    },
    "executionInfo": {
     "elapsed": 67,
     "status": "ok",
     "timestamp": 1643233267517,
     "user": {
      "displayName": "Ahmed Saad",
      "photoUrl": "https://lh3.googleusercontent.com/a-/AOh14GhnSLjen-GggduTlrZ3FPzYLZz62F9M5UOCy2Vl=s64",
      "userId": "07813394667672817104"
     },
     "user_tz": -120
    },
    "id": "d10ffb2e",
    "outputId": "1474d140-2722-41d4-f7e4-110a945fccb2"
   },
   "outputs": [
    {
     "data": {
      "text/plain": [
       "'idfunded_amountloan_amountactivitysectorusecountry_codecountryregioncurrencypartner_idposted_timedisbursed_timefunded_timeterm_in_monthslender_counttagsborrower_gendersrepayment_intervaldate'"
      ]
     },
     "execution_count": 10,
     "metadata": {},
     "output_type": "execute_result"
    }
   ],
   "source": [
    "''.join(c)"
   ]
  },
  {
   "cell_type": "code",
   "execution_count": 11,
   "id": "2ab0a8a9",
   "metadata": {
    "executionInfo": {
     "elapsed": 69,
     "status": "ok",
     "timestamp": 1643233267524,
     "user": {
      "displayName": "Ahmed Saad",
      "photoUrl": "https://lh3.googleusercontent.com/a-/AOh14GhnSLjen-GggduTlrZ3FPzYLZz62F9M5UOCy2Vl=s64",
      "userId": "07813394667672817104"
     },
     "user_tz": -120
    },
    "id": "2ab0a8a9"
   },
   "outputs": [],
   "source": [
    "c = [i.replace('_', ' ') for i in c]\n",
    "c = [i.title() for i in c]"
   ]
  },
  {
   "cell_type": "code",
   "execution_count": 12,
   "id": "f6d1547c",
   "metadata": {
    "executionInfo": {
     "elapsed": 84,
     "status": "ok",
     "timestamp": 1643233267539,
     "user": {
      "displayName": "Ahmed Saad",
      "photoUrl": "https://lh3.googleusercontent.com/a-/AOh14GhnSLjen-GggduTlrZ3FPzYLZz62F9M5UOCy2Vl=s64",
      "userId": "07813394667672817104"
     },
     "user_tz": -120
    },
    "id": "f6d1547c"
   },
   "outputs": [],
   "source": [
    "df.set_axis(c, axis=1, inplace=True)"
   ]
  },
  {
   "cell_type": "markdown",
   "id": "ebe67a26",
   "metadata": {
    "id": "ebe67a26"
   },
   "source": [
    "__Checking Data Types:__"
   ]
  },
  {
   "cell_type": "code",
   "execution_count": 13,
   "id": "f4329b6e",
   "metadata": {
    "colab": {
     "base_uri": "https://localhost:8080/"
    },
    "executionInfo": {
     "elapsed": 85,
     "status": "ok",
     "timestamp": 1643233267541,
     "user": {
      "displayName": "Ahmed Saad",
      "photoUrl": "https://lh3.googleusercontent.com/a-/AOh14GhnSLjen-GggduTlrZ3FPzYLZz62F9M5UOCy2Vl=s64",
      "userId": "07813394667672817104"
     },
     "user_tz": -120
    },
    "id": "f4329b6e",
    "outputId": "0afb1d80-3cf6-4988-dec9-39f42ac73179",
    "scrolled": false
   },
   "outputs": [
    {
     "name": "stdout",
     "output_type": "stream",
     "text": [
      "<class 'pandas.core.frame.DataFrame'>\n",
      "RangeIndex: 671205 entries, 0 to 671204\n",
      "Data columns (total 20 columns):\n",
      " #   Column              Non-Null Count   Dtype  \n",
      "---  ------              --------------   -----  \n",
      " 0   Id                  671205 non-null  int64  \n",
      " 1   Funded Amount       671205 non-null  float64\n",
      " 2   Loan Amount         671205 non-null  float64\n",
      " 3   Activity            671205 non-null  object \n",
      " 4   Sector              671205 non-null  object \n",
      " 5   Use                 666973 non-null  object \n",
      " 6   Country Code        671197 non-null  object \n",
      " 7   Country             671205 non-null  object \n",
      " 8   Region              614405 non-null  object \n",
      " 9   Currency            671205 non-null  object \n",
      " 10  Partner Id          657698 non-null  float64\n",
      " 11  Posted Time         671205 non-null  object \n",
      " 12  Disbursed Time      668809 non-null  object \n",
      " 13  Funded Time         622874 non-null  object \n",
      " 14  Term In Months      671205 non-null  float64\n",
      " 15  Lender Count        671205 non-null  int64  \n",
      " 16  Tags                499789 non-null  object \n",
      " 17  Borrower Genders    666984 non-null  object \n",
      " 18  Repayment Interval  671205 non-null  object \n",
      " 19  Date                671205 non-null  object \n",
      "dtypes: float64(4), int64(2), object(14)\n",
      "memory usage: 102.4+ MB\n"
     ]
    }
   ],
   "source": [
    "df.info()"
   ]
  },
  {
   "cell_type": "code",
   "execution_count": 14,
   "id": "fe861575",
   "metadata": {
    "executionInfo": {
     "elapsed": 85,
     "status": "ok",
     "timestamp": 1643233267546,
     "user": {
      "displayName": "Ahmed Saad",
      "photoUrl": "https://lh3.googleusercontent.com/a-/AOh14GhnSLjen-GggduTlrZ3FPzYLZz62F9M5UOCy2Vl=s64",
      "userId": "07813394667672817104"
     },
     "user_tz": -120
    },
    "id": "fe861575"
   },
   "outputs": [],
   "source": [
    "df['Posted Time'] = pd.to_datetime(df['Posted Time']).dt.date\n",
    "df['Posted Time'] = pd.to_datetime(df['Posted Time'])"
   ]
  },
  {
   "cell_type": "code",
   "execution_count": 15,
   "id": "a4666af7",
   "metadata": {
    "executionInfo": {
     "elapsed": 85,
     "status": "ok",
     "timestamp": 1643233267547,
     "user": {
      "displayName": "Ahmed Saad",
      "photoUrl": "https://lh3.googleusercontent.com/a-/AOh14GhnSLjen-GggduTlrZ3FPzYLZz62F9M5UOCy2Vl=s64",
      "userId": "07813394667672817104"
     },
     "user_tz": -120
    },
    "id": "a4666af7"
   },
   "outputs": [],
   "source": [
    "df['Disbursed Time'] = pd.to_datetime(df['Disbursed Time']).dt.date\n",
    "df['Disbursed Time'] = pd.to_datetime(df['Disbursed Time'])"
   ]
  },
  {
   "cell_type": "code",
   "execution_count": 16,
   "id": "2bb0893f",
   "metadata": {
    "executionInfo": {
     "elapsed": 508,
     "status": "ok",
     "timestamp": 1643233267971,
     "user": {
      "displayName": "Ahmed Saad",
      "photoUrl": "https://lh3.googleusercontent.com/a-/AOh14GhnSLjen-GggduTlrZ3FPzYLZz62F9M5UOCy2Vl=s64",
      "userId": "07813394667672817104"
     },
     "user_tz": -120
    },
    "id": "2bb0893f"
   },
   "outputs": [],
   "source": [
    "df['Funded Time'] = pd.to_datetime(df['Funded Time']).dt.date\n",
    "df['Funded Time'] = pd.to_datetime(df['Funded Time'])"
   ]
  },
  {
   "cell_type": "code",
   "execution_count": 17,
   "id": "b6a3e2cb",
   "metadata": {
    "executionInfo": {
     "elapsed": 23,
     "status": "ok",
     "timestamp": 1643233267972,
     "user": {
      "displayName": "Ahmed Saad",
      "photoUrl": "https://lh3.googleusercontent.com/a-/AOh14GhnSLjen-GggduTlrZ3FPzYLZz62F9M5UOCy2Vl=s64",
      "userId": "07813394667672817104"
     },
     "user_tz": -120
    },
    "id": "b6a3e2cb"
   },
   "outputs": [],
   "source": [
    "df['Partner Id'] = df['Partner Id'].round(0).astype(\"Int64\")"
   ]
  },
  {
   "cell_type": "code",
   "execution_count": 18,
   "id": "6c8144fd",
   "metadata": {
    "executionInfo": {
     "elapsed": 23,
     "status": "ok",
     "timestamp": 1643233267973,
     "user": {
      "displayName": "Ahmed Saad",
      "photoUrl": "https://lh3.googleusercontent.com/a-/AOh14GhnSLjen-GggduTlrZ3FPzYLZz62F9M5UOCy2Vl=s64",
      "userId": "07813394667672817104"
     },
     "user_tz": -120
    },
    "id": "6c8144fd"
   },
   "outputs": [],
   "source": [
    "df['Term In Months'] = df['Term In Months'].round(0).astype(\"Int64\")"
   ]
  },
  {
   "cell_type": "code",
   "execution_count": 19,
   "id": "75441717",
   "metadata": {
    "colab": {
     "base_uri": "https://localhost:8080/"
    },
    "executionInfo": {
     "elapsed": 24,
     "status": "ok",
     "timestamp": 1643233267974,
     "user": {
      "displayName": "Ahmed Saad",
      "photoUrl": "https://lh3.googleusercontent.com/a-/AOh14GhnSLjen-GggduTlrZ3FPzYLZz62F9M5UOCy2Vl=s64",
      "userId": "07813394667672817104"
     },
     "user_tz": -120
    },
    "id": "75441717",
    "outputId": "3e86e7ec-ad48-4d84-82a6-e7efecbf54b1",
    "scrolled": true
   },
   "outputs": [
    {
     "name": "stdout",
     "output_type": "stream",
     "text": [
      "<class 'pandas.core.frame.DataFrame'>\n",
      "RangeIndex: 671205 entries, 0 to 671204\n",
      "Data columns (total 20 columns):\n",
      " #   Column              Non-Null Count   Dtype         \n",
      "---  ------              --------------   -----         \n",
      " 0   Id                  671205 non-null  int64         \n",
      " 1   Funded Amount       671205 non-null  float64       \n",
      " 2   Loan Amount         671205 non-null  float64       \n",
      " 3   Activity            671205 non-null  object        \n",
      " 4   Sector              671205 non-null  object        \n",
      " 5   Use                 666973 non-null  object        \n",
      " 6   Country Code        671197 non-null  object        \n",
      " 7   Country             671205 non-null  object        \n",
      " 8   Region              614405 non-null  object        \n",
      " 9   Currency            671205 non-null  object        \n",
      " 10  Partner Id          657698 non-null  Int64         \n",
      " 11  Posted Time         671205 non-null  datetime64[ns]\n",
      " 12  Disbursed Time      668809 non-null  datetime64[ns]\n",
      " 13  Funded Time         622874 non-null  datetime64[ns]\n",
      " 14  Term In Months      671205 non-null  Int64         \n",
      " 15  Lender Count        671205 non-null  int64         \n",
      " 16  Tags                499789 non-null  object        \n",
      " 17  Borrower Genders    666984 non-null  object        \n",
      " 18  Repayment Interval  671205 non-null  object        \n",
      " 19  Date                671205 non-null  object        \n",
      "dtypes: Int64(2), datetime64[ns](3), float64(2), int64(2), object(11)\n",
      "memory usage: 103.7+ MB\n"
     ]
    }
   ],
   "source": [
    "df.info()"
   ]
  },
  {
   "cell_type": "markdown",
   "id": "8e24456c",
   "metadata": {
    "id": "8e24456c"
   },
   "source": [
    "__Checking The Outliers:__"
   ]
  },
  {
   "cell_type": "markdown",
   "id": "0b82cd0a",
   "metadata": {
    "id": "0b82cd0a"
   },
   "source": [
    "ConvertedSalary:"
   ]
  },
  {
   "cell_type": "code",
   "execution_count": 20,
   "id": "af947a60",
   "metadata": {
    "colab": {
     "base_uri": "https://localhost:8080/"
    },
    "executionInfo": {
     "elapsed": 23,
     "status": "ok",
     "timestamp": 1643233267975,
     "user": {
      "displayName": "Ahmed Saad",
      "photoUrl": "https://lh3.googleusercontent.com/a-/AOh14GhnSLjen-GggduTlrZ3FPzYLZz62F9M5UOCy2Vl=s64",
      "userId": "07813394667672817104"
     },
     "user_tz": -120
    },
    "id": "af947a60",
    "outputId": "1f780f7d-c3f1-4e4f-ba21-e16aec641411"
   },
   "outputs": [
    {
     "data": {
      "text/plain": [
       "Country\n",
       "Afghanistan       7000.000000\n",
       "Albania           1287.487073\n",
       "Armenia           1296.104159\n",
       "Azerbaijan        1387.956298\n",
       "Belize             912.200000\n",
       "                     ...     \n",
       "Vietnam           1259.955732\n",
       "Virgin Islands       0.000000\n",
       "Yemen              771.325119\n",
       "Zambia            1464.221939\n",
       "Zimbabwe           836.074616\n",
       "Name: Funded Amount, Length: 87, dtype: float64"
      ]
     },
     "execution_count": 20,
     "metadata": {},
     "output_type": "execute_result"
    }
   ],
   "source": [
    "df.groupby(['Country']).mean()['Funded Amount']"
   ]
  },
  {
   "cell_type": "code",
   "execution_count": 21,
   "id": "7194db11",
   "metadata": {
    "executionInfo": {
     "elapsed": 22,
     "status": "ok",
     "timestamp": 1643233267976,
     "user": {
      "displayName": "Ahmed Saad",
      "photoUrl": "https://lh3.googleusercontent.com/a-/AOh14GhnSLjen-GggduTlrZ3FPzYLZz62F9M5UOCy2Vl=s64",
      "userId": "07813394667672817104"
     },
     "user_tz": -120
    },
    "id": "7194db11"
   },
   "outputs": [],
   "source": [
    "country_list = df.Country.unique()"
   ]
  },
  {
   "cell_type": "code",
   "execution_count": 24,
   "id": "408e7062",
   "metadata": {
    "executionInfo": {
     "elapsed": 16746,
     "status": "ok",
     "timestamp": 1643233284701,
     "user": {
      "displayName": "Ahmed Saad",
      "photoUrl": "https://lh3.googleusercontent.com/a-/AOh14GhnSLjen-GggduTlrZ3FPzYLZz62F9M5UOCy2Vl=s64",
      "userId": "07813394667672817104"
     },
     "user_tz": -120
    },
    "id": "408e7062"
   },
   "outputs": [],
   "source": [
    "for i in country_list:\n",
    "    q3 = np.percentile(df[df['Country']==i]['Funded Amount'], [75])\n",
    "    x = df[(df['Country']==i) & (df['Funded Amount']> q3[0])].index\n",
    "    df.drop(index=x, inplace=True)"
   ]
  },
  {
   "cell_type": "code",
   "execution_count": 25,
   "id": "4db45415",
   "metadata": {
    "colab": {
     "base_uri": "https://localhost:8080/"
    },
    "executionInfo": {
     "elapsed": 9,
     "status": "ok",
     "timestamp": 1643233284702,
     "user": {
      "displayName": "Ahmed Saad",
      "photoUrl": "https://lh3.googleusercontent.com/a-/AOh14GhnSLjen-GggduTlrZ3FPzYLZz62F9M5UOCy2Vl=s64",
      "userId": "07813394667672817104"
     },
     "user_tz": -120
    },
    "id": "4db45415",
    "outputId": "a5169d02-dc0e-4222-901f-be521a6f9dc7"
   },
   "outputs": [
    {
     "data": {
      "text/plain": [
       "Country\n",
       "Afghanistan       6000.000000\n",
       "Albania            977.719239\n",
       "Armenia            936.965416\n",
       "Azerbaijan        1101.332878\n",
       "Belize             615.957447\n",
       "                     ...     \n",
       "Vietnam            809.393010\n",
       "Virgin Islands       0.000000\n",
       "Yemen              579.190828\n",
       "Zambia             874.704392\n",
       "Zimbabwe           590.749433\n",
       "Name: Funded Amount, Length: 87, dtype: float64"
      ]
     },
     "execution_count": 25,
     "metadata": {},
     "output_type": "execute_result"
    }
   ],
   "source": [
    "df.groupby(['Country']).mean()['Funded Amount']"
   ]
  },
  {
   "cell_type": "markdown",
   "id": "ad0bdae5",
   "metadata": {
    "id": "ad0bdae5"
   },
   "source": [
    "__Checking The Duplicate Values:__"
   ]
  },
  {
   "cell_type": "code",
   "execution_count": 26,
   "id": "8d6763cd",
   "metadata": {
    "colab": {
     "base_uri": "https://localhost:8080/",
     "height": 0
    },
    "executionInfo": {
     "elapsed": 1890,
     "status": "ok",
     "timestamp": 1643233286586,
     "user": {
      "displayName": "Ahmed Saad",
      "photoUrl": "https://lh3.googleusercontent.com/a-/AOh14GhnSLjen-GggduTlrZ3FPzYLZz62F9M5UOCy2Vl=s64",
      "userId": "07813394667672817104"
     },
     "user_tz": -120
    },
    "id": "8d6763cd",
    "outputId": "00dab7ec-524e-4dc4-d445-a8cea9a207ad"
   },
   "outputs": [
    {
     "data": {
      "text/html": [
       "<div>\n",
       "<style scoped>\n",
       "    .dataframe tbody tr th:only-of-type {\n",
       "        vertical-align: middle;\n",
       "    }\n",
       "\n",
       "    .dataframe tbody tr th {\n",
       "        vertical-align: top;\n",
       "    }\n",
       "\n",
       "    .dataframe thead th {\n",
       "        text-align: right;\n",
       "    }\n",
       "</style>\n",
       "<table border=\"1\" class=\"dataframe\">\n",
       "  <thead>\n",
       "    <tr style=\"text-align: right;\">\n",
       "      <th></th>\n",
       "      <th>Id</th>\n",
       "      <th>Funded Amount</th>\n",
       "      <th>Loan Amount</th>\n",
       "      <th>Activity</th>\n",
       "      <th>Sector</th>\n",
       "      <th>Use</th>\n",
       "      <th>Country Code</th>\n",
       "      <th>Country</th>\n",
       "      <th>Region</th>\n",
       "      <th>Currency</th>\n",
       "      <th>Partner Id</th>\n",
       "      <th>Posted Time</th>\n",
       "      <th>Disbursed Time</th>\n",
       "      <th>Funded Time</th>\n",
       "      <th>Term In Months</th>\n",
       "      <th>Lender Count</th>\n",
       "      <th>Tags</th>\n",
       "      <th>Borrower Genders</th>\n",
       "      <th>Repayment Interval</th>\n",
       "      <th>Date</th>\n",
       "    </tr>\n",
       "  </thead>\n",
       "  <tbody>\n",
       "  </tbody>\n",
       "</table>\n",
       "</div>"
      ],
      "text/plain": [
       "Empty DataFrame\n",
       "Columns: [Id, Funded Amount, Loan Amount, Activity, Sector, Use, Country Code, Country, Region, Currency, Partner Id, Posted Time, Disbursed Time, Funded Time, Term In Months, Lender Count, Tags, Borrower Genders, Repayment Interval, Date]\n",
       "Index: []"
      ]
     },
     "execution_count": 26,
     "metadata": {},
     "output_type": "execute_result"
    }
   ],
   "source": [
    "df[df.duplicated()]"
   ]
  },
  {
   "cell_type": "markdown",
   "id": "662b0f71",
   "metadata": {
    "id": "662b0f71"
   },
   "source": [
    "#### There isn't duplicate values in the dataframe and for each column; the repeated values won't necessarily mean that they are duplicated."
   ]
  },
  {
   "cell_type": "markdown",
   "id": "7ad274a6",
   "metadata": {
    "id": "7ad274a6"
   },
   "source": [
    "__Checking and Filling Null Values:__"
   ]
  },
  {
   "cell_type": "markdown",
   "id": "da7e8ba7",
   "metadata": {
    "id": "da7e8ba7"
   },
   "source": [
    "Tags:"
   ]
  },
  {
   "cell_type": "code",
   "execution_count": 27,
   "id": "3e9e0ada",
   "metadata": {
    "executionInfo": {
     "elapsed": 35,
     "status": "ok",
     "timestamp": 1643233298500,
     "user": {
      "displayName": "Ahmed Saad",
      "photoUrl": "https://lh3.googleusercontent.com/a-/AOh14GhnSLjen-GggduTlrZ3FPzYLZz62F9M5UOCy2Vl=s64",
      "userId": "07813394667672817104"
     },
     "user_tz": -120
    },
    "id": "3e9e0ada"
   },
   "outputs": [],
   "source": [
    "df.drop('Tags', axis=1, inplace=True)"
   ]
  },
  {
   "cell_type": "markdown",
   "id": "0001a45e",
   "metadata": {
    "id": "0001a45e"
   },
   "source": [
    "Date:"
   ]
  },
  {
   "cell_type": "code",
   "execution_count": 28,
   "id": "4fb44f95",
   "metadata": {
    "executionInfo": {
     "elapsed": 35,
     "status": "ok",
     "timestamp": 1643233298501,
     "user": {
      "displayName": "Ahmed Saad",
      "photoUrl": "https://lh3.googleusercontent.com/a-/AOh14GhnSLjen-GggduTlrZ3FPzYLZz62F9M5UOCy2Vl=s64",
      "userId": "07813394667672817104"
     },
     "user_tz": -120
    },
    "id": "4fb44f95"
   },
   "outputs": [],
   "source": [
    "df.drop('Date', axis=1, inplace=True)"
   ]
  },
  {
   "cell_type": "markdown",
   "id": "2986493c",
   "metadata": {
    "id": "2986493c"
   },
   "source": [
    "Use:"
   ]
  },
  {
   "cell_type": "code",
   "execution_count": 29,
   "id": "a4481fdb",
   "metadata": {
    "executionInfo": {
     "elapsed": 406,
     "status": "ok",
     "timestamp": 1643233391564,
     "user": {
      "displayName": "Ahmed Saad",
      "photoUrl": "https://lh3.googleusercontent.com/a-/AOh14GhnSLjen-GggduTlrZ3FPzYLZz62F9M5UOCy2Vl=s64",
      "userId": "07813394667672817104"
     },
     "user_tz": -120
    },
    "id": "a4481fdb"
   },
   "outputs": [],
   "source": [
    "df.drop('Use', axis=1, inplace=True)"
   ]
  },
  {
   "cell_type": "markdown",
   "id": "6b77d73f",
   "metadata": {
    "id": "6b77d73f"
   },
   "source": [
    "Borrower Genders:"
   ]
  },
  {
   "cell_type": "code",
   "execution_count": 30,
   "id": "667c7888",
   "metadata": {
    "colab": {
     "base_uri": "https://localhost:8080/",
     "height": 537
    },
    "executionInfo": {
     "elapsed": 442,
     "status": "ok",
     "timestamp": 1643233400959,
     "user": {
      "displayName": "Ahmed Saad",
      "photoUrl": "https://lh3.googleusercontent.com/a-/AOh14GhnSLjen-GggduTlrZ3FPzYLZz62F9M5UOCy2Vl=s64",
      "userId": "07813394667672817104"
     },
     "user_tz": -120
    },
    "id": "667c7888",
    "outputId": "adf6474b-1f65-4887-df84-3c51052751a9"
   },
   "outputs": [
    {
     "data": {
      "text/html": [
       "<div>\n",
       "<style scoped>\n",
       "    .dataframe tbody tr th:only-of-type {\n",
       "        vertical-align: middle;\n",
       "    }\n",
       "\n",
       "    .dataframe tbody tr th {\n",
       "        vertical-align: top;\n",
       "    }\n",
       "\n",
       "    .dataframe thead th {\n",
       "        text-align: right;\n",
       "    }\n",
       "</style>\n",
       "<table border=\"1\" class=\"dataframe\">\n",
       "  <thead>\n",
       "    <tr style=\"text-align: right;\">\n",
       "      <th></th>\n",
       "      <th>Id</th>\n",
       "      <th>Funded Amount</th>\n",
       "      <th>Loan Amount</th>\n",
       "      <th>Activity</th>\n",
       "      <th>Sector</th>\n",
       "      <th>Country Code</th>\n",
       "      <th>Country</th>\n",
       "      <th>Region</th>\n",
       "      <th>Currency</th>\n",
       "      <th>Partner Id</th>\n",
       "      <th>Posted Time</th>\n",
       "      <th>Disbursed Time</th>\n",
       "      <th>Funded Time</th>\n",
       "      <th>Term In Months</th>\n",
       "      <th>Lender Count</th>\n",
       "      <th>Borrower Genders</th>\n",
       "      <th>Repayment Interval</th>\n",
       "    </tr>\n",
       "  </thead>\n",
       "  <tbody>\n",
       "    <tr>\n",
       "      <th>145</th>\n",
       "      <td>653427</td>\n",
       "      <td>1200.0</td>\n",
       "      <td>1200.0</td>\n",
       "      <td>Personal Expenses</td>\n",
       "      <td>Personal Use</td>\n",
       "      <td>PE</td>\n",
       "      <td>Peru</td>\n",
       "      <td>NaN</td>\n",
       "      <td>PEN</td>\n",
       "      <td>139</td>\n",
       "      <td>2014-01-02</td>\n",
       "      <td>2013-12-17</td>\n",
       "      <td>2014-02-01</td>\n",
       "      <td>20</td>\n",
       "      <td>44</td>\n",
       "      <td>NaN</td>\n",
       "      <td>monthly</td>\n",
       "    </tr>\n",
       "    <tr>\n",
       "      <th>414</th>\n",
       "      <td>653775</td>\n",
       "      <td>725.0</td>\n",
       "      <td>725.0</td>\n",
       "      <td>Agriculture</td>\n",
       "      <td>Agriculture</td>\n",
       "      <td>SV</td>\n",
       "      <td>El Salvador</td>\n",
       "      <td>NaN</td>\n",
       "      <td>USD</td>\n",
       "      <td>199</td>\n",
       "      <td>2014-01-03</td>\n",
       "      <td>2013-12-16</td>\n",
       "      <td>2014-01-28</td>\n",
       "      <td>20</td>\n",
       "      <td>19</td>\n",
       "      <td>NaN</td>\n",
       "      <td>monthly</td>\n",
       "    </tr>\n",
       "    <tr>\n",
       "      <th>466</th>\n",
       "      <td>653757</td>\n",
       "      <td>1075.0</td>\n",
       "      <td>1075.0</td>\n",
       "      <td>Personal Housing Expenses</td>\n",
       "      <td>Housing</td>\n",
       "      <td>PE</td>\n",
       "      <td>Peru</td>\n",
       "      <td>NaN</td>\n",
       "      <td>PEN</td>\n",
       "      <td>139</td>\n",
       "      <td>2014-01-03</td>\n",
       "      <td>2013-12-16</td>\n",
       "      <td>2014-01-22</td>\n",
       "      <td>17</td>\n",
       "      <td>36</td>\n",
       "      <td>NaN</td>\n",
       "      <td>monthly</td>\n",
       "    </tr>\n",
       "    <tr>\n",
       "      <th>595</th>\n",
       "      <td>653486</td>\n",
       "      <td>325.0</td>\n",
       "      <td>325.0</td>\n",
       "      <td>Clothing Sales</td>\n",
       "      <td>Clothing</td>\n",
       "      <td>PE</td>\n",
       "      <td>Peru</td>\n",
       "      <td>NaN</td>\n",
       "      <td>PEN</td>\n",
       "      <td>139</td>\n",
       "      <td>2014-01-03</td>\n",
       "      <td>2013-12-13</td>\n",
       "      <td>2014-01-14</td>\n",
       "      <td>12</td>\n",
       "      <td>11</td>\n",
       "      <td>NaN</td>\n",
       "      <td>monthly</td>\n",
       "    </tr>\n",
       "    <tr>\n",
       "      <th>616</th>\n",
       "      <td>653473</td>\n",
       "      <td>700.0</td>\n",
       "      <td>700.0</td>\n",
       "      <td>Food Production/Sales</td>\n",
       "      <td>Food</td>\n",
       "      <td>SV</td>\n",
       "      <td>El Salvador</td>\n",
       "      <td>NaN</td>\n",
       "      <td>USD</td>\n",
       "      <td>81</td>\n",
       "      <td>2014-01-03</td>\n",
       "      <td>2013-12-17</td>\n",
       "      <td>2014-01-21</td>\n",
       "      <td>16</td>\n",
       "      <td>26</td>\n",
       "      <td>NaN</td>\n",
       "      <td>monthly</td>\n",
       "    </tr>\n",
       "    <tr>\n",
       "      <th>...</th>\n",
       "      <td>...</td>\n",
       "      <td>...</td>\n",
       "      <td>...</td>\n",
       "      <td>...</td>\n",
       "      <td>...</td>\n",
       "      <td>...</td>\n",
       "      <td>...</td>\n",
       "      <td>...</td>\n",
       "      <td>...</td>\n",
       "      <td>...</td>\n",
       "      <td>...</td>\n",
       "      <td>...</td>\n",
       "      <td>...</td>\n",
       "      <td>...</td>\n",
       "      <td>...</td>\n",
       "      <td>...</td>\n",
       "      <td>...</td>\n",
       "    </tr>\n",
       "    <tr>\n",
       "      <th>671151</th>\n",
       "      <td>1340245</td>\n",
       "      <td>0.0</td>\n",
       "      <td>25.0</td>\n",
       "      <td>Livestock</td>\n",
       "      <td>Agriculture</td>\n",
       "      <td>KE</td>\n",
       "      <td>Kenya</td>\n",
       "      <td>NaN</td>\n",
       "      <td>KES</td>\n",
       "      <td>138</td>\n",
       "      <td>2017-07-20</td>\n",
       "      <td>2017-07-20</td>\n",
       "      <td>NaT</td>\n",
       "      <td>13</td>\n",
       "      <td>0</td>\n",
       "      <td>NaN</td>\n",
       "      <td>monthly</td>\n",
       "    </tr>\n",
       "    <tr>\n",
       "      <th>671174</th>\n",
       "      <td>1340275</td>\n",
       "      <td>0.0</td>\n",
       "      <td>25.0</td>\n",
       "      <td>Games</td>\n",
       "      <td>Entertainment</td>\n",
       "      <td>KE</td>\n",
       "      <td>Kenya</td>\n",
       "      <td>NaN</td>\n",
       "      <td>KES</td>\n",
       "      <td>138</td>\n",
       "      <td>2017-07-21</td>\n",
       "      <td>2017-07-21</td>\n",
       "      <td>NaT</td>\n",
       "      <td>13</td>\n",
       "      <td>0</td>\n",
       "      <td>NaN</td>\n",
       "      <td>monthly</td>\n",
       "    </tr>\n",
       "    <tr>\n",
       "      <th>671178</th>\n",
       "      <td>1340280</td>\n",
       "      <td>0.0</td>\n",
       "      <td>25.0</td>\n",
       "      <td>Livestock</td>\n",
       "      <td>Agriculture</td>\n",
       "      <td>KE</td>\n",
       "      <td>Kenya</td>\n",
       "      <td>NaN</td>\n",
       "      <td>KES</td>\n",
       "      <td>138</td>\n",
       "      <td>2017-07-22</td>\n",
       "      <td>2017-07-21</td>\n",
       "      <td>NaT</td>\n",
       "      <td>13</td>\n",
       "      <td>0</td>\n",
       "      <td>NaN</td>\n",
       "      <td>monthly</td>\n",
       "    </tr>\n",
       "    <tr>\n",
       "      <th>671185</th>\n",
       "      <td>1340298</td>\n",
       "      <td>0.0</td>\n",
       "      <td>25.0</td>\n",
       "      <td>Livestock</td>\n",
       "      <td>Agriculture</td>\n",
       "      <td>KE</td>\n",
       "      <td>Kenya</td>\n",
       "      <td>NaN</td>\n",
       "      <td>KES</td>\n",
       "      <td>138</td>\n",
       "      <td>2017-07-24</td>\n",
       "      <td>2017-07-17</td>\n",
       "      <td>NaT</td>\n",
       "      <td>13</td>\n",
       "      <td>0</td>\n",
       "      <td>NaN</td>\n",
       "      <td>monthly</td>\n",
       "    </tr>\n",
       "    <tr>\n",
       "      <th>671202</th>\n",
       "      <td>1340334</td>\n",
       "      <td>0.0</td>\n",
       "      <td>25.0</td>\n",
       "      <td>Games</td>\n",
       "      <td>Entertainment</td>\n",
       "      <td>KE</td>\n",
       "      <td>Kenya</td>\n",
       "      <td>NaN</td>\n",
       "      <td>KES</td>\n",
       "      <td>138</td>\n",
       "      <td>2017-07-26</td>\n",
       "      <td>2017-07-25</td>\n",
       "      <td>NaT</td>\n",
       "      <td>13</td>\n",
       "      <td>0</td>\n",
       "      <td>NaN</td>\n",
       "      <td>monthly</td>\n",
       "    </tr>\n",
       "  </tbody>\n",
       "</table>\n",
       "<p>3190 rows × 17 columns</p>\n",
       "</div>"
      ],
      "text/plain": [
       "             Id  Funded Amount  Loan Amount                   Activity  \\\n",
       "145      653427         1200.0       1200.0          Personal Expenses   \n",
       "414      653775          725.0        725.0                Agriculture   \n",
       "466      653757         1075.0       1075.0  Personal Housing Expenses   \n",
       "595      653486          325.0        325.0             Clothing Sales   \n",
       "616      653473          700.0        700.0      Food Production/Sales   \n",
       "...         ...            ...          ...                        ...   \n",
       "671151  1340245            0.0         25.0                  Livestock   \n",
       "671174  1340275            0.0         25.0                      Games   \n",
       "671178  1340280            0.0         25.0                  Livestock   \n",
       "671185  1340298            0.0         25.0                  Livestock   \n",
       "671202  1340334            0.0         25.0                      Games   \n",
       "\n",
       "               Sector Country Code      Country Region Currency  Partner Id  \\\n",
       "145      Personal Use           PE         Peru    NaN      PEN         139   \n",
       "414       Agriculture           SV  El Salvador    NaN      USD         199   \n",
       "466           Housing           PE         Peru    NaN      PEN         139   \n",
       "595          Clothing           PE         Peru    NaN      PEN         139   \n",
       "616              Food           SV  El Salvador    NaN      USD          81   \n",
       "...               ...          ...          ...    ...      ...         ...   \n",
       "671151    Agriculture           KE        Kenya    NaN      KES         138   \n",
       "671174  Entertainment           KE        Kenya    NaN      KES         138   \n",
       "671178    Agriculture           KE        Kenya    NaN      KES         138   \n",
       "671185    Agriculture           KE        Kenya    NaN      KES         138   \n",
       "671202  Entertainment           KE        Kenya    NaN      KES         138   \n",
       "\n",
       "       Posted Time Disbursed Time Funded Time  Term In Months  Lender Count  \\\n",
       "145     2014-01-02     2013-12-17  2014-02-01              20            44   \n",
       "414     2014-01-03     2013-12-16  2014-01-28              20            19   \n",
       "466     2014-01-03     2013-12-16  2014-01-22              17            36   \n",
       "595     2014-01-03     2013-12-13  2014-01-14              12            11   \n",
       "616     2014-01-03     2013-12-17  2014-01-21              16            26   \n",
       "...            ...            ...         ...             ...           ...   \n",
       "671151  2017-07-20     2017-07-20         NaT              13             0   \n",
       "671174  2017-07-21     2017-07-21         NaT              13             0   \n",
       "671178  2017-07-22     2017-07-21         NaT              13             0   \n",
       "671185  2017-07-24     2017-07-17         NaT              13             0   \n",
       "671202  2017-07-26     2017-07-25         NaT              13             0   \n",
       "\n",
       "       Borrower Genders Repayment Interval  \n",
       "145                 NaN            monthly  \n",
       "414                 NaN            monthly  \n",
       "466                 NaN            monthly  \n",
       "595                 NaN            monthly  \n",
       "616                 NaN            monthly  \n",
       "...                 ...                ...  \n",
       "671151              NaN            monthly  \n",
       "671174              NaN            monthly  \n",
       "671178              NaN            monthly  \n",
       "671185              NaN            monthly  \n",
       "671202              NaN            monthly  \n",
       "\n",
       "[3190 rows x 17 columns]"
      ]
     },
     "execution_count": 30,
     "metadata": {},
     "output_type": "execute_result"
    }
   ],
   "source": [
    "df[df['Borrower Genders'].isna()]"
   ]
  },
  {
   "cell_type": "code",
   "execution_count": 31,
   "id": "ec146b10",
   "metadata": {
    "executionInfo": {
     "elapsed": 7,
     "status": "ok",
     "timestamp": 1643233407571,
     "user": {
      "displayName": "Ahmed Saad",
      "photoUrl": "https://lh3.googleusercontent.com/a-/AOh14GhnSLjen-GggduTlrZ3FPzYLZz62F9M5UOCy2Vl=s64",
      "userId": "07813394667672817104"
     },
     "user_tz": -120
    },
    "id": "ec146b10"
   },
   "outputs": [],
   "source": [
    "df['Borrower Genders'].fillna('Not Mentioned', inplace=True)"
   ]
  },
  {
   "cell_type": "markdown",
   "id": "59e4ebc5",
   "metadata": {
    "id": "59e4ebc5"
   },
   "source": [
    "<a id='4'></a>\n",
    "### [Special Changes:](#8)"
   ]
  },
  {
   "cell_type": "markdown",
   "id": "7c4aa7ab",
   "metadata": {
    "id": "7c4aa7ab"
   },
   "source": [
    "__inserting Loan Amount Column:__"
   ]
  },
  {
   "cell_type": "code",
   "execution_count": 32,
   "id": "a1865ce9",
   "metadata": {
    "executionInfo": {
     "elapsed": 48,
     "status": "aborted",
     "timestamp": 1643233299559,
     "user": {
      "displayName": "Ahmed Saad",
      "photoUrl": "https://lh3.googleusercontent.com/a-/AOh14GhnSLjen-GggduTlrZ3FPzYLZz62F9M5UOCy2Vl=s64",
      "userId": "07813394667672817104"
     },
     "user_tz": -120
    },
    "id": "a1865ce9"
   },
   "outputs": [
    {
     "data": {
      "text/plain": [
       "count    516278.000000\n",
       "mean        577.102017\n",
       "std         696.942857\n",
       "min          25.000000\n",
       "25%         225.000000\n",
       "50%         375.000000\n",
       "75%         675.000000\n",
       "max       50000.000000\n",
       "Name: Loan Amount, dtype: float64"
      ]
     },
     "execution_count": 32,
     "metadata": {},
     "output_type": "execute_result"
    }
   ],
   "source": [
    "df['Loan Amount'].describe()"
   ]
  },
  {
   "cell_type": "code",
   "execution_count": 33,
   "id": "ece4744e",
   "metadata": {
    "executionInfo": {
     "elapsed": 50,
     "status": "aborted",
     "timestamp": 1643233299561,
     "user": {
      "displayName": "Ahmed Saad",
      "photoUrl": "https://lh3.googleusercontent.com/a-/AOh14GhnSLjen-GggduTlrZ3FPzYLZz62F9M5UOCy2Vl=s64",
      "userId": "07813394667672817104"
     },
     "user_tz": -120
    },
    "id": "ece4744e"
   },
   "outputs": [],
   "source": [
    "def Loan_Classes(x):     \n",
    "    if x >= 25 and x < 225:\n",
    "        return 'very low'\n",
    "    elif x >= 225 and x < 375:\n",
    "        return 'low'\n",
    "    elif x >= 375 and x < 675:\n",
    "        return 'medium'\n",
    "    elif x >= 675 and x < 50000:\n",
    "        return 'high'\n",
    "    elif x >= 50000:\n",
    "        return 'very high'"
   ]
  },
  {
   "cell_type": "code",
   "execution_count": 34,
   "id": "2384a0c3",
   "metadata": {
    "executionInfo": {
     "elapsed": 50,
     "status": "aborted",
     "timestamp": 1643233299562,
     "user": {
      "displayName": "Ahmed Saad",
      "photoUrl": "https://lh3.googleusercontent.com/a-/AOh14GhnSLjen-GggduTlrZ3FPzYLZz62F9M5UOCy2Vl=s64",
      "userId": "07813394667672817104"
     },
     "user_tz": -120
    },
    "id": "2384a0c3"
   },
   "outputs": [],
   "source": [
    "df['Loan Class'] = df['Loan Amount'].apply(lambda x: Loan_Classes(x))"
   ]
  },
  {
   "cell_type": "markdown",
   "id": "53e32e36",
   "metadata": {
    "id": "53e32e36"
   },
   "source": [
    "__inserting funding in% Colunm:__"
   ]
  },
  {
   "cell_type": "code",
   "execution_count": 35,
   "id": "6b14efac",
   "metadata": {
    "executionInfo": {
     "elapsed": 56,
     "status": "aborted",
     "timestamp": 1643233299568,
     "user": {
      "displayName": "Ahmed Saad",
      "photoUrl": "https://lh3.googleusercontent.com/a-/AOh14GhnSLjen-GggduTlrZ3FPzYLZz62F9M5UOCy2Vl=s64",
      "userId": "07813394667672817104"
     },
     "user_tz": -120
    },
    "id": "6b14efac"
   },
   "outputs": [],
   "source": [
    "df['Funding in%'] = ((df['Funded Amount'] / df['Loan Amount']) * 100).round(2)"
   ]
  },
  {
   "cell_type": "markdown",
   "id": "65494346",
   "metadata": {
    "id": "65494346"
   },
   "source": [
    "__inserting Number of Borrowers Column:__"
   ]
  },
  {
   "cell_type": "code",
   "execution_count": 36,
   "id": "f90e594a",
   "metadata": {
    "executionInfo": {
     "elapsed": 67,
     "status": "aborted",
     "timestamp": 1643233299580,
     "user": {
      "displayName": "Ahmed Saad",
      "photoUrl": "https://lh3.googleusercontent.com/a-/AOh14GhnSLjen-GggduTlrZ3FPzYLZz62F9M5UOCy2Vl=s64",
      "userId": "07813394667672817104"
     },
     "user_tz": -120
    },
    "id": "f90e594a",
    "scrolled": true
   },
   "outputs": [],
   "source": [
    "gender_list = df['Borrower Genders']\n",
    "gender_list = list(gender_list)"
   ]
  },
  {
   "cell_type": "code",
   "execution_count": 37,
   "id": "d7105779",
   "metadata": {
    "executionInfo": {
     "elapsed": 68,
     "status": "aborted",
     "timestamp": 1643233299581,
     "user": {
      "displayName": "Ahmed Saad",
      "photoUrl": "https://lh3.googleusercontent.com/a-/AOh14GhnSLjen-GggduTlrZ3FPzYLZz62F9M5UOCy2Vl=s64",
      "userId": "07813394667672817104"
     },
     "user_tz": -120
    },
    "id": "d7105779"
   },
   "outputs": [],
   "source": [
    "counter = []\n",
    "for i in gender_list:\n",
    "    if i == 'Not Mentioned':\n",
    "        i = 0\n",
    "    else:\n",
    "        i = i.split()\n",
    "        i = len(i)\n",
    "    counter.append(i)"
   ]
  },
  {
   "cell_type": "code",
   "execution_count": 38,
   "id": "a36ec7b9",
   "metadata": {
    "executionInfo": {
     "elapsed": 69,
     "status": "aborted",
     "timestamp": 1643233299582,
     "user": {
      "displayName": "Ahmed Saad",
      "photoUrl": "https://lh3.googleusercontent.com/a-/AOh14GhnSLjen-GggduTlrZ3FPzYLZz62F9M5UOCy2Vl=s64",
      "userId": "07813394667672817104"
     },
     "user_tz": -120
    },
    "id": "a36ec7b9"
   },
   "outputs": [],
   "source": [
    "df['Number of Borrowers'] = counter"
   ]
  },
  {
   "cell_type": "markdown",
   "id": "fe74a99a",
   "metadata": {
    "id": "f1aa42ac"
   },
   "source": [
    "__Inserting Gender Column:__"
   ]
  },
  {
   "cell_type": "code",
   "execution_count": 39,
   "id": "3837faf6",
   "metadata": {},
   "outputs": [],
   "source": [
    "def gender(x):\n",
    "    if x == \"male\":\n",
    "        return \"male\"\n",
    "    elif x == \"female\":\n",
    "        return \"female\"\n",
    "    elif x == \"Not Mentioned\":\n",
    "        return \"Not Mentioned\"\n",
    "    else:\n",
    "        return \"male & female\" "
   ]
  },
  {
   "cell_type": "code",
   "execution_count": 40,
   "id": "46c1ca1b",
   "metadata": {
    "executionInfo": {
     "elapsed": 70,
     "status": "aborted",
     "timestamp": 1643233299583,
     "user": {
      "displayName": "Ahmed Saad",
      "photoUrl": "https://lh3.googleusercontent.com/a-/AOh14GhnSLjen-GggduTlrZ3FPzYLZz62F9M5UOCy2Vl=s64",
      "userId": "07813394667672817104"
     },
     "user_tz": -120
    },
    "id": "46c1ca1b"
   },
   "outputs": [],
   "source": [
    "df['Gender']= df['Borrower Genders'].apply(lambda x: gender(x))"
   ]
  },
  {
   "cell_type": "markdown",
   "id": "c5dc8919",
   "metadata": {},
   "source": [
    "__Inserting Repayment Classes Column:__"
   ]
  },
  {
   "cell_type": "code",
   "execution_count": 41,
   "id": "53b3f404",
   "metadata": {},
   "outputs": [
    {
     "data": {
      "text/html": [
       "<div>\n",
       "<style scoped>\n",
       "    .dataframe tbody tr th:only-of-type {\n",
       "        vertical-align: middle;\n",
       "    }\n",
       "\n",
       "    .dataframe tbody tr th {\n",
       "        vertical-align: top;\n",
       "    }\n",
       "\n",
       "    .dataframe thead th {\n",
       "        text-align: right;\n",
       "    }\n",
       "</style>\n",
       "<table border=\"1\" class=\"dataframe\">\n",
       "  <thead>\n",
       "    <tr style=\"text-align: right;\">\n",
       "      <th></th>\n",
       "      <th>Term In Months</th>\n",
       "    </tr>\n",
       "  </thead>\n",
       "  <tbody>\n",
       "    <tr>\n",
       "      <th>count</th>\n",
       "      <td>516278.00</td>\n",
       "    </tr>\n",
       "    <tr>\n",
       "      <th>mean</th>\n",
       "      <td>13.32</td>\n",
       "    </tr>\n",
       "    <tr>\n",
       "      <th>std</th>\n",
       "      <td>7.80</td>\n",
       "    </tr>\n",
       "    <tr>\n",
       "      <th>min</th>\n",
       "      <td>1.00</td>\n",
       "    </tr>\n",
       "    <tr>\n",
       "      <th>25%</th>\n",
       "      <td>8.00</td>\n",
       "    </tr>\n",
       "    <tr>\n",
       "      <th>50%</th>\n",
       "      <td>13.00</td>\n",
       "    </tr>\n",
       "    <tr>\n",
       "      <th>75%</th>\n",
       "      <td>14.00</td>\n",
       "    </tr>\n",
       "    <tr>\n",
       "      <th>max</th>\n",
       "      <td>145.00</td>\n",
       "    </tr>\n",
       "  </tbody>\n",
       "</table>\n",
       "</div>"
      ],
      "text/plain": [
       "       Term In Months\n",
       "count       516278.00\n",
       "mean            13.32\n",
       "std              7.80\n",
       "min              1.00\n",
       "25%              8.00\n",
       "50%             13.00\n",
       "75%             14.00\n",
       "max            145.00"
      ]
     },
     "execution_count": 41,
     "metadata": {},
     "output_type": "execute_result"
    }
   ],
   "source": [
    "df[[\"Term In Months\"]].describe().round(2)"
   ]
  },
  {
   "cell_type": "code",
   "execution_count": 42,
   "id": "c6da9f3f",
   "metadata": {
    "executionInfo": {
     "elapsed": 50,
     "status": "aborted",
     "timestamp": 1643233299561,
     "user": {
      "displayName": "Ahmed Saad",
      "photoUrl": "https://lh3.googleusercontent.com/a-/AOh14GhnSLjen-GggduTlrZ3FPzYLZz62F9M5UOCy2Vl=s64",
      "userId": "07813394667672817104"
     },
     "user_tz": -120
    },
    "id": "ece4744e"
   },
   "outputs": [],
   "source": [
    "def Repayment_Duration(x):     \n",
    "    if x >= 1 and x < 8:\n",
    "        return 'very Short'\n",
    "    elif x >= 8 and x < 13:\n",
    "        return 'Short'\n",
    "    elif x >= 13 and x < 14:\n",
    "        return 'Normal'\n",
    "    elif x >= 14 and x < 145:\n",
    "        return 'Long'\n",
    "    elif x >= 145:\n",
    "        return 'very Long'"
   ]
  },
  {
   "cell_type": "code",
   "execution_count": 43,
   "id": "1893e5ca",
   "metadata": {
    "executionInfo": {
     "elapsed": 50,
     "status": "aborted",
     "timestamp": 1643233299562,
     "user": {
      "displayName": "Ahmed Saad",
      "photoUrl": "https://lh3.googleusercontent.com/a-/AOh14GhnSLjen-GggduTlrZ3FPzYLZz62F9M5UOCy2Vl=s64",
      "userId": "07813394667672817104"
     },
     "user_tz": -120
    },
    "id": "2384a0c3"
   },
   "outputs": [],
   "source": [
    "df['Repayment Duration'] = df['Term In Months'].apply(lambda x: Repayment_Duration(x))"
   ]
  },
  {
   "cell_type": "markdown",
   "id": "f0fb6865",
   "metadata": {
    "id": "f0fb6865"
   },
   "source": [
    "# Data After Cleaning:"
   ]
  },
  {
   "cell_type": "code",
   "execution_count": 44,
   "id": "81345cac",
   "metadata": {
    "executionInfo": {
     "elapsed": 74,
     "status": "aborted",
     "timestamp": 1643233299594,
     "user": {
      "displayName": "Ahmed Saad",
      "photoUrl": "https://lh3.googleusercontent.com/a-/AOh14GhnSLjen-GggduTlrZ3FPzYLZz62F9M5UOCy2Vl=s64",
      "userId": "07813394667672817104"
     },
     "user_tz": -120
    },
    "id": "81345cac",
    "scrolled": true
   },
   "outputs": [
    {
     "data": {
      "text/html": [
       "<div>\n",
       "<style scoped>\n",
       "    .dataframe tbody tr th:only-of-type {\n",
       "        vertical-align: middle;\n",
       "    }\n",
       "\n",
       "    .dataframe tbody tr th {\n",
       "        vertical-align: top;\n",
       "    }\n",
       "\n",
       "    .dataframe thead th {\n",
       "        text-align: right;\n",
       "    }\n",
       "</style>\n",
       "<table border=\"1\" class=\"dataframe\">\n",
       "  <thead>\n",
       "    <tr style=\"text-align: right;\">\n",
       "      <th></th>\n",
       "      <th>Id</th>\n",
       "      <th>Funded Amount</th>\n",
       "      <th>Loan Amount</th>\n",
       "      <th>Activity</th>\n",
       "      <th>Sector</th>\n",
       "      <th>Country Code</th>\n",
       "      <th>Country</th>\n",
       "      <th>Region</th>\n",
       "      <th>Currency</th>\n",
       "      <th>Partner Id</th>\n",
       "      <th>...</th>\n",
       "      <th>Funded Time</th>\n",
       "      <th>Term In Months</th>\n",
       "      <th>Lender Count</th>\n",
       "      <th>Borrower Genders</th>\n",
       "      <th>Repayment Interval</th>\n",
       "      <th>Loan Class</th>\n",
       "      <th>Funding in%</th>\n",
       "      <th>Number of Borrowers</th>\n",
       "      <th>Gender</th>\n",
       "      <th>Repayment Duration</th>\n",
       "    </tr>\n",
       "  </thead>\n",
       "  <tbody>\n",
       "    <tr>\n",
       "      <th>0</th>\n",
       "      <td>653051</td>\n",
       "      <td>300.0</td>\n",
       "      <td>300.0</td>\n",
       "      <td>Fruits &amp; Vegetables</td>\n",
       "      <td>Food</td>\n",
       "      <td>PK</td>\n",
       "      <td>Pakistan</td>\n",
       "      <td>Lahore</td>\n",
       "      <td>PKR</td>\n",
       "      <td>247</td>\n",
       "      <td>...</td>\n",
       "      <td>2014-01-02</td>\n",
       "      <td>12</td>\n",
       "      <td>12</td>\n",
       "      <td>female</td>\n",
       "      <td>irregular</td>\n",
       "      <td>low</td>\n",
       "      <td>100.0</td>\n",
       "      <td>1</td>\n",
       "      <td>female</td>\n",
       "      <td>Short</td>\n",
       "    </tr>\n",
       "    <tr>\n",
       "      <th>2</th>\n",
       "      <td>653068</td>\n",
       "      <td>150.0</td>\n",
       "      <td>150.0</td>\n",
       "      <td>Transportation</td>\n",
       "      <td>Transportation</td>\n",
       "      <td>IN</td>\n",
       "      <td>India</td>\n",
       "      <td>Maynaguri</td>\n",
       "      <td>INR</td>\n",
       "      <td>334</td>\n",
       "      <td>...</td>\n",
       "      <td>2014-01-01</td>\n",
       "      <td>43</td>\n",
       "      <td>6</td>\n",
       "      <td>female</td>\n",
       "      <td>bullet</td>\n",
       "      <td>very low</td>\n",
       "      <td>100.0</td>\n",
       "      <td>1</td>\n",
       "      <td>female</td>\n",
       "      <td>Long</td>\n",
       "    </tr>\n",
       "    <tr>\n",
       "      <th>3</th>\n",
       "      <td>653063</td>\n",
       "      <td>200.0</td>\n",
       "      <td>200.0</td>\n",
       "      <td>Embroidery</td>\n",
       "      <td>Arts</td>\n",
       "      <td>PK</td>\n",
       "      <td>Pakistan</td>\n",
       "      <td>Lahore</td>\n",
       "      <td>PKR</td>\n",
       "      <td>247</td>\n",
       "      <td>...</td>\n",
       "      <td>2014-01-01</td>\n",
       "      <td>11</td>\n",
       "      <td>8</td>\n",
       "      <td>female</td>\n",
       "      <td>irregular</td>\n",
       "      <td>very low</td>\n",
       "      <td>100.0</td>\n",
       "      <td>1</td>\n",
       "      <td>female</td>\n",
       "      <td>Short</td>\n",
       "    </tr>\n",
       "    <tr>\n",
       "      <th>4</th>\n",
       "      <td>653084</td>\n",
       "      <td>400.0</td>\n",
       "      <td>400.0</td>\n",
       "      <td>Milk Sales</td>\n",
       "      <td>Food</td>\n",
       "      <td>PK</td>\n",
       "      <td>Pakistan</td>\n",
       "      <td>Abdul Hakeem</td>\n",
       "      <td>PKR</td>\n",
       "      <td>245</td>\n",
       "      <td>...</td>\n",
       "      <td>2014-01-01</td>\n",
       "      <td>14</td>\n",
       "      <td>16</td>\n",
       "      <td>female</td>\n",
       "      <td>monthly</td>\n",
       "      <td>medium</td>\n",
       "      <td>100.0</td>\n",
       "      <td>1</td>\n",
       "      <td>female</td>\n",
       "      <td>Long</td>\n",
       "    </tr>\n",
       "    <tr>\n",
       "      <th>5</th>\n",
       "      <td>1080148</td>\n",
       "      <td>250.0</td>\n",
       "      <td>250.0</td>\n",
       "      <td>Services</td>\n",
       "      <td>Services</td>\n",
       "      <td>KE</td>\n",
       "      <td>Kenya</td>\n",
       "      <td>NaN</td>\n",
       "      <td>KES</td>\n",
       "      <td>&lt;NA&gt;</td>\n",
       "      <td>...</td>\n",
       "      <td>2014-01-29</td>\n",
       "      <td>4</td>\n",
       "      <td>6</td>\n",
       "      <td>female</td>\n",
       "      <td>irregular</td>\n",
       "      <td>low</td>\n",
       "      <td>100.0</td>\n",
       "      <td>1</td>\n",
       "      <td>female</td>\n",
       "      <td>very Short</td>\n",
       "    </tr>\n",
       "    <tr>\n",
       "      <th>...</th>\n",
       "      <td>...</td>\n",
       "      <td>...</td>\n",
       "      <td>...</td>\n",
       "      <td>...</td>\n",
       "      <td>...</td>\n",
       "      <td>...</td>\n",
       "      <td>...</td>\n",
       "      <td>...</td>\n",
       "      <td>...</td>\n",
       "      <td>...</td>\n",
       "      <td>...</td>\n",
       "      <td>...</td>\n",
       "      <td>...</td>\n",
       "      <td>...</td>\n",
       "      <td>...</td>\n",
       "      <td>...</td>\n",
       "      <td>...</td>\n",
       "      <td>...</td>\n",
       "      <td>...</td>\n",
       "      <td>...</td>\n",
       "      <td>...</td>\n",
       "    </tr>\n",
       "    <tr>\n",
       "      <th>671200</th>\n",
       "      <td>1340323</td>\n",
       "      <td>0.0</td>\n",
       "      <td>25.0</td>\n",
       "      <td>Livestock</td>\n",
       "      <td>Agriculture</td>\n",
       "      <td>PY</td>\n",
       "      <td>Paraguay</td>\n",
       "      <td>Concepción</td>\n",
       "      <td>USD</td>\n",
       "      <td>58</td>\n",
       "      <td>...</td>\n",
       "      <td>NaT</td>\n",
       "      <td>13</td>\n",
       "      <td>0</td>\n",
       "      <td>female</td>\n",
       "      <td>monthly</td>\n",
       "      <td>very low</td>\n",
       "      <td>0.0</td>\n",
       "      <td>1</td>\n",
       "      <td>female</td>\n",
       "      <td>Normal</td>\n",
       "    </tr>\n",
       "    <tr>\n",
       "      <th>671201</th>\n",
       "      <td>1340316</td>\n",
       "      <td>25.0</td>\n",
       "      <td>25.0</td>\n",
       "      <td>Livestock</td>\n",
       "      <td>Agriculture</td>\n",
       "      <td>KE</td>\n",
       "      <td>Kenya</td>\n",
       "      <td>NaN</td>\n",
       "      <td>KES</td>\n",
       "      <td>138</td>\n",
       "      <td>...</td>\n",
       "      <td>2017-07-26</td>\n",
       "      <td>13</td>\n",
       "      <td>1</td>\n",
       "      <td>female</td>\n",
       "      <td>monthly</td>\n",
       "      <td>very low</td>\n",
       "      <td>100.0</td>\n",
       "      <td>1</td>\n",
       "      <td>female</td>\n",
       "      <td>Normal</td>\n",
       "    </tr>\n",
       "    <tr>\n",
       "      <th>671202</th>\n",
       "      <td>1340334</td>\n",
       "      <td>0.0</td>\n",
       "      <td>25.0</td>\n",
       "      <td>Games</td>\n",
       "      <td>Entertainment</td>\n",
       "      <td>KE</td>\n",
       "      <td>Kenya</td>\n",
       "      <td>NaN</td>\n",
       "      <td>KES</td>\n",
       "      <td>138</td>\n",
       "      <td>...</td>\n",
       "      <td>NaT</td>\n",
       "      <td>13</td>\n",
       "      <td>0</td>\n",
       "      <td>Not Mentioned</td>\n",
       "      <td>monthly</td>\n",
       "      <td>very low</td>\n",
       "      <td>0.0</td>\n",
       "      <td>0</td>\n",
       "      <td>Not Mentioned</td>\n",
       "      <td>Normal</td>\n",
       "    </tr>\n",
       "    <tr>\n",
       "      <th>671203</th>\n",
       "      <td>1340338</td>\n",
       "      <td>0.0</td>\n",
       "      <td>25.0</td>\n",
       "      <td>Livestock</td>\n",
       "      <td>Agriculture</td>\n",
       "      <td>KE</td>\n",
       "      <td>Kenya</td>\n",
       "      <td>NaN</td>\n",
       "      <td>KES</td>\n",
       "      <td>138</td>\n",
       "      <td>...</td>\n",
       "      <td>NaT</td>\n",
       "      <td>13</td>\n",
       "      <td>0</td>\n",
       "      <td>female</td>\n",
       "      <td>monthly</td>\n",
       "      <td>very low</td>\n",
       "      <td>0.0</td>\n",
       "      <td>1</td>\n",
       "      <td>female</td>\n",
       "      <td>Normal</td>\n",
       "    </tr>\n",
       "    <tr>\n",
       "      <th>671204</th>\n",
       "      <td>1340339</td>\n",
       "      <td>0.0</td>\n",
       "      <td>25.0</td>\n",
       "      <td>Livestock</td>\n",
       "      <td>Agriculture</td>\n",
       "      <td>KE</td>\n",
       "      <td>Kenya</td>\n",
       "      <td>NaN</td>\n",
       "      <td>KES</td>\n",
       "      <td>138</td>\n",
       "      <td>...</td>\n",
       "      <td>NaT</td>\n",
       "      <td>13</td>\n",
       "      <td>0</td>\n",
       "      <td>female</td>\n",
       "      <td>monthly</td>\n",
       "      <td>very low</td>\n",
       "      <td>0.0</td>\n",
       "      <td>1</td>\n",
       "      <td>female</td>\n",
       "      <td>Normal</td>\n",
       "    </tr>\n",
       "  </tbody>\n",
       "</table>\n",
       "<p>516278 rows × 22 columns</p>\n",
       "</div>"
      ],
      "text/plain": [
       "             Id  Funded Amount  Loan Amount             Activity  \\\n",
       "0        653051          300.0        300.0  Fruits & Vegetables   \n",
       "2        653068          150.0        150.0       Transportation   \n",
       "3        653063          200.0        200.0           Embroidery   \n",
       "4        653084          400.0        400.0           Milk Sales   \n",
       "5       1080148          250.0        250.0             Services   \n",
       "...         ...            ...          ...                  ...   \n",
       "671200  1340323            0.0         25.0            Livestock   \n",
       "671201  1340316           25.0         25.0            Livestock   \n",
       "671202  1340334            0.0         25.0                Games   \n",
       "671203  1340338            0.0         25.0            Livestock   \n",
       "671204  1340339            0.0         25.0            Livestock   \n",
       "\n",
       "                Sector Country Code   Country        Region Currency  \\\n",
       "0                 Food           PK  Pakistan        Lahore      PKR   \n",
       "2       Transportation           IN     India     Maynaguri      INR   \n",
       "3                 Arts           PK  Pakistan        Lahore      PKR   \n",
       "4                 Food           PK  Pakistan  Abdul Hakeem      PKR   \n",
       "5             Services           KE     Kenya           NaN      KES   \n",
       "...                ...          ...       ...           ...      ...   \n",
       "671200     Agriculture           PY  Paraguay    Concepción      USD   \n",
       "671201     Agriculture           KE     Kenya           NaN      KES   \n",
       "671202   Entertainment           KE     Kenya           NaN      KES   \n",
       "671203     Agriculture           KE     Kenya           NaN      KES   \n",
       "671204     Agriculture           KE     Kenya           NaN      KES   \n",
       "\n",
       "        Partner Id  ... Funded Time Term In Months Lender Count  \\\n",
       "0              247  ...  2014-01-02             12           12   \n",
       "2              334  ...  2014-01-01             43            6   \n",
       "3              247  ...  2014-01-01             11            8   \n",
       "4              245  ...  2014-01-01             14           16   \n",
       "5             <NA>  ...  2014-01-29              4            6   \n",
       "...            ...  ...         ...            ...          ...   \n",
       "671200          58  ...         NaT             13            0   \n",
       "671201         138  ...  2017-07-26             13            1   \n",
       "671202         138  ...         NaT             13            0   \n",
       "671203         138  ...         NaT             13            0   \n",
       "671204         138  ...         NaT             13            0   \n",
       "\n",
       "        Borrower Genders  Repayment Interval Loan Class Funding in%  \\\n",
       "0                 female           irregular        low       100.0   \n",
       "2                 female              bullet   very low       100.0   \n",
       "3                 female           irregular   very low       100.0   \n",
       "4                 female             monthly     medium       100.0   \n",
       "5                 female           irregular        low       100.0   \n",
       "...                  ...                 ...        ...         ...   \n",
       "671200            female             monthly   very low         0.0   \n",
       "671201            female             monthly   very low       100.0   \n",
       "671202     Not Mentioned             monthly   very low         0.0   \n",
       "671203            female             monthly   very low         0.0   \n",
       "671204            female             monthly   very low         0.0   \n",
       "\n",
       "       Number of Borrowers         Gender  Repayment Duration  \n",
       "0                        1         female               Short  \n",
       "2                        1         female                Long  \n",
       "3                        1         female               Short  \n",
       "4                        1         female                Long  \n",
       "5                        1         female          very Short  \n",
       "...                    ...            ...                 ...  \n",
       "671200                   1         female              Normal  \n",
       "671201                   1         female              Normal  \n",
       "671202                   0  Not Mentioned              Normal  \n",
       "671203                   1         female              Normal  \n",
       "671204                   1         female              Normal  \n",
       "\n",
       "[516278 rows x 22 columns]"
      ]
     },
     "execution_count": 44,
     "metadata": {},
     "output_type": "execute_result"
    }
   ],
   "source": [
    "df"
   ]
  },
  {
   "cell_type": "code",
   "execution_count": 45,
   "id": "c91ed06e",
   "metadata": {},
   "outputs": [
    {
     "name": "stdout",
     "output_type": "stream",
     "text": [
      "<class 'pandas.core.frame.DataFrame'>\n",
      "Int64Index: 516278 entries, 0 to 671204\n",
      "Data columns (total 22 columns):\n",
      " #   Column               Non-Null Count   Dtype         \n",
      "---  ------               --------------   -----         \n",
      " 0   Id                   516278 non-null  int64         \n",
      " 1   Funded Amount        516278 non-null  float64       \n",
      " 2   Loan Amount          516278 non-null  float64       \n",
      " 3   Activity             516278 non-null  object        \n",
      " 4   Sector               516278 non-null  object        \n",
      " 5   Country Code         516272 non-null  object        \n",
      " 6   Country              516278 non-null  object        \n",
      " 7   Region               469538 non-null  object        \n",
      " 8   Currency             516278 non-null  object        \n",
      " 9   Partner Id           504090 non-null  Int64         \n",
      " 10  Posted Time          516278 non-null  datetime64[ns]\n",
      " 11  Disbursed Time       513953 non-null  datetime64[ns]\n",
      " 12  Funded Time          475561 non-null  datetime64[ns]\n",
      " 13  Term In Months       516278 non-null  Int64         \n",
      " 14  Lender Count         516278 non-null  int64         \n",
      " 15  Borrower Genders     516278 non-null  object        \n",
      " 16  Repayment Interval   516278 non-null  object        \n",
      " 17  Loan Class           516278 non-null  object        \n",
      " 18  Funding in%          516278 non-null  float64       \n",
      " 19  Number of Borrowers  516278 non-null  int64         \n",
      " 20  Gender               516278 non-null  object        \n",
      " 21  Repayment Duration   516278 non-null  object        \n",
      "dtypes: Int64(2), datetime64[ns](3), float64(3), int64(3), object(11)\n",
      "memory usage: 91.6+ MB\n"
     ]
    }
   ],
   "source": [
    "df.info()"
   ]
  },
  {
   "cell_type": "code",
   "execution_count": 46,
   "id": "35450723",
   "metadata": {
    "executionInfo": {
     "elapsed": 75,
     "status": "aborted",
     "timestamp": 1643233299595,
     "user": {
      "displayName": "Ahmed Saad",
      "photoUrl": "https://lh3.googleusercontent.com/a-/AOh14GhnSLjen-GggduTlrZ3FPzYLZz62F9M5UOCy2Vl=s64",
      "userId": "07813394667672817104"
     },
     "user_tz": -120
    },
    "id": "35450723",
    "scrolled": true
   },
   "outputs": [
    {
     "data": {
      "text/plain": [
       "<AxesSubplot:>"
      ]
     },
     "execution_count": 46,
     "metadata": {},
     "output_type": "execute_result"
    },
    {
     "data": {
      "image/png": "[encoded data removed]",
      "text/plain": [
       "<Figure size 1080x720 with 2 Axes>"
      ]
     },
     "metadata": {},
     "output_type": "display_data"
    }
   ],
   "source": [
    "plt.figure(figsize=(15,10))\n",
    "sns.heatmap(df.isna())"
   ]
  },
  {
   "cell_type": "markdown",
   "id": "b222e27a",
   "metadata": {
    "id": "b222e27a"
   },
   "source": [
    "# Saving The New File:"
   ]
  },
  {
   "cell_type": "code",
   "execution_count": 47,
   "id": "11dd61ba",
   "metadata": {
    "executionInfo": {
     "elapsed": 74,
     "status": "aborted",
     "timestamp": 1643233299595,
     "user": {
      "displayName": "Ahmed Saad",
      "photoUrl": "https://lh3.googleusercontent.com/a-/AOh14GhnSLjen-GggduTlrZ3FPzYLZz62F9M5UOCy2Vl=s64",
      "userId": "07813394667672817104"
     },
     "user_tz": -120
    },
    "id": "11dd61ba"
   },
   "outputs": [],
   "source": [
    "df.to_csv('Kiva_loans-Cleaned.csv')"
   ]
  },
  {
   "cell_type": "markdown",
   "id": "00684d74",
   "metadata": {
    "id": "00684d74"
   },
   "source": [
    "# تمت بحمد الله"
   ]
  }
 ],
 "metadata": {
  "kernelspec": {
   "display_name": "Python 3",
   "language": "python",
   "name": "python3"
  },
  "language_info": {
   "codemirror_mode": {
    "name": "ipython",
    "version": 3
   },
   "file_extension": ".py",
   "mimetype": "text/x-python",
   "name": "python",
   "nbconvert_exporter": "python",
   "pygments_lexer": "ipython3",
   "version": "3.8.8"
  }
 },
 "nbformat": 4,
 "nbformat_minor": 5
}
